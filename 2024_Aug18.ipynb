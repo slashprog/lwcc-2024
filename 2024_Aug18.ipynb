{
 "cells": [
  {
   "cell_type": "code",
   "execution_count": 1,
   "metadata": {},
   "outputs": [],
   "source": [
    "from userfile import Users"
   ]
  },
  {
   "cell_type": "code",
   "execution_count": 2,
   "metadata": {},
   "outputs": [],
   "source": [
    "users = Users(\"users.csv\")"
   ]
  },
  {
   "cell_type": "code",
   "execution_count": 3,
   "metadata": {},
   "outputs": [],
   "source": [
    "users.add(\"steve\", password=\"welcome123\", fullname=\"Stephen Bourne\")"
   ]
  },
  {
   "cell_type": "code",
   "execution_count": 4,
   "metadata": {},
   "outputs": [],
   "source": [
    "users.modify(\"guido\", password=\"secret123\")"
   ]
  },
  {
   "cell_type": "code",
   "execution_count": 5,
   "metadata": {},
   "outputs": [],
   "source": [
    "users.modify(\"guido\", fullname=\"Guido Van Rossum\")"
   ]
  },
  {
   "cell_type": "code",
   "execution_count": 6,
   "metadata": {},
   "outputs": [
    {
     "ename": "UserNotFound",
     "evalue": "larry",
     "output_type": "error",
     "traceback": [
      "\u001b[1;31m---------------------------------------------------------------------------\u001b[0m",
      "\u001b[1;31mUserNotFound\u001b[0m                              Traceback (most recent call last)",
      "Input \u001b[1;32mIn [6]\u001b[0m, in \u001b[0;36m<module>\u001b[1;34m\u001b[0m\n\u001b[1;32m----> 1\u001b[0m \u001b[43musers\u001b[49m\u001b[38;5;241;43m.\u001b[39;49m\u001b[43mmodify\u001b[49m\u001b[43m(\u001b[49m\u001b[38;5;124;43m\"\u001b[39;49m\u001b[38;5;124;43mlarry\u001b[39;49m\u001b[38;5;124;43m\"\u001b[39;49m\u001b[43m,\u001b[49m\u001b[43m \u001b[49m\u001b[43mfullname\u001b[49m\u001b[38;5;241;43m=\u001b[39;49m\u001b[38;5;124;43m\"\u001b[39;49m\u001b[38;5;124;43mdeveloper\u001b[39;49m\u001b[38;5;124;43m\"\u001b[39;49m\u001b[43m)\u001b[49m\n",
      "File \u001b[1;32mc:\\Users\\chandrashekar\\lwcc\\lwcc-2024-1\\userfile.py:45\u001b[0m, in \u001b[0;36mUsers.modify\u001b[1;34m(self, username, password, fullname)\u001b[0m\n\u001b[0;32m     43\u001b[0m rec \u001b[38;5;241m=\u001b[39m {}\n\u001b[0;32m     44\u001b[0m \u001b[38;5;28;01mif\u001b[39;00m username \u001b[38;5;129;01mnot\u001b[39;00m \u001b[38;5;129;01min\u001b[39;00m \u001b[38;5;28mself\u001b[39m\u001b[38;5;241m.\u001b[39m_users:\n\u001b[1;32m---> 45\u001b[0m     \u001b[38;5;28;01mraise\u001b[39;00m UserNotFound(username)\n\u001b[0;32m     47\u001b[0m \u001b[38;5;28;01mif\u001b[39;00m password \u001b[38;5;129;01mis\u001b[39;00m \u001b[38;5;28;01mNone\u001b[39;00m \u001b[38;5;129;01mand\u001b[39;00m fullname \u001b[38;5;129;01mis\u001b[39;00m \u001b[38;5;28;01mNone\u001b[39;00m:\n\u001b[0;32m     48\u001b[0m     \u001b[38;5;28;01mraise\u001b[39;00m MissingPasswordOrFullname(\u001b[38;5;124m\"\u001b[39m\u001b[38;5;124meither password / fullname must be passed\u001b[39m\u001b[38;5;124m\"\u001b[39m)\n",
      "\u001b[1;31mUserNotFound\u001b[0m: larry"
     ]
    }
   ],
   "source": [
    "users.modify(\"larry\", fullname=\"developer\")"
   ]
  },
  {
   "cell_type": "code",
   "execution_count": 10,
   "metadata": {},
   "outputs": [],
   "source": [
    "users.delete(\"steve\")"
   ]
  },
  {
   "cell_type": "code",
   "execution_count": 7,
   "metadata": {},
   "outputs": [],
   "source": [
    "users.add(\"larry\", password=\"walls123\", fullname=\"Larry Walls\")"
   ]
  },
  {
   "cell_type": "code",
   "execution_count": 1,
   "metadata": {},
   "outputs": [
    {
     "ename": "NameError",
     "evalue": "name 'parse' is not defined",
     "output_type": "error",
     "traceback": [
      "\u001b[1;31m---------------------------------------------------------------------------\u001b[0m",
      "\u001b[1;31mNameError\u001b[0m                                 Traceback (most recent call last)",
      "Input \u001b[1;32mIn [1]\u001b[0m, in \u001b[0;36m<module>\u001b[1;34m\u001b[0m\n\u001b[0;32m     10\u001b[0m     \u001b[38;5;28;01mdef\u001b[39;00m \u001b[38;5;21mparse\u001b[39m(\u001b[38;5;241m*\u001b[39ms):\n\u001b[0;32m     11\u001b[0m         \u001b[38;5;28mprint\u001b[39m(\u001b[38;5;124m\"\u001b[39m\u001b[38;5;124mTest.parse() invoked...\u001b[39m\u001b[38;5;124m\"\u001b[39m)\n\u001b[1;32m---> 14\u001b[0m t \u001b[38;5;241m=\u001b[39m \u001b[43mTest\u001b[49m\u001b[43m(\u001b[49m\u001b[43m)\u001b[49m\n",
      "Input \u001b[1;32mIn [1]\u001b[0m, in \u001b[0;36mTest.__init__\u001b[1;34m(self)\u001b[0m\n\u001b[0;32m      7\u001b[0m \u001b[38;5;28;01mdef\u001b[39;00m \u001b[38;5;21m__init__\u001b[39m(\u001b[38;5;28mself\u001b[39m):\n\u001b[1;32m----> 8\u001b[0m     \u001b[43mparse\u001b[49m(\u001b[38;5;124m\"\u001b[39m\u001b[38;5;124maaa\u001b[39m\u001b[38;5;124m\"\u001b[39m)\n",
      "\u001b[1;31mNameError\u001b[0m: name 'parse' is not defined"
     ]
    }
   ],
   "source": [
    "#def parse(*s):\n",
    "#    print(\"This is a dummy parse function\")\n",
    "\n",
    "\n",
    "class Test:\n",
    "\n",
    "    def __init__(self):\n",
    "        parse(\"aaa\")\n",
    "\n",
    "    def parse(*s):\n",
    "        print(\"Test.parse() invoked...\")\n",
    "\n",
    "\n",
    "t = Test()"
   ]
  },
  {
   "cell_type": "code",
   "execution_count": 7,
   "metadata": {},
   "outputs": [
    {
     "name": "stdout",
     "output_type": "stream",
     "text": [
      "global start() function called\n",
      "start method invoked in car object\n",
      "white\n"
     ]
    }
   ],
   "source": [
    "color = \"white\"\n",
    "\n",
    "def start():\n",
    "    print(\"global start() function called\")\n",
    "\n",
    "class Car:\n",
    "    color = \"green\"\n",
    "\n",
    "    def start(self):\n",
    "        print(\"start method invoked in car object\")\n",
    "\n",
    "    def __init__(self):\n",
    "        self.color = \"blue\"\n",
    "\n",
    "    def drive(self):\n",
    "        start()\n",
    "        self.start()\n",
    "        print(color)\n",
    "\n",
    "\n",
    "c = Car()\n",
    "c.drive()"
   ]
  }
 ],
 "metadata": {
  "kernelspec": {
   "display_name": "Python 3",
   "language": "python",
   "name": "python3"
  },
  "language_info": {
   "codemirror_mode": {
    "name": "ipython",
    "version": 3
   },
   "file_extension": ".py",
   "mimetype": "text/x-python",
   "name": "python",
   "nbconvert_exporter": "python",
   "pygments_lexer": "ipython3",
   "version": "3.10.2"
  }
 },
 "nbformat": 4,
 "nbformat_minor": 2
}
