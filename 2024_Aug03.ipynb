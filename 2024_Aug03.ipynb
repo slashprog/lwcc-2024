{
 "cells": [
  {
   "cell_type": "markdown",
   "metadata": {},
   "source": [
    "### LWCC - Level 2 - August 3rd 2024"
   ]
  },
  {
   "cell_type": "code",
   "execution_count": 1,
   "metadata": {},
   "outputs": [
    {
     "name": "stdout",
     "output_type": "stream",
     "text": [
      "Driving car: Honda\n"
     ]
    }
   ],
   "source": [
    "class Car:\n",
    "    def drive(self):\n",
    "        print(\"Driving car:\", self.name)\n",
    "\n",
    "c = Car()\n",
    "c.name = \"Honda\"\n",
    "c.drive() # Car.drive(c) --> Instance method invocation"
   ]
  },
  {
   "cell_type": "markdown",
   "metadata": {},
   "source": [
    "The __init__ method is used to initialize instance attributes during construction of an object"
   ]
  },
  {
   "cell_type": "markdown",
   "metadata": {},
   "source": [
    "##### Object life-cycle methods:\n",
    "  - These are methods that are automatically invoked during the object lifecycle\n",
    "  - There are 3 life-cycle methods for python objects\n",
    "    - `__new__` (this is class method)\n",
    "    - `__init__`\n",
    "    - `__del__`"
   ]
  },
  {
   "cell_type": "markdown",
   "metadata": {},
   "source": [
    "Methods are functions that are specialized to carry or maintain states across calls on a specific object\n",
    "\n",
    "Instance methods carry / maintain states on specific instances\n",
    "\n",
    "Class methods carry / maintain states on a class (shared by all of its instances)"
   ]
  },
  {
   "cell_type": "code",
   "execution_count": 5,
   "metadata": {},
   "outputs": [
    {
     "name": "stdout",
     "output_type": "stream",
     "text": [
      "4 16 289\n",
      "Called 1 times\n",
      "Called 2 times\n",
      "Called 3 times\n",
      "4 16 289\n"
     ]
    }
   ],
   "source": [
    "# Function vs methods\n",
    "\n",
    "def square(x):    # This is \"pure\" function\n",
    "    return x*x\n",
    "\n",
    "class Math:\n",
    "    def __init__(self):\n",
    "        self.count = 0\n",
    "\n",
    "    def square(self, x):\n",
    "        self.count += 1\n",
    "        print(f\"Called {self.count} times\")\n",
    "        return x*x\n",
    "    \n",
    "m = Math()\n",
    "\n",
    "print(square(2), square(4), square(17))\n",
    "print(m.square(2), m.square(4), m.square(17))"
   ]
  },
  {
   "cell_type": "code",
   "execution_count": 3,
   "metadata": {},
   "outputs": [
    {
     "name": "stdout",
     "output_type": "stream",
     "text": [
      "__init__ method called on self=<__main__.Car object at 0x00000235B20757B0> with n='Toyota'\n",
      "Driving car: Toyota\n",
      "<__main__.Car object at 0x00000235B20757B0>\n"
     ]
    }
   ],
   "source": [
    "class Car:\n",
    "    def __init__(self, n):\n",
    "        print(f\"__init__ method called on {self=} with {n=}\")\n",
    "        self.name = n\n",
    "\n",
    "    def drive(self):\n",
    "        print(\"Driving car:\", self.name)\n",
    "\n",
    "c = Car(\"Toyota\")\n",
    "c.drive() # Car.drive(c) --> Instance method invocation\n",
    "print(c)"
   ]
  },
  {
   "cell_type": "code",
   "execution_count": 13,
   "metadata": {},
   "outputs": [
    {
     "name": "stdout",
     "output_type": "stream",
     "text": [
      "car_count: self = <class '__main__.Car'>\n",
      "car_count: self = <class '__main__.Car'>\n",
      "car_count: self = <class '__main__.Car'>\n",
      "car_count: self = <class '__main__.Car'>\n",
      "car_count: self = <class '__main__.Car'>\n",
      "5 5 5 5 5\n"
     ]
    }
   ],
   "source": [
    "# Example for class method\n",
    "\n",
    "class Car:\n",
    "    count = 0\n",
    "\n",
    "    @classmethod\n",
    "    def car_count(cls): # class method takes a class as its first argument \n",
    "        print(\"car_count: self =\", cls)\n",
    "        cls.count += 1\n",
    "\n",
    "    def __init__(self, n): # instance method\n",
    "        #print(f\"__init__ method called on {self=} with {n=}\")\n",
    "        self.name = n\n",
    "        self.car_count() \n",
    "\n",
    "    def drive(self): # instance method\n",
    "        print(\"Driving car:\", self.name)\n",
    "\n",
    "c1 = Car(\"Honda\")\n",
    "c2 = Car(\"Toyota\")\n",
    "c3 = Car(\"Ford\")\n",
    "c4 = Car(\"Audi\")\n",
    "c5 = Car(\"Ford\")\n",
    "\n",
    "print(Car.count, c1.count, c2.count, c3.count, c4.count)"
   ]
  },
  {
   "cell_type": "code",
   "execution_count": 19,
   "metadata": {},
   "outputs": [
    {
     "name": "stdout",
     "output_type": "stream",
     "text": [
      "User.__new__ was called: cls= <class '__main__.User'>\n",
      "100\n"
     ]
    }
   ],
   "source": [
    "class User:\n",
    "    def __new__(cls):\n",
    "        print(\"User.__new__ was called: cls=\", cls)\n",
    "        return 100\n",
    "    \n",
    "u = User()\n",
    "print(u)"
   ]
  },
  {
   "cell_type": "code",
   "execution_count": 21,
   "metadata": {},
   "outputs": [
    {
     "name": "stdout",
     "output_type": "stream",
     "text": [
      "User.__new__ was called: cls= <class '__main__.User'>\n",
      "100\n"
     ]
    }
   ],
   "source": [
    "class Admin:\n",
    "    def __init__(self, name):\n",
    "        print(\"Administrator instance created.\")\n",
    "        self.name = name\n",
    "\n",
    "class Guest:\n",
    "    def __init__(self, name):\n",
    "        print(\"Guest instance created\")\n",
    "        self.name = name\n",
    "\n",
    "class Staff:\n",
    "    def __init__(self, name):\n",
    "        print(\"Staff instance created\")\n",
    "        self.name = name\n",
    "\n",
    "class User:\n",
    "    def __new__(cls, name):\n",
    "        print(\"User.__new__ was called: cls=\", cls)\n",
    "        return 100\n",
    "    \n",
    "u = User(\"John\")\n",
    "print(u)"
   ]
  },
  {
   "cell_type": "code",
   "execution_count": 22,
   "metadata": {},
   "outputs": [
    {
     "name": "stdout",
     "output_type": "stream",
     "text": [
      "Staff instance created\n",
      "Administrator instance created.\n",
      "Guest instance created\n",
      "<__main__.Staff object at 0x00000235B206ACB0>\n",
      "<__main__.Admin object at 0x00000235B2069EA0>\n",
      "<__main__.Guest object at 0x00000235B206AAD0>\n"
     ]
    }
   ],
   "source": [
    "class Admin:\n",
    "    def __init__(self, name):\n",
    "        print(\"Administrator instance created.\")\n",
    "        self.name = name\n",
    "\n",
    "class Guest:\n",
    "    def __init__(self, name):\n",
    "        print(\"Guest instance created\")\n",
    "        self.name = name\n",
    "\n",
    "class Staff:\n",
    "    def __init__(self, name):\n",
    "        print(\"Staff instance created\")\n",
    "        self.name = name\n",
    "\n",
    "class User:  # Facade pattern\n",
    "    def __new__(cls, name):\n",
    "        if name in (\"root\", \"admin\", \"smith\"):\n",
    "            return Admin(name)\n",
    "        elif name in (\"john\", \"alice\", \"mary\", \"tim\"):\n",
    "            return Staff(name)\n",
    "        else:\n",
    "            return Guest(name)\n",
    "    \n",
    "u1 = User(\"john\")\n",
    "u2 = User(\"smith\")\n",
    "u3 = User(\"larry\")\n",
    "print(u1, u2, u3, sep=\"\\n\")"
   ]
  }
 ],
 "metadata": {
  "kernelspec": {
   "display_name": "Python 3",
   "language": "python",
   "name": "python3"
  },
  "language_info": {
   "codemirror_mode": {
    "name": "ipython",
    "version": 3
   },
   "file_extension": ".py",
   "mimetype": "text/x-python",
   "name": "python",
   "nbconvert_exporter": "python",
   "pygments_lexer": "ipython3",
   "version": "3.10.2"
  }
 },
 "nbformat": 4,
 "nbformat_minor": 2
}
