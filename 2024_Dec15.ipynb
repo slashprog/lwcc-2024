{
 "cells": [
  {
   "cell_type": "markdown",
   "metadata": {},
   "source": [
    "### LWCC  Session 53 - December 15th 2024\n",
    "\n",
    "#### Basic Database Management - Overview - Part 3\n"
   ]
  },
  {
   "cell_type": "code",
   "execution_count": null,
   "metadata": {},
   "outputs": [],
   "source": [
    "# RDBMS -> Relational DataBase Management Systems\n",
    "# Old legacy RDBMS: DBase, FoxPro, Clipper, Microsoft Access\n",
    "# SQL-compliant RDBMS -> Popularly adopted standard for RDBMS\n",
    "#   - Oracle, Sybase, Informix, MS-SQL Server (Top commercial-grade RDBMS)\n",
    "#   - PostgreSQL, MySQL, MariaDB (Free/Open Source RDBMS)\n",
    "#   - SQLite3 - Light-weight, Free/Open Source Standards compliant RDBMS which world's highly deployed database\n",
    "\n",
    "# SQL -> Structured Query Language\n"
   ]
  },
  {
   "cell_type": "markdown",
   "metadata": {},
   "source": [
    "#### Introduction to SQLite3"
   ]
  },
  {
   "cell_type": "markdown",
   "metadata": {},
   "source": [
    "In Python, to work with SQL compliant RDBMS, we use DB-API (DataBase - Application Programming Interface)"
   ]
  },
  {
   "cell_type": "code",
   "execution_count": 2,
   "metadata": {},
   "outputs": [
    {
     "data": {
      "text/plain": [
       "<sqlite3.Connection at 0x1634b25d440>"
      ]
     },
     "execution_count": 2,
     "metadata": {},
     "output_type": "execute_result"
    }
   ],
   "source": [
    "\n",
    "import sqlite3 as driver\n",
    "# Data-Source-Notation - changes with different database drivers\n",
    "DSN = \"employees\" # On SQLite3, this is just the filename which acts as a database\n",
    "conn = driver.connect(DSN)\n",
    "conn # Connection objects support connection management, transactions and factories for database features\n"
   ]
  },
  {
   "cell_type": "code",
   "execution_count": 3,
   "metadata": {},
   "outputs": [
    {
     "data": {
      "text/plain": [
       "<sqlite3.Cursor at 0x1634b511940>"
      ]
     },
     "execution_count": 3,
     "metadata": {},
     "output_type": "execute_result"
    }
   ],
   "source": [
    "cur = conn.cursor()\n",
    "cur # The Cursor objects provide means to execute queries for managing database"
   ]
  },
  {
   "cell_type": "code",
   "execution_count": 4,
   "metadata": {},
   "outputs": [
    {
     "data": {
      "text/plain": [
       "<sqlite3.Cursor at 0x1634b511940>"
      ]
     },
     "execution_count": 4,
     "metadata": {},
     "output_type": "execute_result"
    }
   ],
   "source": [
    "CREATE_USERS = \"\"\"CREATE TABLE users(\n",
    "                name        VARCHAR(32),\n",
    "                role        VARCHAR(32),\n",
    "                salary      INTEGER,\n",
    "                join_date   DATETIME\n",
    ")\"\"\"\n",
    "cur.execute(CREATE_USERS)"
   ]
  },
  {
   "cell_type": "code",
   "execution_count": 8,
   "metadata": {},
   "outputs": [
    {
     "ename": "OperationalError",
     "evalue": "table users2 already exists",
     "output_type": "error",
     "traceback": [
      "\u001b[1;31m---------------------------------------------------------------------------\u001b[0m",
      "\u001b[1;31mOperationalError\u001b[0m                          Traceback (most recent call last)",
      "Input \u001b[1;32mIn [8]\u001b[0m, in \u001b[0;36m<module>\u001b[1;34m\u001b[0m\n\u001b[0;32m      1\u001b[0m CREATE_USERS \u001b[38;5;241m=\u001b[39m \u001b[38;5;124m\"\"\"\u001b[39m\u001b[38;5;124mCREATE TABLE users2(\u001b[39m\n\u001b[0;32m      2\u001b[0m \u001b[38;5;124m                name        VARCHAR(32),\u001b[39m\n\u001b[0;32m      3\u001b[0m \u001b[38;5;124m                role        VARCHAR(32),\u001b[39m\n\u001b[0;32m      4\u001b[0m \u001b[38;5;124m                salary      INTEGER\u001b[39m\n\u001b[0;32m      5\u001b[0m \u001b[38;5;124m                join_date   ytuytyutyut\u001b[39m\n\u001b[0;32m      6\u001b[0m \u001b[38;5;124m)\u001b[39m\u001b[38;5;124m\"\"\"\u001b[39m\n\u001b[1;32m----> 7\u001b[0m \u001b[43mcur\u001b[49m\u001b[38;5;241;43m.\u001b[39;49m\u001b[43mexecute\u001b[49m\u001b[43m(\u001b[49m\u001b[43mCREATE_USERS\u001b[49m\u001b[43m)\u001b[49m\n",
      "\u001b[1;31mOperationalError\u001b[0m: table users2 already exists"
     ]
    }
   ],
   "source": [
    "CREATE_USERS = \"\"\"CREATE TABLE users2(\n",
    "                name        VARCHAR(32),\n",
    "                role        VARCHAR(32),\n",
    "                salary      INTEGER\n",
    "                join_date   ytuytyutyut\n",
    ")\"\"\"\n",
    "cur.execute(CREATE_USERS)"
   ]
  },
  {
   "cell_type": "code",
   "execution_count": 10,
   "metadata": {},
   "outputs": [
    {
     "data": {
      "text/plain": [
       "<sqlite3.Cursor at 0x1634b511940>"
      ]
     },
     "execution_count": 10,
     "metadata": {},
     "output_type": "execute_result"
    }
   ],
   "source": [
    "INSERT_ROW = \"\"\"INSERT INTO users(name, role, salary, join_date) VALUES(?,?,?,?)\"\"\"\n",
    "cur.execute(INSERT_ROW, (\"John\", \"Developer\", 4567890, \"20240306\"))"
   ]
  },
  {
   "cell_type": "code",
   "execution_count": 11,
   "metadata": {},
   "outputs": [
    {
     "data": {
      "text/plain": [
       "<sqlite3.Cursor at 0x1634b511940>"
      ]
     },
     "execution_count": 11,
     "metadata": {},
     "output_type": "execute_result"
    }
   ],
   "source": [
    "SELECT_ROWS = \"\"\"SELECT * FROM users\"\"\"\n",
    "cur.execute(SELECT_ROWS)"
   ]
  },
  {
   "cell_type": "code",
   "execution_count": 12,
   "metadata": {},
   "outputs": [
    {
     "name": "stdout",
     "output_type": "stream",
     "text": [
      "('John', 'Developer', 4567890, 20240306)\n"
     ]
    }
   ],
   "source": [
    "for row in cur:\n",
    "    print(row)"
   ]
  },
  {
   "cell_type": "code",
   "execution_count": 15,
   "metadata": {},
   "outputs": [
    {
     "data": {
      "text/plain": [
       "<sqlite3.Cursor at 0x1634b511940>"
      ]
     },
     "execution_count": 15,
     "metadata": {},
     "output_type": "execute_result"
    }
   ],
   "source": [
    "CREATE_USERS = \"\"\"CREATE TABLE IF NOT EXISTS users(\n",
    "                name        VARCHAR(32),\n",
    "                role        VARCHAR(32),\n",
    "                salary      INTEGER,\n",
    "                join_date   DATETIME\n",
    ")\"\"\"\n",
    "cur.execute(CREATE_USERS)"
   ]
  },
  {
   "cell_type": "code",
   "execution_count": 17,
   "metadata": {},
   "outputs": [],
   "source": [
    "conn.close()"
   ]
  },
  {
   "cell_type": "code",
   "execution_count": 16,
   "metadata": {},
   "outputs": [
    {
     "data": {
      "text/plain": [
       "False"
      ]
     },
     "execution_count": 16,
     "metadata": {},
     "output_type": "execute_result"
    }
   ],
   "source": [
    "a = \"\"\n",
    "b = None\n",
    "a == b"
   ]
  }
 ],
 "metadata": {
  "kernelspec": {
   "display_name": "Python 3",
   "language": "python",
   "name": "python3"
  },
  "language_info": {
   "codemirror_mode": {
    "name": "ipython",
    "version": 3
   },
   "file_extension": ".py",
   "mimetype": "text/x-python",
   "name": "python",
   "nbconvert_exporter": "python",
   "pygments_lexer": "ipython3",
   "version": "3.10.2"
  }
 },
 "nbformat": 4,
 "nbformat_minor": 2
}
