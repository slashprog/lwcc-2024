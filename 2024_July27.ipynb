{
 "cells": [
  {
   "cell_type": "code",
   "execution_count": 5,
   "metadata": {},
   "outputs": [
    {
     "name": "stdout",
     "output_type": "stream",
     "text": [
      "In class A: x = 10\n",
      "In main: x = 10\n"
     ]
    }
   ],
   "source": [
    "x = 10\n",
    "class A:\n",
    "    print(\"In class A: x =\", x)\n",
    "\n",
    "print(\"In main: x =\", x)"
   ]
  },
  {
   "cell_type": "markdown",
   "metadata": {},
   "source": [
    "All definitions within a class body, become class attributes (members)\n",
    "\n",
    "We can access members of a class (class attributes) by using the \n",
    ". operator (also known as attribute resolution operator)\n",
    "A.x -> returns the value of x as defined within the class A\n",
    "\n",
    "A class is used to represent the structure / blueprint of an object\n"
   ]
  },
  {
   "cell_type": "code",
   "execution_count": 6,
   "metadata": {},
   "outputs": [
    {
     "name": "stdout",
     "output_type": "stream",
     "text": [
      "In class A: x = 20\n",
      "In main: x = 10\n",
      "In main: A.x =  20\n"
     ]
    }
   ],
   "source": [
    "x = 10\n",
    "class A:\n",
    "    x = 20\n",
    "    print(\"In class A: x =\", x)\n",
    "\n",
    "print(\"In main: x =\", x)\n",
    "print(\"In main: A.x = \", A.x)"
   ]
  },
  {
   "cell_type": "code",
   "execution_count": 8,
   "metadata": {},
   "outputs": [
    {
     "name": "stdout",
     "output_type": "stream",
     "text": [
      "In testfn: x = 20\n",
      "10\n"
     ]
    }
   ],
   "source": [
    "x = 10\n",
    "def testfn():\n",
    "    x = 20\n",
    "    print(\"In testfn: x =\", x)\n",
    "\n",
    "testfn()\n",
    "print(x)"
   ]
  },
  {
   "cell_type": "code",
   "execution_count": 11,
   "metadata": {},
   "outputs": [
    {
     "name": "stdout",
     "output_type": "stream",
     "text": [
      "123\n",
      "Hello, world!\n"
     ]
    },
    {
     "ename": "NameError",
     "evalue": "name 'greet' is not defined",
     "output_type": "error",
     "traceback": [
      "\u001b[0;31m---------------------------------------------------------------------------\u001b[0m",
      "\u001b[0;31mNameError\u001b[0m                                 Traceback (most recent call last)",
      "Cell \u001b[0;32mIn[11], line 10\u001b[0m\n\u001b[1;32m      7\u001b[0m \u001b[38;5;28mprint\u001b[39m(A\u001b[38;5;241m.\u001b[39mx)\n\u001b[1;32m      8\u001b[0m A\u001b[38;5;241m.\u001b[39mgreet() \u001b[38;5;66;03m# Invoke the greet() function defined within class 'A'\u001b[39;00m\n\u001b[0;32m---> 10\u001b[0m greet()\n",
      "\u001b[0;31mNameError\u001b[0m: name 'greet' is not defined"
     ]
    }
   ],
   "source": [
    "class A:\n",
    "    x = 123\n",
    "\n",
    "    def greet():\n",
    "        print(\"Hello, world!\")\n",
    "\n",
    "print(A.x)\n",
    "A.greet() # Invoke the greet() function defined within class 'A'\n",
    "\n",
    "greet()"
   ]
  },
  {
   "cell_type": "code",
   "execution_count": 13,
   "metadata": {},
   "outputs": [
    {
     "name": "stdout",
     "output_type": "stream",
     "text": [
      "456\n",
      "789\n"
     ]
    }
   ],
   "source": [
    "class C:\n",
    "    x = 456\n",
    "\n",
    "print(C.x)\n",
    "\n",
    "class C:\n",
    "    x = 789\n",
    "\n",
    "print(C.x)"
   ]
  },
  {
   "cell_type": "code",
   "execution_count": 14,
   "metadata": {},
   "outputs": [
    {
     "data": {
      "text/plain": [
       "43"
      ]
     },
     "execution_count": 14,
     "metadata": {},
     "output_type": "execute_result"
    }
   ],
   "source": [
    "class A:\n",
    "    class B:\n",
    "        x = 43\n",
    "\n",
    "A.B.x\n",
    "print"
   ]
  },
  {
   "cell_type": "code",
   "execution_count": 17,
   "metadata": {},
   "outputs": [
    {
     "name": "stdout",
     "output_type": "stream",
     "text": [
      "100\n",
      "<class 'int'>\n"
     ]
    }
   ],
   "source": [
    "a = 100\n",
    "print(a)\n",
    "b = type(a)\n",
    "print(b)"
   ]
  },
  {
   "cell_type": "code",
   "execution_count": 20,
   "metadata": {},
   "outputs": [
    {
     "ename": "NameError",
     "evalue": "name 'drive' is not defined",
     "output_type": "error",
     "traceback": [
      "\u001b[0;31m---------------------------------------------------------------------------\u001b[0m",
      "\u001b[0;31mNameError\u001b[0m                                 Traceback (most recent call last)",
      "Cell \u001b[0;32mIn[20], line 7\u001b[0m\n\u001b[1;32m      3\u001b[0m         \u001b[38;5;28mprint\u001b[39m(\u001b[38;5;124m\"\u001b[39m\u001b[38;5;124mDriving car...\u001b[39m\u001b[38;5;124m\"\u001b[39m)\n\u001b[1;32m      5\u001b[0m \u001b[38;5;66;03m#Car.drive() # Class-method invocation\u001b[39;00m\n\u001b[0;32m----> 7\u001b[0m drive()\n",
      "\u001b[0;31mNameError\u001b[0m: name 'drive' is not defined"
     ]
    }
   ],
   "source": [
    "class Car:\n",
    "    def drive():\n",
    "        print(\"Driving car...\")\n",
    "\n",
    "#Car.drive() # Class-method invocation\n",
    "\n",
    "drive()"
   ]
  },
  {
   "cell_type": "code",
   "execution_count": 23,
   "metadata": {},
   "outputs": [
    {
     "name": "stdout",
     "output_type": "stream",
     "text": [
      "<__main__.Car object at 0x7684d416cd10>\n",
      "<__main__.Car object at 0x7684d416cf90>\n"
     ]
    }
   ],
   "source": [
    "class Car:\n",
    "    def drive():\n",
    "        print(\"Driving car...\")\n",
    "\n",
    "c1 = Car()\n",
    "c2 = Car()\n",
    "print(c1, c2, sep=\"\\n\")"
   ]
  },
  {
   "cell_type": "code",
   "execution_count": 25,
   "metadata": {},
   "outputs": [
    {
     "name": "stdout",
     "output_type": "stream",
     "text": [
      "<class '__main__.Car'>\n",
      "<class '__main__.Car'>\n",
      "<class '__main__.Car'>\n",
      "<class '__main__.Car'>\n",
      "<class '__main__.Car'>\n"
     ]
    }
   ],
   "source": [
    "print(c1.__class__) # example of a \"dunder\" attribute\n",
    "print(c2.__class__)\n",
    "print(Car)\n",
    "print(type(c1))\n",
    "print(type(c2))"
   ]
  },
  {
   "cell_type": "code",
   "execution_count": 27,
   "metadata": {},
   "outputs": [
    {
     "name": "stdout",
     "output_type": "stream",
     "text": [
      "Toyota\n",
      "Toyota\n",
      "Toyota\n"
     ]
    }
   ],
   "source": [
    "class Car:\n",
    "    make = \"Toyota\"\n",
    "\n",
    "c1 = Car()  # This is a constructor expression\n",
    "c2 = Car()\n",
    "\n",
    "print(Car.make)\n",
    "print(c1.make)\n",
    "print(c2.make)"
   ]
  },
  {
   "cell_type": "markdown",
   "metadata": {},
   "source": [
    "Class attributes are visible through their instances by default.\n",
    "\n",
    "In the above example, Car is a class, while c1 and c2 are instances of Car class\n",
    "\n",
    "Instances can override their class attributes with their own definitions.\n"
   ]
  },
  {
   "cell_type": "code",
   "execution_count": 31,
   "metadata": {},
   "outputs": [
    {
     "ename": "TypeError",
     "evalue": "Car() takes no arguments",
     "output_type": "error",
     "traceback": [
      "\u001b[0;31m---------------------------------------------------------------------------\u001b[0m",
      "\u001b[0;31mTypeError\u001b[0m                                 Traceback (most recent call last)",
      "Cell \u001b[0;32mIn[31], line 6\u001b[0m\n\u001b[1;32m      3\u001b[0m     color \u001b[38;5;241m=\u001b[39m \u001b[38;5;124m\"\u001b[39m\u001b[38;5;124mWhite\u001b[39m\u001b[38;5;124m\"\u001b[39m\n\u001b[1;32m      5\u001b[0m c1 \u001b[38;5;241m=\u001b[39m Car()  \u001b[38;5;66;03m# This is a constructor expression\u001b[39;00m\n\u001b[0;32m----> 6\u001b[0m c2 \u001b[38;5;241m=\u001b[39m Car(\u001b[38;5;124m\"\u001b[39m\u001b[38;5;124mMaruti\u001b[39m\u001b[38;5;124m\"\u001b[39m)\n\u001b[1;32m      8\u001b[0m \u001b[38;5;28mprint\u001b[39m(Car\u001b[38;5;241m.\u001b[39mmake, Car\u001b[38;5;241m.\u001b[39mcolor)\n\u001b[1;32m      9\u001b[0m \u001b[38;5;28mprint\u001b[39m(c1\u001b[38;5;241m.\u001b[39mmake, c1\u001b[38;5;241m.\u001b[39mcolor)\n",
      "\u001b[0;31mTypeError\u001b[0m: Car() takes no arguments"
     ]
    }
   ],
   "source": [
    "class Car:\n",
    "    make = \"Toyota\"\n",
    "    color = \"White\"\n",
    "\n",
    "c1 = Car()  # This is a constructor expression\n",
    "c2 = Car()\n",
    "\n",
    "print(Car.make, Car.color)\n",
    "print(c1.make, c1.color)\n",
    "print(c2.make, c2.color)\n",
    "\n",
    "c1.color = \"Red\" # Instance attribute definition\n",
    "print(Car.color, c1.color, c2.color)\n",
    "# Above, c1.color is an instance-attribute, overriding the class attribute\n"
   ]
  }
 ],
 "metadata": {
  "kernelspec": {
   "display_name": "base",
   "language": "python",
   "name": "python3"
  },
  "language_info": {
   "codemirror_mode": {
    "name": "ipython",
    "version": 3
   },
   "file_extension": ".py",
   "mimetype": "text/x-python",
   "name": "python",
   "nbconvert_exporter": "python",
   "pygments_lexer": "ipython3",
   "version": "3.11.7"
  }
 },
 "nbformat": 4,
 "nbformat_minor": 2
}
