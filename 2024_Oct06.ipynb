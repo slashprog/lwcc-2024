{
 "cells": [
  {
   "cell_type": "markdown",
   "metadata": {},
   "source": [
    "### LWCC  Session 38 - October 6th 2024\n",
    "\n",
    "#### Decorators examples\n"
   ]
  },
  {
   "cell_type": "code",
   "execution_count": 53,
   "metadata": {},
   "outputs": [],
   "source": [
    "# Memoize Pattern\n",
    "class Memoize:\n",
    "    def __init__(self, fn):\n",
    "        self.fn = fn\n",
    "        self.cache = {}\n",
    "    \n",
    "    def __call__(self, *args, **kwargs):\n",
    "        key = str(args) + str(kwargs)\n",
    "        if key not in self.cache:\n",
    "            self.cache[key]  = self.fn(*args, **kwargs)\n",
    "        return self.cache[key]\n",
    "    \n",
    "    def __str__(self):\n",
    "        s = f\"<@{type(self).__name__}: {str(self.fn)}>\"\n",
    "        return s\n"
   ]
  },
  {
   "cell_type": "code",
   "execution_count": 54,
   "metadata": {},
   "outputs": [],
   "source": [
    "class ParamsMustBeInteger:\n",
    "    def __init__(self, fn):\n",
    "        self.fn = fn\n",
    "    \n",
    "    def __call__(self, *args, **kwargs):\n",
    "        import itertools\n",
    "        for a in itertools.chain(args, kwargs.values()):\n",
    "            if type(a) is not int:\n",
    "                raise TypeError(\"arguments must be an integer\")\n",
    "        return self.fn(*args, **kwargs)\n",
    "\n",
    "    def __str__(self):\n",
    "        s = f\"<@{type(self).__name__}: {str(self.fn)}>\"\n",
    "        return s"
   ]
  },
  {
   "cell_type": "code",
   "execution_count": 55,
   "metadata": {},
   "outputs": [],
   "source": [
    "@Memoize\n",
    "@ParamsMustBeInteger\n",
    "def square(x):\n",
    "    from time import sleep\n",
    "    sleep(1)\n",
    "    return x*x"
   ]
  },
  {
   "cell_type": "code",
   "execution_count": 56,
   "metadata": {},
   "outputs": [
    {
     "name": "stdout",
     "output_type": "stream",
     "text": [
      "16\n",
      "25\n",
      "4\n",
      "16\n",
      "16\n",
      "25\n",
      "4\n",
      "36\n",
      "9\n",
      "4\n",
      "4\n",
      "16\n",
      "25\n",
      "25\n",
      "9\n",
      "4\n"
     ]
    }
   ],
   "source": [
    "values = [4, 5, 2, 4, 4, 5, 2, 6, 3, 2, 2, 4, 5, 5, 3, 2]\n",
    "for v in values:\n",
    "    print(square(v))"
   ]
  },
  {
   "cell_type": "code",
   "execution_count": 57,
   "metadata": {},
   "outputs": [
    {
     "ename": "TypeError",
     "evalue": "arguments must be an integer",
     "output_type": "error",
     "traceback": [
      "\u001b[1;31m---------------------------------------------------------------------------\u001b[0m",
      "\u001b[1;31mTypeError\u001b[0m                                 Traceback (most recent call last)",
      "Input \u001b[1;32mIn [57]\u001b[0m, in \u001b[0;36m<module>\u001b[1;34m\u001b[0m\n\u001b[1;32m----> 1\u001b[0m \u001b[43msquare\u001b[49m\u001b[43m(\u001b[49m\u001b[38;5;241;43m3.4\u001b[39;49m\u001b[43m)\u001b[49m\n",
      "Input \u001b[1;32mIn [53]\u001b[0m, in \u001b[0;36mMemoize.__call__\u001b[1;34m(self, *args, **kwargs)\u001b[0m\n\u001b[0;32m      8\u001b[0m key \u001b[38;5;241m=\u001b[39m \u001b[38;5;28mstr\u001b[39m(args) \u001b[38;5;241m+\u001b[39m \u001b[38;5;28mstr\u001b[39m(kwargs)\n\u001b[0;32m      9\u001b[0m \u001b[38;5;28;01mif\u001b[39;00m key \u001b[38;5;129;01mnot\u001b[39;00m \u001b[38;5;129;01min\u001b[39;00m \u001b[38;5;28mself\u001b[39m\u001b[38;5;241m.\u001b[39mcache:\n\u001b[1;32m---> 10\u001b[0m     \u001b[38;5;28mself\u001b[39m\u001b[38;5;241m.\u001b[39mcache[key]  \u001b[38;5;241m=\u001b[39m \u001b[38;5;28mself\u001b[39m\u001b[38;5;241m.\u001b[39mfn(\u001b[38;5;241m*\u001b[39margs, \u001b[38;5;241m*\u001b[39m\u001b[38;5;241m*\u001b[39mkwargs)\n\u001b[0;32m     11\u001b[0m \u001b[38;5;28;01mreturn\u001b[39;00m \u001b[38;5;28mself\u001b[39m\u001b[38;5;241m.\u001b[39mcache[key]\n",
      "Input \u001b[1;32mIn [54]\u001b[0m, in \u001b[0;36mParamsMustBeInteger.__call__\u001b[1;34m(self, *args, **kwargs)\u001b[0m\n\u001b[0;32m      7\u001b[0m \u001b[38;5;28;01mfor\u001b[39;00m a \u001b[38;5;129;01min\u001b[39;00m itertools\u001b[38;5;241m.\u001b[39mchain(args, kwargs\u001b[38;5;241m.\u001b[39mvalues()):\n\u001b[0;32m      8\u001b[0m     \u001b[38;5;28;01mif\u001b[39;00m \u001b[38;5;28mtype\u001b[39m(a) \u001b[38;5;129;01mis\u001b[39;00m \u001b[38;5;129;01mnot\u001b[39;00m \u001b[38;5;28mint\u001b[39m:\n\u001b[1;32m----> 9\u001b[0m         \u001b[38;5;28;01mraise\u001b[39;00m \u001b[38;5;167;01mTypeError\u001b[39;00m(\u001b[38;5;124m\"\u001b[39m\u001b[38;5;124marguments must be an integer\u001b[39m\u001b[38;5;124m\"\u001b[39m)\n\u001b[0;32m     10\u001b[0m \u001b[38;5;28;01mreturn\u001b[39;00m \u001b[38;5;28mself\u001b[39m\u001b[38;5;241m.\u001b[39mfn(\u001b[38;5;241m*\u001b[39margs, \u001b[38;5;241m*\u001b[39m\u001b[38;5;241m*\u001b[39mkwargs)\n",
      "\u001b[1;31mTypeError\u001b[0m: arguments must be an integer"
     ]
    }
   ],
   "source": [
    "square(3.4)"
   ]
  },
  {
   "cell_type": "code",
   "execution_count": 58,
   "metadata": {},
   "outputs": [
    {
     "name": "stdout",
     "output_type": "stream",
     "text": [
      "<@Memoize: <@ParamsMustBeInteger: <function square at 0x000001CE20D6FB50>>>\n"
     ]
    }
   ],
   "source": [
    "print(square)"
   ]
  },
  {
   "cell_type": "code",
   "execution_count": 37,
   "metadata": {},
   "outputs": [],
   "source": [
    "@Memoize\n",
    "def add(x, y):\n",
    "    from time import sleep\n",
    "    sleep(1)\n",
    "    return x+y"
   ]
  },
  {
   "cell_type": "code",
   "execution_count": 27,
   "metadata": {},
   "outputs": [
    {
     "data": {
      "text/plain": [
       "[3, 6, 3, 13, 13, 6, 3]"
      ]
     },
     "execution_count": 27,
     "metadata": {},
     "output_type": "execute_result"
    }
   ],
   "source": [
    "values = [(1, 2), (4, 2), (1, 2), (6, 7), (6, 7), (4, 2), (1, 2)]\n",
    "result = [ add(a, b) for a, b  in values ]\n",
    "result\n"
   ]
  },
  {
   "cell_type": "code",
   "execution_count": 38,
   "metadata": {},
   "outputs": [
    {
     "name": "stdout",
     "output_type": "stream",
     "text": [
      "<@Memoize: <function square at 0x000001CE20D6FC70>> <class '__main__.Memoize'>\n",
      "<@Memoize: <function add at 0x000001CE1F5B7F40>> <class '__main__.Memoize'>\n"
     ]
    }
   ],
   "source": [
    "print(square, type(square))\n",
    "print(add, type(add))"
   ]
  },
  {
   "cell_type": "code",
   "execution_count": 22,
   "metadata": {},
   "outputs": [
    {
     "name": "stdout",
     "output_type": "stream",
     "text": [
      "testfn\n"
     ]
    }
   ],
   "source": [
    "def testfn():\n",
    "    print(\"this is testfn...\")\n",
    "\n",
    "a = testfn\n",
    "print(a.__qualname__)"
   ]
  },
  {
   "cell_type": "code",
   "execution_count": 41,
   "metadata": {},
   "outputs": [
    {
     "name": "stdout",
     "output_type": "stream",
     "text": [
      "11 22 33 44 20 30 40 "
     ]
    }
   ],
   "source": [
    "a = [11, 22, 33, 44]\n",
    "b = {\"x\": 20, \"y\": 30, \"z\": 40}\n",
    "\n",
    "for v in a:\n",
    "    print(v, end=\" \")\n",
    "for v in b.values():\n",
    "    print(v, end=\" \")"
   ]
  },
  {
   "cell_type": "code",
   "execution_count": 46,
   "metadata": {},
   "outputs": [
    {
     "name": "stdout",
     "output_type": "stream",
     "text": [
      "11 22 33 44 20 30 40 "
     ]
    }
   ],
   "source": [
    "a = [11, 22, 33, 44]\n",
    "b = {\"x\": 20, \"y\": 30, \"z\": 40}\n",
    "\n",
    "for v in a + list(b.values()):\n",
    "    print(v, end=\" \")\n"
   ]
  },
  {
   "cell_type": "code",
   "execution_count": 48,
   "metadata": {},
   "outputs": [
    {
     "name": "stdout",
     "output_type": "stream",
     "text": [
      "11 22 33 44 20 30 40 "
     ]
    }
   ],
   "source": [
    "import itertools\n",
    "\n",
    "a = [11, 22, 33, 44]\n",
    "b = {\"x\": 20, \"y\": 30, \"z\": 40}\n",
    "\n",
    "for v in itertools.chain(a, b.values()):\n",
    "    print(v, end=\" \")\n"
   ]
  },
  {
   "cell_type": "code",
   "execution_count": 44,
   "metadata": {},
   "outputs": [
    {
     "name": "stdout",
     "output_type": "stream",
     "text": [
      "11 22 33 44 20 30 40 50 "
     ]
    }
   ],
   "source": [
    "a = [11, 22, 33, 44]\n",
    "b = [20, 30, 40, 50]\n",
    "\n",
    "for v in a + b:\n",
    "    print(v, end=\" \")\n"
   ]
  }
 ],
 "metadata": {
  "kernelspec": {
   "display_name": "Python 3",
   "language": "python",
   "name": "python3"
  },
  "language_info": {
   "codemirror_mode": {
    "name": "ipython",
    "version": 3
   },
   "file_extension": ".py",
   "mimetype": "text/x-python",
   "name": "python",
   "nbconvert_exporter": "python",
   "pygments_lexer": "ipython3",
   "version": "3.10.2"
  }
 },
 "nbformat": 4,
 "nbformat_minor": 2
}
