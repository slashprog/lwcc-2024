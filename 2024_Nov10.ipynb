{
 "cells": [
  {
   "cell_type": "markdown",
   "metadata": {},
   "source": [
    "### LWCC  Session 48 - November 11th 2024\n",
    "\n",
    "#### Basic Web Automation in Python - Part 2\n"
   ]
  },
  {
   "cell_type": "code",
   "execution_count": 2,
   "metadata": {},
   "outputs": [
    {
     "name": "stdout",
     "output_type": "stream",
     "text": [
      "Requirement already satisfied: requests in c:\\python310\\lib\\site-packages (2.27.1)\n",
      "Requirement already satisfied: urllib3<1.27,>=1.21.1 in c:\\python310\\lib\\site-packages (from requests) (1.26.9)\n",
      "Requirement already satisfied: certifi>=2017.4.17 in c:\\python310\\lib\\site-packages (from requests) (2021.10.8)\n",
      "Requirement already satisfied: charset-normalizer~=2.0.0 in c:\\python310\\lib\\site-packages (from requests) (2.0.12)\n",
      "Requirement already satisfied: idna<4,>=2.5 in c:\\python310\\lib\\site-packages (from requests) (3.3)\n",
      "Note: you may need to restart the kernel to use updated packages.\n"
     ]
    },
    {
     "name": "stderr",
     "output_type": "stream",
     "text": [
      "\n",
      "[notice] A new release of pip is available: 24.2 -> 24.3.1\n",
      "[notice] To update, run: python.exe -m pip install --upgrade pip\n"
     ]
    }
   ],
   "source": [
    "pip install requests"
   ]
  },
  {
   "cell_type": "code",
   "execution_count": 2,
   "metadata": {},
   "outputs": [
    {
     "name": "stdout",
     "output_type": "stream",
     "text": [
      "Collecting httpx\n",
      "  Downloading httpx-0.27.2-py3-none-any.whl.metadata (7.1 kB)\n",
      "Collecting anyio (from httpx)\n",
      "  Downloading anyio-4.6.2.post1-py3-none-any.whl.metadata (4.7 kB)\n",
      "Requirement already satisfied: certifi in c:\\python310\\lib\\site-packages (from httpx) (2021.10.8)\n",
      "Collecting httpcore==1.* (from httpx)\n",
      "  Downloading httpcore-1.0.6-py3-none-any.whl.metadata (21 kB)\n",
      "Requirement already satisfied: idna in c:\\python310\\lib\\site-packages (from httpx) (3.3)\n",
      "Requirement already satisfied: sniffio in c:\\python310\\lib\\site-packages (from httpx) (1.2.0)\n",
      "Requirement already satisfied: h11<0.15,>=0.13 in c:\\python310\\lib\\site-packages (from httpcore==1.*->httpx) (0.13.0)\n",
      "Collecting exceptiongroup>=1.0.2 (from anyio->httpx)\n",
      "  Downloading exceptiongroup-1.2.2-py3-none-any.whl.metadata (6.6 kB)\n",
      "Requirement already satisfied: typing-extensions>=4.1 in c:\\python310\\lib\\site-packages (from anyio->httpx) (4.2.0)\n",
      "Downloading httpx-0.27.2-py3-none-any.whl (76 kB)\n",
      "Downloading httpcore-1.0.6-py3-none-any.whl (78 kB)\n",
      "Downloading anyio-4.6.2.post1-py3-none-any.whl (90 kB)\n",
      "Downloading exceptiongroup-1.2.2-py3-none-any.whl (16 kB)\n",
      "Installing collected packages: httpcore, exceptiongroup, anyio, httpx\n",
      "  Attempting uninstall: httpcore\n",
      "    Found existing installation: httpcore 0.12.3\n",
      "    Uninstalling httpcore-0.12.3:\n",
      "      Successfully uninstalled httpcore-0.12.3\n",
      "Successfully installed anyio-4.6.2.post1 exceptiongroup-1.2.2 httpcore-1.0.6 httpx-0.27.2\n",
      "Note: you may need to restart the kernel to use updated packages.\n"
     ]
    },
    {
     "name": "stderr",
     "output_type": "stream",
     "text": [
      "\n",
      "[notice] A new release of pip is available: 24.2 -> 24.3.1\n",
      "[notice] To update, run: python.exe -m pip install --upgrade pip\n"
     ]
    }
   ],
   "source": [
    "pip install httpx"
   ]
  },
  {
   "cell_type": "code",
   "execution_count": 3,
   "metadata": {},
   "outputs": [],
   "source": [
    "import httpx"
   ]
  },
  {
   "cell_type": "code",
   "execution_count": null,
   "metadata": {},
   "outputs": [
    {
     "data": {
      "text/plain": [
       "<Response [200 OK]>"
      ]
     },
     "execution_count": 4,
     "metadata": {},
     "output_type": "execute_result"
    }
   ],
   "source": [
    "GEOCODER_URL=\"http://api.openweathermap.org/geo/1.0/direct?q={city}&limit=5&appid={api_key}\"\n",
    "\n",
    "city = \"Chennai\"\n",
    "\n",
    "r = httpx.get(GEOCODER_URL.format(city=city, api_key=API_KEY))\n",
    "r\n"
   ]
  },
  {
   "cell_type": "code",
   "execution_count": 9,
   "metadata": {},
   "outputs": [
    {
     "data": {
      "text/plain": [
       "13.0836939"
      ]
     },
     "execution_count": 9,
     "metadata": {},
     "output_type": "execute_result"
    }
   ],
   "source": [
    "r.json()[0][\"lat\"]"
   ]
  },
  {
   "cell_type": "code",
   "execution_count": 14,
   "metadata": {},
   "outputs": [],
   "source": [
    "GEOCODER_URL=\"http://api.openweathermap.org/geo/1.0/direct?q={city}&limit=5&appid={api_key}\"\n",
    "CURRENT_WEATHER_URL=\"https://api.openweathermap.org/data/2.5/weather?lat={lat}&lon={lon}&units=metric&appid={api_key}\"\n",
    "\n",
    "import httpx\n",
    "\n",
    "class Weather:\n",
    "    def __init__(self, api_key, city):\n",
    "        self.api_key = api_key\n",
    "        self.city = city\n",
    "        self.lat, self.lon = self.get_coordinates()\n",
    "                \n",
    "    def get_coordinates(self):\n",
    "        response = httpx.get(GEOCODER_URL.format(city=self.city, api_key=self.api_key))\n",
    "        rec = response.json()[0]\n",
    "        return rec[\"lat\"], rec[\"lon\"]\n",
    "        \n",
    "    def get_temperature(self):\n",
    "        response = httpx.get(CURRENT_WEATHER_URL.format(lat=self.lat, lon=self.lon, api_key=self.api_key))\n",
    "        return response.json()"
   ]
  },
  {
   "cell_type": "code",
   "execution_count": null,
   "metadata": {},
   "outputs": [
    {
     "data": {
      "text/plain": [
       "{'coord': {'lon': 80.2702, 'lat': 13.0837},\n",
       " 'weather': [{'id': 701,\n",
       "   'main': 'Mist',\n",
       "   'description': 'mist',\n",
       "   'icon': '50n'}],\n",
       " 'base': 'stations',\n",
       " 'main': {'temp': 28.78,\n",
       "  'feels_like': 34.14,\n",
       "  'temp_min': 28.35,\n",
       "  'temp_max': 29.38,\n",
       "  'pressure': 1011,\n",
       "  'humidity': 80,\n",
       "  'sea_level': 1011,\n",
       "  'grnd_level': 1010},\n",
       " 'visibility': 5000,\n",
       " 'wind': {'speed': 3.6, 'deg': 40},\n",
       " 'clouds': {'all': 40},\n",
       " 'dt': 1731245101,\n",
       " 'sys': {'type': 2,\n",
       "  'id': 2093220,\n",
       "  'country': 'IN',\n",
       "  'sunrise': 1731198949,\n",
       "  'sunset': 1731240599},\n",
       " 'timezone': 19800,\n",
       " 'id': 1465730,\n",
       " 'name': 'Park Town',\n",
       " 'cod': 200}"
      ]
     },
     "execution_count": 15,
     "metadata": {},
     "output_type": "execute_result"
    }
   ],
   "source": [
    "\n",
    "\n",
    "w = Weather(API_KEY, \"Chennai\")\n",
    "w.get_temperature()"
   ]
  },
  {
   "cell_type": "code",
   "execution_count": null,
   "metadata": {},
   "outputs": [],
   "source": [
    "w = Weather(API_KEY)\n",
    "\n",
    "w.city = \"Pune\"  # State Pattern\n",
    "print(w.temperature, w.humidity, w.latitude, w.longitude)\n",
    "\n",
    "w.city = \"Mumbai\"\n",
    "print(w.temperature, w.humidity, w.latitude, w.longitude)\n"
   ]
  },
  {
   "cell_type": "markdown",
   "metadata": {},
   "source": [
    "URL -> Uniform Resource Locator\n",
    "\n",
    "Standard format for URLs are as below:\n",
    "  scheme://domain-name-address.tld/path/to/resource\n",
    "\n",
    "  http://www.python.org/about\n",
    "\n",
    "scheme -> defines the communication protocol. It can be 'http', https, ftp, smtp, pop3, ...\n",
    "\n",
    "\n",
    "http://myhouse.com/living_room/cupboard/shelf/spoon\n",
    "http://myhouse.com\n",
    "\n",
    "HTTP -> Hyper-Text-Transfer-Protocol"
   ]
  },
  {
   "cell_type": "code",
   "execution_count": null,
   "metadata": {},
   "outputs": [
    {
     "data": {
      "text/plain": [
       "<Response [200 OK]>"
      ]
     },
     "execution_count": 17,
     "metadata": {},
     "output_type": "execute_result"
    }
   ],
   "source": [
    "API_KEY = \"\" # get your own API key :-)\n",
    "\n",
    "GEOCODER_URL = \"http://api.openweathermap.org/geo/1.0/direct?q={city}&limit=1&appid={key}\"\n",
    "\n",
    "url = GEOCODER_URL.format(city=\"Delhi\", key=API_KEY)\n",
    "\n",
    "import httpx\n",
    "\n",
    "response = httpx.get(url)\n",
    "response\n"
   ]
  },
  {
   "cell_type": "code",
   "execution_count": 21,
   "metadata": {},
   "outputs": [
    {
     "name": "stdout",
     "output_type": "stream",
     "text": [
      "28.6517178 77.2219388\n"
     ]
    }
   ],
   "source": [
    "r = response.json()\n",
    "\n",
    "print(r[0][\"lat\"], r[0][\"lon\"])"
   ]
  },
  {
   "cell_type": "code",
   "execution_count": 27,
   "metadata": {},
   "outputs": [
    {
     "data": {
      "text/plain": [
       "{'coord': {'lon': 77.223, 'lat': 28.6546},\n",
       " 'weather': [{'id': 721,\n",
       "   'main': 'Haze',\n",
       "   'description': 'haze',\n",
       "   'icon': '50n'}],\n",
       " 'base': 'stations',\n",
       " 'main': {'temp': 25.01,\n",
       "  'feels_like': 25.37,\n",
       "  'temp_min': 25.01,\n",
       "  'temp_max': 25.01,\n",
       "  'pressure': 1014,\n",
       "  'humidity': 69,\n",
       "  'sea_level': 1014,\n",
       "  'grnd_level': 988},\n",
       " 'visibility': 2200,\n",
       " 'wind': {'speed': 0, 'deg': 0},\n",
       " 'clouds': {'all': 0},\n",
       " 'dt': 1731249013,\n",
       " 'sys': {'type': 1,\n",
       "  'id': 9165,\n",
       "  'country': 'IN',\n",
       "  'sunrise': 1731201002,\n",
       "  'sunset': 1731240009},\n",
       " 'timezone': 19800,\n",
       " 'id': 1273294,\n",
       " 'name': 'Delhi',\n",
       " 'cod': 200}"
      ]
     },
     "execution_count": 27,
     "metadata": {},
     "output_type": "execute_result"
    }
   ],
   "source": [
    "WEATHER_URL = \"http://api.openweathermap.org/data/2.5/weather?lat={lat}&lon={lon}&units=metric&appid={key}\"\n",
    "\n",
    "url = WEATHER_URL.format(lat=28.6517178, lon=77.2219388, key=API_KEY)\n",
    "\n",
    "response = httpx.get(url)\n",
    "r = response.json()\n",
    "r"
   ]
  },
  {
   "cell_type": "code",
   "execution_count": 29,
   "metadata": {},
   "outputs": [
    {
     "data": {
      "text/plain": [
       "25.01"
      ]
     },
     "execution_count": 29,
     "metadata": {},
     "output_type": "execute_result"
    }
   ],
   "source": [
    "r[\"main\"][\"temp\"]"
   ]
  }
 ],
 "metadata": {
  "kernelspec": {
   "display_name": "Python 3",
   "language": "python",
   "name": "python3"
  },
  "language_info": {
   "codemirror_mode": {
    "name": "ipython",
    "version": 3
   },
   "file_extension": ".py",
   "mimetype": "text/x-python",
   "name": "python",
   "nbconvert_exporter": "python",
   "pygments_lexer": "ipython3",
   "version": "3.10.2"
  }
 },
 "nbformat": 4,
 "nbformat_minor": 2
}
