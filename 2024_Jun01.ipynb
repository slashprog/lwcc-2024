{
 "cells": [
  {
   "cell_type": "markdown",
   "metadata": {},
   "source": [
    "### The Little Wizards Coding Camp - Level 2\n",
    "#### Python Programming Preliminaries\n",
    "\n",
    "##### Conditional statements\n",
    "   - The `if` statement\n",
    "      - The ternary `if` expression\n",
    "   - The `match` statement (supported from Python 3.10)"
   ]
  },
  {
   "cell_type": "code",
   "execution_count": 2,
   "metadata": {},
   "outputs": [
    {
     "data": {
      "text/plain": [
       "False"
      ]
     },
     "execution_count": 2,
     "metadata": {},
     "output_type": "execute_result"
    }
   ],
   "source": [
    "# All conditional statements and expression depend on boolean comparison / boolen context of an object\n",
    "a = 10\n",
    "b = 20\n",
    "a > b"
   ]
  },
  {
   "cell_type": "code",
   "execution_count": 15,
   "metadata": {},
   "outputs": [
    {
     "name": "stdout",
     "output_type": "stream",
     "text": [
      "a is small\n",
      "this is test message\n",
      "this is another print message\n"
     ]
    }
   ],
   "source": [
    "a = 100\n",
    "b = 200\n",
    "if a < b:\n",
    "    print(\"a is small\")\n",
    "    print(\"this is test message\")\n",
    "    print(\"this is another print message\")"
   ]
  },
  {
   "cell_type": "code",
   "execution_count": 19,
   "metadata": {},
   "outputs": [
    {
     "name": "stdout",
     "output_type": "stream",
     "text": [
      "a is True...\n"
     ]
    }
   ],
   "source": [
    "a = -10\n",
    "if a: # Boolean context of evaluation / boolean truthiness\n",
    "    print(\"a is True...\")\n",
    "\n",
    "# In python, any expression or value which results in either numeric 0, \"\", (), [], {}, set(), None -> are evaluated as False\n"
   ]
  },
  {
   "cell_type": "code",
   "execution_count": 21,
   "metadata": {},
   "outputs": [
    {
     "name": "stdout",
     "output_type": "stream",
     "text": [
      "Value cannot be zero\n"
     ]
    }
   ],
   "source": [
    "n = int(input(\"Enter a value (that is not zero): \"))\n",
    "if n == 0:\n",
    "    print(\"Value cannot be zero\")"
   ]
  },
  {
   "cell_type": "code",
   "execution_count": 22,
   "metadata": {},
   "outputs": [
    {
     "name": "stdout",
     "output_type": "stream",
     "text": [
      "Value cannot be zero\n"
     ]
    }
   ],
   "source": [
    "n = int(input(\"Enter a value (that is not zero): \"))\n",
    "if not n:\n",
    "    print(\"Value cannot be zero\")"
   ]
  },
  {
   "cell_type": "code",
   "execution_count": 27,
   "metadata": {},
   "outputs": [
    {
     "name": "stdout",
     "output_type": "stream",
     "text": [
      "a is treated as True\n"
     ]
    }
   ],
   "source": [
    "a = \" \"\n",
    "if a:\n",
    "    print(\"a is treated as True\")\n",
    "else:\n",
    "    print(\"a is treated as False\")"
   ]
  },
  {
   "cell_type": "code",
   "execution_count": 28,
   "metadata": {},
   "outputs": [
    {
     "name": "stdout",
     "output_type": "stream",
     "text": [
      "This list is empty\n"
     ]
    }
   ],
   "source": [
    "a = []\n",
    "if len(a) == 0:\n",
    "    print(\"This list is empty\")"
   ]
  },
  {
   "cell_type": "code",
   "execution_count": 30,
   "metadata": {},
   "outputs": [],
   "source": [
    "a = [0]\n",
    "if not a: # Pythonic\n",
    "    print(\"This list is empty\")"
   ]
  },
  {
   "cell_type": "code",
   "execution_count": 33,
   "metadata": {},
   "outputs": [
    {
     "name": "stdout",
     "output_type": "stream",
     "text": [
      "This is a negative number\n"
     ]
    }
   ],
   "source": [
    "n = int(input(\"Enter a number: \"))\n",
    "\n",
    "if not n:\n",
    "    print(\"The value is zero\")\n",
    "elif n > 0:\n",
    "    print(\"This is a positive number\")\n",
    "elif n < 0:\n",
    "    print(\"This is a negative number\")\n",
    "    "
   ]
  },
  {
   "cell_type": "code",
   "execution_count": 36,
   "metadata": {},
   "outputs": [
    {
     "name": "stdout",
     "output_type": "stream",
     "text": [
      "This is a negative number\n"
     ]
    }
   ],
   "source": [
    "n = int(input(\"Enter a number: \"))\n",
    "\n",
    "if n > 0:\n",
    "    print(\"This is a positive number\")\n",
    "elif n < 0:\n",
    "    print(\"This is a negative number\")\n",
    "else:\n",
    "    print(\"This number is zero\")    "
   ]
  },
  {
   "cell_type": "code",
   "execution_count": null,
   "metadata": {},
   "outputs": [
    {
     "name": "stdout",
     "output_type": "stream",
     "text": [
      "This is a negative number\n"
     ]
    }
   ],
   "source": [
    "n = int(input(\"Enter a number: \"))\n",
    "\n",
    "if n > 0 and n <= 10:\n",
    "    print(\"This is a small positive number\")\n",
    "elif n > 10 and n <= 50:\n",
    "    print(\"This is a moderate value number\")\n",
    "elif n > 50:\n",
    "    print(\"This is a large number\")    "
   ]
  },
  {
   "cell_type": "markdown",
   "metadata": {},
   "source": [
    "# Exercise 1: Check if a number is an armstrong number (for 3 digits)\n",
    "\n",
    "153\n",
    "\n",
    "1**3 + 5**3 + 3**3\n",
    "1 + 125 + 27\n",
    "= 153\n"
   ]
  },
  {
   "cell_type": "markdown",
   "metadata": {},
   "source": [
    "#### Exercise 2: Check if a number is a perfect square"
   ]
  },
  {
   "cell_type": "code",
   "execution_count": 38,
   "metadata": {},
   "outputs": [
    {
     "data": {
      "text/plain": [
       "2.0"
      ]
     },
     "execution_count": 38,
     "metadata": {},
     "output_type": "execute_result"
    }
   ],
   "source": [
    "4 ** 0.5"
   ]
  },
  {
   "cell_type": "code",
   "execution_count": 40,
   "metadata": {},
   "outputs": [
    {
     "name": "stdout",
     "output_type": "stream",
     "text": [
      "You are eligible to vote!\n"
     ]
    }
   ],
   "source": [
    "age = int(input(\"Enter your age: \"))\n",
    "if age >= 18:\n",
    "    print(\"You are eligible to vote!\")\n",
    "else:\n",
    "    print(\"You are not eligible to vote!\")"
   ]
  },
  {
   "cell_type": "code",
   "execution_count": 44,
   "metadata": {},
   "outputs": [
    {
     "name": "stdout",
     "output_type": "stream",
     "text": [
      "You are eligible to vote!\n"
     ]
    }
   ],
   "source": [
    "age = int(input(\"Enter your age: \"))\n",
    "print(\"You are\", \"not eligible\" if age < 18 else \"eligible\", \"to vote!\")\n",
    "# The above is an example of \"ternary-if expression\""
   ]
  },
  {
   "cell_type": "code",
   "execution_count": 46,
   "metadata": {},
   "outputs": [
    {
     "name": "stdout",
     "output_type": "stream",
     "text": [
      "small\n"
     ]
    }
   ],
   "source": [
    "a = 1\n",
    "b = \"big\" if a > 5 else \"small\"\n",
    "print(b)"
   ]
  }
 ],
 "metadata": {
  "kernelspec": {
   "display_name": "base",
   "language": "python",
   "name": "python3"
  },
  "language_info": {
   "codemirror_mode": {
    "name": "ipython",
    "version": 3
   },
   "file_extension": ".py",
   "mimetype": "text/x-python",
   "name": "python",
   "nbconvert_exporter": "python",
   "pygments_lexer": "ipython3",
   "version": "3.11.7"
  }
 },
 "nbformat": 4,
 "nbformat_minor": 2
}
