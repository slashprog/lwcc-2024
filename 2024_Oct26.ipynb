{
 "cells": [
  {
   "cell_type": "code",
   "execution_count": null,
   "metadata": {},
   "outputs": [],
   "source": [
    "# Publish-Subscribe / Observer Pattern\n",
    "\n",
    "class NoSubscriberForEvent(Exception): pass\n",
    "\n",
    "class PubSub:\n",
    "    def __init__(self):\n",
    "        self.observers = {}\n",
    "\n",
    "    def subscribe(self, event):\n",
    "        def decorate(fn):\n",
    "            self.observers.setdefault(event, []).append(fn)\n",
    "        return decorate\n",
    "\n",
    "    def publish(self, event, *args, **kwargs):\n",
    "        if event not in self.observers:\n",
    "            raise NoSubscriberForEvent(event)\n",
    "        for fn in self.observers[event]:\n",
    "            fn(*args, **kwargs)\n",
    "        \n",
    "        \n"
   ]
  },
  {
   "cell_type": "code",
   "execution_count": null,
   "metadata": {},
   "outputs": [],
   "source": [
    "# Publish-Subscribe / Observer Pattern\n",
    "class PubSub:\n",
    "    def __init__(self):\n",
    "        self.observers = {}\n",
    "\n",
    "    def subscribe(self, event):\n",
    "        def decorate(fn):\n",
    "            if event not in self.observers:\n",
    "                self.observers[event] = []\n",
    "            self.observers[event].append(fn)\n",
    "            \n",
    "    def publish(self, event):\n",
    "        \n"
   ]
  },
  {
   "cell_type": "code",
   "execution_count": 4,
   "metadata": {},
   "outputs": [
    {
     "data": {
      "text/plain": [
       "{'a': [78, 89]}"
      ]
     },
     "execution_count": 4,
     "metadata": {},
     "output_type": "execute_result"
    }
   ],
   "source": [
    "d = {}\n",
    "d[\"a\"] = []\n",
    "d[\"a\"].append(78)\n",
    "d[\"a\"].append(89)\n",
    "d"
   ]
  },
  {
   "cell_type": "code",
   "execution_count": 23,
   "metadata": {},
   "outputs": [
    {
     "name": "stdout",
     "output_type": "stream",
     "text": [
      "{}\n",
      "{'a': [78]}\n",
      "{'a': [78, 92]}\n"
     ]
    }
   ],
   "source": [
    "d = {}\n",
    "print(d)\n",
    "\n",
    "d.setdefault(\"a\", []).append(78)\n",
    "print(d)\n",
    "\n",
    "d.setdefault(\"a\", []).append(92)\n",
    "print(d)\n"
   ]
  },
  {
   "cell_type": "code",
   "execution_count": 9,
   "metadata": {},
   "outputs": [
    {
     "ename": "KeyError",
     "evalue": "'d'",
     "output_type": "error",
     "traceback": [
      "\u001b[1;31m---------------------------------------------------------------------------\u001b[0m",
      "\u001b[1;31mKeyError\u001b[0m                                  Traceback (most recent call last)",
      "Cell \u001b[1;32mIn[9], line 2\u001b[0m\n\u001b[0;32m      1\u001b[0m d \u001b[38;5;241m=\u001b[39m {\u001b[38;5;124m\"\u001b[39m\u001b[38;5;124ma\u001b[39m\u001b[38;5;124m\"\u001b[39m: \u001b[38;5;241m67\u001b[39m, \u001b[38;5;124m\"\u001b[39m\u001b[38;5;124mb\u001b[39m\u001b[38;5;124m\"\u001b[39m: \u001b[38;5;241m23\u001b[39m, \u001b[38;5;124m\"\u001b[39m\u001b[38;5;124mc\u001b[39m\u001b[38;5;124m\"\u001b[39m: \u001b[38;5;241m89\u001b[39m}\n\u001b[1;32m----> 2\u001b[0m \u001b[43md\u001b[49m\u001b[43m[\u001b[49m\u001b[38;5;124;43m\"\u001b[39;49m\u001b[38;5;124;43md\u001b[39;49m\u001b[38;5;124;43m\"\u001b[39;49m\u001b[43m]\u001b[49m\n",
      "\u001b[1;31mKeyError\u001b[0m: 'd'"
     ]
    }
   ],
   "source": [
    "d = {\"a\": 67, \"b\": 23, \"c\": 89}\n",
    "d[\"d\"]"
   ]
  },
  {
   "cell_type": "code",
   "execution_count": 14,
   "metadata": {},
   "outputs": [
    {
     "name": "stdout",
     "output_type": "stream",
     "text": [
      "0\n",
      "{'a': 67, 'b': 23, 'c': 89}\n"
     ]
    }
   ],
   "source": [
    "d = {\"a\": 67, \"b\": 23, \"c\": 89}\n",
    "print(d.get(\"d\", 0))\n",
    "print(d)"
   ]
  },
  {
   "cell_type": "code",
   "execution_count": 20,
   "metadata": {},
   "outputs": [
    {
     "name": "stdout",
     "output_type": "stream",
     "text": [
      "0\n",
      "{'a': 67, 'b': 23, 'c': 89, 'd': 0}\n",
      "0\n",
      "{'a': 67, 'b': 23, 'c': 89, 'd': 0}\n"
     ]
    }
   ],
   "source": [
    "d = {\"a\": 67, \"b\": 23, \"c\": 89}\n",
    "print(d.setdefault(\"d\", 0))\n",
    "print(d)\n",
    "\n",
    "print(d.setdefault(\"d\", 20))\n",
    "print(d)"
   ]
  },
  {
   "cell_type": "code",
   "execution_count": 24,
   "metadata": {},
   "outputs": [],
   "source": [
    "# Publish-Subscribe / Observer Pattern\n",
    "\n",
    "class NoSubscriberForEvent(Exception): pass\n",
    "\n",
    "class PubSub:\n",
    "    def __init__(self):\n",
    "        self.observers = {}\n",
    "\n",
    "    def subscribe(self, event):\n",
    "        def decorate(fn):\n",
    "            self.observers.setdefault(event, []).append(fn)\n",
    "        return decorate\n",
    "\n",
    "    def publish(self, event, *args, **kwargs):\n",
    "        if event not in self.observers:\n",
    "            raise NoSubscriberForEvent(event)\n",
    "        for fn in self.observers[event]:\n",
    "            fn(*args, **kwargs)\n",
    "        \n",
    "        \n"
   ]
  },
  {
   "cell_type": "code",
   "execution_count": 27,
   "metadata": {},
   "outputs": [
    {
     "name": "stdout",
     "output_type": "stream",
     "text": [
      "Main program has started. Setting up connection\n",
      "initializing connection\n",
      "switching to secure line\n",
      "Connection established, logging in...\n",
      "Authenticating the user...\n",
      "Logged in, logging out...\n",
      "Cleaning up resources\n"
     ]
    }
   ],
   "source": [
    "ps = PubSub()\n",
    "\n",
    "@ps.subscribe(\"login\")\n",
    "def authenticate():\n",
    "    print(\"Authenticating the user...\")\n",
    "\n",
    "@ps.subscribe(\"connect\")\n",
    "def initialize_connection():\n",
    "    print(\"initializing connection\")\n",
    "\n",
    "@ps.subscribe(\"connect\")\n",
    "def switch_to_secure_line():\n",
    "    print(\"switching to secure line\")\n",
    "\n",
    "@ps.subscribe(\"signout\")\n",
    "def cleanup():\n",
    "    print(\"Cleaning up resources\")\n",
    "\n",
    "\n",
    "def main_app():\n",
    "    print(\"Main program has started. Setting up connection\")\n",
    "    ps.publish(\"connect\")\n",
    "    print(\"Connection established, logging in...\")\n",
    "    ps.publish(\"login\")\n",
    "    print(\"Logged in, logging out...\")\n",
    "    ps.publish(\"signout\")\n",
    "\n",
    "main_app()\n",
    "\n"
   ]
  }
 ],
 "metadata": {
  "kernelspec": {
   "display_name": "Python 3",
   "language": "python",
   "name": "python3"
  },
  "language_info": {
   "codemirror_mode": {
    "name": "ipython",
    "version": 3
   },
   "file_extension": ".py",
   "mimetype": "text/x-python",
   "name": "python",
   "nbconvert_exporter": "python",
   "pygments_lexer": "ipython3",
   "version": "3.12.5"
  }
 },
 "nbformat": 4,
 "nbformat_minor": 2
}
