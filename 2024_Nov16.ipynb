{
 "cells": [
  {
   "cell_type": "markdown",
   "metadata": {},
   "source": [
    "### LWCC  Session 49 - November 16th 2024\n",
    "\n",
    "#### Basic Web Automation in Python - Part 3\n"
   ]
  },
  {
   "cell_type": "code",
   "execution_count": null,
   "metadata": {},
   "outputs": [],
   "source": [
    "w = Weather(API_KEY)\n",
    "\n",
    "w.city = \"Pune\"  # State Pattern\n",
    "print(w.temperature, w.humidity, w.latitude, w.longitude)\n",
    "\n",
    "w.city = \"Mumbai\"\n",
    "print(w.temperature, w.humidity, w.latitude, w.longitude)\n"
   ]
  },
  {
   "cell_type": "code",
   "execution_count": null,
   "metadata": {},
   "outputs": [],
   "source": [
    "class GeneralWeatherUpdate():\n",
    "    def get_coordinates(self,city,api_key):\n",
    "        response = httpx.get(GEOCODER_URL.format(city = city, api_key = api_key))\n",
    "        rec = response.json()[0]\n",
    "        return rec[\"lat\"], rec[\"lon\"]\n",
    "   \n",
    "    def get_temperature(self,lat,lon, api_key):\n",
    "       \n",
    "        response = httpx.get(WEATHER_URL.format(lat = lat, lon = lon, api_key = api_key))\n",
    "        data = response.json()\n",
    "        return data[\"main\"][\"temp\"], data[\"main\"][\"humidity\"]\n",
    "\n",
    "class Weather():\n",
    "   \n",
    "    def init(self,api_key):\n",
    "       \n",
    "        self.api_key = api_key\n",
    "        self.city = None\n",
    "        self.state = GeneralWeatherUpdate()\n",
    "        self.lat = None\n",
    "        self.lon = None\n",
    "        self.temperature = None\n",
    "        self.humidity = None\n",
    "   \n",
    "    def set_city(self,city):\n",
    "       \n",
    "        self.city = city\n",
    "        self.update_weather()\n",
    "       \n",
    "    def update_weather(self):\n",
    "       \n",
    "        if self.state:\n",
    "            self.lat, self.lon = self.state.get_coordinates(self.city,self.api_key)\n",
    "            self.temperature, self.humidity = self.state.get_temperature(self.lat,self.lon,self.api_key)\n",
    "       \n",
    "   \n",
    "    def display_weather(self):\n",
    "       \n",
    "        print(f\"weather in {self.city}:\")\n",
    "        print(f\"Temperature: {self.temperature}°C\")\n",
    "        print(f\"Humidity: {self.humidity}%\")\n",
    "        print(f\"landitude: {self.lat}\")\n",
    "        print(f\"longitude: {self.lon}\")\n",
    "        print(f\"\")\n",
    "w = Weather(API_KEY)\n",
    "w.set_city(\"Moscow\")\n",
    "w.display_weather()\n",
    "w.set_city(\"Sydney\")\n",
    "w.display_weather()\n",
    "w.set_city(\"Bengaluru\")\n",
    "w.display_weather()\n",
    "w.set_city(\"Sathyamangalam\")\n",
    "w.display_weather()\n",
    "w.set_city(\"Valparai\")\n",
    "w.display_weather()\n",
    "w.set_city(\"Oymyakon\")\n",
    "w.display_weather()\n",
    "import httpx\n",
    "API_KEY=\"MASKED_OUT_FOR_SECURITY_REASONS\"\n",
    "GEOCODER_URL = \"http://api.openweathermap.org/geo/1.0/direct?q={city}&limit=1&appid={api_key}\"\n",
    "WEATHER_URL = \"http://api.openweathermap.org/data/2.5/weather?lat={lat}&lon={lon}&units=metric&appid={api_key}\""
   ]
  },
  {
   "cell_type": "code",
   "execution_count": null,
   "metadata": {},
   "outputs": [
    {
     "name": "stdout",
     "output_type": "stream",
     "text": [
      "Pune\n"
     ]
    }
   ],
   "source": [
    "API_KEY=\"FILL_IN_YOUR_API_KEY_HERE\"\n",
    "GEOCODER_URL = \"http://api.openweathermap.org/geo/1.0/direct\"\n",
    "#?q={city}&limit=1&appid={api_key}\"\n",
    "WEATHER_URL = \"http://api.openweathermap.org/data/2.5/weather\"\n",
    "#?lat={lat}&lon={lon}&units=metric&appid={api_key}\"\n",
    "\n",
    "import httpx\n",
    "\n",
    "class Weather:\n",
    "    def __init__(self, api_key):\n",
    "        self.__api_key = api_key\n",
    "        self.__city = None\n",
    "        self.__temperature = None\n",
    "        self.__humidity = None\n",
    "        self.__lat = self.__lon = None\n",
    "\n",
    "    @property\n",
    "    def city(self):\n",
    "        return self.__city\n",
    "    \n",
    "    @city.setter\n",
    "    def city(self, location):\n",
    "        self.__city = location\n",
    "        location_params = {\n",
    "            \"q\": location,\n",
    "            \"limit\": 1,\n",
    "            \"appid\": self.__api_key \n",
    "        }\n",
    "\n",
    "        response = httpx.get(GEOCODER_URL, params=location_params)\n",
    "        rec = response.json()[0]\n",
    "        self.__lat, self.__lon = rec[\"lat\"], rec[\"lon\"]\n",
    "\n",
    "    def __get_weather_info(self):\n",
    "        weather_params = {\n",
    "            \"lat\": self.__lat,\n",
    "            \"lon\": self.__lon,\n",
    "            \"units\": \"metric\",\n",
    "            \"appid\": self.__api_key\n",
    "        }\n",
    "        response = httpx.get(WEATHER_URL, params=weather_params)\n",
    "        rec = response.json()\n",
    "        self.__temperature = rec[\"main\"][\"temp\"]\n",
    "        self.__humidity = rec[\"main\"][\"humidity\"]\n",
    "\n",
    "    @property\n",
    "    def temperature(self):\n",
    "        self.__get_weather_info()\n",
    "        return self.__temperature\n",
    "    \n",
    "    @property\n",
    "    def humidity(self):\n",
    "        self.__get_weather_info()\n",
    "        return self.__humidity\n",
    "        \n",
    "        \n",
    "    \n",
    "    \n",
    "w = Weather(API_KEY)\n",
    "w.city = \"Pune\"\n",
    "print(w.city)\n"
   ]
  },
  {
   "cell_type": "code",
   "execution_count": 41,
   "metadata": {},
   "outputs": [
    {
     "data": {
      "text/plain": [
       "(18.521428, 73.8544541)"
      ]
     },
     "execution_count": 41,
     "metadata": {},
     "output_type": "execute_result"
    }
   ],
   "source": [
    "w._Weather__lat, w._Weather__lon"
   ]
  },
  {
   "cell_type": "code",
   "execution_count": 39,
   "metadata": {},
   "outputs": [
    {
     "data": {
      "text/plain": [
       "27.66"
      ]
     },
     "execution_count": 39,
     "metadata": {},
     "output_type": "execute_result"
    }
   ],
   "source": [
    "w.temperature"
   ]
  },
  {
   "cell_type": "code",
   "execution_count": 11,
   "metadata": {},
   "outputs": [
    {
     "name": "stdout",
     "output_type": "stream",
     "text": [
      "\u001b[1;31mSignature:\u001b[0m\n",
      "\u001b[0mhttpx\u001b[0m\u001b[1;33m.\u001b[0m\u001b[0mrequest\u001b[0m\u001b[1;33m(\u001b[0m\u001b[1;33m\n",
      "\u001b[0m    \u001b[0mmethod\u001b[0m\u001b[1;33m:\u001b[0m \u001b[1;34m'str'\u001b[0m\u001b[1;33m,\u001b[0m\u001b[1;33m\n",
      "\u001b[0m    \u001b[0murl\u001b[0m\u001b[1;33m:\u001b[0m \u001b[1;34m'URL | str'\u001b[0m\u001b[1;33m,\u001b[0m\u001b[1;33m\n",
      "\u001b[0m    \u001b[1;33m*\u001b[0m\u001b[1;33m,\u001b[0m\u001b[1;33m\n",
      "\u001b[0m    \u001b[0mparams\u001b[0m\u001b[1;33m:\u001b[0m \u001b[1;34m'QueryParamTypes | None'\u001b[0m \u001b[1;33m=\u001b[0m \u001b[1;32mNone\u001b[0m\u001b[1;33m,\u001b[0m\u001b[1;33m\n",
      "\u001b[0m    \u001b[0mcontent\u001b[0m\u001b[1;33m:\u001b[0m \u001b[1;34m'RequestContent | None'\u001b[0m \u001b[1;33m=\u001b[0m \u001b[1;32mNone\u001b[0m\u001b[1;33m,\u001b[0m\u001b[1;33m\n",
      "\u001b[0m    \u001b[0mdata\u001b[0m\u001b[1;33m:\u001b[0m \u001b[1;34m'RequestData | None'\u001b[0m \u001b[1;33m=\u001b[0m \u001b[1;32mNone\u001b[0m\u001b[1;33m,\u001b[0m\u001b[1;33m\n",
      "\u001b[0m    \u001b[0mfiles\u001b[0m\u001b[1;33m:\u001b[0m \u001b[1;34m'RequestFiles | None'\u001b[0m \u001b[1;33m=\u001b[0m \u001b[1;32mNone\u001b[0m\u001b[1;33m,\u001b[0m\u001b[1;33m\n",
      "\u001b[0m    \u001b[0mjson\u001b[0m\u001b[1;33m:\u001b[0m \u001b[1;34m'typing.Any | None'\u001b[0m \u001b[1;33m=\u001b[0m \u001b[1;32mNone\u001b[0m\u001b[1;33m,\u001b[0m\u001b[1;33m\n",
      "\u001b[0m    \u001b[0mheaders\u001b[0m\u001b[1;33m:\u001b[0m \u001b[1;34m'HeaderTypes | None'\u001b[0m \u001b[1;33m=\u001b[0m \u001b[1;32mNone\u001b[0m\u001b[1;33m,\u001b[0m\u001b[1;33m\n",
      "\u001b[0m    \u001b[0mcookies\u001b[0m\u001b[1;33m:\u001b[0m \u001b[1;34m'CookieTypes | None'\u001b[0m \u001b[1;33m=\u001b[0m \u001b[1;32mNone\u001b[0m\u001b[1;33m,\u001b[0m\u001b[1;33m\n",
      "\u001b[0m    \u001b[0mauth\u001b[0m\u001b[1;33m:\u001b[0m \u001b[1;34m'AuthTypes | None'\u001b[0m \u001b[1;33m=\u001b[0m \u001b[1;32mNone\u001b[0m\u001b[1;33m,\u001b[0m\u001b[1;33m\n",
      "\u001b[0m    \u001b[0mproxy\u001b[0m\u001b[1;33m:\u001b[0m \u001b[1;34m'ProxyTypes | None'\u001b[0m \u001b[1;33m=\u001b[0m \u001b[1;32mNone\u001b[0m\u001b[1;33m,\u001b[0m\u001b[1;33m\n",
      "\u001b[0m    \u001b[0mproxies\u001b[0m\u001b[1;33m:\u001b[0m \u001b[1;34m'ProxiesTypes | None'\u001b[0m \u001b[1;33m=\u001b[0m \u001b[1;32mNone\u001b[0m\u001b[1;33m,\u001b[0m\u001b[1;33m\n",
      "\u001b[0m    \u001b[0mtimeout\u001b[0m\u001b[1;33m:\u001b[0m \u001b[1;34m'TimeoutTypes'\u001b[0m \u001b[1;33m=\u001b[0m \u001b[0mTimeout\u001b[0m\u001b[1;33m(\u001b[0m\u001b[0mtimeout\u001b[0m\u001b[1;33m=\u001b[0m\u001b[1;36m5.0\u001b[0m\u001b[1;33m)\u001b[0m\u001b[1;33m,\u001b[0m\u001b[1;33m\n",
      "\u001b[0m    \u001b[0mfollow_redirects\u001b[0m\u001b[1;33m:\u001b[0m \u001b[1;34m'bool'\u001b[0m \u001b[1;33m=\u001b[0m \u001b[1;32mFalse\u001b[0m\u001b[1;33m,\u001b[0m\u001b[1;33m\n",
      "\u001b[0m    \u001b[0mverify\u001b[0m\u001b[1;33m:\u001b[0m \u001b[1;34m'VerifyTypes'\u001b[0m \u001b[1;33m=\u001b[0m \u001b[1;32mTrue\u001b[0m\u001b[1;33m,\u001b[0m\u001b[1;33m\n",
      "\u001b[0m    \u001b[0mcert\u001b[0m\u001b[1;33m:\u001b[0m \u001b[1;34m'CertTypes | None'\u001b[0m \u001b[1;33m=\u001b[0m \u001b[1;32mNone\u001b[0m\u001b[1;33m,\u001b[0m\u001b[1;33m\n",
      "\u001b[0m    \u001b[0mtrust_env\u001b[0m\u001b[1;33m:\u001b[0m \u001b[1;34m'bool'\u001b[0m \u001b[1;33m=\u001b[0m \u001b[1;32mTrue\u001b[0m\u001b[1;33m,\u001b[0m\u001b[1;33m\n",
      "\u001b[0m\u001b[1;33m)\u001b[0m \u001b[1;33m->\u001b[0m \u001b[1;34m'Response'\u001b[0m\u001b[1;33m\u001b[0m\u001b[1;33m\u001b[0m\u001b[0m\n",
      "\u001b[1;31mDocstring:\u001b[0m\n",
      "Sends an HTTP request.\n",
      "\n",
      "**Parameters:**\n",
      "\n",
      "* **method** - HTTP method for the new `Request` object: `GET`, `OPTIONS`,\n",
      "`HEAD`, `POST`, `PUT`, `PATCH`, or `DELETE`.\n",
      "* **url** - URL for the new `Request` object.\n",
      "* **params** - *(optional)* Query parameters to include in the URL, as a\n",
      "string, dictionary, or sequence of two-tuples.\n",
      "* **content** - *(optional)* Binary content to include in the body of the\n",
      "request, as bytes or a byte iterator.\n",
      "* **data** - *(optional)* Form data to include in the body of the request,\n",
      "as a dictionary.\n",
      "* **files** - *(optional)* A dictionary of upload files to include in the\n",
      "body of the request.\n",
      "* **json** - *(optional)* A JSON serializable object to include in the body\n",
      "of the request.\n",
      "* **headers** - *(optional)* Dictionary of HTTP headers to include in the\n",
      "request.\n",
      "* **cookies** - *(optional)* Dictionary of Cookie items to include in the\n",
      "request.\n",
      "* **auth** - *(optional)* An authentication class to use when sending the\n",
      "request.\n",
      "* **proxy** - *(optional)* A proxy URL where all the traffic should be routed.\n",
      "* **proxies** - *(optional)* A dictionary mapping proxy keys to proxy URLs.\n",
      "* **timeout** - *(optional)* The timeout configuration to use when sending\n",
      "the request.\n",
      "* **follow_redirects** - *(optional)* Enables or disables HTTP redirects.\n",
      "* **verify** - *(optional)* SSL certificates (a.k.a CA bundle) used to\n",
      "verify the identity of requested hosts. Either `True` (default CA bundle),\n",
      "a path to an SSL certificate file, an `ssl.SSLContext`, or `False`\n",
      "(which will disable verification).\n",
      "* **cert** - *(optional)* An SSL certificate used by the requested host\n",
      "to authenticate the client. Either a path to an SSL certificate file, or\n",
      "two-tuple of (certificate file, key file), or a three-tuple of (certificate\n",
      "file, key file, password).\n",
      "* **trust_env** - *(optional)* Enables or disables usage of environment\n",
      "variables for configuration.\n",
      "\n",
      "**Returns:** `Response`\n",
      "\n",
      "Usage:\n",
      "\n",
      "```\n",
      ">>> import httpx\n",
      ">>> response = httpx.request('GET', 'https://httpbin.org/get')\n",
      ">>> response\n",
      "<Response [200 OK]>\n",
      "```\n",
      "\u001b[1;31mFile:\u001b[0m      c:\\users\\chand\\appdata\\local\\programs\\python\\python312\\lib\\site-packages\\httpx\\_api.py\n",
      "\u001b[1;31mType:\u001b[0m      function"
     ]
    }
   ],
   "source": [
    "import httpx\n",
    "httpx.request?"
   ]
  },
  {
   "cell_type": "code",
   "execution_count": 51,
   "metadata": {},
   "outputs": [
    {
     "data": {
      "text/plain": [
       "<Response [200 OK]>"
      ]
     },
     "execution_count": 51,
     "metadata": {},
     "output_type": "execute_result"
    }
   ],
   "source": [
    "lat, lon = (18.521428, 73.8544541)\n",
    "weather_params = {\n",
    "    \"lat\": lat,\n",
    "    \"lon\": lon,\n",
    "    \"units\": \"metric\",\n",
    "    \"mode\": \"xml\",\n",
    "    \"appid\": API_KEY\n",
    "}\n",
    "response = httpx.get(WEATHER_URL, params=weather_params)\n",
    "response"
   ]
  },
  {
   "cell_type": "code",
   "execution_count": 52,
   "metadata": {},
   "outputs": [
    {
     "name": "stdout",
     "output_type": "stream",
     "text": [
      "server -> openresty\n",
      "date -> Sat, 16 Nov 2024 14:56:06 GMT\n",
      "content-type -> application/xml; charset=utf-8\n",
      "content-length -> 882\n",
      "connection -> keep-alive\n",
      "x-cache-key -> /data/2.5/weather?lat=18.52&lon=73.85&mode=xml&units=metric\n",
      "access-control-allow-origin -> *\n",
      "access-control-allow-credentials -> true\n",
      "access-control-allow-methods -> GET, POST\n"
     ]
    }
   ],
   "source": [
    "for k, v in response.headers.items():\n",
    "    print(f\"{k} -> {v}\")"
   ]
  },
  {
   "cell_type": "code",
   "execution_count": 54,
   "metadata": {},
   "outputs": [
    {
     "name": "stdout",
     "output_type": "stream",
     "text": [
      "<?xml version=\"1.0\" encoding=\"UTF-8\"?>\n",
      "<current><city id=\"1259229\" name=\"Pune\"><coord lon=\"73.8545\" lat=\"18.5214\"></coord><country>IN</country><timezone>19800</timezone><sun rise=\"2024-11-16T01:11:58\" set=\"2024-11-16T12:27:03\"></sun></city><temperature value=\"27.66\" min=\"27.66\" max=\"27.66\" unit=\"celsius\"></temperature><feels_like value=\"27.92\" unit=\"celsius\"></feels_like><humidity value=\"48\" unit=\"%\"></humidity><pressure value=\"1012\" unit=\"hPa\"></pressure><wind><speed value=\"0.63\" unit=\"m/s\" name=\"Calm\"></speed><gusts value=\"1.52\"></gusts><direction value=\"163\" code=\"SSE\" name=\"South-southeast\"></direction></wind><clouds value=\"89\" name=\"overcast clouds\"></clouds><visibility value=\"10000\"></visibility><precipitation mode=\"no\"></precipitation><weather number=\"804\" value=\"overcast clouds\" icon=\"04n\"></weather><lastupdate value=\"2024-11-16T14:56:06\"></lastupdate></current>\n"
     ]
    }
   ],
   "source": [
    "print(response.text)"
   ]
  },
  {
   "cell_type": "code",
   "execution_count": null,
   "metadata": {},
   "outputs": [],
   "source": [
    "\n",
    "w = Weather(API_KEY)\n",
    "\n",
    "w.city = \"Pune\"  # setattr(w, \"city\", \"Pune\") --> Weather.__setattr__(self, \"city\", \"Pune\")\n",
    "print(w.temperature, w.humidity, w.latitude, w.longitude)\n",
    "\n",
    "w.city = \"Mumbai\"\n",
    "print(w.temperature, w.humidity, w.latitude, w.longitude)\n",
    "        "
   ]
  },
  {
   "cell_type": "code",
   "execution_count": 12,
   "metadata": {},
   "outputs": [
    {
     "name": "stdout",
     "output_type": "stream",
     "text": [
      "[34, 5.6, True, {'temperature': 24.4, 'humidity': 45}, None, (11, 22, 33)]\n"
     ]
    }
   ],
   "source": [
    "a = [34, 5.6, True, {\"temperature\": 24.4, \"humidity\": 45}, None, (11, 22, 33)]\n",
    "print(a)"
   ]
  },
  {
   "cell_type": "code",
   "execution_count": 19,
   "metadata": {},
   "outputs": [
    {
     "name": "stdout",
     "output_type": "stream",
     "text": [
      "[34, 5.6, True, {'temperature': 24.4, 'humidity': 45}, None, (11, 22, 33)] <class 'list'>\n",
      "[34, 5.6, True, {'temperature': 24.4, 'humidity': 45}, None, (11, 22, 33)] <class 'str'>\n"
     ]
    }
   ],
   "source": [
    "print(a, type(a))\n",
    "b = str(a)\n",
    "print(b, type(b))"
   ]
  },
  {
   "cell_type": "code",
   "execution_count": 20,
   "metadata": {},
   "outputs": [],
   "source": [
    "outs = open(\"myfile.txt\", \"w\")\n",
    "outs.write(str(a))\n",
    "outs.close()"
   ]
  },
  {
   "cell_type": "code",
   "execution_count": 25,
   "metadata": {},
   "outputs": [
    {
     "name": "stdout",
     "output_type": "stream",
     "text": [
      "[34, 5.6, True, {'temperature': 24.4, 'humidity': 45}, None, (11, 22, 33)] <class 'str'>\n",
      "34 [\n"
     ]
    },
    {
     "data": {
      "text/plain": [
       "24.4"
      ]
     },
     "execution_count": 25,
     "metadata": {},
     "output_type": "execute_result"
    }
   ],
   "source": [
    "ins = open(\"myfile.txt\", \"r\")\n",
    "c = ins.read()\n",
    "print(c, type(c))\n",
    "print(a[0], c[0])\n",
    "a[3][\"temperature\"]"
   ]
  },
  {
   "cell_type": "code",
   "execution_count": 27,
   "metadata": {},
   "outputs": [
    {
     "data": {
      "text/plain": [
       "24.4"
      ]
     },
     "execution_count": 27,
     "metadata": {},
     "output_type": "execute_result"
    }
   ],
   "source": [
    "d = eval(c)\n",
    "d[3][\"temperature\"]"
   ]
  },
  {
   "cell_type": "code",
   "execution_count": 28,
   "metadata": {},
   "outputs": [
    {
     "name": "stdout",
     "output_type": "stream",
     "text": [
      "100\n"
     ]
    }
   ],
   "source": [
    "a = 100\n",
    "print(a)"
   ]
  },
  {
   "cell_type": "code",
   "execution_count": 31,
   "metadata": {},
   "outputs": [
    {
     "name": "stdout",
     "output_type": "stream",
     "text": [
      "{'name': 'Shivansh', 'location': 'India'} <class 'str'>\n"
     ]
    }
   ],
   "source": [
    "d = {\"name\":      \"Shivansh\", \"location\": \"India\"}\n",
    "s = str(d)\n",
    "print(s, type(s))"
   ]
  },
  {
   "cell_type": "code",
   "execution_count": 34,
   "metadata": {},
   "outputs": [
    {
     "ename": "SyntaxError",
     "evalue": "invalid syntax (<string>, line 1)",
     "output_type": "error",
     "traceback": [
      "Traceback \u001b[1;36m(most recent call last)\u001b[0m:\n",
      "\u001b[0m  File \u001b[0;32m~\\AppData\\Roaming\\Python\\Python312\\site-packages\\IPython\\core\\interactiveshell.py:3577\u001b[0m in \u001b[0;35mrun_code\u001b[0m\n    exec(code_obj, self.user_global_ns, self.user_ns)\u001b[0m\n",
      "\u001b[1;36m  Cell \u001b[1;32mIn[34], line 6\u001b[1;36m\n\u001b[1;33m    eval(s)\u001b[1;36m\n",
      "\u001b[1;36m  File \u001b[1;32m<string>:1\u001b[1;36m\u001b[0m\n\u001b[1;33m    <zip object at 0x00000224A5072F80>\u001b[0m\n\u001b[1;37m    ^\u001b[0m\n\u001b[1;31mSyntaxError\u001b[0m\u001b[1;31m:\u001b[0m invalid syntax\n"
     ]
    }
   ],
   "source": [
    "a = [11, 22, 33, 44, 55]\n",
    "b = [100, 200, 300, 400, 500]\n",
    "\n",
    "c = zip(a, b)\n",
    "s = str(c)\n",
    "eval(s)"
   ]
  },
  {
   "cell_type": "code",
   "execution_count": 37,
   "metadata": {},
   "outputs": [
    {
     "name": "stdout",
     "output_type": "stream",
     "text": [
      "[34, 5.6, true, {\"temperature\": 24.4, \"humidity\": 45}, null, [11, 22, 33]]\n",
      "[34, 5.6, True, {'temperature': 24.4, 'humidity': 45}, None, [11, 22, 33]]\n"
     ]
    }
   ],
   "source": [
    "import json\n",
    "a = [34, 5.6, True, {'temperature': 24.4, 'humidity': 45}, None, (11, 22, 33)]\n",
    "\n",
    "s = json.dumps(a)\n",
    "print(s)\n",
    "\n",
    "b = json.loads(s)\n",
    "print(b)"
   ]
  },
  {
   "cell_type": "code",
   "execution_count": 63,
   "metadata": {},
   "outputs": [
    {
     "data": {
      "text/plain": [
       "'John'"
      ]
     },
     "execution_count": 63,
     "metadata": {},
     "output_type": "execute_result"
    }
   ],
   "source": [
    "class User:\n",
    "    @property\n",
    "    def name(self):\n",
    "        return \"John\"\n",
    "    \n",
    "u = User()\n",
    "u.name"
   ]
  },
  {
   "cell_type": "code",
   "execution_count": 61,
   "metadata": {},
   "outputs": [
    {
     "ename": "TypeError",
     "evalue": "User.name() takes 1 positional argument but 2 were given",
     "output_type": "error",
     "traceback": [
      "\u001b[1;31m---------------------------------------------------------------------------\u001b[0m",
      "\u001b[1;31mTypeError\u001b[0m                                 Traceback (most recent call last)",
      "Cell \u001b[1;32mIn[61], line 6\u001b[0m\n\u001b[0;32m      3\u001b[0m         \u001b[38;5;28;01mreturn\u001b[39;00m \u001b[38;5;124m\"\u001b[39m\u001b[38;5;124mJohn\u001b[39m\u001b[38;5;124m\"\u001b[39m\n\u001b[0;32m      5\u001b[0m u \u001b[38;5;241m=\u001b[39m User()\n\u001b[1;32m----> 6\u001b[0m \u001b[43mu\u001b[49m\u001b[38;5;241;43m.\u001b[39;49m\u001b[43mname\u001b[49m\u001b[43m(\u001b[49m\u001b[38;5;241;43m56\u001b[39;49m\u001b[43m)\u001b[49m\n",
      "\u001b[1;31mTypeError\u001b[0m: User.name() takes 1 positional argument but 2 were given"
     ]
    }
   ],
   "source": [
    "class User:\n",
    "    def name(self):\n",
    "        return \"John\"\n",
    "    \n",
    "u = User()\n",
    "u.name(56)"
   ]
  },
  {
   "cell_type": "code",
   "execution_count": 59,
   "metadata": {},
   "outputs": [
    {
     "data": {
      "text/plain": [
       "'John'"
      ]
     },
     "execution_count": 59,
     "metadata": {},
     "output_type": "execute_result"
    }
   ],
   "source": [
    "class User:\n",
    "   \n",
    "    def __prop_name(self):\n",
    "        return \"John\"\n",
    "    \n",
    "    def __getattr__(self, attr):\n",
    "        if attr == \"name\":\n",
    "            return self.__prop_name()\n",
    "\n",
    "u = User()\n",
    "u.name"
   ]
  }
 ],
 "metadata": {
  "kernelspec": {
   "display_name": "Python 3",
   "language": "python",
   "name": "python3"
  },
  "language_info": {
   "codemirror_mode": {
    "name": "ipython",
    "version": 3
   },
   "file_extension": ".py",
   "mimetype": "text/x-python",
   "name": "python",
   "nbconvert_exporter": "python",
   "pygments_lexer": "ipython3",
   "version": "3.12.5"
  }
 },
 "nbformat": 4,
 "nbformat_minor": 2
}
