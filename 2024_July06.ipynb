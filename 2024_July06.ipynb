{
 "cells": [
  {
   "cell_type": "markdown",
   "metadata": {},
   "source": [
    "### Function prototypes - contd."
   ]
  },
  {
   "cell_type": "code",
   "execution_count": 3,
   "metadata": {},
   "outputs": [
    {
     "name": "stdout",
     "output_type": "stream",
     "text": [
      "Hello Sam, your score is 48\n",
      "Hello John, your score is 50\n",
      "Hello Guest, your score is 50\n",
      "Hello Guest, your score is 30\n",
      "Hello Smith, your score is 35\n"
     ]
    },
    {
     "ename": "TypeError",
     "evalue": "greet() got an unexpected keyword argument 'name'",
     "output_type": "error",
     "traceback": [
      "\u001b[0;31m---------------------------------------------------------------------------\u001b[0m",
      "\u001b[0;31mTypeError\u001b[0m                                 Traceback (most recent call last)",
      "Cell \u001b[0;32mIn[3], line 9\u001b[0m\n\u001b[1;32m      7\u001b[0m greet(score\u001b[38;5;241m=\u001b[39m\u001b[38;5;241m30\u001b[39m) \u001b[38;5;66;03m# Function call with score as keyword argument\u001b[39;00m\n\u001b[1;32m      8\u001b[0m greet(score\u001b[38;5;241m=\u001b[39m\u001b[38;5;241m35\u001b[39m, user\u001b[38;5;241m=\u001b[39m\u001b[38;5;124m\"\u001b[39m\u001b[38;5;124mSmith\u001b[39m\u001b[38;5;124m\"\u001b[39m)\n\u001b[0;32m----> 9\u001b[0m greet(name\u001b[38;5;241m=\u001b[39m\u001b[38;5;124m\"\u001b[39m\u001b[38;5;124mJohn\u001b[39m\u001b[38;5;124m\"\u001b[39m)\n",
      "\u001b[0;31mTypeError\u001b[0m: greet() got an unexpected keyword argument 'name'"
     ]
    }
   ],
   "source": [
    "def greet(user=\"Guest\", score=50):\n",
    "    print(f\"Hello {user}, your score is {score}\")\n",
    "\n",
    "greet(\"Sam\", 48)\n",
    "greet(\"John\")\n",
    "greet()\n",
    "greet(score=30) # Function call with score as keyword argument\n",
    "greet(score=35, user=\"Smith\")\n",
    "greet(name=\"John\")"
   ]
  },
  {
   "cell_type": "code",
   "execution_count": 5,
   "metadata": {},
   "outputs": [
    {
     "ename": "TypeError",
     "evalue": "add_values() takes 2 positional arguments but 6 were given",
     "output_type": "error",
     "traceback": [
      "\u001b[0;31m---------------------------------------------------------------------------\u001b[0m",
      "\u001b[0;31mTypeError\u001b[0m                                 Traceback (most recent call last)",
      "Cell \u001b[0;32mIn[5], line 6\u001b[0m\n\u001b[1;32m      3\u001b[0m \u001b[38;5;28;01mdef\u001b[39;00m \u001b[38;5;21madd_values\u001b[39m(x, y):\n\u001b[1;32m      4\u001b[0m     \u001b[38;5;28;01mreturn\u001b[39;00m x \u001b[38;5;241m+\u001b[39m y\n\u001b[0;32m----> 6\u001b[0m add_values(\u001b[38;5;241m10\u001b[39m, \u001b[38;5;241m20\u001b[39m, \u001b[38;5;241m30\u001b[39m, \u001b[38;5;241m40\u001b[39m, \u001b[38;5;241m50\u001b[39m, \u001b[38;5;241m60\u001b[39m)\n",
      "\u001b[0;31mTypeError\u001b[0m: add_values() takes 2 positional arguments but 6 were given"
     ]
    }
   ],
   "source": [
    "# Arbitrary argument-list or var-args (variable arguments)\n",
    "\n",
    "def add_values(x, y):\n",
    "    return x + y\n",
    "\n",
    "add_values(10, 20, 30, 40, 50, 60)"
   ]
  },
  {
   "cell_type": "markdown",
   "metadata": {},
   "source": [
    "#### Pure functions Vs. Functions with side-effects\n",
    "\n",
    "Pure functions are functions that do not access or depend on variables outside their \"scope\"\n",
    "\n",
    "Functions that access or manipulate variables defined outside their body (\"scope\") are also known as functions with side-effects.\n",
    "\n",
    "Best practice: Avoid functions with side-effects\n",
    "\n"
   ]
  },
  {
   "cell_type": "code",
   "execution_count": 10,
   "metadata": {},
   "outputs": [
    {
     "name": "stdout",
     "output_type": "stream",
     "text": [
      "(10, 20, 30, 40, 50) <class 'tuple'>\n"
     ]
    }
   ],
   "source": [
    "# Arbitrary argument-list or var-args (variable arguments)\n",
    "# Also called as star-args\n",
    "\n",
    "def add_values(*nums):\n",
    "    print(nums, type(nums))\n",
    "\n",
    "add_values(10, 20, 30, 40, 50)"
   ]
  },
  {
   "cell_type": "code",
   "execution_count": 11,
   "metadata": {},
   "outputs": [
    {
     "data": {
      "text/plain": [
       "150"
      ]
     },
     "execution_count": 11,
     "metadata": {},
     "output_type": "execute_result"
    }
   ],
   "source": [
    "# Arbitrary argument-list or var-args (variable arguments)\n",
    "# Also called as star-args\n",
    "\n",
    "def add_values(*nums):\n",
    "    total = 0\n",
    "    for v in nums:\n",
    "        total += v\n",
    "    return total\n",
    "\n",
    "\n",
    "add_values(10, 20, 30, 40, 50)"
   ]
  },
  {
   "cell_type": "code",
   "execution_count": 14,
   "metadata": {},
   "outputs": [
    {
     "name": "stdout",
     "output_type": "stream",
     "text": [
      "a=5, b=10, c=()\n",
      "a=1, b=2, c=(3, 4, 5, 6)\n"
     ]
    }
   ],
   "source": [
    "def testfn(a, b=10, *c):\n",
    "    print(f\"{a=}, {b=}, {c=}\")\n",
    "\n",
    "testfn(5)\n",
    "testfn(1, 2, 3, 4, 5, 6)"
   ]
  },
  {
   "cell_type": "code",
   "execution_count": 27,
   "metadata": {},
   "outputs": [
    {
     "ename": "SyntaxError",
     "evalue": "positional argument follows keyword argument (3839578675.py, line 8)",
     "output_type": "error",
     "traceback": [
      "\u001b[0;36m  Cell \u001b[0;32mIn[27], line 8\u001b[0;36m\u001b[0m\n\u001b[0;31m    testfn(1, 2, 3, 4, b=5, 6)\u001b[0m\n\u001b[0m                             ^\u001b[0m\n\u001b[0;31mSyntaxError\u001b[0m\u001b[0;31m:\u001b[0m positional argument follows keyword argument\n"
     ]
    }
   ],
   "source": [
    "def testfn(a, *c, b=10):\n",
    "    print(f\"{a=}, {b=}, {c=}\")\n",
    "\n",
    "testfn(5)\n",
    "testfn(1, 2, 3, 4, 5, 6)\n",
    "testfn(6, 7)\n",
    "testfn(6, b=7)\n",
    "testfn(1, 2, 3, 4, b=5, 6)"
   ]
  },
  {
   "cell_type": "code",
   "execution_count": 30,
   "metadata": {},
   "outputs": [
    {
     "name": "stdout",
     "output_type": "stream",
     "text": [
      "a=30, b=20\n"
     ]
    },
    {
     "ename": "TypeError",
     "evalue": "testfn() got multiple values for argument 'a'",
     "output_type": "error",
     "traceback": [
      "\u001b[0;31m---------------------------------------------------------------------------\u001b[0m",
      "\u001b[0;31mTypeError\u001b[0m                                 Traceback (most recent call last)",
      "Cell \u001b[0;32mIn[30], line 5\u001b[0m\n\u001b[1;32m      2\u001b[0m     \u001b[38;5;28mprint\u001b[39m(\u001b[38;5;124mf\u001b[39m\u001b[38;5;124m\"\u001b[39m\u001b[38;5;132;01m{\u001b[39;00ma\u001b[38;5;132;01m=}\u001b[39;00m\u001b[38;5;124m, \u001b[39m\u001b[38;5;132;01m{\u001b[39;00mb\u001b[38;5;132;01m=}\u001b[39;00m\u001b[38;5;124m\"\u001b[39m)\n\u001b[1;32m      4\u001b[0m testfn(\u001b[38;5;241m30\u001b[39m)\n\u001b[0;32m----> 5\u001b[0m testfn(\u001b[38;5;241m30\u001b[39m, a\u001b[38;5;241m=\u001b[39m\u001b[38;5;241m40\u001b[39m)\n",
      "\u001b[0;31mTypeError\u001b[0m: testfn() got multiple values for argument 'a'"
     ]
    }
   ],
   "source": [
    "def testfn(a=10, b=20):\n",
    "    print(f\"{a=}, {b=}\")\n",
    "\n",
    "testfn(30)\n",
    "testfn(30, a=40)"
   ]
  },
  {
   "cell_type": "code",
   "execution_count": 19,
   "metadata": {},
   "outputs": [
    {
     "name": "stdout",
     "output_type": "stream",
     "text": [
      "(5,) <class 'tuple'>\n"
     ]
    }
   ],
   "source": [
    "a = 5,\n",
    "print(a, type(a))"
   ]
  },
  {
   "cell_type": "code",
   "execution_count": 25,
   "metadata": {},
   "outputs": [
    {
     "name": "stdout",
     "output_type": "stream",
     "text": [
      "(10,)\n",
      "(10, 20, 30)\n",
      "()\n"
     ]
    }
   ],
   "source": [
    "def testfn(*a):\n",
    "    print(a)\n",
    "\n",
    "testfn(10)\n",
    "testfn(10, 20, 30)\n",
    "testfn()"
   ]
  },
  {
   "cell_type": "code",
   "execution_count": 26,
   "metadata": {},
   "outputs": [
    {
     "ename": "SyntaxError",
     "evalue": "invalid syntax (1860564635.py, line 1)",
     "output_type": "error",
     "traceback": [
      "\u001b[0;36m  Cell \u001b[0;32mIn[26], line 1\u001b[0;36m\u001b[0m\n\u001b[0;31m    def testfn(tuple(a)):\u001b[0m\n\u001b[0m                    ^\u001b[0m\n\u001b[0;31mSyntaxError\u001b[0m\u001b[0;31m:\u001b[0m invalid syntax\n"
     ]
    }
   ],
   "source": [
    "def testfn(tuple(a)):\n",
    "    pass\n"
   ]
  },
  {
   "cell_type": "code",
   "execution_count": 33,
   "metadata": {},
   "outputs": [
    {
     "name": "stdout",
     "output_type": "stream",
     "text": [
      "a=10, b=(20, 30), c=40\n"
     ]
    }
   ],
   "source": [
    "def testfn(a, *b, c):\n",
    "    print(f\"{a=}, {b=}, {c=}\")\n",
    "\n",
    "testfn(10, 20, 30, c=40)"
   ]
  },
  {
   "cell_type": "code",
   "execution_count": 35,
   "metadata": {},
   "outputs": [
    {
     "ename": "TypeError",
     "evalue": "testfn() takes 2 positional arguments but 4 were given",
     "output_type": "error",
     "traceback": [
      "\u001b[0;31m---------------------------------------------------------------------------\u001b[0m",
      "\u001b[0;31mTypeError\u001b[0m                                 Traceback (most recent call last)",
      "Cell \u001b[0;32mIn[35], line 4\u001b[0m\n\u001b[1;32m      1\u001b[0m \u001b[38;5;28;01mdef\u001b[39;00m \u001b[38;5;21mtestfn\u001b[39m(a, b, \u001b[38;5;241m*\u001b[39m, c, d\u001b[38;5;241m=\u001b[39m\u001b[38;5;241m40\u001b[39m):\n\u001b[1;32m      2\u001b[0m     \u001b[38;5;28mprint\u001b[39m(\u001b[38;5;124mf\u001b[39m\u001b[38;5;124m\"\u001b[39m\u001b[38;5;132;01m{\u001b[39;00ma\u001b[38;5;132;01m=}\u001b[39;00m\u001b[38;5;124m, \u001b[39m\u001b[38;5;132;01m{\u001b[39;00mb\u001b[38;5;132;01m=}\u001b[39;00m\u001b[38;5;124m, \u001b[39m\u001b[38;5;132;01m{\u001b[39;00mc\u001b[38;5;132;01m=}\u001b[39;00m\u001b[38;5;124m, \u001b[39m\u001b[38;5;132;01m{\u001b[39;00md\u001b[38;5;132;01m=}\u001b[39;00m\u001b[38;5;124m\"\u001b[39m)\n\u001b[0;32m----> 4\u001b[0m testfn(\u001b[38;5;241m10\u001b[39m, \u001b[38;5;241m20\u001b[39m, \u001b[38;5;241m30\u001b[39m, \u001b[38;5;241m40\u001b[39m)\n",
      "\u001b[0;31mTypeError\u001b[0m: testfn() takes 2 positional arguments but 4 were given"
     ]
    }
   ],
   "source": [
    "def testfn(a, b, *, c, d=40):\n",
    "    print(f\"{a=}, {b=}, {c=}, {d=}\")\n",
    "\n",
    "testfn(10, 20, 30, 40) "
   ]
  },
  {
   "cell_type": "code",
   "execution_count": 36,
   "metadata": {},
   "outputs": [
    {
     "name": "stdout",
     "output_type": "stream",
     "text": [
      "a=10, b=20, c=30, d=40\n"
     ]
    }
   ],
   "source": [
    "def testfn(a, b, *, c, d=40):\n",
    "    print(f\"{a=}, {b=}, {c=}, {d=}\")\n",
    "\n",
    "testfn(10, 20, c=30, d=40) "
   ]
  },
  {
   "cell_type": "code",
   "execution_count": 37,
   "metadata": {},
   "outputs": [],
   "source": [
    "from threading import Thread"
   ]
  },
  {
   "cell_type": "code",
   "execution_count": 42,
   "metadata": {},
   "outputs": [
    {
     "name": "stdout",
     "output_type": "stream",
     "text": [
      "a=10, b=20\n",
      "a=20, b=50\n"
     ]
    }
   ],
   "source": [
    "def testfn(*, a, b):\n",
    "    print(f\"{a=}, {b=}\")\n",
    "\n",
    "testfn(a=10, b=20)\n",
    "testfn(b=50, a=20)\n"
   ]
  }
 ],
 "metadata": {
  "kernelspec": {
   "display_name": "base",
   "language": "python",
   "name": "python3"
  },
  "language_info": {
   "codemirror_mode": {
    "name": "ipython",
    "version": 3
   },
   "file_extension": ".py",
   "mimetype": "text/x-python",
   "name": "python",
   "nbconvert_exporter": "python",
   "pygments_lexer": "ipython3",
   "version": "3.11.7"
  }
 },
 "nbformat": 4,
 "nbformat_minor": 2
}
