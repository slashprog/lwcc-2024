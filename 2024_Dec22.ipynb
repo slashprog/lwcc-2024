{
 "cells": [
  {
   "cell_type": "markdown",
   "metadata": {},
   "source": [
    "### LWCC  Session 55 - December 22nd 2024\n",
    "\n",
    "#### Basic Database Management - Overview - Part 5\n",
    "\n",
    "##### Using the ```sqlite``` tool\n"
   ]
  },
  {
   "cell_type": "markdown",
   "metadata": {},
   "source": [
    "At the Command Prompt, run 'sqlite3' after sqlite tool is installed\n",
    "\n",
    "sqlite> .help   # List all sqlite tool commands\n",
    "\n",
    "sqlite> .open databasename  # Open a database (or create if it does not exist)\n",
    "\n",
    "sqlite> .tables # List all tables in the database\n",
    "students\n",
    "\n",
    "sqlite> .schema students   # Show the CREATE TABLE command used to create the 'students' table\n"
   ]
  },
  {
   "cell_type": "markdown",
   "metadata": {
    "vscode": {
     "languageId": "plaintext"
    }
   },
   "source": [
    "##### SQLite's SQL query syntax:\n",
    "\n",
    "1. Creating a new table:\n",
    "   `CREATE TABLE students(name, score);`\n",
    "\n",
    "   Note that unlike many other SQL-compliant RDBMS, in SQLite, column types are not compulsory.\n",
    "   The default type for all columns is TEXT\n",
    "   \n"
   ]
  }
 ],
 "metadata": {
  "language_info": {
   "name": "python"
  }
 },
 "nbformat": 4,
 "nbformat_minor": 2
}
