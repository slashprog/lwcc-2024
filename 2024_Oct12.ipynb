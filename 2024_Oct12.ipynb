{
 "cells": [
  {
   "cell_type": "markdown",
   "metadata": {},
   "source": [
    "### LWCC  Session 39 - October 12th 2024\n",
    "\n",
    "#### Parameterized Decorators\n"
   ]
  },
  {
   "cell_type": "markdown",
   "metadata": {},
   "source": []
  },
  {
   "cell_type": "code",
   "execution_count": 6,
   "metadata": {},
   "outputs": [],
   "source": [
    "class ToUpper:\n",
    "    def __init__(self, fn):\n",
    "        self.fn = fn\n",
    "\n",
    "    def __call__(self):\n",
    "        return self.fn().upper()\n",
    "\n",
    "class Italics:\n",
    "    def __init__(self, fn):\n",
    "        self.fn = fn\n",
    "\n",
    "    def __call__(self):\n",
    "        return \"<i>\" + self.fn() + \"</i>\""
   ]
  },
  {
   "cell_type": "code",
   "execution_count": 7,
   "metadata": {},
   "outputs": [
    {
     "name": "stdout",
     "output_type": "stream",
     "text": [
      "HELLO, WORLD\n",
      "<i>Welcome to Python</i>\n"
     ]
    }
   ],
   "source": [
    "@ToUpper\n",
    "def greet():\n",
    "    return \"Hello, World\"\n",
    "\n",
    "@Italics\n",
    "def welcome():\n",
    "    return \"Welcome to Python\"\n",
    "\n",
    "print(greet())\n",
    "print(welcome())\n"
   ]
  },
  {
   "cell_type": "code",
   "execution_count": 8,
   "metadata": {},
   "outputs": [
    {
     "name": "stdout",
     "output_type": "stream",
     "text": [
      "<I>HELLO, WORLD</I>\n",
      "<i>WELCOME TO PYTHON</i>\n"
     ]
    }
   ],
   "source": [
    "@ToUpper\n",
    "@Italics\n",
    "def greet():\n",
    "    return \"Hello, World\"\n",
    "\n",
    "@Italics\n",
    "@ToUpper\n",
    "def welcome():\n",
    "    return \"Welcome to Python\"\n",
    "\n",
    "print(greet())\n",
    "print(welcome())\n"
   ]
  },
  {
   "cell_type": "code",
   "execution_count": 11,
   "metadata": {},
   "outputs": [
    {
     "name": "stdout",
     "output_type": "stream",
     "text": [
      "decorator function invoked: fn = <function greet at 0x0000027F0173FCE0>\n",
      "greet = <function decorator.<locals>.wrap at 0x0000027F01663D80>\n",
      "wrap function invoked.\n",
      "greet function invoked.\n",
      "HELLO, WORLD\n"
     ]
    }
   ],
   "source": [
    "# Example of class based decorator\n",
    "class Decorator:\n",
    "    def __init__(self, fn):\n",
    "        print(\"Decorator.__init__ invoked: fn =\", fn)\n",
    "        self.fn = fn\n",
    "\n",
    "    def __call__(self, *args, **kwargs):\n",
    "        print(\"Decorator.__call__ invoked.\")\n",
    "        return self.fn(*args, **kwargs)\n",
    "\n",
    "# Example of function based decorator\n",
    "def decorator(fn):\n",
    "    print(\"decorator function invoked: fn =\", fn)\n",
    "    def wrap(*args, **kwargs):\n",
    "        print(\"wrap function invoked.\")\n",
    "        return fn(*args, **kwargs).upper()\n",
    "    return wrap\n",
    "\n",
    "@decorator\n",
    "def greet():\n",
    "    print(\"greet function invoked.\")\n",
    "    return \"Hello, world\"\n",
    "\n",
    "print(\"greet =\", greet)\n",
    "print(greet())\n"
   ]
  },
  {
   "cell_type": "code",
   "execution_count": 14,
   "metadata": {},
   "outputs": [
    {
     "name": "stdout",
     "output_type": "stream",
     "text": [
      "decorate invoked: x = sdlkfsdkljfsdlk\n",
      "decorator invoked: fn = <function greet at 0x0000027F0173E520>\n",
      "start of main program\n",
      "wrap function invoked\n",
      "greet function invoked.\n"
     ]
    },
    {
     "data": {
      "text/plain": [
       "'Hello, world'"
      ]
     },
     "execution_count": 14,
     "metadata": {},
     "output_type": "execute_result"
    }
   ],
   "source": [
    "# Parameterized decorators using function based approach\n",
    "def decorate(x):\n",
    "    print(\"decorate invoked: x =\", x)\n",
    "    def decorator(fn):\n",
    "        print(\"decorator invoked: fn =\", fn)\n",
    "        def wrap(*args, **kwargs):\n",
    "            print(\"wrap function invoked\")\n",
    "            return fn()\n",
    "        return wrap\n",
    "    return decorator\n",
    "\n",
    "@decorate(\"upper\")\n",
    "def greet():\n",
    "    print(\"greet function invoked.\")\n",
    "    return \"Hello, world\"\n",
    "\n",
    "print(\"start of main program\")\n",
    "greet()\n"
   ]
  },
  {
   "cell_type": "code",
   "execution_count": 20,
   "metadata": {},
   "outputs": [
    {
     "data": {
      "text/plain": [
       "'HELLO, WORLD'"
      ]
     },
     "execution_count": 20,
     "metadata": {},
     "output_type": "execute_result"
    }
   ],
   "source": [
    "def decorate(style):\n",
    "    def decorator(fn):\n",
    "        if style == \"upper\":\n",
    "            def wrap():\n",
    "                return fn().upper()\n",
    "        elif style == \"title\":\n",
    "            def wrap():\n",
    "                return fn().title()\n",
    "        elif style == \"lower\":\n",
    "            def wrap():\n",
    "                return fn().lower()\n",
    "        else:\n",
    "            wrap = fn\n",
    "        return wrap\n",
    "    return decorator\n",
    "\n",
    "@decorate(\"upper\")\n",
    "def greet():\n",
    "    return \"Hello, world\"\n",
    "\n",
    "greet()"
   ]
  }
 ],
 "metadata": {
  "kernelspec": {
   "display_name": "Python 3",
   "language": "python",
   "name": "python3"
  },
  "language_info": {
   "codemirror_mode": {
    "name": "ipython",
    "version": 3
   },
   "file_extension": ".py",
   "mimetype": "text/x-python",
   "name": "python",
   "nbconvert_exporter": "python",
   "pygments_lexer": "ipython3",
   "version": "3.12.5"
  }
 },
 "nbformat": 4,
 "nbformat_minor": 2
}
