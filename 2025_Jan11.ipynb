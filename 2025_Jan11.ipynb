{
 "cells": [
  {
   "cell_type": "markdown",
   "metadata": {},
   "source": [
    "### LWCC  Session 56 - January 11th 2025\n",
    "\n",
    "#### Basic Database Management - Overview - Part 6\n",
    "\n",
    "##### Basic SQL queries on SQLite\n"
   ]
  }
 ],
 "metadata": {
  "language_info": {
   "name": "python"
  }
 },
 "nbformat": 4,
 "nbformat_minor": 2
}
