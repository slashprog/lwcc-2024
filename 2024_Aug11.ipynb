{
 "cells": [
  {
   "cell_type": "code",
   "execution_count": 56,
   "metadata": {},
   "outputs": [],
   "source": [
    "def parse(filename, sep=\",\"):\n",
    "    with open(filename) as u: # u = open(\"users.csv\")\n",
    "        users = {}\n",
    "        for line in u:\n",
    "            line = line.strip()\n",
    "            if not line:  # if not bool(line)\n",
    "                continue\n",
    "            u, p, f = line.split(sep)\n",
    "            rec = {\"username\": u, \"password\": p, \"fullname\": f}\n",
    "            users[u] = rec\n",
    "    return users\n"
   ]
  },
  {
   "cell_type": "code",
   "execution_count": null,
   "metadata": {},
   "outputs": [],
   "source": [
    "def parse(filename, sep=\",\"):\n",
    "    with open(filename) as u: # u = open(\"users.csv\")\n",
    "        users = {}\n",
    "        for line in u:\n",
    "            line = line.strip()\n",
    "            if not line:  # if not bool(line)\n",
    "                continue\n",
    "            u, p, f = line.split(sep)\n",
    "            rec = {\"username\": u, \"password\": p, \"fullname\": f}\n",
    "            users[u] = rec\n",
    "    return users\n"
   ]
  },
  {
   "cell_type": "code",
   "execution_count": 54,
   "metadata": {},
   "outputs": [
    {
     "data": {
      "text/plain": [
       "(str, bool)"
      ]
     },
     "execution_count": 54,
     "metadata": {},
     "output_type": "execute_result"
    }
   ],
   "source": [
    "line = \"\"\"\n",
    "\n",
    "    \n",
    "\"\"\"\n",
    "line = line.strip()\n",
    "line == False\n",
    "type(line), type(False)"
   ]
  },
  {
   "cell_type": "code",
   "execution_count": 55,
   "metadata": {},
   "outputs": [
    {
     "data": {
      "text/plain": [
       "False"
      ]
     },
     "execution_count": 55,
     "metadata": {},
     "output_type": "execute_result"
    }
   ],
   "source": [
    "10 == \"10\""
   ]
  },
  {
   "cell_type": "code",
   "execution_count": 53,
   "metadata": {},
   "outputs": [
    {
     "data": {
      "text/plain": [
       "True"
      ]
     },
     "execution_count": 53,
     "metadata": {},
     "output_type": "execute_result"
    }
   ],
   "source": []
  },
  {
   "cell_type": "code",
   "execution_count": 58,
   "metadata": {},
   "outputs": [
    {
     "data": {
      "text/plain": [
       "{'john': {'username': 'john', 'password': 'john123', 'fullname': 'John Doe'},\n",
       " 'smith': {'username': 'smith',\n",
       "  'password': 'secret',\n",
       "  'fullname': 'Adam smith'},\n",
       " 'guido': {'username': 'guido',\n",
       "  'password': 'ross123',\n",
       "  'fullname': 'Guido Van Rossum'},\n",
       " 'raymond': {'username': 'raymond',\n",
       "  'password': 'h3t1n',\n",
       "  'fullname': 'Raymond Hettinger'}}"
      ]
     },
     "execution_count": 58,
     "metadata": {},
     "output_type": "execute_result"
    }
   ],
   "source": [
    "users = parse(\"users.csv\")\n",
    "users"
   ]
  },
  {
   "cell_type": "code",
   "execution_count": 6,
   "metadata": {},
   "outputs": [
    {
     "data": {
      "text/plain": [
       "{'john': {'username': 'john',\n",
       "  'password': 'welcome123',\n",
       "  'fullname': 'John Doe'},\n",
       " 'smith': {'username': 'smith',\n",
       "  'password': 'secret',\n",
       "  'fullname': 'Adam smith'},\n",
       " 'guido': {'username': 'guido',\n",
       "  'password': 'ross123',\n",
       "  'fullname': 'Guido Van Rossum'},\n",
       " 'raymond': {'username': 'raymond',\n",
       "  'password': 'h3t1n',\n",
       "  'fullname': 'Raymond Hettinger'}}"
      ]
     },
     "execution_count": 6,
     "metadata": {},
     "output_type": "execute_result"
    }
   ],
   "source": [
    "users[\"john\"][\"password\"] = \"welcome123\"\n",
    "users"
   ]
  },
  {
   "cell_type": "code",
   "execution_count": 7,
   "metadata": {},
   "outputs": [
    {
     "data": {
      "text/plain": [
       "{'john': {'username': 'john',\n",
       "  'password': 'welcome123',\n",
       "  'fullname': 'John Doe'},\n",
       " 'smith': {'username': 'smith',\n",
       "  'password': 'secret',\n",
       "  'fullname': 'Adam smith'},\n",
       " 'guido': {'username': 'guido',\n",
       "  'password': 'ross123',\n",
       "  'fullname': 'Guido Van Rossum'},\n",
       " 'raymond': {'username': 'raymond',\n",
       "  'password': 'h3t1n',\n",
       "  'fullname': 'Raymond Hettinger'},\n",
       " 'lerdorf': {'username': 'lerdorf',\n",
       "  'password': 'raz123',\n",
       "  'fullname': 'Rasmus Lerdorf'}}"
      ]
     },
     "execution_count": 7,
     "metadata": {},
     "output_type": "execute_result"
    }
   ],
   "source": [
    "users[\"lerdorf\"] = dict(username=\"lerdorf\", password=\"raz123\", fullname=\"Rasmus Lerdorf\")\n",
    "users"
   ]
  },
  {
   "cell_type": "code",
   "execution_count": 35,
   "metadata": {},
   "outputs": [
    {
     "ename": "PermissionError",
     "evalue": "[Errno 13] Permission denied: 'users1.csv'",
     "output_type": "error",
     "traceback": [
      "\u001b[1;31m---------------------------------------------------------------------------\u001b[0m",
      "\u001b[1;31mPermissionError\u001b[0m                           Traceback (most recent call last)",
      "Input \u001b[1;32mIn [35]\u001b[0m, in \u001b[0;36m<module>\u001b[1;34m\u001b[0m\n\u001b[0;32m      3\u001b[0m         \u001b[38;5;28;01mfor\u001b[39;00m rec \u001b[38;5;129;01min\u001b[39;00m data\u001b[38;5;241m.\u001b[39mvalues():\n\u001b[0;32m      4\u001b[0m             \u001b[38;5;28mprint\u001b[39m(sep\u001b[38;5;241m.\u001b[39mjoin(rec\u001b[38;5;241m.\u001b[39mvalues()), file\u001b[38;5;241m=\u001b[39mout)\n\u001b[1;32m----> 6\u001b[0m \u001b[43mstore\u001b[49m\u001b[43m(\u001b[49m\u001b[38;5;124;43m\"\u001b[39;49m\u001b[38;5;124;43musers1.csv\u001b[39;49m\u001b[38;5;124;43m\"\u001b[39;49m\u001b[43m,\u001b[49m\u001b[43m \u001b[49m\u001b[43musers\u001b[49m\u001b[43m,\u001b[49m\u001b[43m \u001b[49m\u001b[43msep\u001b[49m\u001b[38;5;241;43m=\u001b[39;49m\u001b[38;5;124;43m\"\u001b[39;49m\u001b[38;5;130;43;01m\\t\u001b[39;49;00m\u001b[38;5;124;43m\"\u001b[39;49m\u001b[43m)\u001b[49m\n",
      "Input \u001b[1;32mIn [35]\u001b[0m, in \u001b[0;36mstore\u001b[1;34m(filename, data, sep)\u001b[0m\n\u001b[0;32m      1\u001b[0m \u001b[38;5;28;01mdef\u001b[39;00m \u001b[38;5;21mstore\u001b[39m(filename, data, \u001b[38;5;241m*\u001b[39m, sep\u001b[38;5;241m=\u001b[39m\u001b[38;5;124m\"\u001b[39m\u001b[38;5;124m,\u001b[39m\u001b[38;5;124m\"\u001b[39m):\n\u001b[1;32m----> 2\u001b[0m     \u001b[38;5;28;01mwith\u001b[39;00m \u001b[38;5;28;43mopen\u001b[39;49m\u001b[43m(\u001b[49m\u001b[43mfilename\u001b[49m\u001b[43m,\u001b[49m\u001b[43m \u001b[49m\u001b[38;5;124;43m\"\u001b[39;49m\u001b[38;5;124;43mw\u001b[39;49m\u001b[38;5;124;43m\"\u001b[39;49m\u001b[43m)\u001b[49m \u001b[38;5;28;01mas\u001b[39;00m out:\n\u001b[0;32m      3\u001b[0m         \u001b[38;5;28;01mfor\u001b[39;00m rec \u001b[38;5;129;01min\u001b[39;00m data\u001b[38;5;241m.\u001b[39mvalues():\n\u001b[0;32m      4\u001b[0m             \u001b[38;5;28mprint\u001b[39m(sep\u001b[38;5;241m.\u001b[39mjoin(rec\u001b[38;5;241m.\u001b[39mvalues()), file\u001b[38;5;241m=\u001b[39mout)\n",
      "\u001b[1;31mPermissionError\u001b[0m: [Errno 13] Permission denied: 'users1.csv'"
     ]
    }
   ],
   "source": [
    "def store(filename, data, *, sep=\",\"):\n",
    "    with open(filename, \"w\") as out:\n",
    "        for rec in data.values():\n",
    "            print(sep.join(rec.values()), file=out)\n",
    "\n",
    "store(\"users1.csv\", users, sep=\"\\t\")\n"
   ]
  },
  {
   "cell_type": "code",
   "execution_count": 60,
   "metadata": {},
   "outputs": [],
   "source": [
    "def store(filename, data, *, sep=\",\"):\n",
    "    with open(filename, \"w\") as out:\n",
    "        lines = []\n",
    "        for rec in data.values():\n",
    "            line = sep.join(rec.values())\n",
    "            lines.append(line)\n",
    "        contents = \"\\n\".join(lines)\n",
    "        out.write(contents)\n",
    "\n",
    "store(\"users1.csv\", users, sep=\",\")\n"
   ]
  },
  {
   "cell_type": "code",
   "execution_count": 85,
   "metadata": {},
   "outputs": [],
   "source": [
    "def store(filename, data, *, sep=\",\"):\n",
    "    with open(filename, \"w\") as out:\n",
    "        lines = \"\\n\".join( # Join each row with a newline\n",
    "                       sep.join(rec.values()) # John each column using sep\n",
    "                       for rec in data.values()) # For each row in data\n",
    "        \n",
    "        out.write(lines)\n",
    "        \n",
    "\n",
    "store(\"users1.csv\", users, sep=\",\")\n"
   ]
  },
  {
   "cell_type": "code",
   "execution_count": 14,
   "metadata": {},
   "outputs": [
    {
     "data": {
      "text/plain": [
       "{'john': {'username': 'john',\n",
       "  'password': 'welcome123',\n",
       "  'fullname': 'John Doe'},\n",
       " 'smith': {'username': 'smith',\n",
       "  'password': 'secret',\n",
       "  'fullname': 'Adam smith'},\n",
       " 'guido': {'username': 'guido',\n",
       "  'password': 'ross123',\n",
       "  'fullname': 'Guido Van Rossum'},\n",
       " 'raymond': {'username': 'raymond',\n",
       "  'password': 'h3t1n',\n",
       "  'fullname': 'Raymond Hettinger'},\n",
       " 'lerdorf': {'username': 'lerdorf',\n",
       "  'password': 'raz123',\n",
       "  'fullname': 'Rasmus Lerdorf'}}"
      ]
     },
     "execution_count": 14,
     "metadata": {},
     "output_type": "execute_result"
    }
   ],
   "source": [
    "users"
   ]
  },
  {
   "cell_type": "code",
   "execution_count": 15,
   "metadata": {},
   "outputs": [
    {
     "name": "stdout",
     "output_type": "stream",
     "text": [
      "john {'username': 'john', 'password': 'welcome123', 'fullname': 'John Doe'}\n",
      "smith {'username': 'smith', 'password': 'secret', 'fullname': 'Adam smith'}\n",
      "guido {'username': 'guido', 'password': 'ross123', 'fullname': 'Guido Van Rossum'}\n",
      "raymond {'username': 'raymond', 'password': 'h3t1n', 'fullname': 'Raymond Hettinger'}\n",
      "lerdorf {'username': 'lerdorf', 'password': 'raz123', 'fullname': 'Rasmus Lerdorf'}\n"
     ]
    }
   ],
   "source": [
    "for u in users:\n",
    "    print(u, users[u])"
   ]
  },
  {
   "cell_type": "code",
   "execution_count": 30,
   "metadata": {},
   "outputs": [
    {
     "name": "stdout",
     "output_type": "stream",
     "text": [
      "john,welcome123,John Doe\n",
      "smith,secret,Adam smith\n",
      "guido,ross123,Guido Van Rossum\n",
      "raymond,h3t1n,Raymond Hettinger\n",
      "lerdorf,raz123,Rasmus Lerdorf\n"
     ]
    }
   ],
   "source": [
    "for r in users.values():\n",
    "    print(\",\".join(r.values()))\n",
    "    # 'john,welcome123,John Doe'"
   ]
  },
  {
   "cell_type": "code",
   "execution_count": null,
   "metadata": {},
   "outputs": [
    {
     "name": "stdout",
     "output_type": "stream",
     "text": [
      "john,welcome123,John Doe,\n",
      "smith,secret,Adam smith,\n",
      "guido,ross123,Guido Van Rossum,\n",
      "raymond,h3t1n,Raymond Hettinger,\n",
      "lerdorf,raz123,Rasmus Lerdorf,\n"
     ]
    }
   ],
   "source": [
    "for r in users.values():\n",
    "    #print(r.values())\n",
    "    for v in r.values():\n",
    "        print(v, end=\",\")\n",
    "    print()\n",
    "    # 'john,welcome123,John Doe'"
   ]
  },
  {
   "cell_type": "code",
   "execution_count": 29,
   "metadata": {},
   "outputs": [
    {
     "data": {
      "text/plain": [
       "'john,john123,John Doe'"
      ]
     },
     "execution_count": 29,
     "metadata": {},
     "output_type": "execute_result"
    }
   ],
   "source": [
    "c = \"john\", \"john123\", \"John Doe\"\n",
    "\",\".join(c)"
   ]
  },
  {
   "cell_type": "code",
   "execution_count": 23,
   "metadata": {},
   "outputs": [
    {
     "data": {
      "text/plain": [
       "\"dict_values(['lerdorf', 'raz123', 'Rasmus Lerdorf'])\""
      ]
     },
     "execution_count": 23,
     "metadata": {},
     "output_type": "execute_result"
    }
   ],
   "source": [
    "str(r.values())"
   ]
  },
  {
   "cell_type": "code",
   "execution_count": null,
   "metadata": {},
   "outputs": [
    {
     "name": "stdout",
     "output_type": "stream",
     "text": [
      "john {'username': 'john', 'password': 'welcome123', 'fullname': 'John Doe'}\n",
      "smith {'username': 'smith', 'password': 'secret', 'fullname': 'Adam smith'}\n",
      "guido {'username': 'guido', 'password': 'ross123', 'fullname': 'Guido Van Rossum'}\n",
      "raymond {'username': 'raymond', 'password': 'h3t1n', 'fullname': 'Raymond Hettinger'}\n",
      "lerdorf {'username': 'lerdorf', 'password': 'raz123', 'fullname': 'Rasmus Lerdorf'}\n"
     ]
    }
   ],
   "source": [
    "for u in users:\n",
    "    print(u, users[u])"
   ]
  },
  {
   "cell_type": "code",
   "execution_count": null,
   "metadata": {},
   "outputs": [],
   "source": [
    "def store(filename, data, sep=\",\"):\n",
    "    with open(filename, \"w\") as out:\n",
    "        print(\"this is a test file\", file=out)\n",
    "        print(\"this is line 2\", file=out)\n",
    "        print(\"this is line 3\", file=out)\n",
    "        #out.write(\"this is another line in file\\n\")\n",
    "        #out.write(\"this is yet another line\\n\")\n",
    "\n",
    "store(\"users1.csv\", users)\n"
   ]
  },
  {
   "cell_type": "code",
   "execution_count": 36,
   "metadata": {},
   "outputs": [
    {
     "data": {
      "text/plain": [
       "{'username': 'john', 'password': 'john123', 'fullname': 'John Doe'}"
      ]
     },
     "execution_count": 36,
     "metadata": {},
     "output_type": "execute_result"
    }
   ],
   "source": [
    "rec = {\"username\": \"john\", \"password\": \"john123\", \"fullname\": \"John Doe\"}\n",
    "rec"
   ]
  },
  {
   "cell_type": "code",
   "execution_count": null,
   "metadata": {},
   "outputs": [
    {
     "data": {
      "text/plain": [
       "{'username': 'john', 'password': 'john123', 'fullname': 'John Doe'}"
      ]
     },
     "metadata": {},
     "output_type": "display_data"
    }
   ],
   "source": [
    "rec = dict(username=\"John\", password=\"john123\", fullname=\"John Doe\")\n",
    "rec"
   ]
  },
  {
   "cell_type": "code",
   "execution_count": 37,
   "metadata": {},
   "outputs": [
    {
     "name": "stdout",
     "output_type": "stream",
     "text": [
      "{'a': 10, 'b': 20, 'c': 30}\n"
     ]
    }
   ],
   "source": [
    "def testfn(**d):\n",
    "    print(d)\n",
    "\n",
    "\n",
    "testfn(a=10, b=20, c=30)"
   ]
  },
  {
   "cell_type": "code",
   "execution_count": 1,
   "metadata": {},
   "outputs": [],
   "source": [
    "from userfile import Users\n",
    "\n",
    "users = Users(\"users.csv\", sep=\",\")\n",
    "\n",
    "users.add(username=\"tim\", password=\"pete123\", fullname=\"Tim Peters\")\n",
    "\n",
    "users.modify(username=\"smith\", password=\"joe123\")\n",
    "users.modify(\"larry\", fullname=\"Larry Jones\", password=\"jones123\")\n",
    "\n",
    "users.delete(\"guido\")\n",
    "\n",
    "\n"
   ]
  }
 ],
 "metadata": {
  "kernelspec": {
   "display_name": "Python 3",
   "language": "python",
   "name": "python3"
  },
  "language_info": {
   "codemirror_mode": {
    "name": "ipython",
    "version": 3
   },
   "file_extension": ".py",
   "mimetype": "text/x-python",
   "name": "python",
   "nbconvert_exporter": "python",
   "pygments_lexer": "ipython3",
   "version": "3.10.2"
  }
 },
 "nbformat": 4,
 "nbformat_minor": 2
}
