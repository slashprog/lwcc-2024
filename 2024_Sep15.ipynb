{
 "cells": [
  {
   "cell_type": "markdown",
   "metadata": {},
   "source": [
    "### LWCC  Session 33 - September 15th 2024\n",
    "\n",
    "#### Special methods (contd.)\n",
    "#### Revisiting the getitem / setitem method"
   ]
  },
  {
   "cell_type": "code",
   "execution_count": 1,
   "metadata": {},
   "outputs": [
    {
     "name": "stdout",
     "output_type": "stream",
     "text": [
      "<__main__.SparseList object at 0x0000029E4D7C8280> 3 100\n",
      "<__main__.SparseList object at 0x0000029E4D7C8280>\n"
     ]
    }
   ],
   "source": [
    "class SparseList:\n",
    "    def __setitem__(self, i, v):\n",
    "        print(self, i, v)\n",
    "\n",
    "s = SparseList()\n",
    "s[3] = 100  # SparseList.__setitem__(s, 3, 100)\n",
    "\n",
    "print(s)"
   ]
  },
  {
   "cell_type": "code",
   "execution_count": 9,
   "metadata": {},
   "outputs": [
    {
     "ename": "IndexError",
     "evalue": "list assignment index out of range",
     "output_type": "error",
     "traceback": [
      "\u001b[1;31m---------------------------------------------------------------------------\u001b[0m",
      "\u001b[1;31mIndexError\u001b[0m                                Traceback (most recent call last)",
      "Input \u001b[1;32mIn [9]\u001b[0m, in \u001b[0;36m<module>\u001b[1;34m\u001b[0m\n\u001b[0;32m      1\u001b[0m a \u001b[38;5;241m=\u001b[39m [\u001b[38;5;241m10\u001b[39m, \u001b[38;5;241m34\u001b[39m, \u001b[38;5;241m78\u001b[39m, \u001b[38;5;241m21\u001b[39m]\n\u001b[1;32m----> 3\u001b[0m a[\u001b[38;5;241m7\u001b[39m] \u001b[38;5;241m=\u001b[39m \u001b[38;5;241m200\u001b[39m\n\u001b[0;32m      4\u001b[0m \u001b[38;5;28mprint\u001b[39m(a)\n",
      "\u001b[1;31mIndexError\u001b[0m: list assignment index out of range"
     ]
    }
   ],
   "source": [
    "a = [10, 34, 78, 21, None, None, None, 100, None, None, None, 120]\n",
    "\n",
    "a[7] = 200\n",
    "print(a)"
   ]
  },
  {
   "cell_type": "code",
   "execution_count": 30,
   "metadata": {},
   "outputs": [
    {
     "name": "stdout",
     "output_type": "stream",
     "text": [
      "<__main__.SparseList object at 0x0000029E4F5CFD00>\n",
      "100\n",
      "[None, None, None, 100, None, 34, None, None, 15]\n",
      "15 34\n",
      "None\n",
      "9\n"
     ]
    }
   ],
   "source": [
    "class SparseList:\n",
    "    def __init__(self):\n",
    "        self.data = []\n",
    "\n",
    "    def __len__(self):\n",
    "        return len(self.data)\n",
    "    \n",
    "    def __setitem__(self, i, v):\n",
    "        self.data += [None] * (i - len(self.data) + 1)\n",
    "        self.data[i] = v\n",
    "\n",
    "    def __getitem__(self, i):\n",
    "        if i >= len(self.data):\n",
    "            return None\n",
    "        else:\n",
    "            return self.data[i]\n",
    "        \n",
    "    def __iter__(self):\n",
    "\n",
    "            \n",
    "s = SparseList()\n",
    "s[3] = 100  # SparseList.__setitem__(s, 3, 100)\n",
    "s[8] = 15\n",
    "s[5] = 34\n",
    "\n",
    "print(s)\n",
    "print(s[3])\n",
    "print(s.data)\n",
    "print(s[8], s[5])\n",
    "\n",
    "print(s[20])\n",
    "\n",
    "print(len(s))\n",
    "\n",
    "for v in s:\n",
    "    "
   ]
  },
  {
   "cell_type": "code",
   "execution_count": 11,
   "metadata": {},
   "outputs": [
    {
     "name": "stdout",
     "output_type": "stream",
     "text": [
      "[10, 20, 30] 3\n",
      "[10, 20, 30, None, None, None, None, None, None, None] 10\n"
     ]
    }
   ],
   "source": [
    "a = [10, 20, 30]\n",
    "print(a, len(a))\n",
    "\n",
    "idx = 10\n",
    "\n",
    "for i in range(len(a), idx):\n",
    "    a.append(None)\n",
    "print(a, len(a))"
   ]
  },
  {
   "cell_type": "code",
   "execution_count": 17,
   "metadata": {},
   "outputs": [
    {
     "name": "stdout",
     "output_type": "stream",
     "text": [
      "[10, 20, 30] 3\n",
      "[10, 20, 30] 3\n"
     ]
    }
   ],
   "source": [
    "a = [10, 20, 30]\n",
    "print(a, len(a))\n",
    "\n",
    "idx = 10\n",
    "\n",
    "a += [None] * (idx - 20)\n",
    "print(a, len(a))\n"
   ]
  },
  {
   "cell_type": "code",
   "execution_count": 19,
   "metadata": {},
   "outputs": [
    {
     "data": {
      "text/plain": [
       "[]"
      ]
     },
     "execution_count": 19,
     "metadata": {},
     "output_type": "execute_result"
    }
   ],
   "source": [
    "[10] * -3"
   ]
  },
  {
   "cell_type": "code",
   "execution_count": 41,
   "metadata": {},
   "outputs": [
    {
     "name": "stdout",
     "output_type": "stream",
     "text": [
      "None\n",
      "None\n",
      "None\n",
      "30\n",
      "None\n",
      "None\n",
      "None\n",
      "None\n",
      "87\n",
      "None\n",
      "None\n",
      "None\n",
      "None\n",
      "None\n",
      "None\n"
     ]
    }
   ],
   "source": [
    "class SparseList:\n",
    "    def __init__(self):\n",
    "        self.data = []\n",
    "\n",
    "    def __len__(self):\n",
    "        return len(self.data)\n",
    "    \n",
    "    def __setitem__(self, i, v):\n",
    "        self.data += [None] * (i - len(self.data) + 1)\n",
    "        self.data[i] = v\n",
    "\n",
    "    def __getitem__(self, i):\n",
    "        if i >= len(self.data):\n",
    "            return None\n",
    "        else:\n",
    "            return self.data[i]\n",
    "    \n",
    "    def __iter__(self):\n",
    "        self.i = 0\n",
    "        return self\n",
    "\n",
    "    def __next__(self):\n",
    "        i = self.i\n",
    "        self.i += 1\n",
    "        if self.i >= len(self):\n",
    "            raise StopIteration()\n",
    "        else:\n",
    "            return self[i]\n",
    "        \n",
    "            \n",
    "s = SparseList()\n",
    "s[3] = 30\n",
    "s[8] = 87\n",
    "s[15] = 32\n",
    "\n",
    "for v in s:\n",
    "    print(v)\n"
   ]
  },
  {
   "cell_type": "code",
   "execution_count": null,
   "metadata": {},
   "outputs": [],
   "source": [
    "\n",
    "iterator = iter(s)\n",
    "\n",
    "try:\n",
    "    while True:\n",
    "        v = next(iterator) # iterator.__next__()\n",
    "        print(v)\n",
    "except StopIteration: \n",
    "    pass\n"
   ]
  },
  {
   "cell_type": "code",
   "execution_count": 42,
   "metadata": {},
   "outputs": [
    {
     "data": {
      "text/plain": [
       "<list_iterator at 0x29e4f82dea0>"
      ]
     },
     "execution_count": 42,
     "metadata": {},
     "output_type": "execute_result"
    }
   ],
   "source": [
    "a = [10, 20, 30, 40, 50]\n",
    "\n",
    "b = iter(a)\n",
    "b"
   ]
  },
  {
   "cell_type": "code",
   "execution_count": 48,
   "metadata": {},
   "outputs": [
    {
     "ename": "StopIteration",
     "evalue": "",
     "output_type": "error",
     "traceback": [
      "\u001b[1;31m---------------------------------------------------------------------------\u001b[0m",
      "\u001b[1;31mStopIteration\u001b[0m                             Traceback (most recent call last)",
      "Input \u001b[1;32mIn [48]\u001b[0m, in \u001b[0;36m<module>\u001b[1;34m\u001b[0m\n\u001b[1;32m----> 1\u001b[0m \u001b[38;5;28;43mnext\u001b[39;49m\u001b[43m(\u001b[49m\u001b[43mb\u001b[49m\u001b[43m)\u001b[49m\n",
      "\u001b[1;31mStopIteration\u001b[0m: "
     ]
    }
   ],
   "source": [
    "next(b)"
   ]
  }
 ],
 "metadata": {
  "kernelspec": {
   "display_name": "Python 3",
   "language": "python",
   "name": "python3"
  },
  "language_info": {
   "codemirror_mode": {
    "name": "ipython",
    "version": 3
   },
   "file_extension": ".py",
   "mimetype": "text/x-python",
   "name": "python",
   "nbconvert_exporter": "python",
   "pygments_lexer": "ipython3",
   "version": "3.10.2"
  }
 },
 "nbformat": 4,
 "nbformat_minor": 2
}
