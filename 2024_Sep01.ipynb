{
 "cells": [
  {
   "cell_type": "markdown",
   "metadata": {},
   "source": [
    "### LWCC  Session 29 - September 1st 2024\n",
    "\n",
    "#### Special methods (contd.)"
   ]
  },
  {
   "cell_type": "code",
   "execution_count": 5,
   "metadata": {},
   "outputs": [
    {
     "name": "stdout",
     "output_type": "stream",
     "text": [
      "John 25 56.7\n"
     ]
    },
    {
     "data": {
      "text/plain": [
       "45"
      ]
     },
     "execution_count": 5,
     "metadata": {},
     "output_type": "execute_result"
    }
   ],
   "source": [
    "class User:\n",
    "    def __init__(self, name, score, age):\n",
    "        self.name, self.score, self.age = name, score, age\n",
    "\n",
    "    def __str__(self):\n",
    "        return self.name\n",
    "    \n",
    "    def __int__(self):\n",
    "        return self.age\n",
    "    \n",
    "    def __float__(self):\n",
    "        return self.score\n",
    "    \n",
    "    def __bool__(self):\n",
    "        return self.age >= 18\n",
    "    \n",
    "u = User(\"John\", 56.7, 25)\n",
    "print(str(u), int(u), float(u))\n",
    "\n",
    "int(u) + 20"
   ]
  },
  {
   "cell_type": "code",
   "execution_count": 10,
   "metadata": {},
   "outputs": [
    {
     "name": "stdout",
     "output_type": "stream",
     "text": [
      "John is not old enough to vote\n"
     ]
    }
   ],
   "source": [
    "u = User(\"John\", 3.4, 15)\n",
    "\n",
    "if u:\n",
    "    print(u, \"is old enough to vote\")\n",
    "else:\n",
    "    print(u, \"is not old enough to vote\" )"
   ]
  },
  {
   "cell_type": "code",
   "execution_count": 12,
   "metadata": {},
   "outputs": [
    {
     "data": {
      "text/plain": [
       "False"
      ]
     },
     "execution_count": 12,
     "metadata": {},
     "output_type": "execute_result"
    }
   ],
   "source": [
    "bool(u)\n",
    "u.__bool__()"
   ]
  },
  {
   "cell_type": "code",
   "execution_count": 15,
   "metadata": {},
   "outputs": [
    {
     "name": "stdout",
     "output_type": "stream",
     "text": [
      "Failed\n"
     ]
    }
   ],
   "source": [
    "class Student:\n",
    "    def __init__(self, n, p, m, c):\n",
    "        self.n, self.p, self.m, self.c = n, p, m, c\n",
    "\n",
    "    def __bool__(self):\n",
    "        return self.p > 50 and self.m > 50 and self.c > 50\n",
    "    \n",
    "\n",
    "s = Student(\"Smith\", 67, 20, 78)\n",
    "if s:\n",
    "    print(\"Passed\")\n",
    "else:\n",
    "    print(\"Failed\")\n",
    "            \n"
   ]
  },
  {
   "cell_type": "code",
   "execution_count": 22,
   "metadata": {},
   "outputs": [
    {
     "name": "stdout",
     "output_type": "stream",
     "text": [
      "<Car make='Maruti'> <Car make='Suzuki'>\n",
      "<Car make='Maruti Suzuki'>\n"
     ]
    }
   ],
   "source": [
    "class Car:\n",
    "    def __init__(self, make):\n",
    "        self.make = make\n",
    "\n",
    "    def __str__(self):\n",
    "        return f\"<Car make='{self.make}'>\"\n",
    "    \n",
    "    def __add__(self, other):\n",
    "        return Car(self.make + \" \" + other.make)\n",
    "\n",
    "c1 = Car(\"Maruti\")\n",
    "c2 = Car(\"Suzuki\")\n",
    "print(c1, c2)\n",
    "c3 = c1 + c2 # c1.__add__(c2) # Car.__add__(c1, c2)\n",
    "print(c3)"
   ]
  },
  {
   "cell_type": "code",
   "execution_count": 28,
   "metadata": {},
   "outputs": [
    {
     "name": "stdout",
     "output_type": "stream",
     "text": [
      "<__main__.Test object at 0x000001EB44A58220>\n",
      "In testfn: x=<__main__.Test object at 0x000001EB44A58220>, y=10\n"
     ]
    }
   ],
   "source": [
    "class Test:\n",
    "    def testfn(x, y):\n",
    "        print(f\"In testfn: {x=}, {y=}\")\n",
    "\n",
    "t = Test()\n",
    "print(t)\n",
    "t.testfn(10)"
   ]
  },
  {
   "cell_type": "code",
   "execution_count": 37,
   "metadata": {},
   "outputs": [
    {
     "name": "stdout",
     "output_type": "stream",
     "text": [
      "10 20\n",
      "self=10, other=20\n",
      "self=10, other=20\n",
      "30\n"
     ]
    }
   ],
   "source": [
    "class Num:\n",
    "    def __init__(self, v):\n",
    "        self.v = v\n",
    "\n",
    "    def __repr__(self): \n",
    "        return str(self.v)\n",
    "    \n",
    "    def __add__(self, other):\n",
    "        print(f\"{self=}, {other=}\")\n",
    "        return Num(self.v + other.v)\n",
    "\n",
    "x = Num(10)\n",
    "y = Num(20)\n",
    "print(x, y)\n",
    "x.__add__(y) # Num.add(x, y)\n",
    "z = x + y\n",
    "print(z)\n"
   ]
  },
  {
   "cell_type": "code",
   "execution_count": 39,
   "metadata": {},
   "outputs": [
    {
     "name": "stdout",
     "output_type": "stream",
     "text": [
      "<__main__.Test object at 0x000001EB44971360>\n"
     ]
    }
   ],
   "source": [
    "class Test:\n",
    "    pass\n",
    "\n",
    "t = Test()\n",
    "print(t)"
   ]
  },
  {
   "cell_type": "code",
   "execution_count": 42,
   "metadata": {},
   "outputs": [
    {
     "data": {
      "text/plain": [
       "object"
      ]
     },
     "execution_count": 42,
     "metadata": {},
     "output_type": "execute_result"
    }
   ],
   "source": [
    "Test.__base__"
   ]
  },
  {
   "cell_type": "markdown",
   "metadata": {},
   "source": [
    "#### Data model methods / attributes:\n",
    "\n",
    "##### Emulating numeric types:\n",
    "   - `__add__() +`, `__sub__() -`, `__mul__() *`, `__truediv__() /`, `__floordiv__() //`, `__pow__() **`, `__mod__() %`\n",
    "   - `__eq__() ==`, `__ne__() !=`, `__gt__() >`, `__lt__() <`, `__ge__() >=`, `__le__() <=`\n",
    "   - `__or__() |`, `__and__() &`, `__xor__() ^`, `__lshift__() <<`, `__rshift__() >>`, `__invert__() ~`\n"
   ]
  },
  {
   "cell_type": "markdown",
   "metadata": {},
   "source": [
    "** More on data model methods in https://docs.python.org/3/reference/datamodel.html#special-method-names **"
   ]
  },
  {
   "cell_type": "code",
   "execution_count": 51,
   "metadata": {},
   "outputs": [
    {
     "name": "stdout",
     "output_type": "stream",
     "text": [
      "1/2 1/4\n",
      "3/4\n"
     ]
    }
   ],
   "source": [
    "class Fraction:\n",
    "    def __init__(self, numerator, denominator):\n",
    "        self.n, self.d = numerator, denominator\n",
    "        self.__simplify()\n",
    "\n",
    "    def __simplify(self):\n",
    "        x, y = self.n, self.d\n",
    "        while y:\n",
    "            x, y = y, x % y\n",
    "        self.n //= x\n",
    "        self.d //= x\n",
    "\n",
    "    def __str__(self):\n",
    "        return f\"{self.n}/{self.d}\"\n",
    "\n",
    "    def __add__(a, b):\n",
    "        return Fraction(a.n * b.d + b.n * a.d, a.d * b.d)\n",
    "\n",
    "a = Fraction(50, 100) # 1/2\n",
    "b = Fraction(16, 64)\n",
    "print(a, b) # 1/2\n",
    "\n",
    "print(a + b)\n",
    "print(a - b)\n",
    "print(a * b)\n",
    "print(a / b)\n",
    "\n",
    "print(a > b)   # True\n",
    "print(a < b)   # False\n",
    "print(a == b)  # False\n",
    "\n"
   ]
  },
  {
   "cell_type": "code",
   "execution_count": 62,
   "metadata": {},
   "outputs": [
    {
     "data": {
      "text/plain": [
       "<sqlite3.Connection at 0x1eb42f59840>"
      ]
     },
     "execution_count": 62,
     "metadata": {},
     "output_type": "execute_result"
    }
   ],
   "source": [
    "import sqlite3\n",
    "\n",
    "conn = sqlite3.connect(\"testdb\")\n",
    "conn"
   ]
  },
  {
   "cell_type": "code",
   "execution_count": 63,
   "metadata": {},
   "outputs": [
    {
     "data": {
      "text/plain": [
       "<sqlite3.Cursor at 0x1eb42f46fc0>"
      ]
     },
     "execution_count": 63,
     "metadata": {},
     "output_type": "execute_result"
    }
   ],
   "source": [
    "cursor = conn.cursor()\n",
    "cursor"
   ]
  },
  {
   "cell_type": "code",
   "execution_count": 55,
   "metadata": {},
   "outputs": [
    {
     "ename": "OperationalError",
     "evalue": "table users already exists",
     "output_type": "error",
     "traceback": [
      "\u001b[1;31m---------------------------------------------------------------------------\u001b[0m",
      "\u001b[1;31mOperationalError\u001b[0m                          Traceback (most recent call last)",
      "Input \u001b[1;32mIn [55]\u001b[0m, in \u001b[0;36m<module>\u001b[1;34m\u001b[0m\n\u001b[1;32m----> 1\u001b[0m \u001b[43mcursor\u001b[49m\u001b[38;5;241;43m.\u001b[39;49m\u001b[43mexecute\u001b[49m\u001b[43m(\u001b[49m\u001b[38;5;124;43m\"\u001b[39;49m\u001b[38;5;124;43mCREATE TABLE users(name VARCHAR(32), password VARCHAR(32), fullname VARCHAR(32))\u001b[39;49m\u001b[38;5;124;43m\"\u001b[39;49m\u001b[43m)\u001b[49m\n",
      "\u001b[1;31mOperationalError\u001b[0m: table users already exists"
     ]
    }
   ],
   "source": [
    "cursor.execute(\"CREATE TABLE users(name VARCHAR(32), password VARCHAR(32), fullname VARCHAR(32))\")"
   ]
  },
  {
   "cell_type": "code",
   "execution_count": 56,
   "metadata": {},
   "outputs": [
    {
     "data": {
      "text/plain": [
       "{'john': {'username': 'john', 'password': 'john123', 'fullname': 'John Doe'},\n",
       " 'smith': {'username': 'smith',\n",
       "  'password': 'secret',\n",
       "  'fullname': 'Adam smith'},\n",
       " 'guido': {'username': 'guido',\n",
       "  'password': 'secret123',\n",
       "  'fullname': 'Guido Van Rossum'},\n",
       " 'raymond': {'username': 'raymond',\n",
       "  'password': 'h3t1n',\n",
       "  'fullname': 'Raymond Hettinger'},\n",
       " 'steve': {'username': 'steve',\n",
       "  'password': 'welcome123',\n",
       "  'fullname': 'Stephen Bourne'},\n",
       " 'larry': {'username': 'larry',\n",
       "  'password': 'walls123',\n",
       "  'fullname': 'Larry Walls'}}"
      ]
     },
     "execution_count": 56,
     "metadata": {},
     "output_type": "execute_result"
    }
   ],
   "source": [
    "def parse_users(filename):\n",
    "    users = {}\n",
    "    with open(filename) as u:\n",
    "        for line in u:\n",
    "            line = line.strip()\n",
    "            if not line:  # if not bool(line)\n",
    "                continue\n",
    "            u, p, f = line.split(\",\")\n",
    "            rec = {\"username\": u, \"password\": p, \"fullname\": f}\n",
    "            users[u] = rec\n",
    "    return users\n",
    "\n",
    "users = parse_users(\"users.csv\")\n",
    "users"
   ]
  },
  {
   "cell_type": "code",
   "execution_count": 57,
   "metadata": {},
   "outputs": [],
   "source": [
    "insert_sql = \"INSERT INTO users(name, password, fullname) VALUES(?, ?, ?)\"\n",
    "\n",
    "for rec in users.values():\n",
    "    cursor.execute(insert_sql, tuple(rec.values()))\n"
   ]
  },
  {
   "cell_type": "code",
   "execution_count": 67,
   "metadata": {},
   "outputs": [
    {
     "ename": "ProgrammingError",
     "evalue": "Cannot operate on a closed database.",
     "output_type": "error",
     "traceback": [
      "\u001b[1;31m---------------------------------------------------------------------------\u001b[0m",
      "\u001b[1;31mProgrammingError\u001b[0m                          Traceback (most recent call last)",
      "Input \u001b[1;32mIn [67]\u001b[0m, in \u001b[0;36m<module>\u001b[1;34m\u001b[0m\n\u001b[1;32m----> 1\u001b[0m \u001b[43mconn\u001b[49m\u001b[38;5;241;43m.\u001b[39;49m\u001b[43mcommit\u001b[49m\u001b[43m(\u001b[49m\u001b[43m)\u001b[49m\n\u001b[0;32m      2\u001b[0m conn\u001b[38;5;241m.\u001b[39mclose()\n",
      "\u001b[1;31mProgrammingError\u001b[0m: Cannot operate on a closed database."
     ]
    }
   ],
   "source": [
    "conn.commit()\n",
    "conn.close()"
   ]
  },
  {
   "cell_type": "code",
   "execution_count": 64,
   "metadata": {},
   "outputs": [
    {
     "name": "stdout",
     "output_type": "stream",
     "text": [
      "('john', 'john123', 'John Doe')\n",
      "('smith', 'secret', 'Adam smith')\n",
      "('guido', 'secret123', 'Guido Van Rossum')\n",
      "('raymond', 'h3t1n', 'Raymond Hettinger')\n",
      "('steve', 'welcome123', 'Stephen Bourne')\n",
      "('larry', 'walls123', 'Larry Walls')\n"
     ]
    }
   ],
   "source": [
    "cursor.execute(\"SELECT * FROM users\")\n",
    "for rec in cursor:\n",
    "    print(rec)"
   ]
  },
  {
   "cell_type": "code",
   "execution_count": 65,
   "metadata": {},
   "outputs": [
    {
     "ename": "TypeError",
     "evalue": "object of type 'sqlite3.Cursor' has no len()",
     "output_type": "error",
     "traceback": [
      "\u001b[1;31m---------------------------------------------------------------------------\u001b[0m",
      "\u001b[1;31mTypeError\u001b[0m                                 Traceback (most recent call last)",
      "Input \u001b[1;32mIn [65]\u001b[0m, in \u001b[0;36m<module>\u001b[1;34m\u001b[0m\n\u001b[1;32m----> 1\u001b[0m \u001b[38;5;28;43mlen\u001b[39;49m\u001b[43m(\u001b[49m\u001b[43mcursor\u001b[49m\u001b[43m)\u001b[49m\n",
      "\u001b[1;31mTypeError\u001b[0m: object of type 'sqlite3.Cursor' has no len()"
     ]
    }
   ],
   "source": [
    "len(cursor)"
   ]
  },
  {
   "cell_type": "code",
   "execution_count": null,
   "metadata": {},
   "outputs": [],
   "source": [
    "Fraction(33, 99)\n",
    "# 1/3\n"
   ]
  }
 ],
 "metadata": {
  "kernelspec": {
   "display_name": "Python 3",
   "language": "python",
   "name": "python3"
  },
  "language_info": {
   "codemirror_mode": {
    "name": "ipython",
    "version": 3
   },
   "file_extension": ".py",
   "mimetype": "text/x-python",
   "name": "python",
   "nbconvert_exporter": "python",
   "pygments_lexer": "ipython3",
   "version": "3.10.2"
  }
 },
 "nbformat": 4,
 "nbformat_minor": 2
}
