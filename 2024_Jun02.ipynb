{
 "cells": [
  {
   "cell_type": "markdown",
   "metadata": {},
   "source": [
    "### LWCC - Level 2"
   ]
  },
  {
   "cell_type": "code",
   "execution_count": 7,
   "metadata": {},
   "outputs": [
    {
     "data": {
      "text/plain": [
       "False"
      ]
     },
     "execution_count": 7,
     "metadata": {},
     "output_type": "execute_result"
    }
   ],
   "source": [
    "def perfect_square(n):\n",
    "    return not ((n ** 0.5) - int(n ** 0.5))\n",
    "\n",
    "perfect_square(1000) "
   ]
  },
  {
   "cell_type": "code",
   "execution_count": 12,
   "metadata": {},
   "outputs": [
    {
     "name": "stdout",
     "output_type": "stream",
     "text": [
      "64 is a perfect square\n"
     ]
    }
   ],
   "source": [
    "def is_perfect_square(n):\n",
    "    return (n ** 0.5) == int(n ** 0.5)\n",
    "\n",
    "n = int(input(\"Enter a number: \"))\n",
    "if is_perfect_square(n):\n",
    "    print(n, \"is a perfect square\")\n",
    "else:\n",
    "    print(n, \"is not a perfect square\")"
   ]
  },
  {
   "cell_type": "code",
   "execution_count": null,
   "metadata": {},
   "outputs": [
    {
     "name": "stdout",
     "output_type": "stream",
     "text": [
      "64 is a perfect square\n"
     ]
    }
   ],
   "source": [
    "def is_perfect_square(n):\n",
    "    return (n ** 0.5) == int(n ** 0.5)\n",
    "\n",
    "n = int(input(\"Enter a number: \"))\n",
    "print(n, \"is a\" if is_perfect_square(n) else \"is not a\", \"perfect square\")\n"
   ]
  },
  {
   "cell_type": "code",
   "execution_count": 15,
   "metadata": {},
   "outputs": [
    {
     "ename": "ValueError",
     "evalue": "invalid literal for int() with base 10: '10a45'",
     "output_type": "error",
     "traceback": [
      "\u001b[0;31m---------------------------------------------------------------------------\u001b[0m",
      "\u001b[0;31mValueError\u001b[0m                                Traceback (most recent call last)",
      "Cell \u001b[0;32mIn[15], line 10\u001b[0m\n\u001b[1;32m      6\u001b[0m         t \u001b[38;5;241m+\u001b[39m\u001b[38;5;241m=\u001b[39m \u001b[38;5;28mint\u001b[39m(c) \u001b[38;5;241m*\u001b[39m\u001b[38;5;241m*\u001b[39m l\n\u001b[1;32m      8\u001b[0m     \u001b[38;5;28;01mreturn\u001b[39;00m t \u001b[38;5;241m==\u001b[39m n\n\u001b[0;32m---> 10\u001b[0m n \u001b[38;5;241m=\u001b[39m \u001b[38;5;28mint\u001b[39m(\u001b[38;5;28minput\u001b[39m(\u001b[38;5;124m\"\u001b[39m\u001b[38;5;124mEnter a number: \u001b[39m\u001b[38;5;124m\"\u001b[39m))\n\u001b[1;32m     11\u001b[0m \u001b[38;5;28;01mif\u001b[39;00m is_armstrong_number(n):\n\u001b[1;32m     12\u001b[0m     \u001b[38;5;28mprint\u001b[39m(n, \u001b[38;5;124m\"\u001b[39m\u001b[38;5;124mis an armstrong number\u001b[39m\u001b[38;5;124m\"\u001b[39m)\n",
      "\u001b[0;31mValueError\u001b[0m: invalid literal for int() with base 10: '10a45'"
     ]
    }
   ],
   "source": [
    "def is_armstrong_number(n):\n",
    "    s = str(n)\n",
    "    l = len(s)\n",
    "    t = 0\n",
    "    for c in s: # iteration\n",
    "        t += int(c) ** l\n",
    "    \n",
    "    return t == n\n",
    "\n",
    "n = int(input(\"Enter a number: \"))\n",
    "if is_armstrong_number(n):\n",
    "    print(n, \"is an armstrong number\")\n",
    "else:\n",
    "    print(n, \"is not an armstrong number\")"
   ]
  },
  {
   "cell_type": "code",
   "execution_count": null,
   "metadata": {},
   "outputs": [],
   "source": [
    "# The \"while\" loop and the \"for\" loop\n",
    "# For deterministic iteration, use a 'for' loop\n",
    "# For non-deterministic (though conditional) iteration, use a 'while' loop\n"
   ]
  },
  {
   "cell_type": "code",
   "execution_count": 16,
   "metadata": {},
   "outputs": [
    {
     "name": "stdout",
     "output_type": "stream",
     "text": [
      "Counting 0\n",
      "Counting 1\n",
      "Counting 2\n",
      "Counting 3\n",
      "Counting 4\n",
      "Counting 5\n",
      "Counting 6\n",
      "Counting 7\n",
      "Counting 8\n",
      "Counting 9\n"
     ]
    }
   ],
   "source": [
    "for i in range(10): # Counting iteration\n",
    "    print(\"Counting\", i)"
   ]
  },
  {
   "cell_type": "code",
   "execution_count": 17,
   "metadata": {},
   "outputs": [
    {
     "name": "stdout",
     "output_type": "stream",
     "text": [
      "22\n",
      "34\n",
      "54\n",
      "78\n"
     ]
    }
   ],
   "source": [
    "# Iterating over a collection\n",
    "\n",
    "values = 22, 34, 54, 78\n",
    "for v in values:\n",
    "    print(v)"
   ]
  },
  {
   "cell_type": "code",
   "execution_count": 18,
   "metadata": {},
   "outputs": [
    {
     "name": "stdout",
     "output_type": "stream",
     "text": [
      "h\n",
      "e\n",
      "l\n",
      "l\n",
      "o\n"
     ]
    }
   ],
   "source": [
    "s = \"hello\"\n",
    "for c in s:\n",
    "    print(c)"
   ]
  },
  {
   "cell_type": "code",
   "execution_count": 19,
   "metadata": {},
   "outputs": [
    {
     "name": "stdout",
     "output_type": "stream",
     "text": [
      "10\n",
      "11\n",
      "12\n",
      "13\n",
      "14\n",
      "15\n",
      "16\n",
      "17\n",
      "18\n",
      "19\n"
     ]
    }
   ],
   "source": [
    "for i in range(10, 20):\n",
    "    print(i)"
   ]
  },
  {
   "cell_type": "code",
   "execution_count": 20,
   "metadata": {},
   "outputs": [
    {
     "name": "stdout",
     "output_type": "stream",
     "text": [
      "10\n",
      "15\n",
      "20\n",
      "25\n",
      "30\n",
      "35\n",
      "40\n",
      "45\n"
     ]
    }
   ],
   "source": [
    "for i in range(10, 50, 5):\n",
    "    print(i)"
   ]
  },
  {
   "cell_type": "code",
   "execution_count": 21,
   "metadata": {},
   "outputs": [
    {
     "name": "stdout",
     "output_type": "stream",
     "text": [
      "286\n"
     ]
    }
   ],
   "source": [
    "total = 0\n",
    "while (n := int(input(\"Enter a value (or 0 to stop): \"))) != 0:\n",
    "    total += n\n",
    "\n",
    "print(total)\n"
   ]
  },
  {
   "cell_type": "code",
   "execution_count": 22,
   "metadata": {},
   "outputs": [
    {
     "name": "stdout",
     "output_type": "stream",
     "text": [
      "158\n"
     ]
    }
   ],
   "source": [
    "total = 0\n",
    "while (n := int(input(\"Enter a value (or 0 to stop): \"))):\n",
    "    total += n\n",
    "\n",
    "print(total)\n"
   ]
  },
  {
   "cell_type": "code",
   "execution_count": 23,
   "metadata": {},
   "outputs": [
    {
     "ename": "SyntaxError",
     "evalue": "invalid syntax. Maybe you meant '==' or ':=' instead of '='? (4056366506.py, line 2)",
     "output_type": "error",
     "traceback": [
      "\u001b[0;36m  Cell \u001b[0;32mIn[23], line 2\u001b[0;36m\u001b[0m\n\u001b[0;31m    while (n = int(input(\"Enter a value (or 0 to stop): \"))):\u001b[0m\n\u001b[0m           ^\u001b[0m\n\u001b[0;31mSyntaxError\u001b[0m\u001b[0;31m:\u001b[0m invalid syntax. Maybe you meant '==' or ':=' instead of '='?\n"
     ]
    }
   ],
   "source": [
    "total = 0\n",
    "while (n = int(input(\"Enter a value (or 0 to stop): \"))):\n",
    "    total += n\n",
    "\n",
    "print(total)\n"
   ]
  },
  {
   "cell_type": "code",
   "execution_count": 24,
   "metadata": {},
   "outputs": [
    {
     "name": "stdout",
     "output_type": "stream",
     "text": [
      "228\n"
     ]
    }
   ],
   "source": [
    "total = 0\n",
    "while True:\n",
    "    n = int(input(\"Enter a value (or 0 to stop): \"))\n",
    "    if not n:\n",
    "        break\n",
    "    total += n\n",
    "\n",
    "print(total)\n"
   ]
  },
  {
   "cell_type": "code",
   "execution_count": 25,
   "metadata": {},
   "outputs": [
    {
     "name": "stdout",
     "output_type": "stream",
     "text": [
      "Counting 0\n",
      "Counting 1\n",
      "Counting 2\n",
      "Counting 3\n",
      "Counting 4\n",
      "Counting 5\n",
      "Counting 6\n",
      "Counting 7\n",
      "Counting 8\n",
      "Counting 9\n"
     ]
    }
   ],
   "source": [
    "i = 0  # Wrong use-case for a 'while' loop\n",
    "while i < 10:\n",
    "    print(\"Counting\", i)\n",
    "    i += 1\n"
   ]
  },
  {
   "cell_type": "code",
   "execution_count": 26,
   "metadata": {},
   "outputs": [
    {
     "name": "stdout",
     "output_type": "stream",
     "text": [
      "Counting 0\n",
      "Counting 1\n",
      "Counting 2\n",
      "Counting 3\n",
      "Counting 4\n",
      "Counting 5\n",
      "Counting 6\n",
      "Counting 7\n",
      "Counting 8\n",
      "Counting 9\n"
     ]
    }
   ],
   "source": [
    "for i in range(10):\n",
    "    print(\"Counting\", i)\n"
   ]
  },
  {
   "cell_type": "code",
   "execution_count": 29,
   "metadata": {},
   "outputs": [
    {
     "name": "stdout",
     "output_type": "stream",
     "text": [
      "Counting 1\n",
      "Counting 2\n",
      "Counting 4\n",
      "Counting 5\n",
      "Counting 7\n",
      "Counting 8\n",
      "Counting 10\n",
      "Counting 11\n",
      "Counting 13\n",
      "Counting 14\n"
     ]
    }
   ],
   "source": [
    "for i in range(20):\n",
    "    if i > 14:\n",
    "        break\n",
    "\n",
    "    if i % 3 == 0:\n",
    "        continue\n",
    "    \n",
    "    print(\"Counting\", i)"
   ]
  },
  {
   "cell_type": "markdown",
   "metadata": {},
   "source": [
    "### Exercise 1: Generate the first 'n' armstrong numbers\n"
   ]
  },
  {
   "cell_type": "markdown",
   "metadata": {},
   "source": [
    "### Exercise 2: Check if a given number is a prime number"
   ]
  },
  {
   "cell_type": "markdown",
   "metadata": {},
   "source": [
    "### Exercise 3: Find HCF (or also known as GCD) of two given numbers\n",
    "```\n",
    "  hcf(16, 24) -> 8\n",
    "  hcf(15, 75) -> 15\n",
    "  hcf(20, 25) -> 5\n",
    "```\n"
   ]
  }
 ],
 "metadata": {
  "kernelspec": {
   "display_name": "base",
   "language": "python",
   "name": "python3"
  },
  "language_info": {
   "codemirror_mode": {
    "name": "ipython",
    "version": 3
   },
   "file_extension": ".py",
   "mimetype": "text/x-python",
   "name": "python",
   "nbconvert_exporter": "python",
   "pygments_lexer": "ipython3",
   "version": "3.11.7"
  }
 },
 "nbformat": 4,
 "nbformat_minor": 2
}
