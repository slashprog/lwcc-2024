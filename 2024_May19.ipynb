{
 "cells": [
  {
   "cell_type": "markdown",
   "metadata": {},
   "source": [
    "### The Little Wizards Coding Camp - Level 2\n",
    "#### Python Programming Preliminaries\n",
    "\n",
    "##### Operators and Expressions (contd.)"
   ]
  },
  {
   "cell_type": "code",
   "execution_count": 1,
   "metadata": {},
   "outputs": [
    {
     "data": {
      "text/plain": [
       "False"
      ]
     },
     "execution_count": 1,
     "metadata": {},
     "output_type": "execute_result"
    }
   ],
   "source": [
    "users = \"shivansh\", \"anushri\", \"deepthi\", \"antony\"\n",
    "\n",
    "\"shagun\" in users"
   ]
  },
  {
   "cell_type": "code",
   "execution_count": 3,
   "metadata": {},
   "outputs": [
    {
     "data": {
      "text/plain": [
       "False"
      ]
     },
     "execution_count": 3,
     "metadata": {},
     "output_type": "execute_result"
    }
   ],
   "source": [
    "\"antony\" not in users"
   ]
  },
  {
   "cell_type": "code",
   "execution_count": 10,
   "metadata": {},
   "outputs": [
    {
     "data": {
      "text/plain": [
       "False"
      ]
     },
     "execution_count": 10,
     "metadata": {},
     "output_type": "execute_result"
    }
   ],
   "source": [
    "a = 45\n",
    "b = 67\n",
    "c = 13\n",
    "\n",
    "a < b and a < c and a > 10"
   ]
  },
  {
   "cell_type": "code",
   "execution_count": 12,
   "metadata": {},
   "outputs": [
    {
     "data": {
      "text/plain": [
       "True"
      ]
     },
     "execution_count": 12,
     "metadata": {},
     "output_type": "execute_result"
    }
   ],
   "source": [
    "a = 45\n",
    "b = 67\n",
    "c = 13\n",
    "\n",
    "a > b or a < c or a > 10"
   ]
  },
  {
   "cell_type": "code",
   "execution_count": 15,
   "metadata": {},
   "outputs": [
    {
     "data": {
      "text/plain": [
       "True"
      ]
     },
     "execution_count": 15,
     "metadata": {},
     "output_type": "execute_result"
    }
   ],
   "source": [
    "a = 45\n",
    "b = 67\n",
    "\n",
    "not a > b"
   ]
  },
  {
   "cell_type": "code",
   "execution_count": 17,
   "metadata": {},
   "outputs": [
    {
     "name": "stdout",
     "output_type": "stream",
     "text": [
      "('shivansh', 'anushri', 'deepthi', 'antony', 'shagun')\n",
      "<class 'tuple'>\n"
     ]
    }
   ],
   "source": [
    "users = \"shivansh\", \"anushri\", \"deepthi\", \"antony\", \"shagun\"\n",
    "print(users)\n",
    "print(type(users))"
   ]
  },
  {
   "cell_type": "code",
   "execution_count": 18,
   "metadata": {},
   "outputs": [
    {
     "name": "stdout",
     "output_type": "stream",
     "text": [
      "<class 'int'> <class 'float'> <class 'str'> <class 'list'> <class 'tuple'>\n"
     ]
    }
   ],
   "source": [
    "a = 10\n",
    "b = 5.6\n",
    "c = \"hello\"\n",
    "d = [11, 22, 33]\n",
    "e = 34, 5, 6\n",
    "\n",
    "print(type(a), type(b), type(c), type(d), type(e))"
   ]
  },
  {
   "cell_type": "markdown",
   "metadata": {},
   "source": [
    "Ordered collections in python are also known as \"sequences\"\n",
    "Examples of sequences are:\n",
    "   - list\n",
    "   - tuple\n",
    "   - range\n",
    "   - str\n",
    "   "
   ]
  },
  {
   "cell_type": "code",
   "execution_count": 23,
   "metadata": {},
   "outputs": [
    {
     "name": "stdout",
     "output_type": "stream",
     "text": [
      "('shivansh', 'anushri', 'deepthi', 'antony', 'shagun')\n"
     ]
    },
    {
     "ename": "IndexError",
     "evalue": "tuple index out of range",
     "output_type": "error",
     "traceback": [
      "\u001b[0;31m---------------------------------------------------------------------------\u001b[0m",
      "\u001b[0;31mIndexError\u001b[0m                                Traceback (most recent call last)",
      "\u001b[0;32m/tmp/ipykernel_8227/304616.py\u001b[0m in \u001b[0;36m<module>\u001b[0;34m\u001b[0m\n\u001b[1;32m      1\u001b[0m \u001b[0musers\u001b[0m \u001b[0;34m=\u001b[0m \u001b[0;34m\"shivansh\"\u001b[0m\u001b[0;34m,\u001b[0m \u001b[0;34m\"anushri\"\u001b[0m\u001b[0;34m,\u001b[0m \u001b[0;34m\"deepthi\"\u001b[0m\u001b[0;34m,\u001b[0m \u001b[0;34m\"antony\"\u001b[0m\u001b[0;34m,\u001b[0m \u001b[0;34m\"shagun\"\u001b[0m\u001b[0;34m\u001b[0m\u001b[0;34m\u001b[0m\u001b[0m\n\u001b[1;32m      2\u001b[0m \u001b[0mprint\u001b[0m\u001b[0;34m(\u001b[0m\u001b[0musers\u001b[0m\u001b[0;34m)\u001b[0m\u001b[0;34m\u001b[0m\u001b[0;34m\u001b[0m\u001b[0m\n\u001b[0;32m----> 3\u001b[0;31m \u001b[0musers\u001b[0m\u001b[0;34m[\u001b[0m\u001b[0;36m5\u001b[0m\u001b[0;34m]\u001b[0m\u001b[0;34m\u001b[0m\u001b[0;34m\u001b[0m\u001b[0m\n\u001b[0m",
      "\u001b[0;31mIndexError\u001b[0m: tuple index out of range"
     ]
    }
   ],
   "source": [
    "users = \"shivansh\", \"anushri\", \"deepthi\", \"antony\", \"shagun\"\n",
    "print(users)\n",
    "users[5]"
   ]
  },
  {
   "cell_type": "code",
   "execution_count": 24,
   "metadata": {},
   "outputs": [
    {
     "name": "stdout",
     "output_type": "stream",
     "text": [
      "('shivansh', 'anushri', 'deepthi', 'antony', 'shagun')\n"
     ]
    },
    {
     "data": {
      "text/plain": [
       "'shagun'"
      ]
     },
     "execution_count": 24,
     "metadata": {},
     "output_type": "execute_result"
    }
   ],
   "source": [
    "users = \"shivansh\", \"anushri\", \"deepthi\", \"antony\", \"shagun\"\n",
    "print(users)\n",
    "users[-1]"
   ]
  },
  {
   "cell_type": "code",
   "execution_count": 31,
   "metadata": {},
   "outputs": [
    {
     "name": "stdout",
     "output_type": "stream",
     "text": [
      "5\n",
      "shagun\n",
      "shagun\n",
      "antony\n",
      "deepthi\n"
     ]
    },
    {
     "ename": "IndexError",
     "evalue": "tuple index out of range",
     "output_type": "error",
     "traceback": [
      "\u001b[0;31m---------------------------------------------------------------------------\u001b[0m",
      "\u001b[0;31mIndexError\u001b[0m                                Traceback (most recent call last)",
      "\u001b[0;32m/tmp/ipykernel_8227/1670502561.py\u001b[0m in \u001b[0;36m<module>\u001b[0;34m\u001b[0m\n\u001b[1;32m      5\u001b[0m \u001b[0mprint\u001b[0m\u001b[0;34m(\u001b[0m\u001b[0musers\u001b[0m\u001b[0;34m[\u001b[0m\u001b[0;34m-\u001b[0m\u001b[0;36m2\u001b[0m\u001b[0;34m]\u001b[0m\u001b[0;34m)\u001b[0m\u001b[0;34m\u001b[0m\u001b[0;34m\u001b[0m\u001b[0m\n\u001b[1;32m      6\u001b[0m \u001b[0mprint\u001b[0m\u001b[0;34m(\u001b[0m\u001b[0musers\u001b[0m\u001b[0;34m[\u001b[0m\u001b[0;34m-\u001b[0m\u001b[0;36m3\u001b[0m\u001b[0;34m]\u001b[0m\u001b[0;34m)\u001b[0m\u001b[0;34m\u001b[0m\u001b[0;34m\u001b[0m\u001b[0m\n\u001b[0;32m----> 7\u001b[0;31m \u001b[0mprint\u001b[0m\u001b[0;34m(\u001b[0m\u001b[0musers\u001b[0m\u001b[0;34m[\u001b[0m\u001b[0;34m-\u001b[0m\u001b[0;36m7\u001b[0m\u001b[0;34m]\u001b[0m\u001b[0;34m)\u001b[0m\u001b[0;34m\u001b[0m\u001b[0;34m\u001b[0m\u001b[0m\n\u001b[0m",
      "\u001b[0;31mIndexError\u001b[0m: tuple index out of range"
     ]
    }
   ],
   "source": [
    "users = \"shivansh\", \"anushri\", \"deepthi\", \"antony\", \"shagun\"\n",
    "print(len(users))\n",
    "print(users[len(users)-1])\n",
    "print(users[-1])\n",
    "print(users[-2])\n",
    "print(users[-3])\n",
    "print(users[-7])"
   ]
  },
  {
   "cell_type": "code",
   "execution_count": 33,
   "metadata": {},
   "outputs": [
    {
     "data": {
      "text/plain": [
       "('deepthi', 'antony', 'shagun')"
      ]
     },
     "execution_count": 33,
     "metadata": {},
     "output_type": "execute_result"
    }
   ],
   "source": [
    "users = \"shivansh\", \"anushri\", \"deepthi\", \"antony\", \"shagun\", \"arjun\", \"nikita\", \"tim\", \"john\"\n",
    "users[2:5]"
   ]
  },
  {
   "cell_type": "code",
   "execution_count": 43,
   "metadata": {},
   "outputs": [
    {
     "name": "stdout",
     "output_type": "stream",
     "text": [
      "t s\n",
      "this this\n",
      "words\n",
      "i sats et\n"
     ]
    }
   ],
   "source": [
    "s = \"this is a test sentence with a couple of words\"\n",
    "print(s[0], s[-1])\n",
    "print(s[0:4], s[:4])\n",
    "print(s[-5:])\n",
    "print(s[2:20:2])"
   ]
  },
  {
   "cell_type": "code",
   "execution_count": 46,
   "metadata": {},
   "outputs": [
    {
     "name": "stdout",
     "output_type": "stream",
     "text": [
      "(33, 55, 77)\n",
      "(11, 33, 55, 77, 99)\n"
     ]
    }
   ],
   "source": [
    "a = 11, 22, 33, 44, 55, 66, 77, 88, 99\n",
    "print(a[2:7:2])\n",
    "print(a[::2])\n"
   ]
  },
  {
   "cell_type": "markdown",
   "metadata": {},
   "source": [
    "#### Bitwise operators -> supported primarily on integer objects (int)"
   ]
  },
  {
   "cell_type": "code",
   "execution_count": 48,
   "metadata": {},
   "outputs": [
    {
     "data": {
      "text/plain": [
       "14"
      ]
     },
     "execution_count": 48,
     "metadata": {},
     "output_type": "execute_result"
    }
   ],
   "source": [
    "a = 10\n",
    "b = 12\n",
    "print(a | b) # bitwise OR operator\n"
   ]
  },
  {
   "cell_type": "code",
   "execution_count": 53,
   "metadata": {},
   "outputs": [
    {
     "name": "stdout",
     "output_type": "stream",
     "text": [
      "10\n",
      "12\n",
      "14\n",
      "0b1010\n",
      "0b1100\n",
      "0b1110\n"
     ]
    }
   ],
   "source": [
    "a = 0b1010\n",
    "print(a)\n",
    "\n",
    "b = 0b1100\n",
    "print(b)\n",
    "\n",
    "c = a | b\n",
    "print(c)\n",
    "print(bin(a))\n",
    "print(bin(b))\n",
    "print(bin(c))"
   ]
  },
  {
   "cell_type": "code",
   "execution_count": 54,
   "metadata": {},
   "outputs": [
    {
     "name": "stdout",
     "output_type": "stream",
     "text": [
      "10\n",
      "12\n",
      "8\n",
      "0b1010\n",
      "0b1100\n",
      "0b1000\n"
     ]
    }
   ],
   "source": [
    "a = 0b1010\n",
    "print(a)\n",
    "\n",
    "b = 0b1100\n",
    "print(b)\n",
    "\n",
    "c = a & b  # bitwise AND operator\n",
    "print(c)\n",
    "print(bin(a))\n",
    "print(bin(b))\n",
    "print(bin(c))"
   ]
  },
  {
   "cell_type": "code",
   "execution_count": 58,
   "metadata": {},
   "outputs": [
    {
     "name": "stdout",
     "output_type": "stream",
     "text": [
      "2 0b10\n",
      "4 0b100\n",
      "8 0b1000\n"
     ]
    }
   ],
   "source": [
    "a = 0b0010\n",
    "print(a, bin(a))\n",
    "\n",
    "b = a << 1  # bitwise left-shift operator\n",
    "print(b, bin(b))\n",
    "\n",
    "c = a << 2\n",
    "print(c, bin(c))"
   ]
  },
  {
   "cell_type": "code",
   "execution_count": 60,
   "metadata": {},
   "outputs": [
    {
     "name": "stdout",
     "output_type": "stream",
     "text": [
      "26\n",
      "52\n"
     ]
    }
   ],
   "source": [
    "a = 13\n",
    "b = a << 1\n",
    "print(b)\n",
    "\n",
    "c = a << 2\n",
    "print(c)"
   ]
  },
  {
   "cell_type": "code",
   "execution_count": 62,
   "metadata": {},
   "outputs": [
    {
     "name": "stdout",
     "output_type": "stream",
     "text": [
      "12 0b1100\n",
      "6 0b110\n"
     ]
    }
   ],
   "source": [
    "a = 0b1100\n",
    "print(a, bin(a))\n",
    "b = a >> 1  # bitwise right-shift operator\n",
    "print(b, bin(b))"
   ]
  },
  {
   "cell_type": "code",
   "execution_count": 81,
   "metadata": {},
   "outputs": [
    {
     "name": "stdout",
     "output_type": "stream",
     "text": [
      "277 323\n",
      "21 67\n",
      "5 3\n",
      "1 1\n",
      "262144 65536 1024 8\n",
      "657424\n",
      "658815\n"
     ]
    }
   ],
   "source": [
    "a = 789\n",
    "b = 835\n",
    "\n",
    "c = a - 512\n",
    "d = b - 512\n",
    "print(c, d)\n",
    "\n",
    "e = c - 256\n",
    "f = d - 256\n",
    "print(e, f)\n",
    "\n",
    "g = e - 16\n",
    "h = f - 64\n",
    "print(g, h)\n",
    "\n",
    "i = g - 4\n",
    "j = h - 2\n",
    "print(i, j)\n",
    "\n",
    "print(512 << 9, 256 << 8, 64 << 4, 4 << 1)\n",
    "print(((512 << 9) + (256 << 8) + (16 << 6) + (4 << 1)) << 1)\n",
    "print(a * b)"
   ]
  },
  {
   "cell_type": "code",
   "execution_count": 1,
   "metadata": {},
   "outputs": [
    {
     "name": "stdout",
     "output_type": "stream",
     "text": [
      "323\n",
      "1\n",
      "658815\n"
     ]
    }
   ],
   "source": [
    "a = 789\n",
    "b = 835\n",
    "\n",
    "print(b - 512)\n",
    "print((((b - 512) - 256) - 64) - 2)\n",
    "print((a << 9) + (a << 8) + (a << 6) + (a << 1) + (a << 0))\n",
    "#print(c)\n",
    "#print(a << 24)"
   ]
  },
  {
   "cell_type": "code",
   "execution_count": 9,
   "metadata": {},
   "outputs": [
    {
     "name": "stdout",
     "output_type": "stream",
     "text": [
      "277 512\n",
      "21 256\n",
      "5 16\n",
      "1 4\n"
     ]
    }
   ],
   "source": [
    "print(789 - 512, 2 ** 9)\n",
    "print(277 - 256, 2 ** 8)\n",
    "print(21 - 16, 2 ** 4)\n",
    "print(5 - 4, 2 ** 2)\n"
   ]
  },
  {
   "cell_type": "code",
   "execution_count": 7,
   "metadata": {},
   "outputs": [
    {
     "name": "stdout",
     "output_type": "stream",
     "text": [
      "658815\n",
      "657981\n"
     ]
    }
   ],
   "source": [
    "a = 789\n",
    "b = 835\n",
    "print(789 * 835)\n",
    "\n",
    "print((b << 9) + (b << 8) + (b << 4) + (b << 2) + 1)"
   ]
  },
  {
   "cell_type": "code",
   "execution_count": 97,
   "metadata": {},
   "outputs": [
    {
     "name": "stdout",
     "output_type": "stream",
     "text": [
      "14 0b1110\n",
      "-8 -0b1000\n"
     ]
    }
   ],
   "source": [
    "a = 0b0111\n",
    "b = 0b1001\n",
    "c = a ^ b  # bitwise XOR operator\n",
    "print(c, bin(c))\n",
    "\n",
    "print(~a, bin(~a))"
   ]
  },
  {
   "cell_type": "code",
   "execution_count": null,
   "metadata": {},
   "outputs": [],
   "source": [
    "# Bitwise operators -> |, &, ^, <<, >>, ~\n"
   ]
  }
 ],
 "metadata": {
  "kernelspec": {
   "display_name": "base",
   "language": "python",
   "name": "python3"
  },
  "language_info": {
   "codemirror_mode": {
    "name": "ipython",
    "version": 3
   },
   "file_extension": ".py",
   "mimetype": "text/x-python",
   "name": "python",
   "nbconvert_exporter": "python",
   "pygments_lexer": "ipython3",
   "version": "3.11.7"
  }
 },
 "nbformat": 4,
 "nbformat_minor": 2
}
