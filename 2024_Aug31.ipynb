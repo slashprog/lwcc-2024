{
 "cells": [
  {
   "cell_type": "markdown",
   "metadata": {},
   "source": [
    "### LWCC  Session 28 - August 31st 2024\n",
    "\n",
    "#### Special methods "
   ]
  },
  {
   "cell_type": "code",
   "execution_count": 2,
   "metadata": {},
   "outputs": [
    {
     "name": "stdout",
     "output_type": "stream",
     "text": [
      "<__main__.User object at 0x000001FDD830B190>\n"
     ]
    }
   ],
   "source": [
    "class User:\n",
    "    pass\n",
    "\n",
    "u = User()\n",
    "print(str(u))"
   ]
  },
  {
   "cell_type": "code",
   "execution_count": 3,
   "metadata": {},
   "outputs": [
    {
     "data": {
      "text/plain": [
       "'<__main__.User object at 0x000001FDD830B190>'"
      ]
     },
     "execution_count": 3,
     "metadata": {},
     "output_type": "execute_result"
    }
   ],
   "source": [
    "str(u)"
   ]
  },
  {
   "cell_type": "code",
   "execution_count": 11,
   "metadata": {},
   "outputs": [
    {
     "name": "stdout",
     "output_type": "stream",
     "text": [
      "<User: name='Antony'>\n",
      "<User: name='Chandra'>\n"
     ]
    },
    {
     "data": {
      "text/plain": [
       "<__main__.User at 0x1fdd84474c0>"
      ]
     },
     "execution_count": 11,
     "metadata": {},
     "output_type": "execute_result"
    }
   ],
   "source": [
    "class User:\n",
    "    def __init__(self, name):\n",
    "        self.name = name\n",
    "\n",
    "    def __str__(self):\n",
    "        return f\"<User: name='{self.name}'>\"\n",
    "\n",
    "u1 = User(\"Antony\")\n",
    "u2 = User(\"Chandra\")\n",
    "print(u1)\n",
    "print(u2)\n",
    "u1"
   ]
  },
  {
   "cell_type": "code",
   "execution_count": 35,
   "metadata": {},
   "outputs": [
    {
     "name": "stdout",
     "output_type": "stream",
     "text": [
      "<__main__.User object at 0x000001FDD95E7940>\n",
      "<__main__.User object at 0x000001FDD84484C0>\n"
     ]
    },
    {
     "data": {
      "text/plain": [
       "<__main__.User at 0x1fdd95e7940>"
      ]
     },
     "execution_count": 35,
     "metadata": {},
     "output_type": "execute_result"
    }
   ],
   "source": [
    "class User:\n",
    "    def __init__(self, name):\n",
    "        self.name = name\n",
    "\n",
    "    #def __str__(self):\n",
    "    #    return f\"<User: name='{self.name}'>\"\n",
    "    \n",
    "    #def __repr__(self):\n",
    "    #    return f\"User(name='{self.name}')\"\n",
    "\n",
    "    def __str__(self):\n",
    "        m = __name__\n",
    "        c = self.__class__.__name__\n",
    "        i = id(self)\n",
    "        return f\"<{m}.{c} object at 0x{i:016X}>\"\n",
    "\n",
    "u1 = User(\"Antony\")\n",
    "u2 = User(\"Chandra\")\n",
    "print(u1)\n",
    "print(u2)\n",
    "u1"
   ]
  },
  {
   "cell_type": "code",
   "execution_count": null,
   "metadata": {},
   "outputs": [],
   "source": [
    "# REPL -> Read - Evaluate - Print - Loop\n"
   ]
  },
  {
   "cell_type": "code",
   "execution_count": 23,
   "metadata": {},
   "outputs": [
    {
     "data": {
      "text/plain": [
       "User(name='Antony_1')"
      ]
     },
     "execution_count": 23,
     "metadata": {},
     "output_type": "execute_result"
    }
   ],
   "source": [
    "User(\"Antony_1\")"
   ]
  },
  {
   "cell_type": "code",
   "execution_count": 24,
   "metadata": {},
   "outputs": [
    {
     "data": {
      "text/plain": [
       "12345"
      ]
     },
     "execution_count": 24,
     "metadata": {},
     "output_type": "execute_result"
    }
   ],
   "source": [
    "a = 12345"
   ]
  },
  {
   "cell_type": "code",
   "execution_count": 20,
   "metadata": {},
   "outputs": [
    {
     "name": "stdout",
     "output_type": "stream",
     "text": [
      "<User: name='Antony'> <User: name='Antony'>\n",
      "2189784814240 2189784825328\n"
     ]
    }
   ],
   "source": [
    "u3 = User(name='Antony')\n",
    "print(u1, u3)\n",
    "print(id(u1), id(u3))"
   ]
  },
  {
   "cell_type": "code",
   "execution_count": 15,
   "metadata": {},
   "outputs": [
    {
     "name": "stdout",
     "output_type": "stream",
     "text": [
      "<function foo at 0x000001FDD9E1C3A0>\n"
     ]
    }
   ],
   "source": [
    "def foo(): \n",
    "    pass\n",
    "\n",
    "print(foo)"
   ]
  },
  {
   "cell_type": "code",
   "execution_count": 14,
   "metadata": {},
   "outputs": [
    {
     "data": {
      "text/plain": [
       "'sdfsdfsdf'"
      ]
     },
     "execution_count": 14,
     "metadata": {},
     "output_type": "execute_result"
    }
   ],
   "source": [
    "repr(u1)"
   ]
  },
  {
   "cell_type": "code",
   "execution_count": 10,
   "metadata": {},
   "outputs": [
    {
     "name": "stdout",
     "output_type": "stream",
     "text": [
      "100\n"
     ]
    },
    {
     "data": {
      "text/plain": [
       "'100'"
      ]
     },
     "execution_count": 10,
     "metadata": {},
     "output_type": "execute_result"
    }
   ],
   "source": [
    "a = 100\n",
    "print(a)\n",
    "str(a)"
   ]
  },
  {
   "cell_type": "code",
   "execution_count": 41,
   "metadata": {},
   "outputs": [
    {
     "name": "stdout",
     "output_type": "stream",
     "text": [
      "John 25 56.7\n"
     ]
    }
   ],
   "source": [
    "class User:\n",
    "    def __init__(self, name, score, age):\n",
    "        self.name, self.score, self.age = name, score, age\n",
    "\n",
    "    def __str__(self):\n",
    "        return self.name\n",
    "    \n",
    "    def __int__(self):\n",
    "        return self.age\n",
    "    \n",
    "    def __float__(self):\n",
    "        return self.score\n",
    "    \n",
    "u = User(\"John\", 56.7, 25)\n",
    "print(str(u), int(u), float(u))"
   ]
  },
  {
   "cell_type": "code",
   "execution_count": 47,
   "metadata": {},
   "outputs": [
    {
     "name": "stdout",
     "output_type": "stream",
     "text": [
      "Switch is ON\n",
      "evaluated as True\n"
     ]
    }
   ],
   "source": [
    "class Switch:\n",
    "    def __init__(self, state=\"OFF\"):\n",
    "        self.state = state\n",
    "    \n",
    "    def __str__(self):\n",
    "        return f\"Switch is {self.state}\"\n",
    "\n",
    "s = Switch(\"ON\")\n",
    "print(s)\n",
    "\n",
    "if s:\n",
    "    print(\"evaluated as True\")\n",
    "else:\n",
    "    print(\"evaluated as False\")"
   ]
  },
  {
   "cell_type": "code",
   "execution_count": 50,
   "metadata": {},
   "outputs": [
    {
     "name": "stdout",
     "output_type": "stream",
     "text": [
      "False <class 'bool'>\n"
     ]
    }
   ],
   "source": [
    "r = 7 > 15\n",
    "print(r, type(r))"
   ]
  },
  {
   "cell_type": "code",
   "execution_count": 54,
   "metadata": {},
   "outputs": [
    {
     "name": "stdout",
     "output_type": "stream",
     "text": [
      "7 is not big enough\n"
     ]
    }
   ],
   "source": [
    "r = 7 > 15\n",
    "if r: # if r == True\n",
    "    print(\"7 is big\")\n",
    "else:\n",
    "    print(\"7 is not big enough\")"
   ]
  },
  {
   "cell_type": "code",
   "execution_count": 55,
   "metadata": {},
   "outputs": [
    {
     "name": "stdout",
     "output_type": "stream",
     "text": [
      "evaluated as True\n"
     ]
    }
   ],
   "source": [
    "if 20:\n",
    "    print(\"evaluated as True\")\n",
    "else:\n",
    "    print(\"evaluated as False\")"
   ]
  },
  {
   "cell_type": "code",
   "execution_count": 56,
   "metadata": {},
   "outputs": [
    {
     "name": "stdout",
     "output_type": "stream",
     "text": [
      "evaluated as False\n"
     ]
    }
   ],
   "source": [
    "if 0:\n",
    "    print(\"evaluated as True\")\n",
    "else:\n",
    "    print(\"evaluated as False\")"
   ]
  },
  {
   "cell_type": "code",
   "execution_count": null,
   "metadata": {},
   "outputs": [],
   "source": [
    "# Every object in Python have boolean \"truthiness\".\n",
    "# Also known as - Boolean context of evaluation"
   ]
  },
  {
   "cell_type": "markdown",
   "metadata": {},
   "source": [
    "For standard builtin datatypes of Python:\n",
    "  - Numbers: 0, 0.0, 0+0j -> False\n",
    "  - Numbers: -1, -45, 6.7, 0.004, 0+2j -> True\n",
    "  - Strings: \"\" -> False\n",
    "  - Strings: \" \", \"0\" -> True\n",
    "  - All collections: (), {}, [], set() -> False\n",
    "  \n",
    "To summarize:\n",
    "   0, 0.0, 0+0j, \"\", (), [], {}, set(), None, False --> False\n",
    "   \n"
   ]
  },
  {
   "cell_type": "code",
   "execution_count": 60,
   "metadata": {},
   "outputs": [
    {
     "name": "stdout",
     "output_type": "stream",
     "text": [
      "set() <class 'set'>\n"
     ]
    }
   ],
   "source": [
    "a = set()\n",
    "print(a, type(a))"
   ]
  },
  {
   "cell_type": "code",
   "execution_count": null,
   "metadata": {},
   "outputs": [],
   "source": [
    "[10, 20, 30] # Literal notation\n",
    "list(range(10)) # Constructor expression"
   ]
  },
  {
   "cell_type": "code",
   "execution_count": 63,
   "metadata": {},
   "outputs": [
    {
     "name": "stdout",
     "output_type": "stream",
     "text": [
      "{33, 66, 55, 44, 77} <class 'set'>\n"
     ]
    }
   ],
   "source": [
    "a = {33, 44, 55, 66, 77} # Literal notation of a set\n",
    "print(a, type(a))"
   ]
  },
  {
   "cell_type": "code",
   "execution_count": 64,
   "metadata": {},
   "outputs": [
    {
     "name": "stdout",
     "output_type": "stream",
     "text": [
      "{1: 2, 3: 4, 5: 6} <class 'dict'>\n"
     ]
    }
   ],
   "source": [
    "a = {1:2, 3:4, 5:6}\n",
    "print(a, type(a))"
   ]
  },
  {
   "cell_type": "code",
   "execution_count": 66,
   "metadata": {},
   "outputs": [
    {
     "name": "stdout",
     "output_type": "stream",
     "text": [
      "{} <class 'dict'>\n",
      "set() <class 'set'>\n"
     ]
    }
   ],
   "source": [
    "a = {}\n",
    "print(a, type(a))\n",
    "a = set()\n",
    "print(a, type(a))"
   ]
  },
  {
   "cell_type": "code",
   "execution_count": 69,
   "metadata": {},
   "outputs": [
    {
     "name": "stdout",
     "output_type": "stream",
     "text": [
      "This list is empty\n"
     ]
    }
   ],
   "source": [
    "a = []\n",
    "\n",
    "# if len(a) == 0:\n",
    "if a:\n",
    "    print(\"This list has some data\")\n",
    "else:\n",
    "    print(\"This list is empty\")"
   ]
  },
  {
   "cell_type": "code",
   "execution_count": 70,
   "metadata": {},
   "outputs": [
    {
     "name": "stdout",
     "output_type": "stream",
     "text": [
      "t is evaluated as True\n"
     ]
    }
   ],
   "source": [
    "class Temp:\n",
    "    pass\n",
    "\n",
    "t = Temp()\n",
    "\n",
    "if t:\n",
    "    print(\"t is evaluated as True\")\n",
    "else:\n",
    "    print(\"t is evaluated as False\")\n",
    "    "
   ]
  },
  {
   "cell_type": "markdown",
   "metadata": {},
   "source": [
    "### NOTE: By default, the boolean context of all custom python objects will be evaluated as ```True```"
   ]
  },
  {
   "cell_type": "code",
   "execution_count": 71,
   "metadata": {},
   "outputs": [
    {
     "name": "stdout",
     "output_type": "stream",
     "text": [
      "t is evaluated as False\n"
     ]
    }
   ],
   "source": [
    "class Temp:\n",
    "    def __bool__(self):\n",
    "        return False\n",
    "\n",
    "t = Temp()\n",
    "\n",
    "if t:\n",
    "    print(\"t is evaluated as True\")\n",
    "else:\n",
    "    print(\"t is evaluated as False\")\n",
    "    "
   ]
  },
  {
   "cell_type": "code",
   "execution_count": 72,
   "metadata": {},
   "outputs": [
    {
     "data": {
      "text/plain": [
       "time.struct_time(tm_year=2024, tm_mon=8, tm_mday=31, tm_hour=20, tm_min=2, tm_sec=40, tm_wday=5, tm_yday=244, tm_isdst=0)"
      ]
     },
     "execution_count": 72,
     "metadata": {},
     "output_type": "execute_result"
    }
   ],
   "source": [
    "import time\n",
    "time.localtime()"
   ]
  },
  {
   "cell_type": "code",
   "execution_count": 75,
   "metadata": {},
   "outputs": [
    {
     "name": "stdout",
     "output_type": "stream",
     "text": [
      "Today is a holiday\n"
     ]
    }
   ],
   "source": [
    "class Holiday:\n",
    "    def __bool__(self):\n",
    "        from time import localtime\n",
    "        t = localtime()\n",
    "        return t.tm_wday in (5, 6)\n",
    "    \n",
    "h = Holiday()\n",
    "if h:\n",
    "    print(\"Today is a holiday\")\n",
    "else:\n",
    "    print(\"Get to work!\")"
   ]
  },
  {
   "cell_type": "code",
   "execution_count": 77,
   "metadata": {},
   "outputs": [],
   "source": [
    "from time import localtime\n",
    "t = localtime()"
   ]
  },
  {
   "cell_type": "code",
   "execution_count": 79,
   "metadata": {},
   "outputs": [
    {
     "name": "stdout",
     "output_type": "stream",
     "text": [
      "<class 'time.struct_time'>\n"
     ]
    }
   ],
   "source": [
    "print(type(t))"
   ]
  },
  {
   "cell_type": "code",
   "execution_count": 83,
   "metadata": {},
   "outputs": [
    {
     "data": {
      "text/plain": [
       "(2024, 8, 31)"
      ]
     },
     "execution_count": 83,
     "metadata": {},
     "output_type": "execute_result"
    }
   ],
   "source": [
    "t[:3]"
   ]
  },
  {
   "cell_type": "code",
   "execution_count": 86,
   "metadata": {},
   "outputs": [
    {
     "name": "stdout",
     "output_type": "stream",
     "text": [
      "2024 2024\n",
      "31 31\n"
     ]
    }
   ],
   "source": [
    "print(t[0], t.tm_year)\n",
    "print(t[2], t.tm_mday)"
   ]
  },
  {
   "cell_type": "code",
   "execution_count": 87,
   "metadata": {},
   "outputs": [
    {
     "data": {
      "text/plain": [
       "time.struct_time(tm_year=2024, tm_mon=8, tm_mday=31, tm_hour=20, tm_min=4, tm_sec=57, tm_wday=5, tm_yday=244, tm_isdst=0)"
      ]
     },
     "execution_count": 87,
     "metadata": {},
     "output_type": "execute_result"
    }
   ],
   "source": [
    "t"
   ]
  }
 ],
 "metadata": {
  "kernelspec": {
   "display_name": "Python 3",
   "language": "python",
   "name": "python3"
  },
  "language_info": {
   "codemirror_mode": {
    "name": "ipython",
    "version": 3
   },
   "file_extension": ".py",
   "mimetype": "text/x-python",
   "name": "python",
   "nbconvert_exporter": "python",
   "pygments_lexer": "ipython3",
   "version": "3.10.2"
  }
 },
 "nbformat": 4,
 "nbformat_minor": 2
}
