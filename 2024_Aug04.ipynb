{
 "cells": [
  {
   "cell_type": "markdown",
   "metadata": {},
   "source": [
    "### LWCC Level 2 - August 4th 2024\n",
    "\n",
    "#### More on object life-cycle methods"
   ]
  },
  {
   "cell_type": "code",
   "execution_count": 3,
   "metadata": {},
   "outputs": [
    {
     "name": "stdout",
     "output_type": "stream",
     "text": [
      "__init__ was called: self = <__main__.User object at 0x000002C4391A4880>\n",
      "<__main__.User object at 0x000002C4391A4880>\n"
     ]
    }
   ],
   "source": [
    "class User:\n",
    "    def __init__(self):\n",
    "        print(\"__init__ was called: self =\", self)\n",
    "        return None\n",
    "\n",
    "u = User()\n",
    "print(u)"
   ]
  },
  {
   "cell_type": "code",
   "execution_count": 6,
   "metadata": {},
   "outputs": [
    {
     "name": "stdout",
     "output_type": "stream",
     "text": [
      "Car.__init__ invoked on <__main__.SUV object at 0x000002C437F1BD00>\n",
      "<__main__.SUV object at 0x000002C437F1BD00>\n",
      "white\n",
      "Toyota\n"
     ]
    }
   ],
   "source": [
    "class Car:\n",
    "    color = \"white\"  # class attribute\n",
    "\n",
    "    def __init__(self):\n",
    "        print(\"Car.__init__ invoked on\", self)\n",
    "        self.make = \"Toyota\"  # instance attribute\n",
    "\n",
    "class SUV(Car):  # SUV is a sub-class of Car -> SUV inherits Car\n",
    "    pass         # Car is the super-class of SUV\n",
    "\n",
    "s = SUV()\n",
    "print(s)\n",
    "print(s.color)\n",
    "print(s.make)\n",
    "\n",
    "# By default, sub-classes inherit super-class attributes (and methods)\n",
    "\n"
   ]
  },
  {
   "cell_type": "code",
   "execution_count": 7,
   "metadata": {},
   "outputs": [
    {
     "name": "stdout",
     "output_type": "stream",
     "text": [
      "SUV.__init__ invoked on <__main__.SUV object at 0x000002C437F1B070>\n"
     ]
    }
   ],
   "source": [
    "class Car:\n",
    "    def __init__(self):\n",
    "        print(\"Car.__init__ invoked on\", self)\n",
    "\n",
    "class SUV(Car):  # SUV is a sub-class of Car -> SUV inherits Car\n",
    "    def __init__(self):\n",
    "        print(\"SUV.__init__ invoked on\", self)\n",
    "\n",
    "s = SUV()\n",
    "\n",
    "# A sub-class can fully override the super-class method by defining the method on its own"
   ]
  },
  {
   "cell_type": "code",
   "execution_count": 15,
   "metadata": {},
   "outputs": [
    {
     "name": "stdout",
     "output_type": "stream",
     "text": [
      "Car.__init__ invoked on <__main__.SUV object at 0x000002C438058070>\n",
      "SUV.__init__ invoked on <__main__.SUV object at 0x000002C438058070>\n",
      "Driving car, a = 10\n",
      "Driving SUV\n"
     ]
    },
    {
     "data": {
      "text/plain": [
       "10"
      ]
     },
     "execution_count": 15,
     "metadata": {},
     "output_type": "execute_result"
    }
   ],
   "source": [
    "class Car:\n",
    "    def __init__(self):\n",
    "        print(\"Car.__init__ invoked on\", self)\n",
    "\n",
    "    def drive(self):\n",
    "        self.a = 10\n",
    "        print(\"Driving car, a =\", self.a)\n",
    "\n",
    "class SUV(Car):  # SUV is a sub-class of Car -> SUV inherits Car\n",
    "    def __init__(self):\n",
    "        super().__init__() # Extend the super-class method\n",
    "        print(\"SUV.__init__ invoked on\", self)\n",
    "\n",
    "    def drive(self):\n",
    "        self.a = 20\n",
    "        super().drive()\n",
    "        print(\"Driving SUV\")\n",
    "\n",
    "s = SUV()\n",
    "s.drive()\n",
    "\n",
    "s.a\n",
    "# A sub-class can fully override the super-class method by defining the method on its own"
   ]
  },
  {
   "cell_type": "code",
   "execution_count": 21,
   "metadata": {},
   "outputs": [
    {
     "name": "stdout",
     "output_type": "stream",
     "text": [
      "Driving a green car\n",
      "Car.color = white\n",
      "self.color = red\n"
     ]
    },
    {
     "data": {
      "text/plain": [
       "'white'"
      ]
     },
     "execution_count": 21,
     "metadata": {},
     "output_type": "execute_result"
    }
   ],
   "source": [
    "color = \"green\"  # global variable\n",
    "\n",
    "class Car:\n",
    "    color = \"white\"  # Class attribute\n",
    "\n",
    "    def __init__(self):\n",
    "        self.color = \"red\" # instance attribute\n",
    "        color = \"blue\" # local variable\n",
    "        \n",
    "    def drive(self):\n",
    "        print(\"Driving a\", color, \"car\")\n",
    "        print(\"Car.color =\", Car.color)\n",
    "        print(\"self.color =\", self.color)\n",
    "\n",
    "c = Car()\n",
    "c.drive()\n",
    "Car.color\n"
   ]
  }
 ],
 "metadata": {
  "kernelspec": {
   "display_name": "Python 3",
   "language": "python",
   "name": "python3"
  },
  "language_info": {
   "codemirror_mode": {
    "name": "ipython",
    "version": 3
   },
   "file_extension": ".py",
   "mimetype": "text/x-python",
   "name": "python",
   "nbconvert_exporter": "python",
   "pygments_lexer": "ipython3",
   "version": "3.10.2"
  }
 },
 "nbformat": 4,
 "nbformat_minor": 2
}
