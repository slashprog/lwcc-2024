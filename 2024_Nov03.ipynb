{
 "cells": [
  {
   "cell_type": "markdown",
   "metadata": {},
   "source": [
    "### LWCC  Session 46 - November 3rd 2024\n",
    "\n",
    "#### Introduction to Network Sockets in Python\n"
   ]
  },
  {
   "cell_type": "code",
   "execution_count": 7,
   "metadata": {},
   "outputs": [],
   "source": [
    "request = \"\"\"\\\n",
    "GET / HTTP/1.1\n",
    "Host: gnu.org:80\n",
    "User-Agent: Links (2.20.2; Linux 5.15.153.1-microsoft-standard-WSL2 x86_64; GNU C 9.2.1; text)\n",
    "Accept: */*\n",
    "Accept-Language: en,*;q=0.1\n",
    "Accept-Charset: us-ascii,ISO-8859-1,ISO-8859-2,ISO-8859-3,ISO-8859-4,ISO-8859-5,ISO-8859-6,ISO-8859-7,ISO-8859-8,ISO-8859-9,ISO-8859-10,ISO-8859-13,ISO-8859-14,ISO-8859-15,ISO-8859-16,windows-1250,windows-1251,windows-1252,windows-1256,windows-1257,cp437,cp737,cp850,cp852,cp866,x-cp866-u,x-mac,x-mac-ce,x-kam-cs,koi8-r,koi8-u,koi8-ru,TCVN-5712,VISCII,utf-8\n",
    "Connection: keep-alive\n",
    "\n",
    "\"\"\""
   ]
  },
  {
   "cell_type": "code",
   "execution_count": 8,
   "metadata": {},
   "outputs": [
    {
     "data": {
      "text/plain": [
       "<socket.socket fd=1824, family=AddressFamily.AF_INET, type=SocketKind.SOCK_STREAM, proto=0>"
      ]
     },
     "execution_count": 8,
     "metadata": {},
     "output_type": "execute_result"
    }
   ],
   "source": [
    "from socket import socket, AF_INET, SOCK_STREAM\n",
    "\n",
    "sock = socket(AF_INET, SOCK_STREAM) # TCP socket over TCP/IP protocol stack\n",
    "sock"
   ]
  },
  {
   "cell_type": "code",
   "execution_count": 9,
   "metadata": {},
   "outputs": [],
   "source": [
    "sock.connect((\"gnu.org\", 80)) # (hostname, portnumber)"
   ]
  },
  {
   "cell_type": "code",
   "execution_count": 10,
   "metadata": {},
   "outputs": [
    {
     "name": "stdout",
     "output_type": "stream",
     "text": [
      "<_io.TextIOWrapper name=1824 mode='r' encoding='cp1252'> <_io.TextIOWrapper name=1824 mode='w' encoding='cp1252'>\n"
     ]
    }
   ],
   "source": [
    "ins = sock.makefile(\"r\")\n",
    "outs = sock.makefile(\"w\")\n",
    "print(ins, outs)"
   ]
  },
  {
   "cell_type": "code",
   "execution_count": 11,
   "metadata": {},
   "outputs": [],
   "source": [
    "outs.write(request)\n",
    "outs.flush()\n"
   ]
  },
  {
   "cell_type": "code",
   "execution_count": 12,
   "metadata": {},
   "outputs": [
    {
     "name": "stdout",
     "output_type": "stream",
     "text": [
      "HTTP/1.1 301 Moved Permanently\n",
      "\n",
      "Date: Sun, 03 Nov 2024 14:35:13 GMT\n",
      "\n",
      "Server: Apache\n",
      "\n",
      "Strict-Transport-Security: max-age=63072000; includeSubDomains; preload\n",
      "\n",
      "X-Frame-Options: sameorigin\n",
      "\n",
      "X-Content-Type-Options: nosniff\n",
      "\n",
      "Location: http://www.gnu.org/\n",
      "\n",
      "Content-Length: 227\n",
      "\n",
      "Keep-Alive: timeout=5, max=100\n",
      "\n",
      "Connection: Keep-Alive\n",
      "\n",
      "Content-Type: text/html; charset=iso-8859-1\n",
      "\n",
      "\n",
      "\n",
      "<!DOCTYPE HTML PUBLIC \"-//IETF//DTD HTML 2.0//EN\">\n",
      "\n",
      "<html><head>\n",
      "\n",
      "<title>301 Moved Permanently</title>\n",
      "\n",
      "</head><body>\n",
      "\n",
      "<h1>Moved Permanently</h1>\n",
      "\n",
      "<p>The document has moved <a href=\"http://www.gnu.org/\">here</a>.</p>\n",
      "\n",
      "</body></html>\n",
      "\n"
     ]
    }
   ],
   "source": [
    "for line in ins:\n",
    "    print(line)"
   ]
  }
 ],
 "metadata": {
  "kernelspec": {
   "display_name": "Python 3",
   "language": "python",
   "name": "python3"
  },
  "language_info": {
   "codemirror_mode": {
    "name": "ipython",
    "version": 3
   },
   "file_extension": ".py",
   "mimetype": "text/x-python",
   "name": "python",
   "nbconvert_exporter": "python",
   "pygments_lexer": "ipython3",
   "version": "3.10.2"
  }
 },
 "nbformat": 4,
 "nbformat_minor": 2
}
