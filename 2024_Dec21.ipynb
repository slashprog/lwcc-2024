{
 "cells": [
  {
   "cell_type": "markdown",
   "metadata": {},
   "source": [
    "### LWCC  Session 54 - December 21st 2024\n",
    "\n",
    "#### Basic Database Management - Overview - Part 4\n"
   ]
  },
  {
   "cell_type": "markdown",
   "metadata": {},
   "source": [
    "#### Create a simple user authentication database\n",
    "\n",
    "1. Frontend:\n",
    "   - Authenticate a user based on username and password\n",
    "\n",
    "2. Management Backend:\n",
    "   - Add a user account (username, password, fullname, role)\n",
    "   - Modify user account details:\n",
    "      - Change password\n",
    "      - Change role / fullname\n",
    "   - Delete user account (for a given username)\n",
    "   - List all user accounts\n",
    "\n",
    "3. Database Adaptor (Abstraction layer to work on databases)"
   ]
  },
  {
   "cell_type": "markdown",
   "metadata": {},
   "source": [
    "In real-world scenarios, Object-Relational-Mappers (a.k.a DataMappers) provide the functionality of adaptor for databases to OOP\n"
   ]
  },
  {
   "cell_type": "code",
   "execution_count": null,
   "metadata": {},
   "outputs": [],
   "source": [
    "class Users:\n",
    "    def __init__(self, adaptor):\n",
    "        self.adaptor = adaptor\n",
    "\n",
    "    def __enter__(self):\n",
    "        self.adaptor.connect()\n",
    "        return self \n",
    "\n",
    "    def __exit__(self, et, ev, tb):\n",
    "        \n",
    "\n",
    "adaptor = SQLite3Adaptor(dsn=\"userdb\")\n",
    "\n",
    "with UserDB(adaptor) as users:\n",
    "    users.add(name=\"john\", password=\"john123\", fullname=\"John Doe\", role=\"staff\")\n",
    "    users.modify(name=\"john\", password=\"secret\")\n",
    "    users.delete(name=\"john\")\n",
    "    print(users.get(name=\"john\"))\n"
   ]
  },
  {
   "cell_type": "code",
   "execution_count": null,
   "metadata": {},
   "outputs": [],
   "source": [
    "class Users:\n",
    "    def __init__(self, adaptor):\n",
    "        self.adaptor = adaptor\n",
    "\n",
    "    def __enter__(self):\n",
    "        self.adaptor.connect()\n",
    "        return self \n",
    "\n",
    "    def __exit__(self, et, ev, tb):\n",
    "        \n",
    "\n",
    "adaptor = SQLite3Adaptor(dsn=\"userdb\")\n",
    "\n",
    "with Users(adaptor) as users:\n",
    "    users.schema = {\"name\": \"varchar(32)\", \"password\": \"varchar(32)\", \"fullname\": \"varchar(32)\"}\n",
    "    users[\"john\"] = Users.Record(name=\"john\", password=\"john123\", fullname=\"John Doe\", role=\"staff\")\n",
    "    print(users[\"john\"]) # Print the Record for \"john\"\n",
    "    users[\"john\"][\"password\"] = \"secret\"\n",
    "    print(users[\"john\"][\"fullname\"])\n",
    "    print(users[\"*\"][\"fullname\"]) # users.fullname\n",
    "\n",
    "\n",
    "    users.add(name=\"john\", password=\"john123\", fullname=\"John Doe\", role=\"staff\")\n",
    "    users.modify(name=\"john\", password=\"secret\")\n",
    "    users.delete(name=\"john\")\n",
    "    print(users.get(name=\"john\"))\n"
   ]
  },
  {
   "cell_type": "code",
   "execution_count": 3,
   "metadata": {},
   "outputs": [
    {
     "name": "stdout",
     "output_type": "stream",
     "text": [
      "called\n"
     ]
    }
   ],
   "source": [
    "class Test:\n",
    "    def __call__(self):\n",
    "        print(\"called\")\n",
    "\n",
    "t = Test()\n",
    "t()"
   ]
  },
  {
   "cell_type": "code",
   "execution_count": 5,
   "metadata": {},
   "outputs": [
    {
     "name": "stdout",
     "output_type": "stream",
     "text": [
      "0\n",
      "1\n",
      "2\n",
      "3\n"
     ]
    }
   ],
   "source": [
    "class Test:\n",
    "    def __init__(self):\n",
    "        self.i = 0\n",
    "\n",
    "    def __iter__(self):\n",
    "        return self\n",
    "    \n",
    "    def __next__(self):\n",
    "        v = self.i\n",
    "        self.i += 1\n",
    "        if self.i > 4:\n",
    "            raise StopIteration()\n",
    "        return v\n",
    "    \n",
    "\n",
    "t = Test()\n",
    "for v in t:\n",
    "    print(v)"
   ]
  },
  {
   "cell_type": "code",
   "execution_count": 14,
   "metadata": {},
   "outputs": [
    {
     "name": "stdout",
     "output_type": "stream",
     "text": [
      "0\n",
      "1\n",
      "4\n",
      "9\n",
      "16\n"
     ]
    }
   ],
   "source": [
    "class Test:\n",
    "    def __getitem__(self, idx):\n",
    "        if idx > 4:\n",
    "            raise IndexError(str(idx))\n",
    "        return idx * idx\n",
    "    \n",
    "t = Test()\n",
    "for v in t:\n",
    "    print(v)"
   ]
  },
  {
   "cell_type": "code",
   "execution_count": 8,
   "metadata": {},
   "outputs": [
    {
     "data": {
      "text/plain": [
       "['__add__',\n",
       " '__class__',\n",
       " '__class_getitem__',\n",
       " '__contains__',\n",
       " '__delattr__',\n",
       " '__delitem__',\n",
       " '__dir__',\n",
       " '__doc__',\n",
       " '__eq__',\n",
       " '__format__',\n",
       " '__ge__',\n",
       " '__getattribute__',\n",
       " '__getitem__',\n",
       " '__getstate__',\n",
       " '__gt__',\n",
       " '__hash__',\n",
       " '__iadd__',\n",
       " '__imul__',\n",
       " '__init__',\n",
       " '__init_subclass__',\n",
       " '__iter__',\n",
       " '__le__',\n",
       " '__len__',\n",
       " '__lt__',\n",
       " '__mul__',\n",
       " '__ne__',\n",
       " '__new__',\n",
       " '__reduce__',\n",
       " '__reduce_ex__',\n",
       " '__repr__',\n",
       " '__reversed__',\n",
       " '__rmul__',\n",
       " '__setattr__',\n",
       " '__setitem__',\n",
       " '__sizeof__',\n",
       " '__str__',\n",
       " '__subclasshook__',\n",
       " 'append',\n",
       " 'clear',\n",
       " 'copy',\n",
       " 'count',\n",
       " 'extend',\n",
       " 'index',\n",
       " 'insert',\n",
       " 'pop',\n",
       " 'remove',\n",
       " 'reverse',\n",
       " 'sort']"
      ]
     },
     "execution_count": 8,
     "metadata": {},
     "output_type": "execute_result"
    }
   ],
   "source": [
    "a = [10, 20, 30]\n",
    "dir(a)"
   ]
  },
  {
   "cell_type": "code",
   "execution_count": 13,
   "metadata": {},
   "outputs": [
    {
     "name": "stdout",
     "output_type": "stream",
     "text": [
      "Index is 6\n",
      "36\n"
     ]
    }
   ],
   "source": [
    "class Test:\n",
    "    def __getitem__(self, index):\n",
    "        print(\"Index is\", index)\n",
    "        return index * index\n",
    "\n",
    "t = Test()\n",
    "\n",
    "v = t[6]\n",
    "print(v)\n"
   ]
  }
 ],
 "metadata": {
  "kernelspec": {
   "display_name": "Python 3",
   "language": "python",
   "name": "python3"
  },
  "language_info": {
   "codemirror_mode": {
    "name": "ipython",
    "version": 3
   },
   "file_extension": ".py",
   "mimetype": "text/x-python",
   "name": "python",
   "nbconvert_exporter": "python",
   "pygments_lexer": "ipython3",
   "version": "3.12.5"
  }
 },
 "nbformat": 4,
 "nbformat_minor": 2
}
