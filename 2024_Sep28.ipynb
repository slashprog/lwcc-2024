{
 "cells": [
  {
   "cell_type": "markdown",
   "metadata": {},
   "source": [
    "### LWCC  Session 36 - September 28th 2024\n",
    "\n",
    "#### Introduction to Decorators\n"
   ]
  },
  {
   "cell_type": "markdown",
   "metadata": {},
   "source": [
    "Decorators provide a mechanism to handle \"cross-cutting concerns\" by wrapping a target object"
   ]
  },
  {
   "cell_type": "code",
   "execution_count": 2,
   "metadata": {},
   "outputs": [
    {
     "data": {
      "text/plain": [
       "100"
      ]
     },
     "execution_count": 2,
     "metadata": {},
     "output_type": "execute_result"
    }
   ],
   "source": [
    "class Total:\n",
    "    def __init__(self):\n",
    "        self.total = 0\n",
    "\n",
    "    def __call__(self, v=0):\n",
    "        self.total += v\n",
    "        return self.total\n",
    "    \n",
    "t = Total() \n",
    "t(10)\n",
    "t(20)\n",
    "t(30)\n",
    "t(40)"
   ]
  },
  {
   "cell_type": "code",
   "execution_count": 31,
   "metadata": {},
   "outputs": [
    {
     "name": "stdout",
     "output_type": "stream",
     "text": [
      "<__main__.Total object at 0x000001A71561EC90> <class '__main__.Total'>\n",
      "<class '__main__.Total'> <class 'type'>\n",
      "['__abstractmethods__', '__annotations__', '__base__', '__bases__', '__basicsize__', '__call__', '__class__', '__delattr__', '__dict__', '__dictoffset__', '__dir__', '__doc__', '__eq__', '__flags__', '__format__', '__ge__', '__getattribute__', '__getstate__', '__gt__', '__hash__', '__init__', '__init_subclass__', '__instancecheck__', '__itemsize__', '__le__', '__lt__', '__module__', '__mro__', '__name__', '__ne__', '__new__', '__or__', '__prepare__', '__qualname__', '__reduce__', '__reduce_ex__', '__repr__', '__ror__', '__setattr__', '__sizeof__', '__str__', '__subclasscheck__', '__subclasses__', '__subclasshook__', '__text_signature__', '__type_params__', '__weakrefoffset__', 'mro']\n",
      "['__class__', '__delattr__', '__dict__', '__dir__', '__doc__', '__eq__', '__format__', '__ge__', '__getattribute__', '__getstate__', '__gt__', '__hash__', '__init__', '__init_subclass__', '__le__', '__lt__', '__module__', '__ne__', '__new__', '__reduce__', '__reduce_ex__', '__repr__', '__setattr__', '__sizeof__', '__str__', '__subclasshook__', '__weakref__']\n"
     ]
    }
   ],
   "source": [
    "class Total: pass\n",
    "\n",
    "t = Total()\n",
    "print(t, type(t))\n",
    "print(Total, type(Total))\n",
    "print(dir(type))\n",
    "print(dir(Total))"
   ]
  },
  {
   "cell_type": "code",
   "execution_count": 34,
   "metadata": {},
   "outputs": [
    {
     "name": "stdout",
     "output_type": "stream",
     "text": [
      "<class '__main__.Foo'>\n"
     ]
    }
   ],
   "source": [
    "#class Foo: pass\n",
    "Foo = type(\"Foo\", (), {})\n",
    "print(Foo)"
   ]
  },
  {
   "cell_type": "code",
   "execution_count": 44,
   "metadata": {},
   "outputs": [
    {
     "name": "stdout",
     "output_type": "stream",
     "text": [
      "<class '__main__.SUV'>\n",
      "SUV\n",
      "(<class '__main__.Car'>,)\n",
      "{'color': 'white', '__module__': '__main__', '__doc__': None}\n",
      "(<class 'object'>,)\n",
      "(<class 'object'>,) ()\n",
      "<class 'type'> <class 'type'>\n"
     ]
    }
   ],
   "source": [
    "class Car: pass\n",
    "#class SUV(Car):\n",
    "#    color = \"white\"\n",
    "\n",
    "SUV = type(\"SUV\", (Car,), {\"color\": \"white\"})\n",
    "print(SUV)\n",
    "print(SUV.__name__)\n",
    "print(SUV.__bases__)\n",
    "print(SUV.__dict__)\n",
    "print(Car.__bases__)\n",
    "print(type.__bases__, object.__bases__)\n",
    "print(object.__class__, type.__class__)\n"
   ]
  },
  {
   "cell_type": "code",
   "execution_count": 24,
   "metadata": {},
   "outputs": [
    {
     "ename": "TypeError",
     "evalue": "'int' object is not callable",
     "output_type": "error",
     "traceback": [
      "\u001b[1;31m---------------------------------------------------------------------------\u001b[0m",
      "\u001b[1;31mTypeError\u001b[0m                                 Traceback (most recent call last)",
      "Cell \u001b[1;32mIn[24], line 2\u001b[0m\n\u001b[0;32m      1\u001b[0m a \u001b[38;5;241m=\u001b[39m \u001b[38;5;28mint\u001b[39m(\u001b[38;5;241m3.4\u001b[39m)\n\u001b[1;32m----> 2\u001b[0m \u001b[43ma\u001b[49m\u001b[43m(\u001b[49m\u001b[43m)\u001b[49m\n",
      "\u001b[1;31mTypeError\u001b[0m: 'int' object is not callable"
     ]
    }
   ],
   "source": [
    "a = int(3.4)\n",
    "a()"
   ]
  },
  {
   "cell_type": "code",
   "execution_count": 8,
   "metadata": {},
   "outputs": [
    {
     "ename": "TypeError",
     "evalue": "can't multiply sequence by non-int of type 'str'",
     "output_type": "error",
     "traceback": [
      "\u001b[1;31m---------------------------------------------------------------------------\u001b[0m",
      "\u001b[1;31mTypeError\u001b[0m                                 Traceback (most recent call last)",
      "Cell \u001b[1;32mIn[8], line 11\u001b[0m\n\u001b[0;32m      8\u001b[0m     \u001b[38;5;28;01mreturn\u001b[39;00m x\u001b[38;5;241m*\u001b[39mx\u001b[38;5;241m*\u001b[39mx\n\u001b[0;32m     10\u001b[0m square(\u001b[38;5;124m\"\u001b[39m\u001b[38;5;124mhello\u001b[39m\u001b[38;5;124m\"\u001b[39m)\n\u001b[1;32m---> 11\u001b[0m \u001b[43mcube\u001b[49m\u001b[43m(\u001b[49m\u001b[38;5;124;43m\"\u001b[39;49m\u001b[38;5;124;43mwelcome\u001b[39;49m\u001b[38;5;124;43m\"\u001b[39;49m\u001b[43m)\u001b[49m\n",
      "Cell \u001b[1;32mIn[8], line 8\u001b[0m, in \u001b[0;36mcube\u001b[1;34m(x)\u001b[0m\n\u001b[0;32m      7\u001b[0m \u001b[38;5;28;01mdef\u001b[39;00m \u001b[38;5;21mcube\u001b[39m(x):\n\u001b[1;32m----> 8\u001b[0m     \u001b[38;5;28;01mreturn\u001b[39;00m \u001b[43mx\u001b[49m\u001b[38;5;241;43m*\u001b[39;49m\u001b[43mx\u001b[49m\u001b[38;5;241m*\u001b[39mx\n",
      "\u001b[1;31mTypeError\u001b[0m: can't multiply sequence by non-int of type 'str'"
     ]
    }
   ],
   "source": [
    "def square(x):\n",
    "    if type(x) not in (int, float):\n",
    "        return 0\n",
    "    else:\n",
    "        return x*x\n",
    "\n",
    "def cube(x):\n",
    "    if type(x) not in (int, float):\n",
    "        return 0\n",
    "    else:\n",
    "        return x*x*x\n",
    "\n",
    "square(\"hello\")\n",
    "cube(\"welcome\")"
   ]
  },
  {
   "cell_type": "code",
   "execution_count": 45,
   "metadata": {},
   "outputs": [
    {
     "name": "stdout",
     "output_type": "stream",
     "text": [
      "Validate invoked: fn = <function square at 0x000001A715AD3B00>\n",
      "square is <__main__.Validate object at 0x000001A715591550> <class '__main__.Validate'>\n",
      "Validate.__call__ invoked with v = 2\n"
     ]
    },
    {
     "data": {
      "text/plain": [
       "4"
      ]
     },
     "execution_count": 45,
     "metadata": {},
     "output_type": "execute_result"
    }
   ],
   "source": [
    "class Validate:\n",
    "    def __init__(self, fn):\n",
    "        print(\"Validate invoked: fn =\", fn)\n",
    "        self.fn = fn\n",
    "\n",
    "    def __call__(self, v):\n",
    "        print(\"Validate.__call__ invoked with v =\", v)\n",
    "        return self.fn(v)\n",
    "\n",
    "@Validate\n",
    "def square(x):   # square = Validate(square)\n",
    "    return x*x\n",
    "\n",
    "def cube(x):\n",
    "    return x*x*x\n",
    "\n",
    "def factorial(n):\n",
    "    fact = 1\n",
    "    for i in range(1, n+1):\n",
    "        fact *= i\n",
    "    return fact\n",
    "\n",
    "\n",
    "print(\"square is\", square, type(square))\n",
    "square(2)\n"
   ]
  },
  {
   "cell_type": "code",
   "execution_count": 53,
   "metadata": {},
   "outputs": [
    {
     "data": {
      "text/plain": [
       "0"
      ]
     },
     "execution_count": 53,
     "metadata": {},
     "output_type": "execute_result"
    }
   ],
   "source": [
    "class Validate:\n",
    "    def __init__(self, fn):\n",
    "        #print(\"Validate invoked: fn =\", fn)\n",
    "        self.fn = fn\n",
    "\n",
    "    def __call__(self, v):\n",
    "        if type(v) in (int, float):\n",
    "            return self.fn(v)\n",
    "        else:\n",
    "            return 0\n",
    "\n",
    "@Validate\n",
    "def square(x):   # square = Validate(square)\n",
    "    return x*x\n",
    "\n",
    "@Validate\n",
    "def cube(x):\n",
    "    return x*x*x\n",
    "\n",
    "@Validate\n",
    "def factorial(n):\n",
    "    fact = 1\n",
    "    for i in range(1, n+1):\n",
    "        fact *= i\n",
    "    return fact\n",
    "\n",
    "\n",
    "#print(\"square is\", square, type(square))\n",
    "square(2)\n",
    "square(\"hello\")\n",
    "\n",
    "cube(\"hello\")\n",
    "factorial(\"5\")"
   ]
  },
  {
   "cell_type": "code",
   "execution_count": 54,
   "metadata": {},
   "outputs": [
    {
     "name": "stdout",
     "output_type": "stream",
     "text": [
      "_attributes\n",
      "attribute1\n",
      "end\n",
      "{'attribute1': 10}\n"
     ]
    }
   ],
   "source": [
    "class DynamicClass:\n",
    "    def __init__(self):\n",
    "        self._attributes = {}\n",
    "        \n",
    "    def __getattr__(self,name):\n",
    "        if name in self._attributes:\n",
    "            return self._attributes[name]\n",
    "            \n",
    "        raise AttributeError(f\"'DynamicClass' object has no attribute '{name}'\")\n",
    "    \n",
    "    def __setattr__(self,name,value):\n",
    "        if name ==\"_attributes\":\n",
    "            super().__setattr__(name,value)\n",
    "        else:\n",
    "            self._attributes[name] = value \n",
    "            \n",
    "        print(name)\n",
    "       \n",
    "obj = DynamicClass()\n",
    "obj.attribute1 = 10\n",
    "print(\"end\")\n",
    "print(obj._attributes)\n"
   ]
  },
  {
   "cell_type": "code",
   "execution_count": 63,
   "metadata": {},
   "outputs": [
    {
     "name": "stdout",
     "output_type": "stream",
     "text": [
      "__init__ invoked...\n",
      "__setattr__ invoked a='name', v='John'\n",
      "__setattr__ invoked a='role', v='Developer'\n",
      "__setattr__ invoked a='place', v='Seattle'\n"
     ]
    },
    {
     "data": {
      "text/plain": [
       "'John'"
      ]
     },
     "execution_count": 63,
     "metadata": {},
     "output_type": "execute_result"
    }
   ],
   "source": [
    "class Test:\n",
    "    def __init__(self):\n",
    "        print(\"__init__ invoked...\")\n",
    "        #self.attrs = {}  # Test.__setattr__(self, \"attrs\", {})\n",
    "        self.__dict__[\"attrs\"] = {}\n",
    "\n",
    "    def __setattr__(self, a, v):\n",
    "        print(f\"__setattr__ invoked {a=}, {v=}\")\n",
    "        self.__dict__[\"attrs\"][a] = v\n",
    "\n",
    "    def __getattr__(self, a):\n",
    "        return self.__dict__[\"attrs\"][a]\n",
    "    \n",
    "t = Test()\n",
    "\n",
    "t.name = \"John\"\n",
    "t.role = \"Developer\"\n",
    "t.place = \"Seattle\"\n",
    "\n",
    "t.attrs\n",
    "t.name"
   ]
  },
  {
   "cell_type": "code",
   "execution_count": 65,
   "metadata": {},
   "outputs": [
    {
     "name": "stdout",
     "output_type": "stream",
     "text": [
      "John Doe 34\n"
     ]
    }
   ],
   "source": [
    "class User:\n",
    "    \n",
    "    def name(self):\n",
    "        return self.__name.title()\n",
    "    \n",
    "    def set_name(self, value):\n",
    "        if type(value) is str and value.replace(\" \", \"\").isalnum():\n",
    "            self.__name = value\n",
    "        else:\n",
    "            raise AttributeError(\"name must be a alphanumeric string\")\n",
    "\n",
    "    def age(self):\n",
    "        return self.__age\n",
    "    \n",
    "    def set_age(self, value):\n",
    "        if type(value) is int and 1 <= value <= 150:\n",
    "            self.__age = value\n",
    "        else:\n",
    "            raise AttributeError(\"age must be a integer within the range (1 to 150)\")\n",
    "    \n",
    "\n",
    "u = User()\n",
    "u.set_name(\"john doe\")\n",
    "u.set_age(34)\n",
    "\n",
    "print(u.name(), u.age())"
   ]
  },
  {
   "cell_type": "code",
   "execution_count": 71,
   "metadata": {},
   "outputs": [
    {
     "name": "stdout",
     "output_type": "stream",
     "text": [
      "John Doe 34\n",
      "['_User__age', '_User__name', '__class__', '__delattr__', '__dict__', '__dir__', '__doc__', '__eq__', '__format__', '__ge__', '__getattribute__', '__getstate__', '__gt__', '__hash__', '__init__', '__init_subclass__', '__le__', '__lt__', '__module__', '__ne__', '__new__', '__reduce__', '__reduce_ex__', '__repr__', '__setattr__', '__sizeof__', '__str__', '__subclasshook__', '__weakref__', 'age', 'name', 'set_age', 'set_name']\n",
      "{'_User__name': 'john doe', '_User__age': 34}\n",
      "34\n"
     ]
    }
   ],
   "source": [
    "class User:\n",
    "    \n",
    "    @property\n",
    "    def name(self):\n",
    "        return self.__name.title()\n",
    "    \n",
    "    @name.setter\n",
    "    def name(self, value):\n",
    "        if type(value) is str and value.replace(\" \", \"\").isalnum():\n",
    "            self.__name = value\n",
    "        else:\n",
    "            raise AttributeError(\"name must be a alphanumeric string\")\n",
    "\n",
    "    @property\n",
    "    def age(self):\n",
    "        return self.__age\n",
    "    \n",
    "    @age.setter\n",
    "    def age(self, value):\n",
    "        if type(value) is int and 1 <= value <= 150:\n",
    "            self.__age = value\n",
    "        else:\n",
    "            raise AttributeError(\"age must be a integer within the range (1 to 150)\")\n",
    "    \n",
    "\n",
    "u = User()\n",
    "#u.set_name(\"john doe\")\n",
    "u.name = \"john doe\"  # User.__setattr__(u, \"name\", \"john doe\") --> User.name(u, \"john doe\")\n",
    "u.set_age(34)\n",
    "\n",
    "print(u.name, u.age)\n",
    "print(dir(u))\n",
    "print(u.__dict__)\n",
    "print(u.age)"
   ]
  }
 ],
 "metadata": {
  "kernelspec": {
   "display_name": "Python 3",
   "language": "python",
   "name": "python3"
  },
  "language_info": {
   "codemirror_mode": {
    "name": "ipython",
    "version": 3
   },
   "file_extension": ".py",
   "mimetype": "text/x-python",
   "name": "python",
   "nbconvert_exporter": "python",
   "pygments_lexer": "ipython3",
   "version": "3.12.5"
  }
 },
 "nbformat": 4,
 "nbformat_minor": 2
}
