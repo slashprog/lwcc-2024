{
 "cells": [
  {
   "cell_type": "markdown",
   "metadata": {},
   "source": [
    "### LWCC  Session 45 - November 02 2024\n",
    "\n",
    "#### Introduction to Network Programming\n"
   ]
  },
  {
   "cell_type": "markdown",
   "metadata": {},
   "source": [
    "DHCP -> Dynamic Host Configuration Protocol\n",
    "IP Masquerading / NAT (Network Address Translation)\n",
    "DNS -> Domain Naming system\n",
    "\n",
    "Private IPv4 addresses:\n",
    "   10.x.x.x\n",
    "   172.16.x.x ~ 172.31.x.x\n",
    "   192.168.x.x\n",
    "\n",
    "Local Loopback address:\n",
    "   Localhost -> 127.0.0.1\n",
    "   "
   ]
  },
  {
   "cell_type": "code",
   "execution_count": 5,
   "metadata": {},
   "outputs": [
    {
     "name": "stdout",
     "output_type": "stream",
     "text": [
      "<class 'socket.socket'>\n",
      "<socket.socket fd=1220, family=2, type=1, proto=0>\n",
      "2 1\n"
     ]
    }
   ],
   "source": [
    "from socket import socket, AF_INET, SOCK_STREAM\n",
    "print(socket)\n",
    "s = socket(AF_INET, SOCK_STREAM)\n",
    "print(s)\n",
    "print(AF_INET, SOCK_STREAM)\n",
    "\n"
   ]
  }
 ],
 "metadata": {
  "kernelspec": {
   "display_name": "Python 3",
   "language": "python",
   "name": "python3"
  },
  "language_info": {
   "codemirror_mode": {
    "name": "ipython",
    "version": 3
   },
   "file_extension": ".py",
   "mimetype": "text/x-python",
   "name": "python",
   "nbconvert_exporter": "python",
   "pygments_lexer": "ipython3",
   "version": "3.12.5"
  }
 },
 "nbformat": 4,
 "nbformat_minor": 2
}
