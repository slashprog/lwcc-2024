{
 "cells": [
  {
   "cell_type": "markdown",
   "metadata": {},
   "source": [
    "### LWCC  Session 30 - September 7th 2024\n",
    "\n",
    "#### Special methods (contd.)"
   ]
  },
  {
   "cell_type": "code",
   "execution_count": 1,
   "metadata": {},
   "outputs": [
    {
     "data": {
      "text/plain": [
       "<__main__.Test at 0x1644d7d34c0>"
      ]
     },
     "execution_count": 1,
     "metadata": {},
     "output_type": "execute_result"
    }
   ],
   "source": [
    "# Creating custom callable objects\n",
    "class Test:\n",
    "    def __call__(self, *args):\n",
    "        print(\"call invoked with args =\", args)\n",
    "\n",
    "t = Test() # Constructor\n",
    "t\n"
   ]
  },
  {
   "cell_type": "code",
   "execution_count": 2,
   "metadata": {},
   "outputs": [
    {
     "name": "stdout",
     "output_type": "stream",
     "text": [
      "call invoked with args = ()\n"
     ]
    }
   ],
   "source": [
    "t()"
   ]
  },
  {
   "cell_type": "code",
   "execution_count": 3,
   "metadata": {},
   "outputs": [
    {
     "name": "stdout",
     "output_type": "stream",
     "text": [
      "testfn: v = 10\n",
      "testfn: v = 20\n"
     ]
    }
   ],
   "source": [
    "def testfn(v):\n",
    "    print(\"testfn: v =\", v)\n",
    "\n",
    "testfn(10)\n",
    "testfn(20)"
   ]
  },
  {
   "cell_type": "code",
   "execution_count": 4,
   "metadata": {},
   "outputs": [
    {
     "name": "stdout",
     "output_type": "stream",
     "text": [
      "Accumulated total = 60\n"
     ]
    }
   ],
   "source": [
    "class Total:  # Simple example of a \"State-Pattern\"\n",
    "    def __init__(self):\n",
    "        self.total = 0\n",
    "\n",
    "    def __call__(self, v=0):\n",
    "        self.total += v\n",
    "        return self.total\n",
    "\n",
    "t = Total()\n",
    "t(10)\n",
    "t(20)\n",
    "t(30)\n",
    "print(\"Accumulated total =\", t())"
   ]
  },
  {
   "cell_type": "code",
   "execution_count": 12,
   "metadata": {},
   "outputs": [
    {
     "name": "stdout",
     "output_type": "stream",
     "text": [
      "square invoked with x = 2\n"
     ]
    },
    {
     "data": {
      "text/plain": [
       "4"
      ]
     },
     "execution_count": 12,
     "metadata": {},
     "output_type": "execute_result"
    }
   ],
   "source": [
    "def square(x):\n",
    "    print(\"square invoked with x =\", x)\n",
    "    return x*x\n",
    "\n",
    "square(2)"
   ]
  },
  {
   "cell_type": "code",
   "execution_count": 44,
   "metadata": {},
   "outputs": [],
   "source": [
    "class FunctionCache: # A simple example of a \"Memoize Pattern\"\n",
    "    def __init__(self, fn):\n",
    "        self.fn = fn\n",
    "        self.fn_cache = {}\n",
    "\n",
    "    def __call__(self, *args, **kwargs):\n",
    "        key = str(args) + str(kwargs)\n",
    "        if key not in self.fn_cache:\n",
    "            result = self.fn(*args, **kwargs)\n",
    "            self.fn_cache[key] = result\n",
    "        return self.fn_cache[key]\n",
    "    \n",
    "#f = FunctionCache(0)\n",
    "#f(10, 20, 30, x=\"Hello\", y=\"test\")"
   ]
  },
  {
   "cell_type": "code",
   "execution_count": 45,
   "metadata": {},
   "outputs": [
    {
     "name": "stdout",
     "output_type": "stream",
     "text": [
      "square invoked with x = 2\n"
     ]
    },
    {
     "data": {
      "text/plain": [
       "4"
      ]
     },
     "execution_count": 45,
     "metadata": {},
     "output_type": "execute_result"
    }
   ],
   "source": [
    "sqr = FunctionCache(square)\n",
    "sqr(2)"
   ]
  },
  {
   "cell_type": "code",
   "execution_count": 49,
   "metadata": {},
   "outputs": [
    {
     "name": "stdout",
     "output_type": "stream",
     "text": [
      "square invoked with x = 34\n"
     ]
    },
    {
     "data": {
      "text/plain": [
       "1156"
      ]
     },
     "execution_count": 49,
     "metadata": {},
     "output_type": "execute_result"
    }
   ],
   "source": [
    "sqr(34)"
   ]
  },
  {
   "cell_type": "code",
   "execution_count": 50,
   "metadata": {},
   "outputs": [
    {
     "data": {
      "text/plain": [
       "{'(2,){}': 4, '(6,){}': 36, '(8,){}': 64, '(34,){}': 1156}"
      ]
     },
     "execution_count": 50,
     "metadata": {},
     "output_type": "execute_result"
    }
   ],
   "source": [
    "sqr.fn_cache"
   ]
  },
  {
   "cell_type": "code",
   "execution_count": 24,
   "metadata": {},
   "outputs": [
    {
     "data": {
      "text/plain": [
       "25"
      ]
     },
     "execution_count": 24,
     "metadata": {},
     "output_type": "execute_result"
    }
   ],
   "source": [
    "sqr(5)"
   ]
  },
  {
   "cell_type": "code",
   "execution_count": 32,
   "metadata": {},
   "outputs": [
    {
     "name": "stdout",
     "output_type": "stream",
     "text": [
      "200\n"
     ]
    }
   ],
   "source": [
    "from urllib.request import urlopen\n",
    "\n",
    "res = urlopen(\"https://chandrashekar.info/\")\n",
    "\n",
    "content = res.read()\n",
    "print(res.code)\n"
   ]
  },
  {
   "cell_type": "code",
   "execution_count": 30,
   "metadata": {},
   "outputs": [
    {
     "data": {
      "text/plain": [
       "b'<!DOCTYPE HTML>\\n<!--\\n\\tHalcyonic by HTML5 UP\\n\\thtml5up.net | @ajlkn\\n\\tFree for personal and commercial use under the CCA 3.0 license (html5up.net/license)\\n-->\\n<html>\\n\\n<head>\\n  <title>Chandrashekar Babu | Home | Experienced FOSS Technologist and Corporate Trainer for Linux Kernel, Python, Ruby, Perl, Apache web server, MariaDB administration, Software design principles, Git, Crystal, Core Java, Clojure, Go, Rust, Julia, Lua, Tcl, Bash, FreeBSD Internals, PostgreSQL administration and Applied machine learning</title>\\n  <meta charset=\"utf-8\" />\\n  <meta name=\"flattr:id\" content=\"z3572l\">\\n  <meta name=\"viewport\" content=\"width=device-width, initial-scale=1, user-scalable=no\" />\\n  <!-- Webfonts must be source from the current website itself. To be implemented.\\n  <style type=\"text/css\">\\n    @font-face {\\n      font-family:\\'Yanone Kaffeesatz\\';\\n      src: url(\"https://www.chandrashekar.info/themes/chandrashekar_babu_html5up_halcyonic/assets/css/fonts/YanoneKaffeesatz-VariableFont_wght.ttf\") format(\"truetype\");\\n    }\\n  </style> -->\\n  <link rel=\"icon\" type=\"image/x-icon\" href=\"https://www.chandrashekar.info/themes/chandrashekar_babu_html5up_halcyonic/assets/images/favicon.ico\" />\\n  <link href=\"https://www.chandrashekar.info/combine/4ee2f22c3249c25bcab0b3731b014025-1593448564\" rel=\"stylesheet\" />\\n  </head>\\n\\n<body>\\n  <div id=\"page-wrapper\">\\n\\n    <section id=\"header\">\\n      <div class=\"container\">\\n        <div class=\"row\">\\n          <div class=\"col-12\">\\n\\n            <!-- Logo -->\\n            <h1><a href=\"/\" id=\"logo\"><strong>Chandrashekar Babu</strong></a></h1>\\n\\n            <!-- Nav -->\\n            <nav id=\"nav\">\\n                            <a href=\"/\">Home</a>\\n                            <a href=\"/about\">About</a>\\n                            <a href=\"/profile\">Profile</a>\\n                            <a href=\"/calendar\">Calendar</a>\\n                            <a href=\"/blog\">Blog</a>\\n                            <a href=\"/screencasts\">Screencasts</a>\\n                            <a href=\"/bookmarks\">Bookmarks</a>\\n                            <a href=\"/contact\">Contact</a>\\n                          </nav>\\n          </div>\\n        </div>\\n      </div>\\n            <div id=\"banner\">\\n        <div class=\"container\">\\n          <div class=\"row\">\\n            <div class=\"col-12\">\\n\\n              <!-- Banner Copy -->\\n              <p class=\"text-slider\">FOSS Technologist and Corporate Trainer for <span data-id=\\'1\\'><strong class=\\'heading\\'> Linux Kernel</strong></span>\\n\\t\\t\\t\\t\\t\\t\\t<span data-id=\\'2\\'><strong class=\\'heading\\'> Python</strong></span>\\n\\t\\t\\t\\t\\t\\t\\t<span data-id=\\'3\\'><strong class=\\'heading\\'> Ruby</strong></span>\\n\\t\\t\\t\\t\\t\\t\\t<span data-id=\\'4\\'><strong class=\\'heading\\'> Perl</strong></span>\\n\\t\\t\\t\\t\\t\\t\\t<span data-id=\\'5\\'><strong class=\\'heading\\'> Apache web server</strong></span>\\n\\t\\t\\t\\t\\t\\t\\t<span data-id=\\'6\\'><strong class=\\'heading\\'> MariaDB administration</strong></span>\\n\\t\\t\\t\\t\\t\\t\\t<span data-id=\\'7\\'><strong class=\\'heading\\'> Software design principles</strong></span>\\n\\t\\t\\t\\t\\t\\t\\t<span data-id=\\'8\\'><strong class=\\'heading\\'> Git</strong></span>\\n\\t\\t\\t\\t\\t\\t\\t<span data-id=\\'9\\'><strong class=\\'heading\\'> Crystal</strong></span>\\n\\t\\t\\t\\t\\t\\t\\t<span data-id=\\'10\\'><strong class=\\'heading\\'> Core Java</strong></span>\\n\\t\\t\\t\\t\\t\\t\\t<span data-id=\\'11\\'><strong class=\\'heading\\'> Clojure</strong></span>\\n\\t\\t\\t\\t\\t\\t\\t<span data-id=\\'12\\'><strong class=\\'heading\\'> Go</strong></span>\\n\\t\\t\\t\\t\\t\\t\\t<span data-id=\\'13\\'><strong class=\\'heading\\'> Rust</strong></span>\\n\\t\\t\\t\\t\\t\\t\\t<span data-id=\\'14\\'><strong class=\\'heading\\'> Julia</strong></span>\\n\\t\\t\\t\\t\\t\\t\\t<span data-id=\\'15\\'><strong class=\\'heading\\'> Lua</strong></span>\\n\\t\\t\\t\\t\\t\\t\\t<span data-id=\\'16\\'><strong class=\\'heading\\'> Tcl</strong></span>\\n\\t\\t\\t\\t\\t\\t\\t<span data-id=\\'17\\'><strong class=\\'heading\\'> Bash</strong></span>\\n\\t\\t\\t\\t\\t\\t\\t<span data-id=\\'18\\'><strong class=\\'heading\\'> FreeBSD Internals</strong></span>\\n\\t\\t\\t\\t\\t\\t\\t<span data-id=\\'19\\'><strong class=\\'heading\\'> PostgreSQL administration</strong></span>\\n\\t\\t\\t\\t\\t\\t\\t<span data-id=\\'20\\'><strong class=\\'heading\\'> Applied machine learning</strong></span>\\n\\t\\t\\t\\t\\t\\t\\t<br>with 29 years of work experience</p>\\n              <!-- <h3>Engage me on training assignment <a href=\"/profile\" class=\"button-large\">now!</a></h3> -->\\n\\n            </div>\\n           <!-- <div class=\"col-6 col-12-medium imp-medium\">\\n            -->\\n              <!-- Banner Image -->\\n           <!--   <a class=\"bordered-feature-image\" href=\"#\">\\n                <img src=\"https://www.chandrashekar.info/themes/chandrashekar_babu_html5up_halcyonic/assets/images/banner2.jpeg\" alt=\"\" />\\n              </a>\\n\\n\\t   </div> -->\\n          </div>\\n        </div>\\n      </div>\\n\\n          </section>\\n\\n\\n    <section id=\"features\">\\n  <div class=\"container\">\\n    <div class=\"row\">\\n      <div class=\"col-4 col-6-medium col-12-small\">\\n\\n        <!-- Feature #1 -->\\n        <section>\\n          <a class=\"bordered-feature-image\" href=\"#\">\\n            <img src=\"https://www.chandrashekar.info/themes/chandrashekar_babu_html5up_halcyonic/assets/images/iitm_262_128.jpeg\" alt=\"Talk on RaspberryPI at IIT Madras\" />\\n          </a>\\n          <h2>Sharing the light of software freedom since 1997.</h2>\\n          <p>\\n            I stumbled upon <strong>Slackware Linux</strong> in 1995, while on my quest for a free UNIX-like operating system. \\n            After a few weeks of struggle, while trying to install the OS on my home computer (which was a self-assembled \\n            Intel \\'386 based clone of the IBM-PC) and eventually making it work, my perception of software development \\n            changed forever. I was intrigued by the overwhelming amount of code that created a functional yet fully \\n            hackable operating environment.\\n          </p>\\n          <p>\\n            The entire software stack was available with source code freely to anyone \\n            who can review, modify, and redistribute them without constraints. I realized the significance of the \\n            <strong>GNU project</strong> and various other open-source software projects as they strive to protect and empower \\n            the concept of <strong>knowledge freedom</strong>.\\n          </p>\\n\\n          <p>\\n            Since <strong>1997</strong>, I have been on a pedestal of continued exploration, learning, and applying my \\n            skills in the vast ecosystem of Free and Open Source Software (<strong>FOSS</strong> for short). \\n            The GNU/Linux environment exposed me to a whole new world, where ideas and code can be exchanged \\n            freely by professionals, enthusiasts, and hobbyists, without being constrained by boundaries of \\n            race, culture, and geography.\\n          </p>\\n\\n          <p>\\n            During these early years, I hacked on <strong>Linux kernel, bash, sed, awk, Perl, Tcl, PHP, Python, Ruby</strong>,\\n            and various other software tools without knowing that someday, I would be leading my career in the FOSS ecosystem.\\n            Ever since my first encounter with the GNU/Linux environment, I have been mentoring others on concepts and \\n            technologies that revolve around core ideas of knowledge freedom that have always fascinated me.\\n          </p>\\n        </section>\\n\\n      </div>\\n      <div class=\"col-4 col-6-medium col-12-small\">\\n\\n        <!-- Feature #2 -->\\n        <section>\\n          <a class=\"bordered-feature-image\" href=\"#\">\\n            <img src=\"https://www.chandrashekar.info/themes/chandrashekar_babu_html5up_halcyonic/assets/images/motorola_penang_262_128.jpeg\"\\n              alt=\"Python training for Motorola, Malaysia\" />\\n          </a>\\n          <h2>Corporate training expertise</h2>\\n          <p>\\n            In my few years of exposure to FOSS, my technical knowledge and skills widened into areas that included -\\n            kernel internals, device driver development, systems programming, database\\n            design/development/administration, systems administration, systems security, web development, various\\n            programming and scripting languages. In the year 2003, I transitioned from being a software developer \\n            to a freelance consultant and corporate trainer.\\n          </p>\\n            \\n          <p>\\n            Since 2003, I worked as a freelance consultant with various organizations on short-term projects that \\n            involved Free/Open Source Software. This experience refined my knowledge and thought-process in implementing\\n            solutions using FOSS. I also delivered corporate training programs for niche technology topics on \\n            FOSS between freelance consulting engagements. My experience in freelance consulting also helped me in sharing \\n            more real-world problem-statements and examples as part of my training programs.\\n          </p>\\n          <!--\\n            During spare time \\n            and weekends, I conducted open-house training sessions for students, enthusiasts and professionals on various \\n            topics related to Linux administration and scripting.\\n          </p> -->\\n\\n          <p>\\n            From 2007 onwards, I further transitioned to becoming a full-time corporate trainer due to the immense demand\\n            for training requirements on the FOSS-related technology domain. Since then, I have delivered corporate \\n            training programs to various top tech organizations on Python, Ruby, Perl, PHP, Linux Kernel Internals \\n            and Device Drivers, FreeBSD Internals and System Programming, Tcl/Tk, C Programming, Clojure, Java, Scala, Rust,\\n            Go, Rails, Apache Web Server Administration, Git, Linux Administration, Database design/development/administration\\n            using PostgreSQL/MySQL/MariaDB/MongoDB/InfluxDB, Redis, RabbitMQ, Linux Security, Data Analytics using Pandas/Agate,\\n            Applied Machine Learning using Scikit-Learn, PyTorch and TensorFlow, Software Design Principles \\n            (Design Patterns, SOLID, GRASP, DRY, KISS, YAGNI) and Agile Software Methodologies.  \\n          </p>\\n        </section>\\n\\n      </div>\\n\\n      <div class=\"col-4 col-6-medium col-12-small\">\\n        <section>\\n          <a class=\"bordered-feature-image\" href=\"#\">\\n            <img src=\"https://www.chandrashekar.info/themes/chandrashekar_babu_html5up_halcyonic/assets/images/pysangamam3.jpeg\" alt=\"\" />\\n          </a>\\n          <h2>A catalyst in FOSS community activities</h2>\\n          <p>\\n            I have been an active volunteer in various online forums, user groups, and communities related to Linux, Python, and \\n            other open-source projects. I have participated in many events promoting software freedom and evangelizing the core \\n            ideas of knowledge freedom embodied within Free and Open Source Software. I have also volunteered in a couple of \\n            FOSS events in the real world when I could spare time amid my busy corporate training schedule - thanks to the support\\n            from various user groups. I have delivered talks on software freedom, career guidance for next-generation technologists\\n            and software engineers, tech-talks on Linux, Python, and UNIX concepts at educational universities, Linux user groups, \\n            FOSS tech-events.\\n          </p>\\n          <p>\\n            During my spare time and weekends, I have conducted open-house training sessions for students, enthusiasts, and \\n            professionals on various topics related to Linux administration and scripting languages. The training programs focussed\\n            more on bridging the gap between academic background and tech industry\\'s skill set requirements. As part of these \\n            training sessions, I guide students on good software development practices that include - Agile and Adaptive methodologies,\\n            testing and continuous integration, software versioning, team-work, good coding practices, and code review.\\n          </p>\\n          <p>\\n            I have always cherished playing a small yet vital part in grooming technology skills to many young engineers,  guiding them \\n            towards opportunities in the FOSS ecosystem and eventually leading them to successful career growth. <strong>I believe that the \\n            ultimate satisfaction in one\\'s career lies not merely in gaining self-growth, but also in using the knowledge and experience \\n            to inspire, motivate, and guide others deserving of cherishing their career ambitions to rise higher than self.</strong>\\n          </p>\\n        </section>\\n      </div>\\n    </div>\\n  </div>\\n</section>\\n    <!-- Footer -->\\n    <section id=\"footer\">\\n      <div class=\"container\">\\n        <div class=\"row\">\\n          <div class=\"col-8 col-12-medium\">\\n\\n            <!-- Links -->\\n            <section>\\n              <h2>Links</h2>\\n              <div>\\n                <div class=\"row\">\\n                                    <div class=\"col-3 col-12-small\">\\n                    <ul class=\"link-list last-child\">\\n                                            <li><a href=\"/\">Home</a></li>\\n                                            <li><a href=\"/about\">About</a></li>\\n                                            <li><a href=\"/profile\">Profile</a></li>\\n                                          </ul>\\n                  </div>\\n                                    <div class=\"col-3 col-12-small\">\\n                    <ul class=\"link-list last-child\">\\n                                            <li><a href=\"/calendar\">Calendar</a></li>\\n                                            <li><a href=\"/blog\">Blog</a></li>\\n                                            <li><a href=\"/screencasts\">Screencasts</a></li>\\n                                          </ul>\\n                  </div>\\n                                    <div class=\"col-3 col-12-small\">\\n                    <ul class=\"link-list last-child\">\\n                                            <li><a href=\"/bookmarks\">Bookmarks</a></li>\\n                                            <li><a href=\"/contact\">Contact</a></li>\\n                                          </ul>\\n                  </div>\\n                                  </div>\\n                <!-- Figure this out later --\\n\\t\\t\\t\\t\\t\\t\\t\\t<div class=\"row\">\\n\\t\\t\\t\\t\\t\\t\\t\\t\\t<div class=\"col-3 col-12-small\">\\n\\t\\t\\t\\t\\t\\t\\t\\t\\t\\t<ul id=\"menu-social-links\" class=\"link-list last-child\">\\n\\t\\t\\t\\t\\t\\t\\t\\t\\t\\t\\t<li><a title=\"Facebook\" href=\"https://www.facebook.com/chandrashekar.babu\"><i class=\"fa fa-facebook\"></i></a></li>\\n\\t\\t\\t\\t\\t\\t\\t\\t\\t\\t\\t<li><a title=\"Twitter\" href=\"https://twitter.com/chandrashekar_b\"><i class=\"fa fa-twitter\"></i></a></li>\\n\\t\\t\\t\\t\\t\\t\\t\\t\\t\\t\\t<li><a title=\"LinkedIn\" href=\"https://www.linkedin.com/in/chandrashekarbabu/\"><i class=\"fa fa-linkedin\"></i></a></li>\\n\\t\\t\\t\\t\\t\\t\\t\\t\\t\\t</ul>\\n\\t\\t\\t\\t\\t\\t\\t\\t\\t</div>\\n\\t\\t\\t\\t\\t\\t\\t\\t</div>\\n\\t\\t\\t\\t\\t\\t\\t\\t\\t\\t\\t\\t-->\\n              </div>\\n            </section>\\n\\n          </div>\\n          <div class=\"col-4 col-12-medium imp-medium\">\\n\\n            <!-- Blurb -->\\n            <section>\\n              <h2>About me</h2>\\n              <p>\\n                I am an experienced FOSS technologist with 29+ years of domain expertise.\\n                I have been delivering corporate training programs and conducting open-house training workshops\\n                primarily on technologies and topics related to <strong>Python</strong>,\\n                <strong>Linux System Programming</strong> and <strong>Linux Kernel Development</strong>,\\n                various programming languages, free/open source software developer tools and frameworks.</p>\\n            </section>\\n          </div>\\n        </div>\\n      </div>\\n    </section>\\n\\n    <div id=\"copyright\">\\n      &copy; 2004 - 2024 &nbsp; Chandrashekar Babu. All rights reserved. |\\n      Powered by <a href=\"http://octobercms.com/\">OctoberCMS</a> |\\n      Original website theme design: Halcyonic theme by <a href=\"http://html5up.net\">HTML5 UP</a> |\\n      Customized from theme template developed by <a href=\"http://raz.cloud/\">Raz Cloud</a> for OctoberCMS.\\n    </div>\\n  </div>\\n\\n  <!-- Scripts -->\\n  <script src=\"https://www.chandrashekar.info/combine/3ec49536cd84acf5ce8a5f2c2e165534-1593405457\"></script>\\n  <script type=\"text/javascript\">\\n    $(function () {\\n      $(\".text-slider\").changeWords({\\n        time: 2500,\\n        animate: \"flipInX\",\\n        selector: \"span\",\\n        repeat: true // false\\n      });\\n    });\\n  </script>\\n\\n  <script>\\n    var options = {\\n      fallbackLink: \\'<p>This browser does not support inline PDFs. Kindly download the profile as a PDF document to view it: <a href=\"/storage/app/media/profile/chandrashekar-profile.pdf\">Download profile</a></p>\\',\\n      height: \"1450px\"\\n    };\\n\\n    PDFObject.embed(\"/storage/app/media/profile/chandrashekar-profile.pdf\", \"#profile-pdf\", options);\\n  </script>\\n  \\n</body>\\n\\n</html>'"
      ]
     },
     "execution_count": 30,
     "metadata": {},
     "output_type": "execute_result"
    }
   ],
   "source": [
    "res.read()"
   ]
  },
  {
   "cell_type": "code",
   "execution_count": 33,
   "metadata": {},
   "outputs": [],
   "source": [
    "urls = [\n",
    "    \"https://chandrashekar.info/\",\n",
    "    \"https://slashprog.com/\",\n",
    "    \"https://chandrashekar.info/\",\n",
    "    \"https://slashprog.com/\",\n",
    "    \"https://slashprog.com/\",\n",
    "    \"https://python.org/\",\n",
    "    \"https://slashprog.com/\",\n",
    "    \"https://python.org/\",\n",
    "    \"https://chandrashekar.info/\",\n",
    "    \"https://slashprog.com/\",\n",
    "    \"https://python.org/\",\n",
    "    \"https://pypi.org/\",\n",
    "    \"https://slashprog.com/\",\n",
    "    \"https://python.org/\",\n",
    "    \"https://chandrashekar.info/\",\n",
    "    \"https://python.org/\",\n",
    "    \"https://gnu.org/\"\n",
    "]\n",
    "\n",
    "def fetch_url(u):\n",
    "    from urllib.request import urlopen\n",
    "    res = urlopen(u)\n",
    "    return res\n",
    "\n"
   ]
  },
  {
   "cell_type": "code",
   "execution_count": 36,
   "metadata": {},
   "outputs": [
    {
     "name": "stdout",
     "output_type": "stream",
     "text": [
      "https://chandrashekar.info/ -> 200\n",
      "https://slashprog.com/ -> 200\n",
      "https://chandrashekar.info/ -> 200\n",
      "https://slashprog.com/ -> 200\n",
      "https://slashprog.com/ -> 200\n",
      "https://python.org/ -> 200\n",
      "https://slashprog.com/ -> 200\n",
      "https://python.org/ -> 200\n",
      "https://chandrashekar.info/ -> 200\n",
      "https://slashprog.com/ -> 200\n",
      "https://python.org/ -> 200\n",
      "https://pypi.org/ -> 200\n",
      "https://slashprog.com/ -> 200\n",
      "https://python.org/ -> 200\n",
      "https://chandrashekar.info/ -> 200\n",
      "https://python.org/ -> 200\n",
      "https://gnu.org/ -> 200\n"
     ]
    }
   ],
   "source": [
    "fetch = FunctionCache(fetch_url)\n",
    "\n",
    "for url in urls:\n",
    "    r = fetch(url)\n",
    "    print(url, \"->\", r.code)"
   ]
  },
  {
   "cell_type": "code",
   "execution_count": 52,
   "metadata": {},
   "outputs": [
    {
     "data": {
      "text/plain": [
       "{\"('https://chandrashekar.info/',){}\": <http.client.HTTPResponse at 0x1644d7d36d0>,\n",
       " \"('https://slashprog.com/',){}\": <http.client.HTTPResponse at 0x1644d7d1e40>,\n",
       " \"('https://python.org/',){}\": <http.client.HTTPResponse at 0x1644d7d0e50>,\n",
       " \"('https://pypi.org/',){}\": <http.client.HTTPResponse at 0x1644d7d3580>,\n",
       " \"('https://gnu.org/',){}\": <http.client.HTTPResponse at 0x1644d7d2a40>}"
      ]
     },
     "execution_count": 52,
     "metadata": {},
     "output_type": "execute_result"
    }
   ],
   "source": [
    "fetch.fn_cache"
   ]
  },
  {
   "cell_type": "code",
   "execution_count": 39,
   "metadata": {},
   "outputs": [
    {
     "name": "stdout",
     "output_type": "stream",
     "text": [
      "square invoked with x = 2\n"
     ]
    },
    {
     "data": {
      "text/plain": [
       "4"
      ]
     },
     "execution_count": 39,
     "metadata": {},
     "output_type": "execute_result"
    }
   ],
   "source": [
    "def square(x):\n",
    "    print(\"square invoked with x =\", x)\n",
    "    return x*x\n",
    "\n",
    "s = square\n",
    "\n",
    "s(2)\n"
   ]
  },
  {
   "cell_type": "code",
   "execution_count": 43,
   "metadata": {},
   "outputs": [
    {
     "name": "stdout",
     "output_type": "stream",
     "text": [
      "In __init__: <function square at 0x000001644D8077F0>\n",
      "square invoked with x = 2\n"
     ]
    },
    {
     "data": {
      "text/plain": [
       "4"
      ]
     },
     "execution_count": 43,
     "metadata": {},
     "output_type": "execute_result"
    }
   ],
   "source": [
    "class Test:\n",
    "    def __init__(self, f):\n",
    "        self.fn = f\n",
    "        print(\"In __init__:\", self.fn)\n",
    "\n",
    "    def compute(self, v):\n",
    "        return self.fn(v)\n",
    "\n",
    "t = Test(square)\n",
    "\n",
    "t.compute(2)"
   ]
  },
  {
   "cell_type": "code",
   "execution_count": 54,
   "metadata": {},
   "outputs": [
    {
     "name": "stdout",
     "output_type": "stream",
     "text": [
      "Adding user='john' and role='developer' to database='testdb', table='employees'\n",
      "Adding user='smith' and role='admin' to database='testdb', table='employees'\n",
      "Adding user='steve' and role='testing' to database='testdb', table='employees'\n",
      "Adding user='mark' and role='oeprations' to database='testdb', table='employees'\n"
     ]
    }
   ],
   "source": [
    "# Example of \"partials\" as in functional programming\n",
    "\n",
    "def add_record(database, table, user, role):\n",
    "    print(f\"Adding {user=} and {role=} to {database=}, {table=}\")\n",
    "\n",
    "add_record(\"testdb\", \"employees\", \"john\", \"developer\")\n",
    "add_record(\"testdb\", \"employees\", \"smith\", \"admin\")\n",
    "add_record(\"testdb\", \"employees\", \"steve\", \"testing\")\n",
    "add_record(\"testdb\", \"employees\", \"mark\", \"oeprations\")\n"
   ]
  },
  {
   "cell_type": "code",
   "execution_count": 60,
   "metadata": {},
   "outputs": [
    {
     "ename": "TypeError",
     "evalue": "'Partial' object is not callable",
     "output_type": "error",
     "traceback": [
      "\u001b[1;31m---------------------------------------------------------------------------\u001b[0m",
      "\u001b[1;31mTypeError\u001b[0m                                 Traceback (most recent call last)",
      "Input \u001b[1;32mIn [60]\u001b[0m, in \u001b[0;36m<module>\u001b[1;34m\u001b[0m\n\u001b[0;32m      6\u001b[0m         \u001b[38;5;28;01mreturn\u001b[39;00m \u001b[38;5;28mself\u001b[39m\u001b[38;5;241m.\u001b[39mfn(\u001b[38;5;241m*\u001b[39m\u001b[38;5;28mself\u001b[39m\u001b[38;5;241m.\u001b[39mfn_args, \u001b[38;5;241m*\u001b[39margs, \u001b[38;5;241m*\u001b[39m\u001b[38;5;241m*\u001b[39m\u001b[38;5;28mself\u001b[39m\u001b[38;5;241m.\u001b[39mfn_kwargs, \u001b[38;5;241m*\u001b[39m\u001b[38;5;241m*\u001b[39mkwargs)\n\u001b[0;32m      8\u001b[0m p \u001b[38;5;241m=\u001b[39m Partial(add_record, \u001b[38;5;124m\"\u001b[39m\u001b[38;5;124mtestdb\u001b[39m\u001b[38;5;124m\"\u001b[39m, \u001b[38;5;124m\"\u001b[39m\u001b[38;5;124memployees\u001b[39m\u001b[38;5;124m\"\u001b[39m)\n\u001b[1;32m----> 9\u001b[0m \u001b[43mp\u001b[49m\u001b[43m(\u001b[49m\u001b[38;5;124;43m\"\u001b[39;49m\u001b[38;5;124;43mjohn\u001b[39;49m\u001b[38;5;124;43m\"\u001b[39;49m\u001b[43m,\u001b[49m\u001b[43m \u001b[49m\u001b[38;5;124;43m\"\u001b[39;49m\u001b[38;5;124;43mdeveloper\u001b[39;49m\u001b[38;5;124;43m\"\u001b[39;49m\u001b[43m)\u001b[49m\n\u001b[0;32m     10\u001b[0m p(\u001b[38;5;124m\"\u001b[39m\u001b[38;5;124msteve\u001b[39m\u001b[38;5;124m\"\u001b[39m, \u001b[38;5;124m\"\u001b[39m\u001b[38;5;124madmin\u001b[39m\u001b[38;5;124m\"\u001b[39m)\n\u001b[0;32m     11\u001b[0m p(\u001b[38;5;124m\"\u001b[39m\u001b[38;5;124mtim\u001b[39m\u001b[38;5;124m\"\u001b[39m, \u001b[38;5;124m\"\u001b[39m\u001b[38;5;124mmarketing\u001b[39m\u001b[38;5;124m\"\u001b[39m)\n",
      "\u001b[1;31mTypeError\u001b[0m: 'Partial' object is not callable"
     ]
    }
   ],
   "source": [
    "class Partial:\n",
    "    def __init__(self, fn, *args, **kwargs):\n",
    "        self.fn, self.fn_args, self.fn_kwargs = fn, args, kwargs\n",
    "\n",
    "    def invoke(self, *args, **kwargs):\n",
    "        return self.fn(*self.fn_args, *args, **self.fn_kwargs, **kwargs)\n",
    "    \n",
    "p = Partial(add_record, \"testdb\", \"employees\")\n",
    "p(\"john\", \"developer\")\n",
    "p(\"steve\", \"admin\")\n",
    "p(\"tim\", \"marketing\")\n",
    "\n",
    "p1 = Partial(add_record, \"testdb1\", \"employees\")\n",
    "p1(\"john\", \"developer\")\n",
    "p(\"john\", \"developer\")\n"
   ]
  },
  {
   "cell_type": "code",
   "execution_count": 66,
   "metadata": {},
   "outputs": [],
   "source": [
    "def square(x):\n",
    "    return x*x"
   ]
  },
  {
   "cell_type": "code",
   "execution_count": 65,
   "metadata": {},
   "outputs": [
    {
     "ename": "TypeError",
     "evalue": "square() got an unexpected keyword argument 'y'",
     "output_type": "error",
     "traceback": [
      "\u001b[1;31m---------------------------------------------------------------------------\u001b[0m",
      "\u001b[1;31mTypeError\u001b[0m                                 Traceback (most recent call last)",
      "Input \u001b[1;32mIn [65]\u001b[0m, in \u001b[0;36m<module>\u001b[1;34m\u001b[0m\n\u001b[1;32m----> 1\u001b[0m \u001b[43msquare\u001b[49m\u001b[43m(\u001b[49m\u001b[43my\u001b[49m\u001b[38;5;241;43m=\u001b[39;49m\u001b[38;5;241;43m2\u001b[39;49m\u001b[43m)\u001b[49m\n",
      "\u001b[1;31mTypeError\u001b[0m: square() got an unexpected keyword argument 'y'"
     ]
    }
   ],
   "source": [
    "square(y=2)"
   ]
  },
  {
   "cell_type": "code",
   "execution_count": 75,
   "metadata": {},
   "outputs": [],
   "source": [
    "class FunctionCache: # A simple example of a \"Memoize Pattern\"\n",
    "    def __init__(self, fn):\n",
    "        self.fn = fn\n",
    "        self.fn_cache = {}\n",
    "\n",
    "    def __call__(self, *args, **kwargs):\n",
    "        key = str(args) + str(kwargs)\n",
    "        if key not in self.fn_cache:\n",
    "            result = self.fn(*args, **kwargs)\n",
    "            self.fn_cache[key] = result\n",
    "        return self.fn_cache[key]\n",
    "    \n",
    "    def __str__(self):\n",
    "        return \"<@FunctionCache: \" + str(self.fn) + \">\""
   ]
  },
  {
   "cell_type": "code",
   "execution_count": 76,
   "metadata": {},
   "outputs": [
    {
     "name": "stdout",
     "output_type": "stream",
     "text": [
      "<@FunctionCache: <function square at 0x000001644F2FF010>>\n",
      "<function square at 0x000001644F2FF010>\n"
     ]
    }
   ],
   "source": [
    "sqr = FunctionCache(square)\n",
    "\n",
    "print(sqr)\n",
    "print(square)"
   ]
  },
  {
   "cell_type": "code",
   "execution_count": 77,
   "metadata": {},
   "outputs": [
    {
     "name": "stdout",
     "output_type": "stream",
     "text": [
      "<class '__main__.FunctionCache'>\n",
      "<class 'function'>\n"
     ]
    }
   ],
   "source": [
    "print(type(sqr))\n",
    "print(type(square))"
   ]
  }
 ],
 "metadata": {
  "kernelspec": {
   "display_name": "Python 3",
   "language": "python",
   "name": "python3"
  },
  "language_info": {
   "codemirror_mode": {
    "name": "ipython",
    "version": 3
   },
   "file_extension": ".py",
   "mimetype": "text/x-python",
   "name": "python",
   "nbconvert_exporter": "python",
   "pygments_lexer": "ipython3",
   "version": "3.10.2"
  }
 },
 "nbformat": 4,
 "nbformat_minor": 2
}
