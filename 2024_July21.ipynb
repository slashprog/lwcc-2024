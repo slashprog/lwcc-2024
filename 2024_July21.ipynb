{
 "cells": [
  {
   "cell_type": "code",
   "execution_count": null,
   "metadata": {},
   "outputs": [],
   "source": []
  },
  {
   "cell_type": "code",
   "execution_count": null,
   "metadata": {},
   "outputs": [],
   "source": [
    "def square(x):\n",
    "    return x*x\n",
    "\n",
    "def cube(x):\n",
    "    return x**3\n",
    "\n",
    "def sqrt(x):\n",
    "    return x ** (1/2)\n"
   ]
  },
  {
   "cell_type": "code",
   "execution_count": null,
   "metadata": {},
   "outputs": [],
   "source": [
    "class Company:\n",
    "    def __init__(self, *founders):\n",
    "        self.employees = set(founders)\n",
    "        self.founders = founders\n",
    "\n",
    "    def hire(self, e):\n",
    "        if type(e) is str and e.isalpha():\n",
    "            self.employees.add(e)\n",
    "        else:\n",
    "            raise TypeError(\"employee name must be a string made up of alphabets\")\n",
    "\n",
    "    def layoff(self, e):\n",
    "        if e in self.founders:\n",
    "            raise ValueError(\"Founders cannot be laid off\")\n",
    "        elif e not in self.employees:\n",
    "            raise ValueError(\"This employee does not work here.\")\n",
    "    \n",
    "    def show(self):\n",
    "        print(\", \".join(self.employees))\n",
    "        \n",
    "        \n",
    "\n",
    "\n"
   ]
  },
  {
   "cell_type": "code",
   "execution_count": null,
   "metadata": {},
   "outputs": [],
   "source": [
    "hire(\"John Doe\")\n"
   ]
  }
 ],
 "metadata": {
  "language_info": {
   "name": "python"
  }
 },
 "nbformat": 4,
 "nbformat_minor": 2
}
