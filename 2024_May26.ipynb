{
 "cells": [
  {
   "cell_type": "markdown",
   "metadata": {},
   "source": [
    "### The Little Wizards Coding Camp - Level 2\n",
    "#### Python Programming Preliminaries\n",
    "\n",
    "##### Simple statements: Assignments contd."
   ]
  },
  {
   "cell_type": "code",
   "execution_count": 2,
   "metadata": {},
   "outputs": [
    {
     "name": "stdout",
     "output_type": "stream",
     "text": [
      "(10, 20, 30) <class 'tuple'>\n",
      "3\n",
      "10\n"
     ]
    }
   ],
   "source": [
    "# Tuple packing\n",
    "a = 10, 20, 30\n",
    "print(a, type(a))\n",
    "print(len(a))\n",
    "print(a[0])"
   ]
  },
  {
   "cell_type": "code",
   "execution_count": 3,
   "metadata": {},
   "outputs": [
    {
     "name": "stdout",
     "output_type": "stream",
     "text": [
      "(10, 'Sam', True) <class 'tuple'>\n",
      "3\n",
      "10 Sam True\n"
     ]
    }
   ],
   "source": [
    "# Tuples are \"heterogenous\" \"sequence\" collection\n",
    "a = 10, \"Sam\", True\n",
    "print(a, type(a))\n",
    "print(len(a))\n",
    "print(a[0], a[1], a[2])"
   ]
  },
  {
   "cell_type": "code",
   "execution_count": 5,
   "metadata": {},
   "outputs": [
    {
     "name": "stdout",
     "output_type": "stream",
     "text": [
      "(10, 20, 30)\n",
      "10\n",
      "20\n",
      "30\n"
     ]
    }
   ],
   "source": [
    "# Tuple unpacking assigments\n",
    "a = 10, 20, 30\n",
    "print(a)\n",
    "\n",
    "b, c, d = a   # Assignment by tuple unpacking\n",
    "print(b)\n",
    "print(c)\n",
    "print(d)"
   ]
  },
  {
   "cell_type": "code",
   "execution_count": 6,
   "metadata": {},
   "outputs": [
    {
     "name": "stdout",
     "output_type": "stream",
     "text": [
      "(10, 20, 30)\n"
     ]
    },
    {
     "ename": "ValueError",
     "evalue": "too many values to unpack (expected 2)",
     "output_type": "error",
     "traceback": [
      "\u001b[0;31m---------------------------------------------------------------------------\u001b[0m",
      "\u001b[0;31mValueError\u001b[0m                                Traceback (most recent call last)",
      "Cell \u001b[0;32mIn[6], line 5\u001b[0m\n\u001b[1;32m      2\u001b[0m a \u001b[38;5;241m=\u001b[39m \u001b[38;5;241m10\u001b[39m, \u001b[38;5;241m20\u001b[39m, \u001b[38;5;241m30\u001b[39m\n\u001b[1;32m      3\u001b[0m \u001b[38;5;28mprint\u001b[39m(a)\n\u001b[0;32m----> 5\u001b[0m b, c \u001b[38;5;241m=\u001b[39m a   \u001b[38;5;66;03m# Assignment by tuple unpacking\u001b[39;00m\n\u001b[1;32m      6\u001b[0m \u001b[38;5;28mprint\u001b[39m(b)\n\u001b[1;32m      7\u001b[0m \u001b[38;5;28mprint\u001b[39m(c)\n",
      "\u001b[0;31mValueError\u001b[0m: too many values to unpack (expected 2)"
     ]
    }
   ],
   "source": [
    "# Tuple unpacking assigments\n",
    "a = 10, 20, 30\n",
    "print(a)\n",
    "\n",
    "b, c = a   # Assignment by tuple unpacking\n",
    "print(b)\n",
    "print(c)\n",
    "\n",
    "# Important rule for assignments by tuple unpacking:\n",
    "#   The number of variables in the Left-Hand-Side of assignment should match the number of items in the\n",
    "#   collection in Right-Hand-Side"
   ]
  },
  {
   "cell_type": "code",
   "execution_count": 7,
   "metadata": {},
   "outputs": [
    {
     "name": "stdout",
     "output_type": "stream",
     "text": [
      "(10, 20, 30)\n"
     ]
    },
    {
     "ename": "ValueError",
     "evalue": "not enough values to unpack (expected 4, got 3)",
     "output_type": "error",
     "traceback": [
      "\u001b[0;31m---------------------------------------------------------------------------\u001b[0m",
      "\u001b[0;31mValueError\u001b[0m                                Traceback (most recent call last)",
      "Cell \u001b[0;32mIn[7], line 5\u001b[0m\n\u001b[1;32m      2\u001b[0m a \u001b[38;5;241m=\u001b[39m \u001b[38;5;241m10\u001b[39m, \u001b[38;5;241m20\u001b[39m, \u001b[38;5;241m30\u001b[39m\n\u001b[1;32m      3\u001b[0m \u001b[38;5;28mprint\u001b[39m(a)\n\u001b[0;32m----> 5\u001b[0m b, c, d, e \u001b[38;5;241m=\u001b[39m a   \u001b[38;5;66;03m# Assignment by tuple unpacking\u001b[39;00m\n\u001b[1;32m      6\u001b[0m \u001b[38;5;28mprint\u001b[39m(b)\n\u001b[1;32m      7\u001b[0m \u001b[38;5;28mprint\u001b[39m(c)\n",
      "\u001b[0;31mValueError\u001b[0m: not enough values to unpack (expected 4, got 3)"
     ]
    }
   ],
   "source": [
    "# Tuple unpacking assigments\n",
    "a = 10, 20, 30\n",
    "print(a)\n",
    "\n",
    "b, c, d, e = a   # Assignment by tuple unpacking\n",
    "print(b)\n",
    "print(c)\n",
    "\n",
    "\n",
    "# Important rule for assignments by tuple unpacking:\n",
    "#   The number of variables in the Left-Hand-Side of assignment should match the number of items in the\n",
    "#   collection in Right-Hand-Side"
   ]
  },
  {
   "cell_type": "code",
   "execution_count": 8,
   "metadata": {},
   "outputs": [
    {
     "name": "stdout",
     "output_type": "stream",
     "text": [
      "10\n",
      "20\n"
     ]
    }
   ],
   "source": [
    "# Parallel assignment\n",
    "a, b = 10, 20\n",
    "print(a)\n",
    "print(b)"
   ]
  },
  {
   "cell_type": "code",
   "execution_count": null,
   "metadata": {},
   "outputs": [],
   "source": [
    "a = 10\n",
    "b = 20\n",
    "c = 30\n"
   ]
  },
  {
   "cell_type": "code",
   "execution_count": null,
   "metadata": {},
   "outputs": [],
   "source": [
    "a, b, c = 10, 20, 30  # Parallel assignment"
   ]
  },
  {
   "cell_type": "code",
   "execution_count": 11,
   "metadata": {},
   "outputs": [
    {
     "name": "stdout",
     "output_type": "stream",
     "text": [
      "a=10, b=20\n",
      "a=10, {a=}\n"
     ]
    }
   ],
   "source": [
    "a, b = 10, 20\n",
    "print(f\"{a=}, {b=}\")\n",
    "#print(\"a=\", a)\n",
    "print(f\"{a=}, {{a=}}\")"
   ]
  },
  {
   "cell_type": "code",
   "execution_count": 12,
   "metadata": {},
   "outputs": [
    {
     "name": "stdout",
     "output_type": "stream",
     "text": [
      "a=10, b=20\n",
      "a=20, b=10\n"
     ]
    }
   ],
   "source": [
    "a, b = 10, 20\n",
    "print(f\"{a=}, {b=}\")\n",
    "a, b = b, a\n",
    "print(f\"{a=}, {b=}\")"
   ]
  },
  {
   "cell_type": "code",
   "execution_count": 13,
   "metadata": {},
   "outputs": [
    {
     "name": "stdout",
     "output_type": "stream",
     "text": [
      "a=10, b=20\n",
      "a=20, b=20\n"
     ]
    }
   ],
   "source": [
    "a = 10\n",
    "b = 20\n",
    "\n",
    "print(f\"{a=}, {b=}\")\n",
    "c = a\n",
    "a = b\n",
    "c = b\n",
    "print(f\"{a=}, {b=}\")"
   ]
  },
  {
   "cell_type": "code",
   "execution_count": 19,
   "metadata": {},
   "outputs": [
    {
     "name": "stdout",
     "output_type": "stream",
     "text": [
      "a=24, b=16\n"
     ]
    }
   ],
   "source": [
    "a, b  = 24, 16\n",
    "print(f\"{a=}, {b=}\")\n"
   ]
  },
  {
   "cell_type": "code",
   "execution_count": 21,
   "metadata": {},
   "outputs": [
    {
     "name": "stdout",
     "output_type": "stream",
     "text": [
      "a=8, b=0\n"
     ]
    }
   ],
   "source": [
    "a, b = b, a % b\n",
    "print(f\"{a=}, {b=}\")"
   ]
  },
  {
   "cell_type": "code",
   "execution_count": 23,
   "metadata": {},
   "outputs": [
    {
     "name": "stdout",
     "output_type": "stream",
     "text": [
      "10 10 10\n"
     ]
    }
   ],
   "source": [
    "a = 10\n",
    "b = 10\n",
    "c = 10\n",
    "print(a, b, c)"
   ]
  },
  {
   "cell_type": "code",
   "execution_count": 24,
   "metadata": {},
   "outputs": [
    {
     "name": "stdout",
     "output_type": "stream",
     "text": [
      "10 10 10\n"
     ]
    }
   ],
   "source": [
    "# Assignment chainloading\n",
    "a = b = c = 10\n",
    "print(a, b, c)"
   ]
  },
  {
   "cell_type": "code",
   "execution_count": 28,
   "metadata": {},
   "outputs": [
    {
     "name": "stdout",
     "output_type": "stream",
     "text": [
      "a=10\n",
      "a=15\n",
      "a=13\n",
      "a=26\n"
     ]
    }
   ],
   "source": [
    "a = 10\n",
    "print(f\"{a=}\")\n",
    "\n",
    "a = a + 5\n",
    "print(f\"{a=}\")\n",
    "\n",
    "a = a - 2\n",
    "print(f\"{a=}\")\n",
    "\n",
    "a = a * 2\n",
    "print(f\"{a=}\")"
   ]
  },
  {
   "cell_type": "code",
   "execution_count": 35,
   "metadata": {},
   "outputs": [
    {
     "name": "stdout",
     "output_type": "stream",
     "text": [
      "a=10\n",
      "a=15\n",
      "a=13\n",
      "a=26\n",
      "a=13.0\n",
      "a=6.0\n"
     ]
    }
   ],
   "source": [
    "# \"Augmented\" assignments\n",
    "a = 10\n",
    "print(f\"{a=}\")\n",
    "\n",
    "a += 5  # is the same as -> a = a + 5\n",
    "print(f\"{a=}\")\n",
    "\n",
    "a -= 2  # same as -> a = a - 2\n",
    "print(f\"{a=}\")\n",
    "\n",
    "a *= 2  # same as -> a = a * 2\n",
    "print(f\"{a=}\")\n",
    "\n",
    "\n",
    "a /= 2  # same as -> a = a / 2\n",
    "print(f\"{a=}\")\n",
    "\n",
    "a //= 2 # same as -> a = a // 2\n",
    "print(f\"{a=}\")"
   ]
  },
  {
   "cell_type": "code",
   "execution_count": 36,
   "metadata": {},
   "outputs": [
    {
     "name": "stdout",
     "output_type": "stream",
     "text": [
      "a=10\n",
      "a=15\n",
      "a=13\n",
      "a=26\n",
      "a=13\n"
     ]
    }
   ],
   "source": [
    "# \"Augmented\" assignments\n",
    "a = 10\n",
    "print(f\"{a=}\")\n",
    "\n",
    "a += 5  # is the same as -> a = a + 5\n",
    "print(f\"{a=}\")\n",
    "\n",
    "a -= 2  # same as -> a = a - 2\n",
    "print(f\"{a=}\")\n",
    "\n",
    "a *= 2  # same as -> a = a * 2\n",
    "print(f\"{a=}\")\n",
    "\n",
    "a //= 2  # same as -> a = a // 2\n",
    "print(f\"{a=}\")\n"
   ]
  },
  {
   "cell_type": "code",
   "execution_count": 37,
   "metadata": {},
   "outputs": [
    {
     "name": "stdout",
     "output_type": "stream",
     "text": [
      "a=30, b=20\n"
     ]
    }
   ],
   "source": [
    "a, b = 10, 20\n",
    "\n",
    "a += b\n",
    "print(f\"{a=}, {b=}\")"
   ]
  },
  {
   "cell_type": "code",
   "execution_count": 38,
   "metadata": {},
   "outputs": [
    {
     "ename": "SyntaxError",
     "evalue": "invalid syntax (3015172767.py, line 3)",
     "output_type": "error",
     "traceback": [
      "\u001b[0;36m  Cell \u001b[0;32mIn[38], line 3\u001b[0;36m\u001b[0m\n\u001b[0;31m    a += b += a\u001b[0m\n\u001b[0m           ^\u001b[0m\n\u001b[0;31mSyntaxError\u001b[0m\u001b[0;31m:\u001b[0m invalid syntax\n"
     ]
    }
   ],
   "source": [
    "a, b = 10, 20\n",
    "\n",
    "a += b += a\n",
    "print(f\"{a=}, {b=}\")\n",
    "\n",
    "# The above statement violates one of the Python syntax rule:\n",
    "#    An assignment in Python cannot be treated as an expression \n",
    "#    Thus, you cannot traditionally have assignments as part of other expressions in Python"
   ]
  },
  {
   "cell_type": "code",
   "execution_count": 39,
   "metadata": {},
   "outputs": [
    {
     "ename": "SyntaxError",
     "evalue": "invalid syntax. Maybe you meant '==' or ':=' instead of '='? (3870059261.py, line 1)",
     "output_type": "error",
     "traceback": [
      "\u001b[0;36m  Cell \u001b[0;32mIn[39], line 1\u001b[0;36m\u001b[0m\n\u001b[0;31m    (v = 10) > 20\u001b[0m\n\u001b[0m     ^\u001b[0m\n\u001b[0;31mSyntaxError\u001b[0m\u001b[0;31m:\u001b[0m invalid syntax. Maybe you meant '==' or ':=' instead of '='?\n"
     ]
    }
   ],
   "source": [
    "(v = 10) > 20"
   ]
  },
  {
   "cell_type": "code",
   "execution_count": 40,
   "metadata": {},
   "outputs": [
    {
     "data": {
      "text/plain": [
       "False"
      ]
     },
     "execution_count": 40,
     "metadata": {},
     "output_type": "execute_result"
    }
   ],
   "source": [
    "v = 10\n",
    "v > 20"
   ]
  },
  {
   "cell_type": "code",
   "execution_count": 42,
   "metadata": {},
   "outputs": [
    {
     "data": {
      "text/plain": [
       "False"
      ]
     },
     "execution_count": 42,
     "metadata": {},
     "output_type": "execute_result"
    }
   ],
   "source": [
    "# Walrus assignment\n",
    "(v := 10) > 20\n",
    "\n",
    "# Allows assignment to a variable withing parenthesised boolean expression.\n",
    "# This feature is supported from Python verion 3.8 onwards with the use of := operator\n",
    "\n",
    "# :-), :-|, :-(, :=) -> Walrus smiley"
   ]
  }
 ],
 "metadata": {
  "kernelspec": {
   "display_name": "base",
   "language": "python",
   "name": "python3"
  },
  "language_info": {
   "codemirror_mode": {
    "name": "ipython",
    "version": 3
   },
   "file_extension": ".py",
   "mimetype": "text/x-python",
   "name": "python",
   "nbconvert_exporter": "python",
   "pygments_lexer": "ipython3",
   "version": "3.11.7"
  }
 },
 "nbformat": 4,
 "nbformat_minor": 2
}
