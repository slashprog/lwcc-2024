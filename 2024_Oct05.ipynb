{
 "cells": [
  {
   "cell_type": "markdown",
   "metadata": {},
   "source": [
    "### LWCC  Session 37 - October 5th 2024\n",
    "\n",
    "#### Introduction to Decorators (contd.)\n"
   ]
  },
  {
   "cell_type": "code",
   "execution_count": 2,
   "metadata": {},
   "outputs": [
    {
     "name": "stdout",
     "output_type": "stream",
     "text": [
      "Validate invoked: fn = <function square at 0x000002AECB799FC0>\n",
      "square is <__main__.Validate object at 0x000002AECB8D4A00> <class '__main__.Validate'>\n",
      "Validate.__call__ invoked with v = 2\n"
     ]
    },
    {
     "data": {
      "text/plain": [
       "4"
      ]
     },
     "execution_count": 2,
     "metadata": {},
     "output_type": "execute_result"
    }
   ],
   "source": [
    "class Validate:\n",
    "    def __init__(self, fn):\n",
    "        print(\"Validate invoked: fn =\", fn)\n",
    "        self.fn = fn\n",
    "\n",
    "    def __call__(self, v):\n",
    "        print(\"Validate.__call__ invoked with v =\", v)\n",
    "        return self.fn(v)\n",
    "\n",
    "@Validate\n",
    "def square(x):   # square = Validate(square)\n",
    "    return x*x\n",
    "\n",
    "def cube(x):\n",
    "    return x*x*x\n",
    "\n",
    "def factorial(n):\n",
    "    fact = 1\n",
    "    for i in range(1, n+1):\n",
    "        fact *= i\n",
    "    return fact\n",
    "\n",
    "\n",
    "print(\"square is\", square, type(square))\n",
    "square(2)\n"
   ]
  },
  {
   "cell_type": "code",
   "execution_count": 10,
   "metadata": {},
   "outputs": [
    {
     "name": "stdout",
     "output_type": "stream",
     "text": [
      "Validate invoked: fn = <function square at 0x000002AECB799870>\n",
      "Validate invoked: fn = <function cube at 0x000002AECB798430>\n",
      "Validate invoked: fn = <function factorial at 0x000002AECD1230A0>\n",
      "square is <__main__.Validate object at 0x000002AECCB8C520> <class '__main__.Validate'>\n",
      "4 10.889999999999999 0\n",
      "27 120\n",
      "<__main__.Validate object at 0x000002AECCB8C520>\n",
      "<__main__.Validate object at 0x000002AECCB8F640>\n",
      "<__main__.Validate object at 0x000002AECB9C8D60>\n"
     ]
    }
   ],
   "source": [
    "class Validate: # Decorator that implements a \"before-filter\"\n",
    "    def __init__(self, fn):\n",
    "        print(\"Validate invoked: fn =\", fn)\n",
    "        self.fn = fn\n",
    "\n",
    "    def __call__(self, v):\n",
    "        if type(v) not in (int, float):\n",
    "            return 0\n",
    "        else:\n",
    "            return self.fn(v)\n",
    "\n",
    "@Validate\n",
    "def square(x):   # square = Validate(square)\n",
    "    return x*x\n",
    "\n",
    "@Validate\n",
    "def cube(x):\n",
    "    return x*x*x\n",
    "\n",
    "@Validate\n",
    "def factorial(n):\n",
    "    fact = 1\n",
    "    for i in range(1, n+1):\n",
    "        fact *= i\n",
    "    return fact\n",
    "\n",
    "\n",
    "print(\"square is\", square, type(square))\n",
    "print(square(2), square(3.3), square(\"hello\"))\n",
    "print(cube(3), factorial(5))\n",
    "print(square, cube, factorial, sep=\"\\n\")"
   ]
  },
  {
   "cell_type": "code",
   "execution_count": 11,
   "metadata": {},
   "outputs": [
    {
     "data": {
      "text/plain": [
       "1728136126.609439"
      ]
     },
     "execution_count": 11,
     "metadata": {},
     "output_type": "execute_result"
    }
   ],
   "source": [
    "from time import time\n",
    "time()  # Returns seconds.microseconds since Jan 1st 1970 (Unix Epoch time)"
   ]
  },
  {
   "cell_type": "code",
   "execution_count": 12,
   "metadata": {},
   "outputs": [],
   "source": [
    "start = time()"
   ]
  },
  {
   "cell_type": "code",
   "execution_count": 13,
   "metadata": {},
   "outputs": [],
   "source": [
    "end = time()"
   ]
  },
  {
   "cell_type": "code",
   "execution_count": 14,
   "metadata": {},
   "outputs": [
    {
     "data": {
      "text/plain": [
       "5.667623519897461"
      ]
     },
     "execution_count": 14,
     "metadata": {},
     "output_type": "execute_result"
    }
   ],
   "source": [
    "end - start"
   ]
  },
  {
   "cell_type": "code",
   "execution_count": 7,
   "metadata": {},
   "outputs": [
    {
     "name": "stdout",
     "output_type": "stream",
     "text": [
      "129\n",
      "111587\n",
      "14618393801\n"
     ]
    },
    {
     "data": {
      "text/plain": [
       "{10: 0.0, 200: 0.00047397613525390625, 50000: 2.260359764099121}"
      ]
     },
     "execution_count": 7,
     "metadata": {},
     "output_type": "execute_result"
    }
   ],
   "source": [
    "class ProfileTime:  # Example of a Decorator that implements an \"around-filter\"\n",
    "    from time import time\n",
    "\n",
    "    def __init__(self, fn):\n",
    "        self.fn = fn\n",
    "        self.log = {}\n",
    "\n",
    "    def __call__(self, v):\n",
    "        start = time()\n",
    "        ret = self.fn(v)\n",
    "        self.log[v] = self.time() - start\n",
    "        return ret\n",
    "\n",
    "\n",
    "@ProfileTime\n",
    "def sum_primes(n):\n",
    "    sprime = 0\n",
    "    prime = 2\n",
    "    while n:\n",
    "        for i in range(2, int(prime ** 0.5) + 1):\n",
    "            if prime % i == 0:\n",
    "                break\n",
    "        else:\n",
    "            sprime += prime\n",
    "            n -= 1\n",
    "            \n",
    "        prime += 1\n",
    "    return sprime\n",
    "\n",
    "print(sum_primes(10))\n",
    "print(sum_primes(200))\n",
    "print(sum_primes(50_000))\n",
    "\n",
    "sum_primes.log\n"
   ]
  },
  {
   "cell_type": "code",
   "execution_count": 13,
   "metadata": {},
   "outputs": [
    {
     "name": "stdout",
     "output_type": "stream",
     "text": [
      "testfn() invoked with x = 10\n",
      "Decorator.__init__ invoked: fn = <function testfn at 0x000002588DFD81F0>\n",
      "d = <__main__.Decorator object at 0x000002588E11D3F0>\n",
      "Decorator.__call__ invoked: v = 100\n",
      "testfn() invoked with x = 100\n"
     ]
    }
   ],
   "source": [
    "class Decorator:\n",
    "    def __init__(self, fn):\n",
    "        print(\"Decorator.__init__ invoked: fn =\", fn)\n",
    "        self.fn = fn\n",
    "\n",
    "    def __call__(self, v):\n",
    "        print(\"Decorator.__call__ invoked: v =\", v)\n",
    "        self.fn(v)\n",
    "\n",
    "def testfn(x):\n",
    "    print(\"testfn() invoked with x =\", x)\n",
    "\n",
    "testfn(10)\n",
    "\n",
    "d = Decorator(testfn)\n",
    "print(\"d =\", d)\n",
    "d(100)\n",
    "\n"
   ]
  },
  {
   "cell_type": "code",
   "execution_count": 14,
   "metadata": {},
   "outputs": [
    {
     "name": "stdout",
     "output_type": "stream",
     "text": [
      "Driving white\n"
     ]
    }
   ],
   "source": [
    "class Car:\n",
    "    color = \"white\"\n",
    "\n",
    "    def drive(self):\n",
    "        print(\"Driving\", self.color)\n",
    "\n",
    "c = Car()\n",
    "c.drive()"
   ]
  },
  {
   "cell_type": "code",
   "execution_count": 19,
   "metadata": {},
   "outputs": [
    {
     "name": "stdout",
     "output_type": "stream",
     "text": [
      "<__main__.Car object at 0x000002588F3A2800> <__main__.Car object at 0x000002588F3BA2C0>\n",
      "red\n",
      "blue\n"
     ]
    },
    {
     "data": {
      "text/plain": [
       "'blue'"
      ]
     },
     "execution_count": 19,
     "metadata": {},
     "output_type": "execute_result"
    }
   ],
   "source": [
    "class Car: pass\n",
    "\n",
    "c1 = Car()\n",
    "c2 = Car()\n",
    "print(c1, c2)\n",
    "\n",
    "c1.color = \"red\"  # Instance attribute assignment\n",
    "print(c1.color)\n",
    "Car.color = \"blue\" # Class attribute assignment\n",
    "print(Car.color)\n",
    "c2.color"
   ]
  },
  {
   "cell_type": "code",
   "execution_count": 22,
   "metadata": {},
   "outputs": [
    {
     "name": "stdout",
     "output_type": "stream",
     "text": [
      "<__main__.Car object at 0x000002588E11FA00> <__main__.Car object at 0x000002588E11CE80>\n",
      "blue blue blue\n",
      "blue orange blue\n"
     ]
    }
   ],
   "source": [
    "class Car:\n",
    "    color = \"blue\"\n",
    "\n",
    "c1 = Car()\n",
    "c2 = Car()\n",
    "print(c1, c2)\n",
    "\n",
    "print(Car.color, c1.color, c2.color)\n",
    "c1.color = \"orange\"\n",
    "print(Car.color, c1.color, c2.color)\n",
    "\n"
   ]
  }
 ],
 "metadata": {
  "kernelspec": {
   "display_name": "Python 3",
   "language": "python",
   "name": "python3"
  },
  "language_info": {
   "codemirror_mode": {
    "name": "ipython",
    "version": 3
   },
   "file_extension": ".py",
   "mimetype": "text/x-python",
   "name": "python",
   "nbconvert_exporter": "python",
   "pygments_lexer": "ipython3",
   "version": "3.10.2"
  }
 },
 "nbformat": 4,
 "nbformat_minor": 2
}
