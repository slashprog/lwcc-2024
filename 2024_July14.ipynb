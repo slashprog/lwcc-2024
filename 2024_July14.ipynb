{
 "cells": [
  {
   "cell_type": "markdown",
   "metadata": {},
   "source": [
    "#### Scope of variables (Part 2)"
   ]
  },
  {
   "cell_type": "code",
   "execution_count": 5,
   "metadata": {},
   "outputs": [
    {
     "name": "stdout",
     "output_type": "stream",
     "text": [
      "testfn() was called\n",
      "foo() was called\n"
     ]
    },
    {
     "data": {
      "text/plain": [
       "<function __main__.testfn()>"
      ]
     },
     "execution_count": 5,
     "metadata": {},
     "output_type": "execute_result"
    }
   ],
   "source": [
    "def testfn(): # External function / Outer function\n",
    "    print(\"testfn() was called\")\n",
    "    def foo(): # Inner function or nested function\n",
    "        print(\"foo() was called\")\n",
    "    \n",
    "    foo()\n",
    "\n",
    "testfn()\n",
    "\n",
    "\n"
   ]
  },
  {
   "cell_type": "code",
   "execution_count": 9,
   "metadata": {},
   "outputs": [
    {
     "name": "stdout",
     "output_type": "stream",
     "text": [
      "testfn() was called\n",
      "foo() was called\n",
      "foo() was called\n"
     ]
    }
   ],
   "source": [
    "# testfn() here is called a factory function (factory method)\n",
    "def testfn(): \n",
    "    print(\"testfn() was called\")\n",
    "    def foo(): \n",
    "        print(\"foo() was called\")\n",
    "    \n",
    "    return foo\n",
    "\n",
    "f = testfn()\n",
    "f()\n",
    "f()\n",
    "\n",
    "\n"
   ]
  },
  {
   "cell_type": "code",
   "execution_count": 22,
   "metadata": {},
   "outputs": [
    {
     "name": "stdout",
     "output_type": "stream",
     "text": [
      "<function factory.<locals>.smartphone at 0x708b3d75e5c0>\n",
      "this is a smart phone\n"
     ]
    }
   ],
   "source": [
    "# Example of factory-method design pattern\n",
    "def factory(budget):\n",
    "    if 0 < budget < 1000:\n",
    "        def toy():\n",
    "            print(\"this is toy!\")\n",
    "        return toy\n",
    "    elif 1000 <= budget < 10000:\n",
    "        def gadget():\n",
    "            print(\"this is a gadget\")\n",
    "        return gadget\n",
    "    elif 10000 <= budget < 70000:\n",
    "        def smartphone():\n",
    "            print(\"this is a smart phone\")\n",
    "        return smartphone\n",
    "    \n",
    "a = factory(10000)\n",
    "print(a)\n",
    "a()\n",
    "\n",
    "\n"
   ]
  }
 ],
 "metadata": {
  "kernelspec": {
   "display_name": "base",
   "language": "python",
   "name": "python3"
  },
  "language_info": {
   "codemirror_mode": {
    "name": "ipython",
    "version": 3
   },
   "file_extension": ".py",
   "mimetype": "text/x-python",
   "name": "python",
   "nbconvert_exporter": "python",
   "pygments_lexer": "ipython3",
   "version": "3.11.7"
  }
 },
 "nbformat": 4,
 "nbformat_minor": 2
}
