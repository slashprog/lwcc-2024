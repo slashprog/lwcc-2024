{
 "cells": [
  {
   "cell_type": "markdown",
   "metadata": {},
   "source": [
    "#### Database - \"organized\" store of data\n",
    "\n",
    "All databases should support a simple mechanism for CRUD operations on rows / records of a Database:\n",
    "   - C - Create\n",
    "   - R - Retrieve\n",
    "   - U - Update\n",
    "   - D - Delete\n",
    "\n",
    "The program that manages the CRUD operations on a databases is a Database Management Systems (DBMS)\n"
   ]
  },
  {
   "cell_type": "markdown",
   "metadata": {},
   "source": [
    "CSV - Comma Separated Values \n",
    " - One of the popular file formats for storing organized data\n",
    " - Each line represents a \"row\" / \"record\" / \"tuple\"\n",
    " - Each row is made up of comma-separated values that act as fields / columns\n",
    "  \n",
    "Key column is a column whose values are unique and allows access the entire row using that column value in a query."
   ]
  },
  {
   "cell_type": "code",
   "execution_count": 3,
   "metadata": {},
   "outputs": [
    {
     "data": {
      "text/plain": [
       "4.5"
      ]
     },
     "execution_count": 3,
     "metadata": {},
     "output_type": "execute_result"
    }
   ],
   "source": [
    "values = \"A2DZTYU\", 67, 4.5\n",
    "\n",
    "rec = {\"name\": \"John\", \"age\": 67, \"score\": 4.5}\n",
    "rec[\"score\"]\n"
   ]
  },
  {
   "cell_type": "code",
   "execution_count": 5,
   "metadata": {},
   "outputs": [],
   "source": [
    "del u"
   ]
  },
  {
   "cell_type": "code",
   "execution_count": 9,
   "metadata": {},
   "outputs": [
    {
     "name": "stdout",
     "output_type": "stream",
     "text": [
      "<_io.TextIOWrapper name='users.csv' mode='r' encoding='cp1252'>\n",
      "False\n",
      "True\n"
     ]
    }
   ],
   "source": [
    "with open(\"users.csv\") as u: # u = open(\"users.csv\")\n",
    "    print(u)\n",
    "    print(u.closed)\n",
    "\n",
    "print(u.closed)\n",
    "\n"
   ]
  },
  {
   "cell_type": "code",
   "execution_count": 11,
   "metadata": {},
   "outputs": [
    {
     "name": "stdout",
     "output_type": "stream",
     "text": [
      "john,john123,John Doe\n",
      "smith,secret,Adam smith\n",
      "guido,ross123,Guido Van Rossum\n",
      "raymond,h3t1n,Raymond HettingerTrue\n"
     ]
    }
   ],
   "source": [
    "with open(\"users.csv\") as u: # u = open(\"users.csv\")\n",
    "    for line in u:\n",
    "        print(line, end=\"\")\n",
    "\n",
    "print(u.closed)\n",
    "\n"
   ]
  },
  {
   "cell_type": "code",
   "execution_count": 21,
   "metadata": {},
   "outputs": [
    {
     "name": "stdout",
     "output_type": "stream",
     "text": [
      "John Doe\n",
      "Adam smith\n",
      "Guido Van Rossum\n",
      "Raymond Hettinger\n"
     ]
    }
   ],
   "source": [
    "with open(\"users.csv\") as u: # u = open(\"users.csv\")\n",
    "    for line in u:\n",
    "        print(line.rstrip().split(\",\")[2])\n"
   ]
  },
  {
   "cell_type": "code",
   "execution_count": 45,
   "metadata": {},
   "outputs": [
    {
     "name": "stdout",
     "output_type": "stream",
     "text": [
      "{'username': 'john', 'password': 'john123', 'fullname': 'John Doe'}\n",
      "{'username': 'smith', 'password': 'secret', 'fullname': 'Adam smith'}\n",
      "{'username': 'guido', 'password': 'ross123', 'fullname': 'Guido Van Rossum'}\n",
      "{'username': 'raymond', 'password': 'h3t1n', 'fullname': 'Raymond Hettinger'}\n"
     ]
    }
   ],
   "source": [
    "with open(\"users.csv\") as u: # u = open(\"users.csv\")\n",
    "    for line in u:\n",
    "        u, p, f = line.rstrip().split(\",\")\n",
    "        rec = {\"username\": u, \"password\": p, \"fullname\": f}\n",
    "        print(rec)\n",
    "\n",
    "\n"
   ]
  },
  {
   "cell_type": "code",
   "execution_count": 47,
   "metadata": {},
   "outputs": [
    {
     "data": {
      "text/plain": [
       "{'john': {'username': 'john', 'password': 'john123', 'fullname': 'John Doe'},\n",
       " 'smith': {'username': 'smith',\n",
       "  'password': 'secret',\n",
       "  'fullname': 'Adam smith'},\n",
       " 'guido': {'username': 'guido',\n",
       "  'password': 'ross123',\n",
       "  'fullname': 'Guido Van Rossum'},\n",
       " 'raymond': {'username': 'raymond',\n",
       "  'password': 'h3t1n',\n",
       "  'fullname': 'Raymond Hettinger'}}"
      ]
     },
     "execution_count": 47,
     "metadata": {},
     "output_type": "execute_result"
    }
   ],
   "source": [
    "with open(\"users.csv\") as u: # u = open(\"users.csv\")\n",
    "    users = {}\n",
    "    for line in u:\n",
    "        u, p, f = line.rstrip().split(\",\")\n",
    "        rec = {\"username\": u, \"password\": p, \"fullname\": f}\n",
    "        users[u] = rec\n",
    "\n",
    "users\n",
    "\n",
    "\n"
   ]
  },
  {
   "cell_type": "code",
   "execution_count": 56,
   "metadata": {},
   "outputs": [
    {
     "data": {
      "text/plain": [
       "'Guido Van Rossum'"
      ]
     },
     "execution_count": 56,
     "metadata": {},
     "output_type": "execute_result"
    }
   ],
   "source": [
    "with open(\"users.csv\") as u: # u = open(\"users.csv\")\n",
    "    users = []\n",
    "    for line in u:\n",
    "        rec = line.rstrip().split(\",\")\n",
    "        users.append(rec)\n",
    "\n",
    "users[2][2] # Using a list for represent tabular data might not be as intuitive for quering"
   ]
  },
  {
   "cell_type": "code",
   "execution_count": 59,
   "metadata": {},
   "outputs": [
    {
     "name": "stdout",
     "output_type": "stream",
     "text": [
      "users[\"guido\"][\"fullname\"]='Guido Van Rossum'\n",
      "users[\"smith\"][\"password\"]='secret'\n"
     ]
    },
    {
     "data": {
      "text/plain": [
       "{'john': {'username': 'john', 'password': 'john123', 'fullname': 'John Doe'},\n",
       " 'smith': {'username': 'smith',\n",
       "  'password': 'secret',\n",
       "  'fullname': 'Adam smith'},\n",
       " 'guido': {'username': 'guido',\n",
       "  'password': 'ross123',\n",
       "  'fullname': 'Guido Van Rossum'},\n",
       " 'raymond': {'username': 'raymond',\n",
       "  'password': 'h3t1n',\n",
       "  'fullname': 'Raymond Hettinger'}}"
      ]
     },
     "execution_count": 59,
     "metadata": {},
     "output_type": "execute_result"
    }
   ],
   "source": [
    "with open(\"users.csv\") as u: # u = open(\"users.csv\")\n",
    "    users = {}\n",
    "    for line in u:\n",
    "        u, p, f = line.rstrip().split(\",\")\n",
    "        rec = {\"username\": u, \"password\": p, \"fullname\": f}\n",
    "        users[u] = rec\n",
    "\n",
    "print(f'{users[\"guido\"][\"fullname\"]=}')\n",
    "print(f'{users[\"smith\"][\"password\"]=}')\n",
    "users\n",
    "# A dictionary-of-dictionary (where inner dictionary have similar structure) can be used\n",
    "# for intuitively representing row-column tabular data in Python\n"
   ]
  },
  {
   "cell_type": "code",
   "execution_count": 61,
   "metadata": {},
   "outputs": [],
   "source": [
    "users[\"smith\"][\"password\"] = \"Idontknow\""
   ]
  },
  {
   "cell_type": "code",
   "execution_count": 63,
   "metadata": {},
   "outputs": [],
   "source": [
    "del users[\"guido\"]"
   ]
  },
  {
   "cell_type": "code",
   "execution_count": 64,
   "metadata": {},
   "outputs": [
    {
     "data": {
      "text/plain": [
       "{'john': {'username': 'john', 'password': 'john123', 'fullname': 'John Doe'},\n",
       " 'smith': {'username': 'smith',\n",
       "  'password': 'Idontknow',\n",
       "  'fullname': 'Adam smith'},\n",
       " 'raymond': {'username': 'raymond',\n",
       "  'password': 'h3t1n',\n",
       "  'fullname': 'Raymond Hettinger'}}"
      ]
     },
     "execution_count": 64,
     "metadata": {},
     "output_type": "execute_result"
    }
   ],
   "source": [
    "users"
   ]
  },
  {
   "cell_type": "code",
   "execution_count": 16,
   "metadata": {},
   "outputs": [
    {
     "data": {
      "text/plain": [
       "'john'"
      ]
     },
     "execution_count": 16,
     "metadata": {},
     "output_type": "execute_result"
    }
   ],
   "source": [
    "line = \"john,john123,John Doe\"\n",
    "line.split(\",\")[0]"
   ]
  },
  {
   "cell_type": "code",
   "execution_count": 25,
   "metadata": {},
   "outputs": [
    {
     "name": "stdout",
     "output_type": "stream",
     "text": [
      "a='    hello world       '\n",
      "a.rstrip()='    hello world'\n",
      "a.lstrip()='hello world       '\n",
      "a.strip()='hello world'\n"
     ]
    }
   ],
   "source": [
    "a = \"    hello world       \"\n",
    "\n",
    "print(f\"{a=}\")\n",
    "print(f\"{a.rstrip()=}\")\n",
    "print(f\"{a.lstrip()=}\")\n",
    "print(f\"{a.strip()=}\")"
   ]
  },
  {
   "cell_type": "code",
   "execution_count": 30,
   "metadata": {},
   "outputs": [
    {
     "name": "stdout",
     "output_type": "stream",
     "text": [
      "hello\t\t\t\tworld\n",
      "\n",
      "\n",
      "\n",
      "test\n"
     ]
    }
   ],
   "source": [
    "a = \"hello\\t\\t\\t\\tworld\\n\\n\\n\\ntest\"\n",
    "print(a)"
   ]
  },
  {
   "cell_type": "code",
   "execution_count": 33,
   "metadata": {},
   "outputs": [
    {
     "name": "stdout",
     "output_type": "stream",
     "text": [
      "welcomeorld\n"
     ]
    }
   ],
   "source": [
    "# Carriage return\n",
    "a = \"hello world\\rwelcome\"\n",
    "print(a)"
   ]
  },
  {
   "cell_type": "code",
   "execution_count": 35,
   "metadata": {},
   "outputs": [
    {
     "name": "stdout",
     "output_type": "stream",
     "text": [
      "Hello\n",
      "World\n"
     ]
    }
   ],
   "source": [
    "from time import sleep\n",
    "print(\"Hello\")\n",
    "sleep(1)\n",
    "print(\"World\")"
   ]
  },
  {
   "cell_type": "code",
   "execution_count": 38,
   "metadata": {},
   "outputs": [
    {
     "name": "stdout",
     "output_type": "stream",
     "text": [
      "Sat Aug 10 14:28:19 2024"
     ]
    }
   ],
   "source": [
    "from time import sleep, ctime\n",
    "\n",
    "for i in range(10):\n",
    "    t = ctime()\n",
    "    print(f\"\\r{t}\", end=\"\")\n",
    "    sleep(1)"
   ]
  },
  {
   "cell_type": "code",
   "execution_count": 41,
   "metadata": {},
   "outputs": [
    {
     "name": "stdout",
     "output_type": "stream",
     "text": [
      "Progress: \\"
     ]
    },
    {
     "ename": "KeyboardInterrupt",
     "evalue": "",
     "output_type": "error",
     "traceback": [
      "\u001b[1;31m---------------------------------------------------------------------------\u001b[0m",
      "\u001b[1;31mKeyboardInterrupt\u001b[0m                         Traceback (most recent call last)",
      "Input \u001b[1;32mIn [41]\u001b[0m, in \u001b[0;36m<module>\u001b[1;34m\u001b[0m\n\u001b[0;32m      4\u001b[0m \u001b[38;5;28;01mfor\u001b[39;00m c \u001b[38;5;129;01min\u001b[39;00m cursor:\n\u001b[0;32m      5\u001b[0m     \u001b[38;5;28mprint\u001b[39m(\u001b[38;5;124mf\u001b[39m\u001b[38;5;124m\"\u001b[39m\u001b[38;5;130;01m\\r\u001b[39;00m\u001b[38;5;124mProgress: \u001b[39m\u001b[38;5;132;01m{\u001b[39;00mc\u001b[38;5;132;01m}\u001b[39;00m\u001b[38;5;124m\"\u001b[39m, end\u001b[38;5;241m=\u001b[39m\u001b[38;5;124m\"\u001b[39m\u001b[38;5;124m\"\u001b[39m)\n\u001b[1;32m----> 6\u001b[0m     \u001b[43msleep\u001b[49m\u001b[43m(\u001b[49m\u001b[38;5;241;43m0.3\u001b[39;49m\u001b[43m)\u001b[49m\n",
      "\u001b[1;31mKeyboardInterrupt\u001b[0m: "
     ]
    }
   ],
   "source": [
    "from time import sleep\n",
    "cursor = \"-\\|/\"\n",
    "while True:\n",
    "    for c in cursor:\n",
    "        print(f\"\\rProgress: {c}\", end=\"\")\n",
    "        sleep(0.3)"
   ]
  },
  {
   "cell_type": "code",
   "execution_count": null,
   "metadata": {},
   "outputs": [],
   "source": []
  }
 ],
 "metadata": {
  "kernelspec": {
   "display_name": "Python 3",
   "language": "python",
   "name": "python3"
  },
  "language_info": {
   "codemirror_mode": {
    "name": "ipython",
    "version": 3
   },
   "file_extension": ".py",
   "mimetype": "text/x-python",
   "name": "python",
   "nbconvert_exporter": "python",
   "pygments_lexer": "ipython3",
   "version": "3.10.2"
  }
 },
 "nbformat": 4,
 "nbformat_minor": 2
}
