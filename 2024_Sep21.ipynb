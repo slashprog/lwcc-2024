{
 "cells": [
  {
   "cell_type": "markdown",
   "metadata": {},
   "source": [
    "### LWCC  Session 34 - September 21st 2024\n",
    "\n",
    "#### Accessor methods and accessor pattern\n"
   ]
  },
  {
   "cell_type": "code",
   "execution_count": 17,
   "metadata": {},
   "outputs": [
    {
     "name": "stdout",
     "output_type": "stream",
     "text": [
      "<__main__.User object at 0x000001CF44E75A30>\n"
     ]
    }
   ],
   "source": [
    "class User:\n",
    "    #def __init__(self):\n",
    "    #    self.name = \"John\"\n",
    "\n",
    "    def __getattr__(self, attr):\n",
    "        print(\"__getattr__ called with attr =\", attr)\n",
    "        return 123\n",
    "\n",
    "u = User()\n",
    "u.role = \"Developer\"\n",
    "u.name = \"smith\"\n",
    "\n",
    "print(u)"
   ]
  },
  {
   "cell_type": "code",
   "execution_count": 18,
   "metadata": {},
   "outputs": [
    {
     "name": "stdout",
     "output_type": "stream",
     "text": [
      "smith Developer\n",
      "__getattr__ called with attr = city\n",
      "123\n"
     ]
    }
   ],
   "source": [
    "print(u.name, u.role)\n",
    "print(u.city) # User.__getattr__(u, \"city\")\n",
    "\n"
   ]
  },
  {
   "cell_type": "markdown",
   "metadata": {},
   "source": [
    "The __getattr__ method is invoked on an object if the attribute does not exist on that object"
   ]
  },
  {
   "cell_type": "code",
   "execution_count": 19,
   "metadata": {},
   "outputs": [
    {
     "data": {
      "text/plain": [
       "['__class__',\n",
       " '__delattr__',\n",
       " '__dict__',\n",
       " '__dir__',\n",
       " '__doc__',\n",
       " '__eq__',\n",
       " '__format__',\n",
       " '__ge__',\n",
       " '__getattr__',\n",
       " '__getattribute__',\n",
       " '__getstate__',\n",
       " '__gt__',\n",
       " '__hash__',\n",
       " '__init__',\n",
       " '__init_subclass__',\n",
       " '__le__',\n",
       " '__lt__',\n",
       " '__module__',\n",
       " '__ne__',\n",
       " '__new__',\n",
       " '__reduce__',\n",
       " '__reduce_ex__',\n",
       " '__repr__',\n",
       " '__setattr__',\n",
       " '__sizeof__',\n",
       " '__str__',\n",
       " '__subclasshook__',\n",
       " '__weakref__',\n",
       " 'name',\n",
       " 'role']"
      ]
     },
     "execution_count": 19,
     "metadata": {},
     "output_type": "execute_result"
    }
   ],
   "source": [
    "dir(u)"
   ]
  },
  {
   "cell_type": "markdown",
   "metadata": {},
   "source": [
    "User defined classes and their instances in python are fully open to modification in runtime"
   ]
  },
  {
   "cell_type": "code",
   "execution_count": 24,
   "metadata": {},
   "outputs": [
    {
     "name": "stdout",
     "output_type": "stream",
     "text": [
      "John Seattle\n",
      "Smith Seattle Student\n"
     ]
    },
    {
     "ename": "AttributeError",
     "evalue": "'User' object has no attribute 'name'",
     "output_type": "error",
     "traceback": [
      "\u001b[1;31m---------------------------------------------------------------------------\u001b[0m",
      "\u001b[1;31mAttributeError\u001b[0m                            Traceback (most recent call last)",
      "Cell \u001b[1;32mIn[24], line 13\u001b[0m\n\u001b[0;32m     10\u001b[0m \u001b[38;5;28mprint\u001b[39m(u\u001b[38;5;241m.\u001b[39mname, u\u001b[38;5;241m.\u001b[39mplace, u\u001b[38;5;241m.\u001b[39mrole)\n\u001b[0;32m     12\u001b[0m \u001b[38;5;28;01mdel\u001b[39;00m u\u001b[38;5;241m.\u001b[39mname\n\u001b[1;32m---> 13\u001b[0m \u001b[38;5;28mprint\u001b[39m(\u001b[43mu\u001b[49m\u001b[38;5;241;43m.\u001b[39;49m\u001b[43mname\u001b[49m)\n",
      "\u001b[1;31mAttributeError\u001b[0m: 'User' object has no attribute 'name'"
     ]
    }
   ],
   "source": [
    "class User:\n",
    "    def __init__(self, name, place):\n",
    "        self.name = name\n",
    "        self.place = place\n",
    "\n",
    "u = User(\"John\", \"Seattle\")\n",
    "print(u.name, u.place)\n",
    "u.role = \"Student\"\n",
    "u.name = \"Smith\"\n",
    "print(u.name, u.place, u.role)\n",
    "\n",
    "del u.name\n",
    "print(u.name)"
   ]
  },
  {
   "cell_type": "code",
   "execution_count": 27,
   "metadata": {},
   "outputs": [
    {
     "name": "stdout",
     "output_type": "stream",
     "text": [
      "{'place': 'Seattle', 'role': 'Student'}\n",
      "{'place': 'Seattle', 'role': 'Student', 'age': 78}\n"
     ]
    }
   ],
   "source": [
    "print(u.__dict__)\n",
    "u.age = 78\n",
    "print(u.__dict__)\n"
   ]
  },
  {
   "cell_type": "code",
   "execution_count": 29,
   "metadata": {},
   "outputs": [
    {
     "data": {
      "text/plain": [
       "'Seattle'"
      ]
     },
     "execution_count": 29,
     "metadata": {},
     "output_type": "execute_result"
    }
   ],
   "source": [
    "u.__dict__[\"place\"]"
   ]
  },
  {
   "cell_type": "code",
   "execution_count": 30,
   "metadata": {},
   "outputs": [
    {
     "name": "stdout",
     "output_type": "stream",
     "text": [
      "{'place': 'Seattle', 'role': 'Student', 'age': 78, 'university': 'Harvard'}\n"
     ]
    }
   ],
   "source": [
    "u.__dict__[\"university\"] = \"Harvard\"\n",
    "print(u.__dict__)"
   ]
  },
  {
   "cell_type": "code",
   "execution_count": 31,
   "metadata": {},
   "outputs": [
    {
     "data": {
      "text/plain": [
       "'Harvard'"
      ]
     },
     "execution_count": 31,
     "metadata": {},
     "output_type": "execute_result"
    }
   ],
   "source": [
    "u.university"
   ]
  },
  {
   "cell_type": "code",
   "execution_count": 35,
   "metadata": {},
   "outputs": [
    {
     "name": "stdout",
     "output_type": "stream",
     "text": [
      "Shivansh\n",
      "Shivansh\n"
     ]
    }
   ],
   "source": [
    "class User: pass\n",
    "\n",
    "u = User()\n",
    "#u.name = \"Antony\"\n",
    "u.__dict__[\"name\"] = \"Shivansh\"\n",
    "print(u.name)\n",
    "print(u.__dict__[\"name\"])"
   ]
  },
  {
   "cell_type": "code",
   "execution_count": 36,
   "metadata": {},
   "outputs": [
    {
     "data": {
      "text/plain": [
       "{'name': 'Shivansh'}"
      ]
     },
     "execution_count": 36,
     "metadata": {},
     "output_type": "execute_result"
    }
   ],
   "source": [
    "vars(u)  # u.__dict__"
   ]
  },
  {
   "cell_type": "code",
   "execution_count": 39,
   "metadata": {},
   "outputs": [
    {
     "data": {
      "text/plain": [
       "mappingproxy({'__module__': '__main__',\n",
       "              '__dict__': <attribute '__dict__' of 'User' objects>,\n",
       "              '__weakref__': <attribute '__weakref__' of 'User' objects>,\n",
       "              '__doc__': None})"
      ]
     },
     "execution_count": 39,
     "metadata": {},
     "output_type": "execute_result"
    }
   ],
   "source": [
    "type(u).__dict__"
   ]
  },
  {
   "cell_type": "code",
   "execution_count": 42,
   "metadata": {},
   "outputs": [
    {
     "data": {
      "text/plain": [
       "102030"
      ]
     },
     "execution_count": 42,
     "metadata": {},
     "output_type": "execute_result"
    }
   ],
   "source": [
    "a = 10_20_30\n",
    "a"
   ]
  },
  {
   "cell_type": "code",
   "execution_count": 47,
   "metadata": {},
   "outputs": [
    {
     "name": "stdout",
     "output_type": "stream",
     "text": [
      "1000000 1000000\n",
      "{'__module__': '__main__', 'price': 1000000, '__dict__': <attribute '__dict__' of 'Car' objects>, '__weakref__': <attribute '__weakref__' of 'Car' objects>, '__doc__': None}\n",
      "{} {}\n",
      "2000000 1000000\n",
      "{'__module__': '__main__', 'price': 1000000, '__dict__': <attribute '__dict__' of 'Car' objects>, '__weakref__': <attribute '__weakref__' of 'Car' objects>, '__doc__': None}\n",
      "{'price': 2000000} {}\n"
     ]
    }
   ],
   "source": [
    "class Car: \n",
    "    price = 10_00_000\n",
    "\n",
    "c1 = Car()\n",
    "c2 = Car()\n",
    "\n",
    "print(c1.price, c2.price)\n",
    "print(Car.__dict__)\n",
    "print(c1.__dict__, c2.__dict__)\n",
    "\n",
    "c1.price = 20_00_000\n",
    "print(c1.price, c2.price)\n",
    "print(Car.__dict__)\n",
    "print(c1.__dict__, c2.__dict__)\n"
   ]
  },
  {
   "cell_type": "code",
   "execution_count": 49,
   "metadata": {},
   "outputs": [
    {
     "name": "stdout",
     "output_type": "stream",
     "text": [
      "{'make': 'Toyota', 'price': 2200000}\n",
      "Toyota 2200000\n"
     ]
    }
   ],
   "source": [
    "class Car: pass\n",
    "\n",
    "c1 = Car()\n",
    "c1.make = \"Toyota\"\n",
    "c1.price = 22_00_000\n",
    "\n",
    "print(c1.__dict__)\n",
    "print(c1.make, c1.price)"
   ]
  },
  {
   "cell_type": "code",
   "execution_count": 53,
   "metadata": {},
   "outputs": [
    {
     "name": "stdout",
     "output_type": "stream",
     "text": [
      "__setattr__ called with attr='color', value='white'\n",
      "__setattr__ called with attr='make', value='Toyota'\n",
      "__setattr__ called with attr='price', value=2200000\n",
      "{'color': 'WHITE', 'make': 'TOYOTA', 'price': 2200000.0}\n",
      "TOYOTA 2200000.0\n"
     ]
    }
   ],
   "source": [
    "class Car:\n",
    "    def __init__(self):\n",
    "        self.color = \"white\"\n",
    "\n",
    "    def __setattr__(self, attr, value):\n",
    "        print(f\"__setattr__ called with {attr=}, {value=}\")\n",
    "        if type(value) is str:\n",
    "            self.__dict__[attr] = value.upper()\n",
    "        \n",
    "        elif type(value) is int:\n",
    "            self.__dict__[attr] = float(value)\n",
    "\n",
    "c1 = Car()\n",
    "c1.make = \"Toyota\"\n",
    "c1.price = 22_00_000\n",
    "\n",
    "print(c1.__dict__)\n",
    "print(c1.make, c1.price)"
   ]
  }
 ],
 "metadata": {
  "kernelspec": {
   "display_name": "Python 3",
   "language": "python",
   "name": "python3"
  },
  "language_info": {
   "codemirror_mode": {
    "name": "ipython",
    "version": 3
   },
   "file_extension": ".py",
   "mimetype": "text/x-python",
   "name": "python",
   "nbconvert_exporter": "python",
   "pygments_lexer": "ipython3",
   "version": "3.12.5"
  }
 },
 "nbformat": 4,
 "nbformat_minor": 2
}
