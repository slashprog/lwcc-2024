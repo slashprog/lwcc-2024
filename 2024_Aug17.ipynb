{
 "cells": [
  {
   "cell_type": "code",
   "execution_count": 1,
   "metadata": {},
   "outputs": [],
   "source": [
    "from userfile import Users\n",
    "\n",
    "users = Users(\"users.csv\", sep=\",\")\n",
    "\n",
    "users.add(username=\"tim\", password=\"pete123\", fullname=\"Tim Peters\")\n",
    "\n",
    "users.modify(username=\"smith\", password=\"joe123\")\n",
    "users.modify(\"larry\", fullname=\"Larry Jones\", password=\"jones123\")\n",
    "\n",
    "users.delete(\"guido\")\n"
   ]
  },
  {
   "cell_type": "code",
   "execution_count": null,
   "metadata": {},
   "outputs": [],
   "source": [
    "# Naming variables\n",
    "\n",
    "# Bad practice:\n",
    "number = 10\n",
    "list = [11, 22, 33, 44]\n",
    "\n",
    "# Always name your variable based on the context of data they represent.\n",
    "score = 10\n",
    "player_scores = [11, 22, 33, 44]\n"
   ]
  }
 ],
 "metadata": {
  "kernelspec": {
   "display_name": "Python 3",
   "language": "python",
   "name": "python3"
  },
  "language_info": {
   "codemirror_mode": {
    "name": "ipython",
    "version": 3
   },
   "file_extension": ".py",
   "mimetype": "text/x-python",
   "name": "python",
   "nbconvert_exporter": "python",
   "pygments_lexer": "ipython3",
   "version": "3.10.2"
  }
 },
 "nbformat": 4,
 "nbformat_minor": 2
}
