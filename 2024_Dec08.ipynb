{
 "cells": [
  {
   "cell_type": "markdown",
   "metadata": {},
   "source": [
    "### LWCC  Session 52 - December 8th 2024\n",
    "\n",
    "#### Basic Database Management - Overview - Part 2\n"
   ]
  },
  {
   "cell_type": "code",
   "execution_count": 1,
   "metadata": {},
   "outputs": [
    {
     "data": {
      "text/plain": [
       "{'john': {'place': 'denver', 'age': 40},\n",
       " 'smith': {'place': 'seattle', 'age': 17},\n",
       " 'joe': {'place': 'delhi', 'age': 30},\n",
       " 'jane': {'place': 'moscow', 'age': 25}}"
      ]
     },
     "execution_count": 1,
     "metadata": {},
     "output_type": "execute_result"
    }
   ],
   "source": [
    "data = {\n",
    "    \"john\": {\"place\": \"denver\", \"age\": 40},\n",
    "    \"smith\": {\"place\": \"seattle\", \"age\": 17},\n",
    "    \"joe\": {\"place\": \"delhi\", \"age\": 30},\n",
    "    \"jane\": {\"place\": \"moscow\", \"age\": 25}\n",
    "}\n",
    "data"
   ]
  },
  {
   "cell_type": "code",
   "execution_count": null,
   "metadata": {},
   "outputs": [
    {
     "name": "stdout",
     "output_type": "stream",
     "text": [
      "john {'place': 'denver', 'age': 40}\n",
      "smith {'place': 'seattle', 'age': 17}\n",
      "joe {'place': 'delhi', 'age': 30}\n",
      "jane {'place': 'moscow', 'age': 25}\n"
     ]
    }
   ],
   "source": [
    "import shelve\n",
    "s = shelve.open(\"users\")\n",
    "s.update(data)\n",
    "for k, v in s.items():\n",
    "    print(k, v)\n",
    "\n",
    "s.close()\n"
   ]
  },
  {
   "cell_type": "code",
   "execution_count": 9,
   "metadata": {},
   "outputs": [],
   "source": [
    "s.close()"
   ]
  },
  {
   "cell_type": "code",
   "execution_count": null,
   "metadata": {},
   "outputs": [
    {
     "name": "stdout",
     "output_type": "stream",
     "text": [
      "{'x': 10, 'y': 20} {'x': 10, 'y': 20}\n",
      "{'x': 100, 'y': 20} {'x': 10, 'y': 20}\n"
     ]
    }
   ],
   "source": [
    "a = {\"x\": 10, \"y\": 20}\n",
    "b = {}\n",
    "b.update(a)\n",
    "print(a, b)\n",
    "a[\"x\"] = 100\n",
    "print(a, b)\n"
   ]
  },
  {
   "cell_type": "code",
   "execution_count": 5,
   "metadata": {},
   "outputs": [
    {
     "name": "stdout",
     "output_type": "stream",
     "text": [
      "{'x': 10, 'y': 20} {'x': 10, 'y': 20}\n",
      "{'x': 100, 'y': 20} {'x': 10, 'y': 20}\n"
     ]
    }
   ],
   "source": [
    "a = {\"x\": 10, \"y\": 20}\n",
    "b = {}\n",
    "b.update(a)\n",
    "print(a, b)\n",
    "a[\"x\"] = 100\n",
    "print(a, b)\n"
   ]
  },
  {
   "cell_type": "code",
   "execution_count": 4,
   "metadata": {},
   "outputs": [
    {
     "name": "stdout",
     "output_type": "stream",
     "text": [
      "{'x': 10, 'y': 20} {'x': 10, 'y': 20}\n",
      "{'x': 100, 'y': 20} {'x': 100, 'y': 20}\n"
     ]
    }
   ],
   "source": [
    "a = {\"x\": 10, \"y\": 20}\n",
    "b = {}\n",
    "b = a\n",
    "print(a, b)\n",
    "a[\"x\"] = 100\n",
    "print(a, b)\n"
   ]
  },
  {
   "cell_type": "code",
   "execution_count": null,
   "metadata": {},
   "outputs": [
    {
     "name": "stdout",
     "output_type": "stream",
     "text": [
      "{'x': 10, 'y': 20} {'x': 10, 'y': 20}\n"
     ]
    }
   ],
   "source": [
    "a = {\"x\": 10, \"y\": 20}\n",
    "b = {}\n",
    "b[\"z\"] = 30\n",
    "\n"
   ]
  },
  {
   "cell_type": "code",
   "execution_count": 6,
   "metadata": {},
   "outputs": [
    {
     "name": "stdout",
     "output_type": "stream",
     "text": [
      "{'x': 10, 'y': 20} {'x': 10, 'y': 20}\n",
      "{'x': 100, 'y': 20} {'x': 10, 'y': 20}\n"
     ]
    }
   ],
   "source": [
    "a = {\"x\": 10, \"y\": 20}\n",
    "b = dict(a)\n",
    "print(a, b)\n",
    "a[\"x\"] = 100\n",
    "print(a, b)\n"
   ]
  },
  {
   "cell_type": "code",
   "execution_count": 7,
   "metadata": {},
   "outputs": [
    {
     "name": "stdout",
     "output_type": "stream",
     "text": [
      "{'x': 10, 'y': 20} {'z': 30, 'w': 40, 'x': 10, 'y': 20}\n",
      "{'x': 100, 'y': 20} {'z': 30, 'w': 40, 'x': 10, 'y': 20}\n"
     ]
    }
   ],
   "source": [
    "a = {\"x\": 10, \"y\": 20}\n",
    "b = {\"z\": 30, \"w\": 40}\n",
    "b.update(a)\n",
    "print(a, b)\n",
    "a[\"x\"] = 100\n",
    "print(a, b)\n"
   ]
  },
  {
   "cell_type": "code",
   "execution_count": null,
   "metadata": {},
   "outputs": [
    {
     "data": {
      "text/plain": [
       "{'john': {'place': 'denver', 'age': 40},\n",
       " 'smith': {'place': 'seattle', 'age': 17},\n",
       " 'joe': {'place': 'delhi', 'age': 30},\n",
       " 'jane': {'place': 'moscow', 'age': 25}}"
      ]
     },
     "metadata": {},
     "output_type": "display_data"
    }
   ],
   "source": [
    "data = {\n",
    "    \"john\": {\"place\": \"denver\", \"age\": 40},\n",
    "    \"smith\": {\"place\": \"seattle\", \"age\": 17},\n",
    "    \"joe\": {\"place\": \"delhi\", \"age\": 30},\n",
    "    \"jane\": {\"place\": \"moscow\", \"age\": 25}\n",
    "}\n",
    "data"
   ]
  },
  {
   "cell_type": "code",
   "execution_count": null,
   "metadata": {},
   "outputs": [
    {
     "name": "stdout",
     "output_type": "stream",
     "text": [
      "john {'place': 'denver', 'age': 40}\n",
      "smith {'place': 'seattle', 'age': 17}\n",
      "joe {'place': 'delhi', 'age': 30}\n",
      "jane {'place': 'moscow', 'age': 25}\n"
     ]
    }
   ],
   "source": [
    "import shelve\n",
    "s = shelve.open(\"users\")\n",
    "s.update(data)\n",
    "for k, v in s.items():\n",
    "    print(k, v)\n",
    "\n",
    "s.close()\n"
   ]
  },
  {
   "cell_type": "code",
   "execution_count": 12,
   "metadata": {},
   "outputs": [
    {
     "data": {
      "text/plain": [
       "{'john': {'place': 'denver', 'age': 40},\n",
       " 'smith': {'place': 'mumbai', 'age': 17},\n",
       " 'joe': {'place': 'delhi', 'age': 30},\n",
       " 'jane': {'place': 'moscow', 'age': 25}}"
      ]
     },
     "execution_count": 12,
     "metadata": {},
     "output_type": "execute_result"
    }
   ],
   "source": [
    "b = {}\n",
    "b.update(data)\n",
    "b[\"smith\"][\"place\"] = \"mumbai\"\n",
    "b"
   ]
  },
  {
   "cell_type": "code",
   "execution_count": 16,
   "metadata": {},
   "outputs": [
    {
     "name": "stdout",
     "output_type": "stream",
     "text": [
      "seattle\n",
      "seattle\n"
     ]
    }
   ],
   "source": [
    "import shelve\n",
    "with shelve.open(\"users\") as s:\n",
    "    print(s[\"smith\"][\"place\"])\n",
    "    s[\"smith\"][\"place\"] = \"delhi\"\n",
    "    print(s[\"smith\"][\"place\"])\n"
   ]
  },
  {
   "cell_type": "code",
   "execution_count": 17,
   "metadata": {},
   "outputs": [
    {
     "name": "stdout",
     "output_type": "stream",
     "text": [
      "seattle\n",
      "{'place': 'ottawa', 'age': 32}\n"
     ]
    }
   ],
   "source": [
    "import shelve\n",
    "with shelve.open(\"users\") as s:\n",
    "    print(s[\"smith\"][\"place\"])\n",
    "    s[\"dave\"] = {\"place\": \"ottawa\", \"age\": 32}\n",
    "    print(s[\"dave\"])\n"
   ]
  },
  {
   "cell_type": "code",
   "execution_count": 18,
   "metadata": {},
   "outputs": [
    {
     "name": "stdout",
     "output_type": "stream",
     "text": [
      "seattle\n",
      "{'place': 'sydney', 'age': 45}\n"
     ]
    }
   ],
   "source": [
    "import shelve\n",
    "with shelve.open(\"users\") as s:\n",
    "    print(s[\"smith\"][\"place\"])\n",
    "    s[\"dave\"] = {\"place\": \"sydney\", \"age\": 45}\n",
    "    print(s[\"dave\"])\n"
   ]
  },
  {
   "cell_type": "code",
   "execution_count": 19,
   "metadata": {},
   "outputs": [
    {
     "name": "stdout",
     "output_type": "stream",
     "text": [
      "{'place': 'sydney', 'age': 45}\n"
     ]
    }
   ],
   "source": [
    "import shelve\n",
    "with shelve.open(\"users\") as s:\n",
    "    s[\"dave\"][\"place\"] = \"new york\"\n",
    "    print(s[\"dave\"])\n"
   ]
  },
  {
   "cell_type": "code",
   "execution_count": 23,
   "metadata": {},
   "outputs": [
    {
     "name": "stdout",
     "output_type": "stream",
     "text": [
      "{'place': 'sydney', 'age': 45}\n",
      "{'place': 'seattle', 'age': 45}\n",
      "{'place': 'seattle', 'age': 45}\n"
     ]
    }
   ],
   "source": [
    "import shelve\n",
    "with shelve.open(\"users\") as s:\n",
    "    rec = s[\"dave\"]\n",
    "    print(rec)\n",
    "    rec[\"place\"] = \"seattle\"\n",
    "    print(rec)\n",
    "    s[\"dave\"] = rec\n",
    "    print(s[\"dave\"])\n"
   ]
  },
  {
   "cell_type": "code",
   "execution_count": 24,
   "metadata": {},
   "outputs": [
    {
     "name": "stdout",
     "output_type": "stream",
     "text": [
      "[10, 20, 30, 40]\n"
     ]
    }
   ],
   "source": [
    "with shelve.open(\"test\") as t:\n",
    "    t[\"a\"] = [10, 20, 30, 40]\n",
    "    print(t[\"a\"])"
   ]
  },
  {
   "cell_type": "code",
   "execution_count": 26,
   "metadata": {},
   "outputs": [
    {
     "name": "stdout",
     "output_type": "stream",
     "text": [
      "[10, 20, 30, 40]\n",
      "[10, 20, 30, 40]\n"
     ]
    }
   ],
   "source": [
    "with shelve.open(\"test\") as t:\n",
    "    print(t[\"a\"])\n",
    "    t[\"a\"][0] = 100\n",
    "    print(t[\"a\"])"
   ]
  },
  {
   "cell_type": "code",
   "execution_count": null,
   "metadata": {},
   "outputs": [
    {
     "name": "stdout",
     "output_type": "stream",
     "text": [
      "[10, 20, 30, 40]\n",
      "[100, 20, 30, 40]\n"
     ]
    }
   ],
   "source": [
    "with shelve.open(\"test\") as t:\n",
    "    print(t[\"a\"])\n",
    "    n = t[\"a\"]    # Read the record\n",
    "    n[0] = 100    # Modify the record in memory\n",
    "    t[\"a\"] = n    # Store the modified record back to disk\n",
    "\n",
    "    print(t[\"a\"])"
   ]
  },
  {
   "cell_type": "code",
   "execution_count": 29,
   "metadata": {},
   "outputs": [
    {
     "name": "stdout",
     "output_type": "stream",
     "text": [
      "17\n",
      "42\n",
      "21\n"
     ]
    },
    {
     "data": {
      "text/plain": [
       "[17, 42, 21]"
      ]
     },
     "execution_count": 29,
     "metadata": {},
     "output_type": "execute_result"
    }
   ],
   "source": [
    "data = {\n",
    "    \"john\": {\"place\": \"denver\", \"age\": 40},\n",
    "    \"smith\": {\"place\": \"seattle\", \"age\": 17},\n",
    "    \"joe\": {\"place\": \"delhi\", \"age\": 30},\n",
    "    \"jane\": {\"place\": \"moscow\", \"age\": 25},\n",
    "    \"tom\": {\"place\": \"seattle\", \"age\": 42},\n",
    "    \"tim\": {\"place\": \"seattle\", \"age\": 21}\n",
    "}\n",
    "\n",
    "for name, rec in data.items():\n",
    "    if rec[\"place\"] == \"seattle\":\n",
    "        print(rec[\"age\"])\n",
    "\n",
    "[ rec[\"age\"] for name, rec in data.items() if rec[\"place\"] == \"seattle\"]"
   ]
  },
  {
   "cell_type": "code",
   "execution_count": null,
   "metadata": {},
   "outputs": [],
   "source": [
    "# RDBMS -> Relational DataBase Management Systems\n",
    "# Old legacy RDBMS: DBase, FoxPro, Clipper, Microsoft Access\n",
    "# SQL-compliant RDBMS -> Popularly adopted standard for RDBMS\n",
    "#   - Oracle, Sybase, Informix, MS-SQL Server (Top commercial-grade RDBMS)\n",
    "#   - PostgreSQL, MySQL, MariaDB (Free/Open Source RDBMS)\n",
    "#   - SQLite3 - Light-weight, Free/Open Source Standards compliant RDBMS which world's highly deployed database\n",
    "\n",
    "# SQL -> Structured Query Language\n"
   ]
  }
 ],
 "metadata": {
  "kernelspec": {
   "display_name": "Python 3",
   "language": "python",
   "name": "python3"
  },
  "language_info": {
   "codemirror_mode": {
    "name": "ipython",
    "version": 3
   },
   "file_extension": ".py",
   "mimetype": "text/x-python",
   "name": "python",
   "nbconvert_exporter": "python",
   "pygments_lexer": "ipython3",
   "version": "3.10.2"
  }
 },
 "nbformat": 4,
 "nbformat_minor": 2
}
