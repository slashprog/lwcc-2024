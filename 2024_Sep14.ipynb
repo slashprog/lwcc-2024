{
 "cells": [
  {
   "cell_type": "markdown",
   "metadata": {},
   "source": [
    "### LWCC  Session 31 - September 8th 2024\n",
    "\n",
    "#### Special methods (contd.)\n",
    "##### Implementing the concepts in mini user database"
   ]
  },
  {
   "cell_type": "code",
   "execution_count": 1,
   "metadata": {},
   "outputs": [
    {
     "data": {
      "text/plain": [
       "time.struct_time(tm_year=2024, tm_mon=9, tm_mday=14, tm_hour=19, tm_min=18, tm_sec=22, tm_wday=5, tm_yday=258, tm_isdst=0)"
      ]
     },
     "execution_count": 1,
     "metadata": {},
     "output_type": "execute_result"
    }
   ],
   "source": [
    "import time\n",
    "\n",
    "t = time.localtime()\n",
    "t"
   ]
  },
  {
   "cell_type": "code",
   "execution_count": 3,
   "metadata": {},
   "outputs": [
    {
     "name": "stdout",
     "output_type": "stream",
     "text": [
      "d = <__main__.Data object at 0x000002000452E1A0>\n",
      "self=<__main__.Data object at 0x000002000452E1A0>, x=0, y=10\n"
     ]
    }
   ],
   "source": [
    "class Data:\n",
    "    def __setitem__(self, x, y):\n",
    "        print(f\"{self=}, {x=}, {y=}\")\n",
    "\n",
    "\n",
    "d = Data()\n",
    "print(\"d =\", d)\n",
    "\n",
    "d[0] = 10  # Data.__setitem__(d, 0, 10)"
   ]
  },
  {
   "cell_type": "code",
   "execution_count": 6,
   "metadata": {},
   "outputs": [],
   "source": [
    "t = [10, 20, 30]\n",
    "\n",
    "t[0] = 100"
   ]
  },
  {
   "cell_type": "code",
   "execution_count": 8,
   "metadata": {},
   "outputs": [
    {
     "ename": "IndexError",
     "evalue": "list assignment index out of range",
     "output_type": "error",
     "traceback": [
      "\u001b[1;31m---------------------------------------------------------------------------\u001b[0m",
      "\u001b[1;31mIndexError\u001b[0m                                Traceback (most recent call last)",
      "Input \u001b[1;32mIn [8]\u001b[0m, in \u001b[0;36m<module>\u001b[1;34m\u001b[0m\n\u001b[0;32m      1\u001b[0m nums \u001b[38;5;241m=\u001b[39m [\u001b[38;5;241m10\u001b[39m, \u001b[38;5;241m20\u001b[39m, \u001b[38;5;241m30\u001b[39m, \u001b[38;5;241m40\u001b[39m]\n\u001b[1;32m----> 3\u001b[0m nums[\u001b[38;5;241m6\u001b[39m] \u001b[38;5;241m=\u001b[39m \u001b[38;5;241m200\u001b[39m\n\u001b[0;32m      4\u001b[0m \u001b[38;5;28mprint\u001b[39m(nums)\n",
      "\u001b[1;31mIndexError\u001b[0m: list assignment index out of range"
     ]
    }
   ],
   "source": [
    "nums = [10, 20, 30, 40]\n",
    "\n",
    "nums[6] = 200\n",
    "print(nums)"
   ]
  },
  {
   "cell_type": "code",
   "execution_count": 10,
   "metadata": {},
   "outputs": [
    {
     "name": "stdout",
     "output_type": "stream",
     "text": [
      "<__main__.SparseList object at 0x00000200032A6110> 3 100\n",
      "<__main__.SparseList object at 0x00000200032A6110>\n"
     ]
    }
   ],
   "source": [
    "class SparseList:\n",
    "    def __init__(self, )\n",
    "    def __setitem__(self, i, v):\n",
    "        print(self, i, v)\n",
    "\n",
    "s = SparseList()\n",
    "s[3] = 100\n",
    "\n",
    "print(s)"
   ]
  }
 ],
 "metadata": {
  "kernelspec": {
   "display_name": "Python 3",
   "language": "python",
   "name": "python3"
  },
  "language_info": {
   "codemirror_mode": {
    "name": "ipython",
    "version": 3
   },
   "file_extension": ".py",
   "mimetype": "text/x-python",
   "name": "python",
   "nbconvert_exporter": "python",
   "pygments_lexer": "ipython3",
   "version": "3.10.2"
  }
 },
 "nbformat": 4,
 "nbformat_minor": 2
}
