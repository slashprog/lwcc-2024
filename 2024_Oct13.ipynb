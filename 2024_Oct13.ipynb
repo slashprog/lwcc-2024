{
 "cells": [
  {
   "cell_type": "markdown",
   "metadata": {},
   "source": [
    "### LWCC  Session 40 - October 13th 2024\n",
    "\n",
    "#### Parameterized Decorator (contd.)\n"
   ]
  },
  {
   "cell_type": "code",
   "execution_count": 18,
   "metadata": {},
   "outputs": [
    {
     "name": "stdout",
     "output_type": "stream",
     "text": [
      "HELLO, WORLD\n",
      "Welcome To Python\n"
     ]
    }
   ],
   "source": [
    "def decorate(style):\n",
    "    def decorator(fn):\n",
    "        if style == \"upper\":\n",
    "            def wrap():\n",
    "                return fn().upper()\n",
    "        elif style == \"title\":\n",
    "            def wrap():\n",
    "                return fn().title()\n",
    "        elif style == \"lower\":\n",
    "            def wrap():\n",
    "                return fn().lower()\n",
    "        else:\n",
    "            wrap = fn\n",
    "        return wrap\n",
    "    return decorator\n",
    "\n",
    "@decorate(\"upper\")\n",
    "def greet():\n",
    "    return \"Hello, world\"\n",
    "\n",
    "@decorate(\"title\")\n",
    "def welcome():\n",
    "    return \"weLCome to pYTHon\"\n",
    "\n",
    "print(greet())\n",
    "print(welcome())"
   ]
  },
  {
   "cell_type": "code",
   "execution_count": 12,
   "metadata": {},
   "outputs": [
    {
     "name": "stdout",
     "output_type": "stream",
     "text": [
      "decorate invoked: x = 10\n",
      "decorator invoked: y = <function greet at 0x000001315EE18DC0>\n",
      "main...\n",
      "wrap invoked: a = test\n"
     ]
    }
   ],
   "source": [
    "def decorate(x):\n",
    "    print(\"decorate invoked: x =\", x)\n",
    "\n",
    "    def decorator(y):\n",
    "        print(\"decorator invoked: y =\", y)\n",
    "        def wrap(a):\n",
    "            print(\"wrap invoked: a =\", a)\n",
    "        \n",
    "        return wrap\n",
    "\n",
    "    return decorator\n",
    "\n",
    "@decorate(10)\n",
    "def greet(z):\n",
    "    print(\"greet function invoked: z = \", z)\n",
    "\n",
    "\n",
    "print(\"main...\")\n",
    "greet(\"test\")"
   ]
  },
  {
   "cell_type": "code",
   "execution_count": 14,
   "metadata": {},
   "outputs": [
    {
     "name": "stdout",
     "output_type": "stream",
     "text": [
      "decorate invoked: x = 10\n",
      "decorator invoked: y = <function greet at 0x000001315EB6E5F0>\n"
     ]
    },
    {
     "ename": "NameError",
     "evalue": "name 'x' is not defined",
     "output_type": "error",
     "traceback": [
      "\u001b[1;31m---------------------------------------------------------------------------\u001b[0m",
      "\u001b[1;31mNameError\u001b[0m                                 Traceback (most recent call last)",
      "Input \u001b[1;32mIn [14]\u001b[0m, in \u001b[0;36m<module>\u001b[1;34m\u001b[0m\n\u001b[0;32m     10\u001b[0m     \u001b[38;5;28mprint\u001b[39m(\u001b[38;5;124m\"\u001b[39m\u001b[38;5;124mdecorate invoked: x =\u001b[39m\u001b[38;5;124m\"\u001b[39m, x)\n\u001b[0;32m     11\u001b[0m     \u001b[38;5;28;01mreturn\u001b[39;00m decorator\n\u001b[0;32m     13\u001b[0m \u001b[38;5;129;43m@decorate\u001b[39;49m\u001b[43m(\u001b[49m\u001b[38;5;241;43m10\u001b[39;49m\u001b[43m)\u001b[49m\n\u001b[1;32m---> 14\u001b[0m \u001b[38;5;28;43;01mdef\u001b[39;49;00m\u001b[43m \u001b[49m\u001b[38;5;21;43mgreet\u001b[39;49m\u001b[43m(\u001b[49m\u001b[43mz\u001b[49m\u001b[43m)\u001b[49m\u001b[43m:\u001b[49m\n\u001b[0;32m     15\u001b[0m \u001b[43m    \u001b[49m\u001b[38;5;28;43mprint\u001b[39;49m\u001b[43m(\u001b[49m\u001b[38;5;124;43m\"\u001b[39;49m\u001b[38;5;124;43mgreet function invoked: z = \u001b[39;49m\u001b[38;5;124;43m\"\u001b[39;49m\u001b[43m,\u001b[49m\u001b[43m \u001b[49m\u001b[43mz\u001b[49m\u001b[43m)\u001b[49m\n\u001b[0;32m     18\u001b[0m \u001b[38;5;28mprint\u001b[39m(\u001b[38;5;124m\"\u001b[39m\u001b[38;5;124mmain...\u001b[39m\u001b[38;5;124m\"\u001b[39m)\n",
      "Input \u001b[1;32mIn [14]\u001b[0m, in \u001b[0;36mdecorator\u001b[1;34m(y)\u001b[0m\n\u001b[0;32m      4\u001b[0m \u001b[38;5;28;01mdef\u001b[39;00m \u001b[38;5;21mdecorator\u001b[39m(y):\n\u001b[0;32m      5\u001b[0m     \u001b[38;5;28mprint\u001b[39m(\u001b[38;5;124m\"\u001b[39m\u001b[38;5;124mdecorator invoked: y =\u001b[39m\u001b[38;5;124m\"\u001b[39m, y)\n\u001b[1;32m----> 6\u001b[0m     \u001b[38;5;28mprint\u001b[39m(\u001b[38;5;124m\"\u001b[39m\u001b[38;5;124mx =\u001b[39m\u001b[38;5;124m\"\u001b[39m, \u001b[43mx\u001b[49m)\n\u001b[0;32m      7\u001b[0m     \u001b[38;5;28;01mreturn\u001b[39;00m wrap\n",
      "\u001b[1;31mNameError\u001b[0m: name 'x' is not defined"
     ]
    }
   ],
   "source": [
    "def wrap(a):\n",
    "    print(\"wrap invoked: a =\", a)\n",
    "\n",
    "def decorator(y):\n",
    "    print(\"decorator invoked: y =\", y)\n",
    "    print(\"x =\", x)\n",
    "    return wrap\n",
    "\n",
    "def decorate(x):\n",
    "    print(\"decorate invoked: x =\", x)\n",
    "    return decorator\n",
    "\n",
    "@decorate(10)\n",
    "def greet(z):\n",
    "    print(\"greet function invoked: z = \", z)\n",
    "\n",
    "\n",
    "print(\"main...\")\n",
    "greet(\"test\")"
   ]
  },
  {
   "cell_type": "code",
   "execution_count": 15,
   "metadata": {},
   "outputs": [
    {
     "name": "stdout",
     "output_type": "stream",
     "text": [
      "decorate invoked: x = 10\n",
      "decorator invoked: y = <function greet at 0x000001315EE193F0>\n",
      "x = 10\n",
      "main...\n",
      "wrap invoked: a = test\n"
     ]
    }
   ],
   "source": [
    "config = {\"x\": 0}\n",
    "\n",
    "def wrap(a):\n",
    "    print(\"wrap invoked: a =\", a)\n",
    "\n",
    "def decorator(y):\n",
    "    print(\"decorator invoked: y =\", y)\n",
    "    print(\"x =\", config[\"x\"])\n",
    "    return wrap\n",
    "\n",
    "def decorate(x):\n",
    "    print(\"decorate invoked: x =\", x)\n",
    "    config[\"x\"] = x\n",
    "    return decorator\n",
    "\n",
    "@decorate(10)\n",
    "def greet(z):\n",
    "    print(\"greet function invoked: z = \", z)\n",
    "\n",
    "\n",
    "print(\"main...\")\n",
    "greet(\"test\")"
   ]
  },
  {
   "cell_type": "code",
   "execution_count": 16,
   "metadata": {},
   "outputs": [
    {
     "data": {
      "text/plain": [
       "'HELLO, WORLD'"
      ]
     },
     "execution_count": 16,
     "metadata": {},
     "output_type": "execute_result"
    }
   ],
   "source": [
    "def decorate(style):  # This works, but is not scalable as wrap function is complex and violates Single-Responsibility-Principle\n",
    "    def decorator(fn):\n",
    "        def wrap():\n",
    "            if style == \"upper\":\n",
    "                return fn().upper()\n",
    "            elif style == \"title\":\n",
    "                return fn().title()\n",
    "            elif style == \"lower\":\n",
    "                return fn().lower()\n",
    "            else:\n",
    "                return fn()\n",
    "        return wrap\n",
    "    return decorator\n",
    "\n",
    "@decorate(\"upper\")\n",
    "def greet():\n",
    "    return \"Hello, world\"\n",
    "\n",
    "greet()"
   ]
  },
  {
   "cell_type": "code",
   "execution_count": null,
   "metadata": {},
   "outputs": [
    {
     "name": "stdout",
     "output_type": "stream",
     "text": [
      "HELLO, WORLD\n",
      "Welcome To Python\n"
     ]
    }
   ],
   "source": [
    "def decorate(style):\n",
    "    def decorator(fn):\n",
    "        if style == \"upper\":\n",
    "            def wrap():\n",
    "                return fn().upper()\n",
    "        elif style == \"title\":\n",
    "            def wrap():\n",
    "                return fn().title()\n",
    "        elif style == \"lower\":\n",
    "            def wrap():\n",
    "                return fn().lower()\n",
    "        else:\n",
    "            wrap = fn\n",
    "        return wrap\n",
    "    return decorator\n",
    "\n",
    "@decorate(\"upper\")\n",
    "def greet():\n",
    "    return \"Hello, world\"\n",
    "\n",
    "@decorate(\"title\")\n",
    "def welcome():\n",
    "    return \"weLCome to pYTHon\"\n",
    "\n",
    "print(greet())\n",
    "print(welcome())"
   ]
  },
  {
   "cell_type": "code",
   "execution_count": 25,
   "metadata": {},
   "outputs": [
    {
     "name": "stdout",
     "output_type": "stream",
     "text": [
      "<bound method Decorate._upper of <__main__.Decorate object at 0x000001315D3FB280>>\n",
      "<bound method Decorate._title of <__main__.Decorate object at 0x000001315D3F9FC0>>\n"
     ]
    }
   ],
   "source": [
    "class Decorate:\n",
    "    def __init__(self, style):\n",
    "        self.style = style\n",
    "\n",
    "    def _upper(self, *args, **kwargs):\n",
    "        return self.fn(*args, **kwargs).upper()\n",
    "    \n",
    "    def _lower(self, *args, **kwargs):\n",
    "        return self.fn(*args, **kwargs).lower()\n",
    "\n",
    "    def _title(self, *args, **kwargs):\n",
    "        return self.fn(*args, **kwargs).title()\n",
    "\n",
    "    def __call__(self, fn): # Role of the actual decorator -> cannot accept any more arguments\n",
    "        self.fn = fn\n",
    "        if self.style == \"upper\":\n",
    "            return self._upper\n",
    "        elif self.style == \"title\":\n",
    "            return self._title\n",
    "        elif self.style == \"lower\":\n",
    "            return self._lower\n",
    "        \n",
    "@Decorate(\"upper\")\n",
    "def greet():\n",
    "    return \"Hello, world\"\n",
    "\n",
    "@Decorate(\"title\")\n",
    "def welcome(z):\n",
    "    return f\"weLCome to pYTHon {z}\"\n",
    "\n",
    "print(greet)\n",
    "print(welcome)"
   ]
  },
  {
   "cell_type": "code",
   "execution_count": 31,
   "metadata": {},
   "outputs": [
    {
     "name": "stdout",
     "output_type": "stream",
     "text": [
      "testfn invoked for <__main__.Test object at 0x000001315D3FB010>\n",
      "testfn invoked for <__main__.Test object at 0x000001315D3FBDC0>\n"
     ]
    }
   ],
   "source": [
    "class Test:\n",
    "    def testfn(self):\n",
    "        print(\"testfn invoked for\", self)\n",
    "\n",
    "    def foo():\n",
    "        print(\"foo invoked...\")\n",
    "        \n",
    "t1 = Test()\n",
    "t2 = Test()\n",
    "\n",
    "t1.testfn() # Test.testfn(t1)\n",
    "t2.testfn() # Test.testfn(t2)"
   ]
  },
  {
   "cell_type": "code",
   "execution_count": 32,
   "metadata": {},
   "outputs": [
    {
     "name": "stdout",
     "output_type": "stream",
     "text": [
      "<function Test.testfn at 0x000001315EE1AEF0>\n",
      "testfn invoked for <__main__.Test object at 0x000001315D3FB010>\n",
      "<bound method Test.testfn of <__main__.Test object at 0x000001315D3FB010>>\n",
      "testfn invoked for <__main__.Test object at 0x000001315D3FB010>\n"
     ]
    }
   ],
   "source": [
    "print(Test.testfn)\n",
    "Test.testfn(t1)\n",
    "print(t1.testfn)\n",
    "t1.testfn()"
   ]
  },
  {
   "cell_type": "code",
   "execution_count": 36,
   "metadata": {},
   "outputs": [
    {
     "name": "stdout",
     "output_type": "stream",
     "text": [
      "foo invoked...\n"
     ]
    },
    {
     "ename": "TypeError",
     "evalue": "Test.foo() takes 0 positional arguments but 1 was given",
     "output_type": "error",
     "traceback": [
      "\u001b[1;31m---------------------------------------------------------------------------\u001b[0m",
      "\u001b[1;31mTypeError\u001b[0m                                 Traceback (most recent call last)",
      "Input \u001b[1;32mIn [36]\u001b[0m, in \u001b[0;36m<module>\u001b[1;34m\u001b[0m\n\u001b[0;32m      1\u001b[0m Test\u001b[38;5;241m.\u001b[39mfoo()\n\u001b[1;32m----> 2\u001b[0m \u001b[43mt1\u001b[49m\u001b[38;5;241;43m.\u001b[39;49m\u001b[43mfoo\u001b[49m\u001b[43m(\u001b[49m\u001b[43m)\u001b[49m\n",
      "\u001b[1;31mTypeError\u001b[0m: Test.foo() takes 0 positional arguments but 1 was given"
     ]
    }
   ],
   "source": [
    "Test.foo()\n",
    "t1.foo()"
   ]
  },
  {
   "cell_type": "code",
   "execution_count": null,
   "metadata": {},
   "outputs": [
    {
     "name": "stdout",
     "output_type": "stream",
     "text": [
      "HELLO, WORLD\n",
      "Welcome To Python\n"
     ]
    }
   ],
   "source": [
    "def decorate(style):\n",
    "    def decorator(fn):\n",
    "        if style == \"upper\":\n",
    "            def wrap():\n",
    "                return fn().upper()\n",
    "        elif style == \"title\":\n",
    "            def wrap():\n",
    "                return fn().title()\n",
    "        elif style == \"lower\":\n",
    "            def wrap():\n",
    "                return fn().lower()\n",
    "        else:\n",
    "            wrap = fn\n",
    "        return wrap\n",
    "    return decorator\n",
    "\n",
    "@decorate(\"upper\")\n",
    "def greet():\n",
    "    return \"Hello, world\"\n",
    "\n",
    "@decorate(\"title\")\n",
    "def welcome():\n",
    "    return \"weLCome to pYTHon\"\n",
    "\n",
    "print(greet())\n",
    "print(welcome())"
   ]
  }
 ],
 "metadata": {
  "kernelspec": {
   "display_name": "Python 3",
   "language": "python",
   "name": "python3"
  },
  "language_info": {
   "codemirror_mode": {
    "name": "ipython",
    "version": 3
   },
   "file_extension": ".py",
   "mimetype": "text/x-python",
   "name": "python",
   "nbconvert_exporter": "python",
   "pygments_lexer": "ipython3",
   "version": "3.10.2"
  }
 },
 "nbformat": 4,
 "nbformat_minor": 2
}
