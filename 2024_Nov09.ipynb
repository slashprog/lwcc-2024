{
 "cells": [
  {
   "cell_type": "markdown",
   "metadata": {},
   "source": [
    "### LWCC  Session 47 - November 9th 2024\n",
    "\n",
    "#### Basic Web Automation in Python - Part 1\n"
   ]
  },
  {
   "cell_type": "code",
   "execution_count": 4,
   "metadata": {},
   "outputs": [
    {
     "name": "stdout",
     "output_type": "stream",
     "text": [
      "Collecting requests\n",
      "  Downloading requests-2.32.3-py3-none-any.whl.metadata (4.6 kB)\n",
      "Collecting charset-normalizer<4,>=2 (from requests)\n",
      "  Downloading charset_normalizer-3.4.0-cp312-cp312-win_amd64.whl.metadata (34 kB)\n",
      "Collecting idna<4,>=2.5 (from requests)\n",
      "  Downloading idna-3.10-py3-none-any.whl.metadata (10 kB)\n",
      "Collecting urllib3<3,>=1.21.1 (from requests)\n",
      "  Downloading urllib3-2.2.3-py3-none-any.whl.metadata (6.5 kB)\n",
      "Collecting certifi>=2017.4.17 (from requests)\n",
      "  Downloading certifi-2024.8.30-py3-none-any.whl.metadata (2.2 kB)\n",
      "Downloading requests-2.32.3-py3-none-any.whl (64 kB)\n",
      "Downloading certifi-2024.8.30-py3-none-any.whl (167 kB)\n",
      "Downloading charset_normalizer-3.4.0-cp312-cp312-win_amd64.whl (102 kB)\n",
      "Downloading idna-3.10-py3-none-any.whl (70 kB)\n",
      "Downloading urllib3-2.2.3-py3-none-any.whl (126 kB)\n",
      "Installing collected packages: urllib3, idna, charset-normalizer, certifi, requests\n",
      "Successfully installed certifi-2024.8.30 charset-normalizer-3.4.0 idna-3.10 requests-2.32.3 urllib3-2.2.3\n",
      "Note: you may need to restart the kernel to use updated packages.\n"
     ]
    },
    {
     "name": "stderr",
     "output_type": "stream",
     "text": [
      "  WARNING: The script normalizer.exe is installed in 'c:\\Users\\chand\\AppData\\Local\\Programs\\Python\\Python312\\Scripts' which is not on PATH.\n",
      "  Consider adding this directory to PATH or, if you prefer to suppress this warning, use --no-warn-script-location.\n",
      "\n",
      "[notice] A new release of pip is available: 24.2 -> 24.3.1\n",
      "[notice] To update, run: python.exe -m pip install --upgrade pip\n"
     ]
    }
   ],
   "source": [
    "pip install requests"
   ]
  },
  {
   "cell_type": "code",
   "execution_count": 5,
   "metadata": {},
   "outputs": [
    {
     "name": "stdout",
     "output_type": "stream",
     "text": [
      "Collecting httpx\n",
      "  Downloading httpx-0.27.2-py3-none-any.whl.metadata (7.1 kB)\n",
      "Collecting anyio (from httpx)\n",
      "  Downloading anyio-4.6.2.post1-py3-none-any.whl.metadata (4.7 kB)\n",
      "Requirement already satisfied: certifi in c:\\users\\chand\\appdata\\local\\programs\\python\\python312\\lib\\site-packages (from httpx) (2024.8.30)\n",
      "Collecting httpcore==1.* (from httpx)\n",
      "  Downloading httpcore-1.0.6-py3-none-any.whl.metadata (21 kB)\n",
      "Requirement already satisfied: idna in c:\\users\\chand\\appdata\\local\\programs\\python\\python312\\lib\\site-packages (from httpx) (3.10)\n",
      "Collecting sniffio (from httpx)\n",
      "  Downloading sniffio-1.3.1-py3-none-any.whl.metadata (3.9 kB)\n",
      "Collecting h11<0.15,>=0.13 (from httpcore==1.*->httpx)\n",
      "  Downloading h11-0.14.0-py3-none-any.whl.metadata (8.2 kB)\n",
      "Downloading httpx-0.27.2-py3-none-any.whl (76 kB)\n",
      "Downloading httpcore-1.0.6-py3-none-any.whl (78 kB)\n",
      "Downloading anyio-4.6.2.post1-py3-none-any.whl (90 kB)\n",
      "Downloading sniffio-1.3.1-py3-none-any.whl (10 kB)\n",
      "Downloading h11-0.14.0-py3-none-any.whl (58 kB)\n",
      "Installing collected packages: sniffio, h11, httpcore, anyio, httpx\n",
      "Successfully installed anyio-4.6.2.post1 h11-0.14.0 httpcore-1.0.6 httpx-0.27.2 sniffio-1.3.1\n",
      "Note: you may need to restart the kernel to use updated packages.\n"
     ]
    },
    {
     "name": "stderr",
     "output_type": "stream",
     "text": [
      "  WARNING: The script httpx.exe is installed in 'c:\\Users\\chand\\AppData\\Local\\Programs\\Python\\Python312\\Scripts' which is not on PATH.\n",
      "  Consider adding this directory to PATH or, if you prefer to suppress this warning, use --no-warn-script-location.\n",
      "\n",
      "[notice] A new release of pip is available: 24.2 -> 24.3.1\n",
      "[notice] To update, run: python.exe -m pip install --upgrade pip\n"
     ]
    }
   ],
   "source": [
    "pip install httpx"
   ]
  },
  {
   "cell_type": "code",
   "execution_count": 14,
   "metadata": {},
   "outputs": [
    {
     "name": "stdout",
     "output_type": "stream",
     "text": [
      "<Response [404]> <class 'requests.models.Response'>\n"
     ]
    }
   ],
   "source": [
    "import requests\n",
    "\n",
    "r = requests.get(\"http://python.org/yutyu\")\n",
    "print(r, type(r))"
   ]
  },
  {
   "cell_type": "code",
   "execution_count": 12,
   "metadata": {},
   "outputs": [
    {
     "data": {
      "text/plain": [
       "404"
      ]
     },
     "execution_count": 12,
     "metadata": {},
     "output_type": "execute_result"
    }
   ],
   "source": [
    "r.status_code"
   ]
  },
  {
   "cell_type": "code",
   "execution_count": null,
   "metadata": {},
   "outputs": [],
   "source": [
    "\n",
    "\n",
    "url = \"https://api.openweathermap.org/data/2.5/weather?lat={lat}&lon={lon}&appid={API key}\""
   ]
  },
  {
   "cell_type": "code",
   "execution_count": 17,
   "metadata": {},
   "outputs": [
    {
     "data": {
      "text/plain": [
       "<Response [401]>"
      ]
     },
     "execution_count": 17,
     "metadata": {},
     "output_type": "execute_result"
    }
   ],
   "source": [
    "URL = \"https://api.openweathermap.org/data/2.5/weather\"\n",
    "\n",
    "params = {\n",
    "    \"city\": \"Chennai\",\n",
    "    \"appid\": api_key,\n",
    "    \"units\": \"metric\"\n",
    "}\n",
    "r = requests.get(URL, params=params)\n",
    "r"
   ]
  },
  {
   "cell_type": "code",
   "execution_count": 18,
   "metadata": {},
   "outputs": [
    {
     "data": {
      "text/plain": [
       "<Response [200]>"
      ]
     },
     "execution_count": 18,
     "metadata": {},
     "output_type": "execute_result"
    }
   ],
   "source": [
    "news_url = \"https://timesofindia.indiatimes.com/rssfeedstopstories.cms\"\n",
    "\n",
    "r = requests.get(news_url)\n",
    "r"
   ]
  },
  {
   "cell_type": "code",
   "execution_count": 21,
   "metadata": {},
   "outputs": [
    {
     "name": "stdout",
     "output_type": "stream",
     "text": [
      "Collecting lxml\n",
      "  Downloading lxml-5.3.0-cp312-cp312-win_amd64.whl.metadata (3.9 kB)\n",
      "Downloading lxml-5.3.0-cp312-cp312-win_amd64.whl (3.8 MB)\n",
      "   ---------------------------------------- 0.0/3.8 MB ? eta -:--:--\n",
      "   ---------- ----------------------------- 1.0/3.8 MB 8.5 MB/s eta 0:00:01\n",
      "   -------------------------------- ------- 3.1/3.8 MB 9.2 MB/s eta 0:00:01\n",
      "   ---------------------------------------- 3.8/3.8 MB 8.8 MB/s eta 0:00:00\n",
      "Installing collected packages: lxml\n",
      "Successfully installed lxml-5.3.0\n",
      "Note: you may need to restart the kernel to use updated packages.\n"
     ]
    },
    {
     "name": "stderr",
     "output_type": "stream",
     "text": [
      "\n",
      "[notice] A new release of pip is available: 24.2 -> 24.3.1\n",
      "[notice] To update, run: python.exe -m pip install --upgrade pip\n"
     ]
    }
   ],
   "source": [
    "pip install lxml"
   ]
  },
  {
   "cell_type": "code",
   "execution_count": 23,
   "metadata": {},
   "outputs": [
    {
     "data": {
      "text/plain": [
       "<Element rss at 0x281dac1dc00>"
      ]
     },
     "execution_count": 23,
     "metadata": {},
     "output_type": "execute_result"
    }
   ],
   "source": [
    "import lxml.etree as et\n",
    "\n",
    "tree = et.fromstring(r.content)\n",
    "tree"
   ]
  },
  {
   "cell_type": "code",
   "execution_count": 25,
   "metadata": {},
   "outputs": [
    {
     "data": {
      "text/plain": [
       "[\"'Yogi ji's or Modi ji's?': Kharge asks BJP to decide between 'batenge, katenge' and 'ek hai' slogan\",\n",
       " 'As CJI Chandrachud bids adieu to SC, a look at his top 10 judgements',\n",
       " \"'In Maharashtra soon': Rahul Gandhi's caste census challenge to PM Modi\",\n",
       " 'With 7 more satellites, Isro plans to provide civilians access to navigation signals',\n",
       " 'Haryana batsman slams 426 runs in an innings, becomes ...',\n",
       " 'TCS cuts variable pay of senior staff for July-September quarter',\n",
       " 'Yogi’s supporters attend rally in Mainpuri on bulldozers -Watch',\n",
       " \"Gambhir, Surya's 'phone calls': Sanju reveals story\",\n",
       " \"'Do not ever question the greats': Ponting on Kohli's lean patch\",\n",
       " 'Musk joins Trump on his phone call with Ukraine President Zelenskyy',\n",
       " \"'Sukhu ji ka samosa kisne khaya?': Himachal politics spices up\",\n",
       " \"'India can't simply deny participation': Ex-Pak sends strong message\",\n",
       " \"In reply to question on patriarchy, Sitharaman cites Indira Gandhi's example\",\n",
       " 'Microsoft founder Bill Gates to Donald Trump: ‘I hope we can now….’',\n",
       " \"Canada on 'high alert', braces for potential migrant surge from US after Trump’s return\",\n",
       " \"J&K MLA says he wanted to be militant after 'torture' by army officer\",\n",
       " 'Big blow for Indian students as Canada ends fast-track SDS visa scheme',\n",
       " 'BJP engineered NCP split, no question of post-poll tie-up: Supriya Sule',\n",
       " \"Fans can’t stop laughing at Navdeep and Rajpal's epic exchange\",\n",
       " \"Phone used to create 'Mallu Officers' WA groups not hacked: Cops\",\n",
       " \"'Till BJP is present, minorities ...': Amit Shah warns Rahul over Muslim reservation\",\n",
       " 'Pakistan railway station explosion: Blast kills 25, including 14 soldiers',\n",
       " 'Maharashtra polls: Not even 1 woman candidate in 97 assembly seats',\n",
       " 'Hardik, Arshdeep inch closer to surpassing Bumrah',\n",
       " 'Ahmedabad man rams car into daughter’s lover, beats him',\n",
       " \"'Kyun hila dala na': Pak cricketer says Samson deserves respect\",\n",
       " \"'We prioritise development, not votes': Congress CMs hit back at BJP\",\n",
       " 'Bigg Boss 18 promo: Rohit Shetty school Karan Veer Mehra',\n",
       " \"PM Modi launches sharp critique on Congress' 'royal family'\",\n",
       " 'Over 26 tonnes of waste generated during Kedarnath yatra, 17 tonnes unprocessed',\n",
       " 'Hyderabad woman’s ‘bomb’ remark triggers panic at airport',\n",
       " \"'Batenge toh katenge' did not work: Sanjay Raut after PM Modi's 'ek hain ... ' remark\",\n",
       " \"'Plan B': Lawrence Bishnoi gang planned to kill Pune leader if Siddique attempt failed\",\n",
       " 'BJP MLA asks supporters to push man out of rally for asking questions',\n",
       " 'It’s winter, but just in name: Here’s why it’s not cold in Delhi yet',\n",
       " \"'Applied chili on private parts': Madrassa teacher brands student with iron box\",\n",
       " '‘Denied marriage hall on rent’, Dalit farmer alleges discrimination in UP',\n",
       " \"Shiv Sena UBT's 'torch' not for revolution, but for burning people's homes: Shinde\",\n",
       " \"Uddhav slams Yogi for ‘batenge toh katenge’ remark, says Maha lives in 'harmony'\",\n",
       " \"Woman washes hair with toxic foam in Delhi's Yamuna, video goes viral\",\n",
       " 'Pakistan chokes with alarming levels of pollution as AQI crosses 2100',\n",
       " 'Outgoing CJI: Wanted to pull out of becoming a judge, was dissuaded']"
      ]
     },
     "execution_count": 25,
     "metadata": {},
     "output_type": "execute_result"
    }
   ],
   "source": [
    "tree.xpath(\"//item/title/text()\")"
   ]
  }
 ],
 "metadata": {
  "kernelspec": {
   "display_name": "Python 3",
   "language": "python",
   "name": "python3"
  },
  "language_info": {
   "codemirror_mode": {
    "name": "ipython",
    "version": 3
   },
   "file_extension": ".py",
   "mimetype": "text/x-python",
   "name": "python",
   "nbconvert_exporter": "python",
   "pygments_lexer": "ipython3",
   "version": "3.12.5"
  }
 },
 "nbformat": 4,
 "nbformat_minor": 2
}
