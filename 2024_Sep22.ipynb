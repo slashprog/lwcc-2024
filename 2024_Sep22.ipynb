{
 "cells": [
  {
   "cell_type": "markdown",
   "metadata": {},
   "source": [
    "### LWCC  Session 35 - September 22nd 2024\n",
    "\n",
    "#### Accessor methods and accessor pattern (contd.)\n"
   ]
  },
  {
   "cell_type": "code",
   "execution_count": 2,
   "metadata": {},
   "outputs": [
    {
     "data": {
      "text/plain": [
       "100"
      ]
     },
     "execution_count": 2,
     "metadata": {},
     "output_type": "execute_result"
    }
   ],
   "source": [
    "class User:\n",
    "    pass\n",
    "\n",
    "u = User()\n",
    "u.name = 100\n",
    "u.name"
   ]
  },
  {
   "cell_type": "code",
   "execution_count": 9,
   "metadata": {},
   "outputs": [
    {
     "data": {
      "text/plain": [
       "True"
      ]
     },
     "execution_count": 9,
     "metadata": {},
     "output_type": "execute_result"
    }
   ],
   "source": [
    "a = \"John Doe\"\n",
    "a.replace(\" \", \"\").isalnum()"
   ]
  },
  {
   "cell_type": "code",
   "execution_count": 14,
   "metadata": {},
   "outputs": [
    {
     "ename": "AttributeError",
     "evalue": "age must be an integer in range (1 to 150)",
     "output_type": "error",
     "traceback": [
      "\u001b[1;31m---------------------------------------------------------------------------\u001b[0m",
      "\u001b[1;31mAttributeError\u001b[0m                            Traceback (most recent call last)",
      "Input \u001b[1;32mIn [14]\u001b[0m, in \u001b[0;36m<module>\u001b[1;34m\u001b[0m\n\u001b[0;32m     17\u001b[0m                 \u001b[38;5;28;01mraise\u001b[39;00m \u001b[38;5;167;01mAttributeError\u001b[39;00m(\u001b[38;5;124m\"\u001b[39m\u001b[38;5;124mage must be an integer in range (1 to 150)\u001b[39m\u001b[38;5;124m\"\u001b[39m)\n\u001b[0;32m     19\u001b[0m u \u001b[38;5;241m=\u001b[39m User()\n\u001b[1;32m---> 20\u001b[0m u\u001b[38;5;241m.\u001b[39mage \u001b[38;5;241m=\u001b[39m \u001b[38;5;241m-\u001b[39m\u001b[38;5;241m20\u001b[39m\n\u001b[0;32m     21\u001b[0m \u001b[38;5;66;03m#print(u.name)\u001b[39;00m\n\u001b[0;32m     22\u001b[0m \u001b[38;5;28mprint\u001b[39m(u\u001b[38;5;241m.\u001b[39m\u001b[38;5;18m__dict__\u001b[39m)\n",
      "Input \u001b[1;32mIn [14]\u001b[0m, in \u001b[0;36mUser.__setattr__\u001b[1;34m(self, attr, value)\u001b[0m\n\u001b[0;32m     15\u001b[0m     \u001b[38;5;28mself\u001b[39m\u001b[38;5;241m.\u001b[39m\u001b[38;5;18m__dict__\u001b[39m[\u001b[38;5;124m\"\u001b[39m\u001b[38;5;124mage\u001b[39m\u001b[38;5;124m\"\u001b[39m] \u001b[38;5;241m=\u001b[39m value\n\u001b[0;32m     16\u001b[0m \u001b[38;5;28;01melse\u001b[39;00m:\n\u001b[1;32m---> 17\u001b[0m     \u001b[38;5;28;01mraise\u001b[39;00m \u001b[38;5;167;01mAttributeError\u001b[39;00m(\u001b[38;5;124m\"\u001b[39m\u001b[38;5;124mage must be an integer in range (1 to 150)\u001b[39m\u001b[38;5;124m\"\u001b[39m)\n",
      "\u001b[1;31mAttributeError\u001b[0m: age must be an integer in range (1 to 150)"
     ]
    }
   ],
   "source": [
    "class User:\n",
    "    def __setattr__(self, attr, value):\n",
    "        if attr not in (\"name\", \"age\", \"place\"):\n",
    "            raise AttributeError(f\"Invalid attribute - '{attr}'\")\n",
    "        \n",
    "        if attr == \"name\":\n",
    "            if type(value) is str and value.replace(\" \", \"\").isalnum():\n",
    "                print(\"validated name\")\n",
    "                self.__dict__[\"name\"] = value\n",
    "            else:\n",
    "                raise AttributeError(\"name must be a alphanumeric string\")\n",
    "\n",
    "        elif attr == \"age\":\n",
    "            if type(value) is int and 1 <= value <= 150:\n",
    "                self.__dict__[\"age\"] = value\n",
    "            else:\n",
    "                raise AttributeError(\"age must be an integer in range (1 to 150)\")\n",
    "\n",
    "u = User()\n",
    "u.age = -20\n",
    "#print(u.name)\n",
    "print(u.__dict__)"
   ]
  },
  {
   "cell_type": "code",
   "execution_count": 18,
   "metadata": {},
   "outputs": [
    {
     "name": "stdout",
     "output_type": "stream",
     "text": [
      "name() method invoked\n"
     ]
    },
    {
     "data": {
      "text/plain": [
       "'hello'"
      ]
     },
     "execution_count": 18,
     "metadata": {},
     "output_type": "execute_result"
    }
   ],
   "source": [
    "class User:\n",
    "    \n",
    "    def __getattr__(self, attr):\n",
    "        def name(self):\n",
    "            print(\"name() method invoked\")\n",
    "            return \"hello\"\n",
    "        \n",
    "        if attr == \"name\":\n",
    "            return name(self)\n",
    "\n",
    "u = User()\n",
    "u.name\n"
   ]
  },
  {
   "cell_type": "code",
   "execution_count": 31,
   "metadata": {},
   "outputs": [
    {
     "ename": "AttributeError",
     "evalue": "name must be a alphanumeric string",
     "output_type": "error",
     "traceback": [
      "\u001b[1;31m---------------------------------------------------------------------------\u001b[0m",
      "\u001b[1;31mAttributeError\u001b[0m                            Traceback (most recent call last)",
      "Input \u001b[1;32mIn [31]\u001b[0m, in \u001b[0;36m<module>\u001b[1;34m\u001b[0m\n\u001b[0;32m     23\u001b[0m             \u001b[38;5;28;01mraise\u001b[39;00m \u001b[38;5;167;01mAttributeError\u001b[39;00m(\u001b[38;5;124m\"\u001b[39m\u001b[38;5;124mage must be a integer within the range (1 to 150)\u001b[39m\u001b[38;5;124m\"\u001b[39m)\n\u001b[0;32m     26\u001b[0m u \u001b[38;5;241m=\u001b[39m User()\n\u001b[1;32m---> 27\u001b[0m u\u001b[38;5;241m.\u001b[39mname \u001b[38;5;241m=\u001b[39m \u001b[38;5;241m5678\u001b[39m\n\u001b[0;32m     28\u001b[0m u\u001b[38;5;241m.\u001b[39mage \u001b[38;5;241m=\u001b[39m \u001b[38;5;241m500\u001b[39m\n\u001b[0;32m     30\u001b[0m \u001b[38;5;28mprint\u001b[39m(u\u001b[38;5;241m.\u001b[39mname, u\u001b[38;5;241m.\u001b[39mage)\n",
      "Input \u001b[1;32mIn [31]\u001b[0m, in \u001b[0;36mUser.name\u001b[1;34m(self, value)\u001b[0m\n\u001b[0;32m     10\u001b[0m     \u001b[38;5;28mself\u001b[39m\u001b[38;5;241m.\u001b[39m__name \u001b[38;5;241m=\u001b[39m value\n\u001b[0;32m     11\u001b[0m \u001b[38;5;28;01melse\u001b[39;00m:\n\u001b[1;32m---> 12\u001b[0m     \u001b[38;5;28;01mraise\u001b[39;00m \u001b[38;5;167;01mAttributeError\u001b[39;00m(\u001b[38;5;124m\"\u001b[39m\u001b[38;5;124mname must be a alphanumeric string\u001b[39m\u001b[38;5;124m\"\u001b[39m)\n",
      "\u001b[1;31mAttributeError\u001b[0m: name must be a alphanumeric string"
     ]
    }
   ],
   "source": [
    "class User:\n",
    "    \n",
    "    @property\n",
    "    def name(self):\n",
    "        return self.__name\n",
    "    \n",
    "    @name.setter\n",
    "    def name(self, value):\n",
    "        if type(value) is str and value.replace(\" \", \"\").isalnum():\n",
    "            self.__name = value\n",
    "        else:\n",
    "            raise AttributeError(\"name must be a alphanumeric string\")\n",
    "\n",
    "    @property\n",
    "    def age(self):\n",
    "        return self.__age\n",
    "    \n",
    "    @age.setter\n",
    "    def age(self, value):\n",
    "        if type(value) is int and 1 <= value <= 150:\n",
    "            self.__age = value\n",
    "        else:\n",
    "            raise AttributeError(\"age must be a integer within the range (1 to 150)\")\n",
    "    \n",
    "\n",
    "u = User()\n",
    "u.name = 5678\n",
    "u.age = 500\n",
    "\n",
    "print(u.name, u.age)"
   ]
  },
  {
   "cell_type": "code",
   "execution_count": 34,
   "metadata": {},
   "outputs": [
    {
     "name": "stdout",
     "output_type": "stream",
     "text": [
      "John Sam Smith\n",
      "{} {} {}\n"
     ]
    },
    {
     "data": {
      "text/plain": [
       "{3060352353616: {'name': 'John'},\n",
       " 3060352365472: {'name': 'Sam'},\n",
       " 3060352354432: {'name': 'Smith'}}"
      ]
     },
     "execution_count": 34,
     "metadata": {},
     "output_type": "execute_result"
    }
   ],
   "source": [
    "data = {}\n",
    "\n",
    "class User:\n",
    "\n",
    "    def __init__(self):\n",
    "        data[id(self)] = {}\n",
    "\n",
    "    @property\n",
    "    def name(self):\n",
    "        return data[id(self)][\"name\"]\n",
    "    \n",
    "    @name.setter\n",
    "    def name(self, value):\n",
    "        data[id(self)][\"name\"] = value\n",
    "\n",
    "u1 = User()\n",
    "u2 = User()\n",
    "u3 = User()\n",
    "u1.name = \"John\"\n",
    "u2.name = \"Sam\"\n",
    "u3.name = \"Smith\"\n",
    "\n",
    "print(u1.name, u2.name, u3.name)\n",
    "print(u1.__dict__, u2.__dict__, u3.__dict__)\n",
    "data"
   ]
  },
  {
   "cell_type": "code",
   "execution_count": 2,
   "metadata": {},
   "outputs": [
    {
     "name": "stdout",
     "output_type": "stream",
     "text": [
      "dict_keys(['__new__', '__repr__', '__hash__', '__str__', '__getattribute__', '__setattr__', '__delattr__', '__lt__', '__le__', '__eq__', '__ne__', '__gt__', '__ge__', '__init__', '__reduce_ex__', '__reduce__', '__getstate__', '__subclasshook__', '__init_subclass__', '__format__', '__sizeof__', '__dir__', '__class__', '__doc__'])\n"
     ]
    }
   ],
   "source": [
    "print(object.__dict__.keys())"
   ]
  },
  {
   "cell_type": "code",
   "execution_count": 3,
   "metadata": {},
   "outputs": [
    {
     "name": "stdout",
     "output_type": "stream",
     "text": [
      "dict_keys(['__new__', '__repr__', '__call__', '__getattribute__', '__setattr__', '__delattr__', '__init__', '__or__', '__ror__', 'mro', '__subclasses__', '__prepare__', '__instancecheck__', '__subclasscheck__', '__dir__', '__sizeof__', '__basicsize__', '__itemsize__', '__flags__', '__weakrefoffset__', '__base__', '__dictoffset__', '__name__', '__qualname__', '__bases__', '__mro__', '__module__', '__abstractmethods__', '__dict__', '__doc__', '__text_signature__', '__annotations__', '__type_params__'])\n"
     ]
    }
   ],
   "source": [
    "print(type.__dict__.keys())"
   ]
  },
  {
   "cell_type": "code",
   "execution_count": 5,
   "metadata": {},
   "outputs": [
    {
     "ename": "AttributeError",
     "evalue": "'Car' object has no attribute '__base__'",
     "output_type": "error",
     "traceback": [
      "\u001b[1;31m---------------------------------------------------------------------------\u001b[0m",
      "\u001b[1;31mAttributeError\u001b[0m                            Traceback (most recent call last)",
      "Cell \u001b[1;32mIn[5], line 6\u001b[0m\n\u001b[0;32m      3\u001b[0m c \u001b[38;5;241m=\u001b[39m Car()\n\u001b[0;32m      5\u001b[0m \u001b[38;5;28mstr\u001b[39m(c) \u001b[38;5;66;03m# c.__str__()\u001b[39;00m\n\u001b[1;32m----> 6\u001b[0m \u001b[43mc\u001b[49m\u001b[38;5;241;43m.\u001b[39;49m\u001b[43m__base__\u001b[49m\n",
      "\u001b[1;31mAttributeError\u001b[0m: 'Car' object has no attribute '__base__'"
     ]
    }
   ],
   "source": [
    "class Car: pass # This is an \"instance\" of type\n",
    "\n",
    "c = Car()\n",
    "\n",
    "str(c) # c.__str__()\n",
    "Car.name"
   ]
  },
  {
   "cell_type": "markdown",
   "metadata": {},
   "source": [
    "type-class relationship, class-instance relationship"
   ]
  }
 ],
 "metadata": {
  "kernelspec": {
   "display_name": "Python 3",
   "language": "python",
   "name": "python3"
  },
  "language_info": {
   "codemirror_mode": {
    "name": "ipython",
    "version": 3
   },
   "file_extension": ".py",
   "mimetype": "text/x-python",
   "name": "python",
   "nbconvert_exporter": "python",
   "pygments_lexer": "ipython3",
   "version": "3.12.5"
  }
 },
 "nbformat": 4,
 "nbformat_minor": 2
}
