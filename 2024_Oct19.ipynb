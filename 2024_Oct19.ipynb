{
 "cells": [
  {
   "cell_type": "markdown",
   "metadata": {},
   "source": [
    "### LWCC  Session 41 - October 19th 2024\n",
    "\n",
    "#### Decorators: Example use-cases\n"
   ]
  },
  {
   "cell_type": "code",
   "execution_count": 3,
   "metadata": {},
   "outputs": [
    {
     "name": "stdout",
     "output_type": "stream",
     "text": [
      "<bound method Decorate._upper of <__main__.Decorate object at 0x00000202AE1FA110>>\n",
      "<bound method Decorate._title of <__main__.Decorate object at 0x00000202AE1FB250>>\n",
      "HELLO, WORLD Welcome To Python John\n"
     ]
    }
   ],
   "source": [
    "class Decorate:\n",
    "    def __init__(self, style):\n",
    "        self.style = style\n",
    "\n",
    "    def _upper(self, *args, **kwargs):\n",
    "        return self.fn(*args, **kwargs).upper()\n",
    "    \n",
    "    def _lower(self, *args, **kwargs):\n",
    "        return self.fn(*args, **kwargs).lower()\n",
    "\n",
    "    def _title(self, *args, **kwargs):\n",
    "        return self.fn(*args, **kwargs).title()\n",
    "\n",
    "    def __call__(self, fn): # Role of the actual decorator -> cannot accept any more arguments\n",
    "        self.fn = fn\n",
    "        if self.style == \"upper\":\n",
    "            return self._upper\n",
    "        elif self.style == \"title\":\n",
    "            return self._title\n",
    "        elif self.style == \"lower\":\n",
    "            return self._lower\n",
    "        \n",
    "@Decorate(\"upper\") # d = Decorate(\"upper\") ; d(greet) -> d.__call__(greet) -> Decorate.__call__(d, greet)\n",
    "def greet():\n",
    "    return \"Hello, world\"\n",
    "\n",
    "@Decorate(\"title\")\n",
    "def welcome(z):\n",
    "    return f\"weLCome to pYTHon {z}\"\n",
    "\n",
    "print(greet)\n",
    "print(welcome)\n",
    "\n",
    "print(greet(), welcome(\"john\"))"
   ]
  },
  {
   "cell_type": "code",
   "execution_count": 5,
   "metadata": {},
   "outputs": [
    {
     "ename": "TypeError",
     "evalue": "'Dummy' object is not callable",
     "output_type": "error",
     "traceback": [
      "\u001b[1;31m---------------------------------------------------------------------------\u001b[0m",
      "\u001b[1;31mTypeError\u001b[0m                                 Traceback (most recent call last)",
      "Input \u001b[1;32mIn [5]\u001b[0m, in \u001b[0;36m<module>\u001b[1;34m\u001b[0m\n\u001b[0;32m      2\u001b[0m     \u001b[38;5;28;01mpass\u001b[39;00m\n\u001b[0;32m      4\u001b[0m d \u001b[38;5;241m=\u001b[39m Dummy()\n\u001b[1;32m----> 5\u001b[0m \u001b[43md\u001b[49m\u001b[43m(\u001b[49m\u001b[43m)\u001b[49m\n",
      "\u001b[1;31mTypeError\u001b[0m: 'Dummy' object is not callable"
     ]
    }
   ],
   "source": [
    "class Dummy:\n",
    "    pass\n",
    "\n",
    "d = Dummy()\n",
    "d()"
   ]
  },
  {
   "cell_type": "code",
   "execution_count": null,
   "metadata": {},
   "outputs": [
    {
     "ename": "TypeError",
     "evalue": "'Dummy' object is not callable",
     "output_type": "error",
     "traceback": [
      "\u001b[1;31m---------------------------------------------------------------------------\u001b[0m\n",
      "\u001b[1;31mTypeError\u001b[0m                                 Traceback (most recent call last)\n",
      "Input \u001b[1;32mIn [5]\u001b[0m, in \u001b[0;36m<module>\u001b[1;34m\u001b[0m\n",
      "\u001b[0;32m      2\u001b[0m     \u001b[38;5;28;01mpass\u001b[39;00m\n",
      "\u001b[0;32m      4\u001b[0m d \u001b[38;5;241m=\u001b[39m Dummy()\n",
      "\u001b[1;32m----> 5\u001b[0m \u001b[43md\u001b[49m\u001b[43m(\u001b[49m\u001b[43m)\u001b[49m\n",
      "\n",
      "\u001b[1;31mTypeError\u001b[0m: 'Dummy' object is not callable"
     ]
    }
   ],
   "source": [
    "class Dummy:\n",
    "    def __call__(self):\n",
    "        \n",
    "d = Dummy()\n",
    "d()"
   ]
  },
  {
   "cell_type": "code",
   "execution_count": 24,
   "metadata": {},
   "outputs": [
    {
     "name": "stdout",
     "output_type": "stream",
     "text": [
      "<__main__.Test object at 0x00000202AD0F2710> <__main__.Test object at 0x00000202AD0F3A00>\n",
      "adding\n",
      "Getting item 0\n",
      "{}\n"
     ]
    }
   ],
   "source": [
    "class Test:\n",
    "    def __add__(x, y):\n",
    "        print(\"adding\")\n",
    "\n",
    "    def __getitem__(self, i):\n",
    "        print(\"Getting item\", i)\n",
    "        \n",
    "    pass\n",
    "t1 = Test()\n",
    "t2 = Test()\n",
    "\n",
    "print(t1, t2)\n",
    "\n",
    "t1 + t2 # t1.__add__(t2) -> Test.__add__(t1, t2)\n",
    "\n",
    "t1[0] # t1.__getitem__(0) -> Test.__getitem__(t1, 0)\n",
    "print(vars(t1))"
   ]
  },
  {
   "cell_type": "code",
   "execution_count": 13,
   "metadata": {},
   "outputs": [
    {
     "name": "stdout",
     "output_type": "stream",
     "text": [
      "['__add__', '__class__', '__delattr__', '__dict__', '__dir__', '__doc__', '__eq__', '__format__', '__ge__', '__getattribute__', '__gt__', '__hash__', '__init__', '__init_subclass__', '__le__', '__lt__', '__module__', '__ne__', '__new__', '__reduce__', '__reduce_ex__', '__repr__', '__setattr__', '__sizeof__', '__str__', '__subclasshook__', '__weakref__']\n"
     ]
    }
   ],
   "source": [
    "print(dir(t1))"
   ]
  },
  {
   "cell_type": "code",
   "execution_count": null,
   "metadata": {},
   "outputs": [],
   "source": [
    "def square(x):\n",
    "    return x*x\n"
   ]
  },
  {
   "cell_type": "code",
   "execution_count": null,
   "metadata": {},
   "outputs": [],
   "source": [
    "def square(x: Any[int, float]) -> int:\n",
    "    return x*x\n"
   ]
  },
  {
   "cell_type": "code",
   "execution_count": 21,
   "metadata": {},
   "outputs": [
    {
     "name": "stdout",
     "output_type": "stream",
     "text": [
      "<bound method Decorate._upper of <__main__.Decorate object at 0x00000202AE215570>>\n",
      "<bound method Decorate._swapcase of <__main__.Decorate object at 0x00000202AE214580>>\n",
      "HELLO, WORLD\n",
      "WElcOME TO PythON JOHN\n"
     ]
    }
   ],
   "source": [
    "class Decorate:\n",
    "    def __init__(self, style):\n",
    "        self.style = style\n",
    "\n",
    "    def _upper(self, *args, **kwargs):\n",
    "        return self.fn(*args, **kwargs).upper()\n",
    "    \n",
    "    def _lower(self, *args, **kwargs):\n",
    "        return self.fn(*args, **kwargs).lower()\n",
    "\n",
    "    def _title(self, *args, **kwargs):\n",
    "        return self.fn(*args, **kwargs).title()\n",
    "\n",
    "    def _swapcase(self, *args, **kwargs):\n",
    "        return self.fn(*args, **kwargs).swapcase()\n",
    "\n",
    "    def __call__(self, fn): # Role of the actual decorator -> cannot accept any more arguments\n",
    "        self.fn = fn\n",
    "        method = \"_\" + self.style\n",
    "        if hasattr(self, method):\n",
    "            return getattr(self, method)\n",
    "        else:\n",
    "            raise NotImplementedError(f\"{self.style} is not implemented\")\n",
    "        \n",
    "@Decorate(\"upper\") # d = Decorate(\"upper\") ; d(greet) -> d.__call__(greet) -> Decorate.__call__(d, greet)\n",
    "def greet():\n",
    "    return \"Hello, world\"\n",
    "\n",
    "@Decorate(\"swapcase\")\n",
    "def welcome(z):\n",
    "    return f\"weLCome to pYTHon {z}\"\n",
    "\n",
    "print(greet)\n",
    "print(welcome)\n",
    "\n",
    "print(greet(), welcome(\"john\"), sep=\"\\n\")"
   ]
  },
  {
   "cell_type": "code",
   "execution_count": 26,
   "metadata": {},
   "outputs": [
    {
     "name": "stdout",
     "output_type": "stream",
     "text": [
      "<function Decorate.__call__.<locals>.<lambda> at 0x00000202AEB7A170>\n",
      "<function Decorate.__call__.<locals>.<lambda> at 0x00000202AEB7A440>\n",
      "HELLO, WORLD\n",
      "WElcOME TO PythON JOHN\n"
     ]
    }
   ],
   "source": [
    "class Decorate:\n",
    "    def __init__(self, style):\n",
    "        self.style = style\n",
    "\n",
    "    def _upper(self, *args, **kwargs):\n",
    "        return self.fn(*args, **kwargs).upper()\n",
    "    \n",
    "    def _lower(self, *args, **kwargs):\n",
    "        return self.fn(*args, **kwargs).lower()\n",
    "\n",
    "    def _title(self, *args, **kwargs):\n",
    "        return self.fn(*args, **kwargs).title()\n",
    "\n",
    "    def _swapcase(self, *args, **kwargs):\n",
    "        return self.fn(*args, **kwargs).swapcase()\n",
    "\n",
    "    def __call__(self, fn): # Role of the actual decorator -> cannot accept any more arguments\n",
    "        self.fn = fn\n",
    "        method = \"_\" + self.style\n",
    "        return lambda *args, **kwargs: type(self).__dict__.get(method, fn)(self, *args, **kwargs)\n",
    "    \n",
    "        \n",
    "@Decorate(\"upper\") # d = Decorate(\"upper\") ; d(greet) -> d.__call__(greet) -> Decorate.__call__(d, greet)\n",
    "def greet():\n",
    "    return \"Hello, world\"\n",
    "\n",
    "@Decorate(\"swapcase\")\n",
    "def welcome(z):\n",
    "    return f\"weLCome to pYTHon {z}\"\n",
    "\n",
    "print(greet)\n",
    "print(welcome)\n",
    "\n",
    "print(greet(), welcome(\"john\"), sep=\"\\n\")"
   ]
  },
  {
   "cell_type": "code",
   "execution_count": 36,
   "metadata": {},
   "outputs": [
    {
     "name": "stdout",
     "output_type": "stream",
     "text": [
      "Contents of .:\n",
      ".git\n",
      ".gitignore\n",
      "2024_Aug03.ipynb\n",
      "2024_Aug04.ipynb\n",
      "2024_Aug10.ipynb\n",
      "2024_Aug11.ipynb\n",
      "2024_Aug17.ipynb\n",
      "2024_Aug18.ipynb\n",
      "2024_Aug24.ipynb\n",
      "2024_Aug25.ipynb\n",
      "2024_Aug31.ipynb\n",
      "2024_July06.ipynb\n",
      "2024_July07.ipynb\n",
      "2024_July13.ipynb\n",
      "2024_July14.ipynb\n",
      "2024_July20.ipynb\n",
      "2024_July21.ipynb\n",
      "2024_July27.ipynb\n",
      "2024_July28.ipynb\n",
      "2024_Jun01.ipynb\n",
      "2024_Jun02.ipynb\n",
      "2024_Jun08.ipynb\n",
      "2024_Jun29.ipynb\n",
      "2024_Jun30.ipynb\n",
      "2024_May18.ipynb\n",
      "2024_May19.ipynb\n",
      "2024_May25.ipynb\n",
      "2024_May26.ipynb\n",
      "2024_Oct05.ipynb\n",
      "2024_Oct06.ipynb\n",
      "2024_Oct12.ipynb\n",
      "2024_Oct13.ipynb\n",
      "2024_Oct19.ipynb\n",
      "2024_Sep01.ipynb\n",
      "2024_Sep07.ipynb\n",
      "2024_Sep08.ipynb\n",
      "2024_Sep14.ipynb\n",
      "2024_Sep15.ipynb\n",
      "2024_Sep21.ipynb\n",
      "2024_Sep22.ipynb\n",
      "2024_Sep28.ipynb\n",
      "company.py\n",
      "company_encap.py\n",
      "company_oo.py\n",
      "exception_test1.py\n",
      "exception_test2.py\n",
      "exception_test3.py\n",
      "external_scope2.py\n",
      "external_scope_example.py\n",
      "global_vars1.py\n",
      "global_vars2.py\n",
      "global_vars3.py\n",
      "hello.py\n",
      "leg_b.py\n",
      "leg_b2.py\n",
      "monkey_patching_example.py\n",
      "nonlocal.py\n",
      "userfile.py\n",
      "userfile2.py\n",
      "userfile_iterator.py\n",
      "users.csv\n",
      "users1.csv\n",
      "__pycache__\n",
      "Sat Oct 19 20:06:22 2024\n",
      "Sat Oct 19 20:06:29 2024\n",
      "Invalid command - sdfsdf\n",
      "Invalid command - werwer\n"
     ]
    }
   ],
   "source": [
    "#from command_dispatch import CommandDispatch\n",
    "\n",
    "def list_dir(*args, **kwargs): # ls\n",
    "    import os\n",
    "    for arg in args[1:]:\n",
    "        print(f\"Contents of {arg}:\")\n",
    "        for f in os.listdir(arg):\n",
    "            print(f)\n",
    "\n",
    "def print_date(*args, **kwargs): # date\n",
    "    from time import ctime\n",
    "    print(ctime())\n",
    "\n",
    "def invalid_command(*args, **kwargs): \n",
    "    print(\"Invalid command -\", args[0])\n",
    "\n",
    "def get_currdir(*args, **kwargs): # pwd\n",
    "    import os\n",
    "    print(os.getcwd())\n",
    "\n",
    "\n",
    "def get_input(prompt):\n",
    "    command = input(prompt)\n",
    "    return command.split()\n",
    "\n",
    "\n",
    "while True:\n",
    "    args = get_input(\"Shell> \")\n",
    "    if args[0] == \"ls\":\n",
    "        list_dir(*args)\n",
    "    elif args[0] == \"date\":\n",
    "        print_date(*args)\n",
    "    elif args[0] == \"exit\":\n",
    "        break\n",
    "    else:\n",
    "        invalid_command(*args)"
   ]
  },
  {
   "cell_type": "code",
   "execution_count": 5,
   "metadata": {},
   "outputs": [
    {
     "name": "stdout",
     "output_type": "stream",
     "text": [
      "Driving a car..\n"
     ]
    },
    {
     "ename": "AttributeError",
     "evalue": "'Car' object has no attribute 'drive'",
     "output_type": "error",
     "traceback": [
      "\u001b[1;31m---------------------------------------------------------------------------\u001b[0m",
      "\u001b[1;31mAttributeError\u001b[0m                            Traceback (most recent call last)",
      "Input \u001b[1;32mIn [5]\u001b[0m, in \u001b[0;36m<module>\u001b[1;34m\u001b[0m\n\u001b[0;32m     12\u001b[0m c\u001b[38;5;241m.\u001b[39mdrive \u001b[38;5;241m=\u001b[39m drivecar\n\u001b[0;32m     13\u001b[0m c\u001b[38;5;241m.\u001b[39mdrive()\n\u001b[1;32m---> 15\u001b[0m \u001b[43mc2\u001b[49m\u001b[38;5;241;43m.\u001b[39;49m\u001b[43mdrive\u001b[49m()\n",
      "\u001b[1;31mAttributeError\u001b[0m: 'Car' object has no attribute 'drive'"
     ]
    }
   ],
   "source": [
    "# Singleton instance method\n",
    "\n",
    "class Car:\n",
    "    pass\n",
    "\n",
    "def drivecar():\n",
    "    print(\"Driving a car..\")\n",
    "\n",
    "c = Car()\n",
    "c2 = Car()\n",
    "\n",
    "c.drive = drivecar\n",
    "c.drive()\n",
    "\n",
    "c2.drive()"
   ]
  }
 ],
 "metadata": {
  "kernelspec": {
   "display_name": "Python 3",
   "language": "python",
   "name": "python3"
  },
  "language_info": {
   "codemirror_mode": {
    "name": "ipython",
    "version": 3
   },
   "file_extension": ".py",
   "mimetype": "text/x-python",
   "name": "python",
   "nbconvert_exporter": "python",
   "pygments_lexer": "ipython3",
   "version": "3.10.2"
  }
 },
 "nbformat": 4,
 "nbformat_minor": 2
}
