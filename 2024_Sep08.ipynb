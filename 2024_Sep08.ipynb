{
 "cells": [
  {
   "cell_type": "markdown",
   "metadata": {},
   "source": [
    "### LWCC  Session 31 - September 8th 2024\n",
    "\n",
    "#### Special methods (contd.)\n",
    "##### Implementing custom collections"
   ]
  },
  {
   "cell_type": "code",
   "execution_count": 13,
   "metadata": {},
   "outputs": [
    {
     "name": "stdout",
     "output_type": "stream",
     "text": [
      "Accessing 0\n",
      "500\n",
      "Setting 0 to 100\n",
      "Deleting 30\n"
     ]
    }
   ],
   "source": [
    "class Test:\n",
    "    def __getitem__(self, v):\n",
    "        print(\"Accessing\", v)\n",
    "        return 500\n",
    "    \n",
    "    def __setitem__(self, k, v):\n",
    "        print(f\"Setting {k} to {v}\")\n",
    "\n",
    "    def __delitem__(self, k):\n",
    "        print(\"Deleting\", k)\n",
    "\n",
    "t = Test()\n",
    "\n",
    "r = t[0]  # t.__getitem__(0)  -> Test.__getitem__(t, 0)\n",
    "\n",
    "print(r)\n",
    "\n",
    "t[0] = 100 # t.__setitem__(0, 100) -> Test.__setitem__(t, 0, 100)\n",
    "\n",
    "del t[30]"
   ]
  },
  {
   "cell_type": "code",
   "execution_count": 16,
   "metadata": {},
   "outputs": [
    {
     "ename": "TypeError",
     "evalue": "object of type 'Square' has no len()",
     "output_type": "error",
     "traceback": [
      "\u001b[1;31m---------------------------------------------------------------------------\u001b[0m",
      "\u001b[1;31mTypeError\u001b[0m                                 Traceback (most recent call last)",
      "Input \u001b[1;32mIn [16]\u001b[0m, in \u001b[0;36m<module>\u001b[1;34m\u001b[0m\n\u001b[0;32m      6\u001b[0m s \u001b[38;5;241m=\u001b[39m Square()\n\u001b[0;32m      7\u001b[0m s[\u001b[38;5;241m12\u001b[39m]\n\u001b[1;32m----> 8\u001b[0m \u001b[38;5;28;43mlen\u001b[39;49m\u001b[43m(\u001b[49m\u001b[43ms\u001b[49m\u001b[43m)\u001b[49m\n",
      "\u001b[1;31mTypeError\u001b[0m: object of type 'Square' has no len()"
     ]
    }
   ],
   "source": [
    "class Square:\n",
    "    def __getitem__(self, v):\n",
    "        return v*v\n",
    "    \n",
    "\n",
    "s = Square()\n",
    "s[12]\n",
    "len(s)"
   ]
  },
  {
   "cell_type": "code",
   "execution_count": 2,
   "metadata": {},
   "outputs": [
    {
     "name": "stdout",
     "output_type": "stream",
     "text": [
      "Getting item 3\n",
      "10\n",
      "Getting item 0\n",
      "0 Getting item 1\n",
      "1 Getting item 2\n",
      "4 Getting item 3\n",
      "9 Getting item 4\n",
      "16 Getting item 5\n",
      "25 Getting item 6\n",
      "36 Getting item 7\n",
      "49 Getting item 8\n",
      "64 Getting item 9\n",
      "81 Getting item 10\n",
      "Getting item 0\n",
      "Getting item 1\n",
      "Getting item 2\n",
      "Getting item 3\n",
      "Getting item 4\n",
      "Getting item 5\n",
      "Getting item 6\n",
      "Getting item 7\n",
      "Getting item 8\n",
      "Getting item 9\n",
      "Getting item 10\n"
     ]
    },
    {
     "data": {
      "text/plain": [
       "False"
      ]
     },
     "execution_count": 2,
     "metadata": {},
     "output_type": "execute_result"
    }
   ],
   "source": [
    "class Square:  # Implementation of a Generator Pattern\n",
    "    def __init__(self, limit):\n",
    "        self.limit = limit\n",
    "\n",
    "    def __getitem__(self, v):\n",
    "        print(\"Getting item\", v)\n",
    "        if 0 <= v < self.limit:\n",
    "            return v*v\n",
    "        else:\n",
    "            raise IndexError(f\"{v}\")\n",
    "        \n",
    "    def __len__(self):\n",
    "        return self.limit\n",
    "    \n",
    "\n",
    "s = Square(10)\n",
    "s[3]\n",
    "print(len(s))\n",
    "for i in s:\n",
    "    print(i, end=\" \")\n",
    "\n",
    "47 in s"
   ]
  },
  {
   "cell_type": "code",
   "execution_count": 29,
   "metadata": {},
   "outputs": [
    {
     "data": {
      "text/plain": [
       "<iterator at 0x220a1074310>"
      ]
     },
     "execution_count": 29,
     "metadata": {},
     "output_type": "execute_result"
    }
   ],
   "source": [
    "it = iter(s)\n",
    "it"
   ]
  },
  {
   "cell_type": "code",
   "execution_count": 40,
   "metadata": {},
   "outputs": [
    {
     "ename": "StopIteration",
     "evalue": "",
     "output_type": "error",
     "traceback": [
      "\u001b[1;31m---------------------------------------------------------------------------\u001b[0m",
      "\u001b[1;31mStopIteration\u001b[0m                             Traceback (most recent call last)",
      "Input \u001b[1;32mIn [40]\u001b[0m, in \u001b[0;36m<module>\u001b[1;34m\u001b[0m\n\u001b[1;32m----> 1\u001b[0m \u001b[38;5;28;43mnext\u001b[39;49m\u001b[43m(\u001b[49m\u001b[43mit\u001b[49m\u001b[43m)\u001b[49m\n",
      "\u001b[1;31mStopIteration\u001b[0m: "
     ]
    }
   ],
   "source": [
    "next(it)"
   ]
  },
  {
   "cell_type": "code",
   "execution_count": 3,
   "metadata": {},
   "outputs": [
    {
     "name": "stdout",
     "output_type": "stream",
     "text": [
      "Getting item 0\n",
      "Getting item 1\n",
      "Getting item 2\n",
      "Getting item 3\n",
      "Getting item 4\n",
      "Getting item 5\n",
      "Getting item 6\n",
      "Getting item 7\n",
      "Getting item 8\n",
      "Getting item 9\n",
      "Getting item 10\n"
     ]
    },
    {
     "data": {
      "text/plain": [
       "False"
      ]
     },
     "execution_count": 3,
     "metadata": {},
     "output_type": "execute_result"
    }
   ],
   "source": [
    "s = Square(10)\n",
    "37 in s"
   ]
  },
  {
   "cell_type": "code",
   "execution_count": 4,
   "metadata": {},
   "outputs": [
    {
     "name": "stdout",
     "output_type": "stream",
     "text": [
      "Getting item 0\n",
      "Getting item 1\n",
      "Getting item 2\n",
      "Getting item 3\n",
      "Getting item 4\n",
      "Getting item 5\n",
      "Getting item 6\n"
     ]
    },
    {
     "data": {
      "text/plain": [
       "True"
      ]
     },
     "execution_count": 4,
     "metadata": {},
     "output_type": "execute_result"
    }
   ],
   "source": [
    "\n",
    "def in_operator(obj, v):\n",
    "    i = 0\n",
    "    try:\n",
    "        while True:\n",
    "            item = obj[i] # v = s.__getitem__(i)\n",
    "            if item == v:\n",
    "                return True\n",
    "            i += 1\n",
    "    except:\n",
    "        return False\n",
    "    \n",
    "in_operator(s, 36)"
   ]
  },
  {
   "cell_type": "code",
   "execution_count": 10,
   "metadata": {},
   "outputs": [
    {
     "name": "stdout",
     "output_type": "stream",
     "text": [
      "Getting item 0\n",
      "Getting item 1\n",
      "Getting item 2\n",
      "Getting item 3\n",
      "Getting item 4\n",
      "Getting item 5\n",
      "Getting item 6\n"
     ]
    },
    {
     "data": {
      "text/plain": [
       "True"
      ]
     },
     "execution_count": 10,
     "metadata": {},
     "output_type": "execute_result"
    }
   ],
   "source": [
    "\n",
    "def in_operator(obj, v):\n",
    "    iterator = iter(obj)\n",
    "    try:\n",
    "        while True:\n",
    "            item = next(iterator)\n",
    "            if item == v:\n",
    "                return True\n",
    "    except:\n",
    "        return False\n",
    "    \n",
    "in_operator(s, 36)"
   ]
  },
  {
   "cell_type": "code",
   "execution_count": 9,
   "metadata": {},
   "outputs": [
    {
     "name": "stdout",
     "output_type": "stream",
     "text": [
      "Getting item 0\n",
      "Getting item 1\n",
      "Getting item 2\n",
      "Getting item 3\n",
      "Getting item 4\n",
      "Getting item 5\n",
      "Getting item 6\n"
     ]
    },
    {
     "data": {
      "text/plain": [
       "True"
      ]
     },
     "execution_count": 9,
     "metadata": {},
     "output_type": "execute_result"
    }
   ],
   "source": [
    "class Square:  # Implementation of a Generator Pattern\n",
    "    def __init__(self, limit):\n",
    "        self.limit = limit\n",
    "\n",
    "    def __getitem__(self, v):\n",
    "        print(\"Getting item\", v)\n",
    "        if 0 <= v < self.limit:\n",
    "            return v*v\n",
    "        else:\n",
    "            raise IndexError(f\"{v}\")\n",
    "        \n",
    "    def __len__(self):\n",
    "        return self.limit\n",
    "    \n",
    "    def __contains__(self, v):\n",
    "        print(\"__contains__ invoked for\", v)\n",
    "\n",
    "s = Square(10)\n",
    "\n",
    "36 in s"
   ]
  },
  {
   "cell_type": "code",
   "execution_count": null,
   "metadata": {},
   "outputs": [],
   "source": [
    "# Summary: __getitem__, __setitem__, __delitem__\n",
    "#   __len__, __contains__"
   ]
  },
  {
   "cell_type": "code",
   "execution_count": 1,
   "metadata": {},
   "outputs": [
    {
     "name": "stdout",
     "output_type": "stream",
     "text": [
      "0 1 1 2 3 5 8 13 21 34 "
     ]
    }
   ],
   "source": [
    "class Fibonacci:\n",
    "    def __init__(self, limit):\n",
    "        self.limit = limit\n",
    "\n",
    "    def __iter__(self):\n",
    "        return FibonacciIterator(self)\n",
    "    \n",
    "class FibonacciIterator:\n",
    "    def __init__(self, iterable):\n",
    "        self.a, self.b = 0, 1\n",
    "        self.limit = iterable.limit\n",
    "\n",
    "    def __next__(self):\n",
    "        if self.limit > 0:\n",
    "            v = self.a\n",
    "            self.a, self.b = self.b, self.a + self.b\n",
    "            self.limit -= 1\n",
    "            return v\n",
    "        else:\n",
    "            raise StopIteration()\n",
    "        \n",
    "fib = Fibonacci(10)\n",
    "for v in fib:\n",
    "    print(v, end=\" \")\n",
    "\n"
   ]
  },
  {
   "cell_type": "code",
   "execution_count": 12,
   "metadata": {},
   "outputs": [
    {
     "data": {
      "text/plain": [
       "<__main__.FibonacciIterator at 0x210a315f820>"
      ]
     },
     "execution_count": 12,
     "metadata": {},
     "output_type": "execute_result"
    }
   ],
   "source": [
    "iter(fib)"
   ]
  },
  {
   "cell_type": "code",
   "execution_count": 2,
   "metadata": {},
   "outputs": [
    {
     "name": "stdout",
     "output_type": "stream",
     "text": [
      "12 34 54 67 88 "
     ]
    }
   ],
   "source": [
    "a = [12, 34, 54, 67, 88]\n",
    "\n",
    "for v in a:\n",
    "    print(v, end=\" \")"
   ]
  },
  {
   "cell_type": "code",
   "execution_count": 4,
   "metadata": {},
   "outputs": [
    {
     "data": {
      "text/plain": [
       "<list_iterator at 0x210a1ee5270>"
      ]
     },
     "execution_count": 4,
     "metadata": {},
     "output_type": "execute_result"
    }
   ],
   "source": [
    "li = iter(a)\n",
    "li"
   ]
  },
  {
   "cell_type": "code",
   "execution_count": 11,
   "metadata": {},
   "outputs": [
    {
     "ename": "StopIteration",
     "evalue": "",
     "output_type": "error",
     "traceback": [
      "\u001b[1;31m---------------------------------------------------------------------------\u001b[0m",
      "\u001b[1;31mStopIteration\u001b[0m                             Traceback (most recent call last)",
      "Input \u001b[1;32mIn [11]\u001b[0m, in \u001b[0;36m<module>\u001b[1;34m\u001b[0m\n\u001b[1;32m----> 1\u001b[0m \u001b[38;5;28;43mnext\u001b[39;49m\u001b[43m(\u001b[49m\u001b[43mli\u001b[49m\u001b[43m)\u001b[49m\n",
      "\u001b[1;31mStopIteration\u001b[0m: "
     ]
    }
   ],
   "source": [
    "next(li)  # li.__next__() -> list_iterator.__next__(li)"
   ]
  },
  {
   "cell_type": "code",
   "execution_count": 15,
   "metadata": {},
   "outputs": [
    {
     "name": "stdout",
     "output_type": "stream",
     "text": [
      "range(0, 10) <class 'range'>\n",
      "<range_iterator object at 0x00000210A39C7970> <class 'range_iterator'>\n"
     ]
    }
   ],
   "source": [
    "r = range(10)\n",
    "print(r, type(r))\n",
    "\n",
    "ri = iter(r)\n",
    "print(ri, type(ri))"
   ]
  },
  {
   "cell_type": "code",
   "execution_count": 26,
   "metadata": {},
   "outputs": [
    {
     "ename": "StopIteration",
     "evalue": "",
     "output_type": "error",
     "traceback": [
      "\u001b[1;31m---------------------------------------------------------------------------\u001b[0m",
      "\u001b[1;31mStopIteration\u001b[0m                             Traceback (most recent call last)",
      "Input \u001b[1;32mIn [26]\u001b[0m, in \u001b[0;36m<module>\u001b[1;34m\u001b[0m\n\u001b[1;32m----> 1\u001b[0m \u001b[38;5;28;43mnext\u001b[39;49m\u001b[43m(\u001b[49m\u001b[43mri\u001b[49m\u001b[43m)\u001b[49m\n",
      "\u001b[1;31mStopIteration\u001b[0m: "
     ]
    }
   ],
   "source": [
    "next(ri)"
   ]
  }
 ],
 "metadata": {
  "kernelspec": {
   "display_name": "Python 3",
   "language": "python",
   "name": "python3"
  },
  "language_info": {
   "codemirror_mode": {
    "name": "ipython",
    "version": 3
   },
   "file_extension": ".py",
   "mimetype": "text/x-python",
   "name": "python",
   "nbconvert_exporter": "python",
   "pygments_lexer": "ipython3",
   "version": "3.10.2"
  }
 },
 "nbformat": 4,
 "nbformat_minor": 2
}
