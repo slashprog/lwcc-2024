{
 "cells": [
  {
   "cell_type": "code",
   "execution_count": 2,
   "metadata": {},
   "outputs": [
    {
     "data": {
      "text/plain": [
       "'Toyota'"
      ]
     },
     "execution_count": 2,
     "metadata": {},
     "output_type": "execute_result"
    }
   ],
   "source": [
    "class Car: \n",
    "    make = \"Toyota\"\n",
    "\n",
    "Car.make"
   ]
  },
  {
   "cell_type": "code",
   "execution_count": 3,
   "metadata": {},
   "outputs": [
    {
     "data": {
      "text/plain": [
       "mappingproxy({'__module__': '__main__',\n",
       "              'make': 'Toyota',\n",
       "              '__dict__': <attribute '__dict__' of 'Car' objects>,\n",
       "              '__weakref__': <attribute '__weakref__' of 'Car' objects>,\n",
       "              '__doc__': None})"
      ]
     },
     "execution_count": 3,
     "metadata": {},
     "output_type": "execute_result"
    }
   ],
   "source": [
    "Car.__dict__"
   ]
  },
  {
   "cell_type": "code",
   "execution_count": 5,
   "metadata": {},
   "outputs": [
    {
     "name": "stdout",
     "output_type": "stream",
     "text": [
      "Toyota\n",
      "Toyota\n"
     ]
    }
   ],
   "source": [
    "print(Car.make)\n",
    "print(Car.__dict__[\"make\"])"
   ]
  },
  {
   "cell_type": "code",
   "execution_count": 12,
   "metadata": {},
   "outputs": [
    {
     "name": "stdout",
     "output_type": "stream",
     "text": [
      "Toyota Toyota\n",
      "{} {}\n",
      "Toyota\n",
      "{'make': 'Honda'} {}\n",
      "Honda\n",
      "Honda\n"
     ]
    }
   ],
   "source": [
    "c1 = Car() # Constructor expression\n",
    "c2 = Car() # Create another instance of Car\n",
    "print(c1.make, c2.make)\n",
    "print(c1.__dict__, c2.__dict__)\n",
    "print(c1.__dict__.get(\"make\", c1.__class__.__dict__[\"make\"]))\n",
    "\n",
    "c1.make = \"Honda\"\n",
    "print(c1.__dict__, c2.__dict__)\n",
    "print(c1.make)\n",
    "print(c1.__dict__.get(\"make\", c1.__class__.__dict__[\"make\"]))"
   ]
  },
  {
   "cell_type": "code",
   "execution_count": 13,
   "metadata": {},
   "outputs": [
    {
     "ename": "AttributeError",
     "evalue": "'Car' object has no attribute 'color'",
     "output_type": "error",
     "traceback": [
      "\u001b[0;31m---------------------------------------------------------------------------\u001b[0m",
      "\u001b[0;31mAttributeError\u001b[0m                            Traceback (most recent call last)",
      "Cell \u001b[0;32mIn[13], line 1\u001b[0m\n\u001b[0;32m----> 1\u001b[0m c1\u001b[38;5;241m.\u001b[39mcolor\n",
      "\u001b[0;31mAttributeError\u001b[0m: 'Car' object has no attribute 'color'"
     ]
    }
   ],
   "source": [
    "c1.color"
   ]
  },
  {
   "cell_type": "code",
   "execution_count": 15,
   "metadata": {},
   "outputs": [
    {
     "name": "stdout",
     "output_type": "stream",
     "text": [
      "red\n"
     ]
    },
    {
     "ename": "AttributeError",
     "evalue": "'Car' object has no attribute 'color'",
     "output_type": "error",
     "traceback": [
      "\u001b[0;31m---------------------------------------------------------------------------\u001b[0m",
      "\u001b[0;31mAttributeError\u001b[0m                            Traceback (most recent call last)",
      "Cell \u001b[0;32mIn[15], line 3\u001b[0m\n\u001b[1;32m      1\u001b[0m c1\u001b[38;5;241m.\u001b[39mcolor \u001b[38;5;241m=\u001b[39m \u001b[38;5;124m\"\u001b[39m\u001b[38;5;124mred\u001b[39m\u001b[38;5;124m\"\u001b[39m\n\u001b[1;32m      2\u001b[0m \u001b[38;5;28mprint\u001b[39m(c1\u001b[38;5;241m.\u001b[39mcolor)\n\u001b[0;32m----> 3\u001b[0m \u001b[38;5;28mprint\u001b[39m(c2\u001b[38;5;241m.\u001b[39mcolor)\n",
      "\u001b[0;31mAttributeError\u001b[0m: 'Car' object has no attribute 'color'"
     ]
    }
   ],
   "source": [
    "c1.color = \"red\"\n",
    "print(c1.color)\n",
    "print(c2.color)"
   ]
  },
  {
   "cell_type": "code",
   "execution_count": 16,
   "metadata": {},
   "outputs": [
    {
     "name": "stdout",
     "output_type": "stream",
     "text": [
      "{'make': 'Honda', 'color': 'red'}\n",
      "{}\n",
      "{'__module__': '__main__', 'make': 'Toyota', '__dict__': <attribute '__dict__' of 'Car' objects>, '__weakref__': <attribute '__weakref__' of 'Car' objects>, '__doc__': None}\n"
     ]
    }
   ],
   "source": [
    "print(c1.__dict__)\n",
    "print(c2.__dict__)\n",
    "print(Car.__dict__)"
   ]
  },
  {
   "cell_type": "code",
   "execution_count": 18,
   "metadata": {},
   "outputs": [
    {
     "ename": "TypeError",
     "evalue": "'Car' object is not callable",
     "output_type": "error",
     "traceback": [
      "\u001b[0;31m---------------------------------------------------------------------------\u001b[0m",
      "\u001b[0;31mTypeError\u001b[0m                                 Traceback (most recent call last)",
      "Cell \u001b[0;32mIn[18], line 2\u001b[0m\n\u001b[1;32m      1\u001b[0m c \u001b[38;5;241m=\u001b[39m Car()\n\u001b[0;32m----> 2\u001b[0m d \u001b[38;5;241m=\u001b[39m c()\n",
      "\u001b[0;31mTypeError\u001b[0m: 'Car' object is not callable"
     ]
    }
   ],
   "source": [
    "c = Car()\n",
    "d = c()"
   ]
  },
  {
   "cell_type": "code",
   "execution_count": 26,
   "metadata": {},
   "outputs": [
    {
     "name": "stdout",
     "output_type": "stream",
     "text": [
      "Driving car Toyota\n",
      "Driving car Honda\n",
      "<function drive_car at 0x75e837ff4900>\n",
      "<function drive_car at 0x75e837ff4900>\n",
      "Driving car Toyota\n",
      "Driving car Honda\n",
      "Driving car Toyota\n",
      "Driving car Honda\n"
     ]
    }
   ],
   "source": [
    "class Car:\n",
    "    pass\n",
    "\n",
    "c1 = Car()\n",
    "c2 = Car()\n",
    "\n",
    "c1.make = 'Toyota'\n",
    "c2.make = 'Honda'\n",
    "\n",
    "def drive_car(c):\n",
    "    print(f\"Driving car {c.make}\")\n",
    "\n",
    "drive_car(c1)\n",
    "drive_car(c2)\n",
    "\n",
    "Car.drive = drive_car\n",
    "print(drive_car)\n",
    "print(Car.drive)\n",
    "\n",
    "Car.drive(c1)\n",
    "Car.drive(c2)\n",
    "\n",
    "c1.drive() # Bound method invocation (called with instance as first argument)\n",
    "c2.drive() # Invocation of instance methods\n"
   ]
  },
  {
   "cell_type": "code",
   "execution_count": 27,
   "metadata": {},
   "outputs": [
    {
     "name": "stdout",
     "output_type": "stream",
     "text": [
      "Driving car Toyota\n"
     ]
    }
   ],
   "source": [
    "# c1.drive()\n",
    "if \"drive\" in c1.__dict__:\n",
    "    c1.__dict__[\"drive\"]()\n",
    "elif \"drive\" in c1.__class__.__dict__:\n",
    "    c1.__class__.__dict__[\"drive\"](c1)"
   ]
  },
  {
   "cell_type": "code",
   "execution_count": 30,
   "metadata": {},
   "outputs": [
    {
     "name": "stdout",
     "output_type": "stream",
     "text": [
      "<function drive_car at 0x75e837ff4900>\n",
      "<function drive_car at 0x75e837ff4900>\n",
      "<bound method drive_car of <__main__.Car object at 0x75e837f74150>>\n"
     ]
    }
   ],
   "source": [
    "print(drive_car)\n",
    "print(Car.drive)\n",
    "print(c1.drive)"
   ]
  },
  {
   "cell_type": "code",
   "execution_count": 35,
   "metadata": {},
   "outputs": [
    {
     "name": "stdout",
     "output_type": "stream",
     "text": [
      "<__main__.Car object at 0x75e83c0fffd0>\n",
      "c = <__main__.Car object at 0x75e83c0fffd0>\n",
      "Driving Maruti\n",
      "c = <__main__.Car object at 0x75e83c0fffd0>\n",
      "Driving Maruti\n"
     ]
    }
   ],
   "source": [
    "class Car:\n",
    "    def drive(c):\n",
    "        print(\"c =\", c)\n",
    "        print(\"Driving\", c.make)\n",
    "    \n",
    "    def sell():\n",
    "        print(\"Sold this car...\")\n",
    "\n",
    "c = Car()\n",
    "print(c)\n",
    "c.make = \"Maruti\"\n",
    "c.drive() # Car.drive(c)\n",
    "Car.drive(c)"
   ]
  },
  {
   "cell_type": "code",
   "execution_count": 40,
   "metadata": {},
   "outputs": [
    {
     "name": "stdout",
     "output_type": "stream",
     "text": [
      "c = <__main__.Car object at 0x75e8375512d0>\n",
      "Driving Toyota\n",
      "Sold this car: x = <__main__.Car object at 0x75e8375512d0>\n"
     ]
    }
   ],
   "source": [
    "class Car:\n",
    "    def drive(c):\n",
    "        print(\"c =\", c)\n",
    "        print(\"Driving\", c.make)\n",
    "    \n",
    "    def sell(x):\n",
    "        print(\"Sold this car: x =\", x)\n",
    "\n",
    "c = Car()\n",
    "c.make = \"Toyota\"\n",
    "Car.drive(c)\n",
    "c.sell() # Car.sell(c)"
   ]
  },
  {
   "cell_type": "code",
   "execution_count": 43,
   "metadata": {},
   "outputs": [
    {
     "name": "stdout",
     "output_type": "stream",
     "text": [
      "c = 10\n"
     ]
    },
    {
     "ename": "AttributeError",
     "evalue": "'int' object has no attribute 'make'",
     "output_type": "error",
     "traceback": [
      "\u001b[0;31m---------------------------------------------------------------------------\u001b[0m",
      "\u001b[0;31mAttributeError\u001b[0m                            Traceback (most recent call last)",
      "Cell \u001b[0;32mIn[43], line 12\u001b[0m\n\u001b[1;32m     10\u001b[0m c \u001b[38;5;241m=\u001b[39m \u001b[38;5;241m10\u001b[39m \u001b[38;5;66;03m# c = int(10)\u001b[39;00m\n\u001b[1;32m     11\u001b[0m \u001b[38;5;66;03m#c.make = \"Toyota\"\u001b[39;00m\n\u001b[0;32m---> 12\u001b[0m Car\u001b[38;5;241m.\u001b[39mdrive(c)\n\u001b[1;32m     13\u001b[0m c\u001b[38;5;241m.\u001b[39msell()\n",
      "Cell \u001b[0;32mIn[43], line 4\u001b[0m, in \u001b[0;36mCar.drive\u001b[0;34m(c)\u001b[0m\n\u001b[1;32m      2\u001b[0m \u001b[38;5;28;01mdef\u001b[39;00m \u001b[38;5;21mdrive\u001b[39m(c):\n\u001b[1;32m      3\u001b[0m     \u001b[38;5;28mprint\u001b[39m(\u001b[38;5;124m\"\u001b[39m\u001b[38;5;124mc =\u001b[39m\u001b[38;5;124m\"\u001b[39m, c)\n\u001b[0;32m----> 4\u001b[0m     \u001b[38;5;28mprint\u001b[39m(\u001b[38;5;124m\"\u001b[39m\u001b[38;5;124mDriving\u001b[39m\u001b[38;5;124m\"\u001b[39m, c\u001b[38;5;241m.\u001b[39mmake)\n",
      "\u001b[0;31mAttributeError\u001b[0m: 'int' object has no attribute 'make'"
     ]
    }
   ],
   "source": [
    "class Car:\n",
    "    def drive(c):\n",
    "        print(\"c =\", c)\n",
    "        print(\"Driving\", c.make)\n",
    "    \n",
    "    def sell(x):\n",
    "        print(\"Sold this car: x =\", x)\n",
    "\n",
    "c = Car()\n",
    "c = 10 # c = int(10)\n",
    "#c.make = \"Toyota\"\n",
    "Car.drive(c)\n",
    "c.sell() # Car.sell(c)"
   ]
  },
  {
   "cell_type": "code",
   "execution_count": 47,
   "metadata": {},
   "outputs": [
    {
     "name": "stdout",
     "output_type": "stream",
     "text": [
      "c = <__main__.Car object at 0x75e837f08e50>\n",
      "Driving Toyota\n",
      "c = <__main__.Person object at 0x75e837f86890>\n",
      "Driving Sam\n",
      "c = <__main__.Car object at 0x75e837f08e50>\n",
      "Driving Toyota\n"
     ]
    },
    {
     "ename": "AttributeError",
     "evalue": "'Person' object has no attribute 'drive'",
     "output_type": "error",
     "traceback": [
      "\u001b[0;31m---------------------------------------------------------------------------\u001b[0m",
      "\u001b[0;31mAttributeError\u001b[0m                            Traceback (most recent call last)",
      "Cell \u001b[0;32mIn[47], line 18\u001b[0m\n\u001b[1;32m     15\u001b[0m Car\u001b[38;5;241m.\u001b[39mdrive(p)\n\u001b[1;32m     17\u001b[0m c\u001b[38;5;241m.\u001b[39mdrive()\n\u001b[0;32m---> 18\u001b[0m p\u001b[38;5;241m.\u001b[39mdrive()\n",
      "\u001b[0;31mAttributeError\u001b[0m: 'Person' object has no attribute 'drive'"
     ]
    }
   ],
   "source": [
    "class Car:\n",
    "    def drive(c):\n",
    "        print(\"c =\", c)\n",
    "        print(\"Driving\", c.name)\n",
    "    \n",
    "c = Car()\n",
    "c.name = \"Toyota\"\n",
    "Car.drive(c)\n",
    "\n",
    "class Person:\n",
    "    pass\n",
    "\n",
    "p = Person()\n",
    "p.name = \"Sam\"\n",
    "Car.drive(p)\n",
    "\n",
    "c.drive()\n",
    "p.drive()\n"
   ]
  },
  {
   "cell_type": "code",
   "execution_count": 53,
   "metadata": {},
   "outputs": [
    {
     "name": "stdout",
     "output_type": "stream",
     "text": [
      "Sold this car...\n"
     ]
    },
    {
     "ename": "AttributeError",
     "evalue": "'Car' object has no attribute 'sell'",
     "output_type": "error",
     "traceback": [
      "\u001b[0;31m---------------------------------------------------------------------------\u001b[0m",
      "\u001b[0;31mAttributeError\u001b[0m                            Traceback (most recent call last)",
      "Cell \u001b[0;32mIn[53], line 13\u001b[0m\n\u001b[1;32m     10\u001b[0m c1\u001b[38;5;241m.\u001b[39msell \u001b[38;5;241m=\u001b[39m sell_car \u001b[38;5;66;03m# Singleton-instance method\u001b[39;00m\n\u001b[1;32m     12\u001b[0m c1\u001b[38;5;241m.\u001b[39msell()\n\u001b[0;32m---> 13\u001b[0m c2\u001b[38;5;241m.\u001b[39msell()\n",
      "\u001b[0;31mAttributeError\u001b[0m: 'Car' object has no attribute 'sell'"
     ]
    }
   ],
   "source": [
    "class Car: pass\n",
    "\n",
    "def sell_car():\n",
    "    print(\"Sold this car...\")\n",
    "\n",
    "c1 = Car()\n",
    "c2 = Car()\n",
    "\n",
    "c1.make = \"Toyota\"\n",
    "c1.sell = sell_car # Singleton-instance method\n",
    "\n",
    "c1.sell()\n",
    "c2.sell()\n"
   ]
  },
  {
   "cell_type": "code",
   "execution_count": 54,
   "metadata": {},
   "outputs": [
    {
     "name": "stdout",
     "output_type": "stream",
     "text": [
      "Driving Mahindra\n"
     ]
    }
   ],
   "source": [
    "class Car:\n",
    "    def drive(c):\n",
    "        print(f\"Driving\", c.make)\n",
    "\n",
    "c1 = Car()\n",
    "c1.make = \"Mahindra\"\n",
    "c1.drive()"
   ]
  },
  {
   "cell_type": "code",
   "execution_count": 57,
   "metadata": {},
   "outputs": [
    {
     "name": "stdout",
     "output_type": "stream",
     "text": [
      "__init__ invoked: c = <__main__.Car object at 0x75e837f7b0d0>\n",
      "Driving Honda\n",
      "__init__ invoked: c = <__main__.Car object at 0x75e8375cd090>\n",
      "Driving Honda\n"
     ]
    }
   ],
   "source": [
    "class Car:\n",
    "    def __init__(c): # Object initializing method\n",
    "        print(\"__init__ invoked: c =\", c)\n",
    "        c.make = \"Honda\"\n",
    "\n",
    "    def drive(c):\n",
    "        print(f\"Driving\", c.make)\n",
    "\n",
    "c1 = Car()\n",
    "c1.drive()\n",
    "\n",
    "c2 = Car()\n",
    "c2.drive()"
   ]
  },
  {
   "cell_type": "code",
   "execution_count": 59,
   "metadata": {},
   "outputs": [
    {
     "name": "stdout",
     "output_type": "stream",
     "text": [
      "__init__ invoked: c = <__main__.Car object at 0x75e83f9aec90>\n",
      "Driving Honda\n",
      "__init__ invoked: c = <__main__.Car object at 0x75e837f7b0d0>\n",
      "Driving Lexus\n"
     ]
    }
   ],
   "source": [
    "class Car:\n",
    "    def __init__(c, brand): # Object initializing method\n",
    "        print(\"__init__ invoked: c =\", c)\n",
    "        c.make = brand\n",
    "\n",
    "    def drive(c):\n",
    "        print(f\"Driving\", c.make)\n",
    "\n",
    "c1 = Car(\"Honda\")\n",
    "c1.drive()\n",
    "\n",
    "c2 = Car(\"Lexus\")\n",
    "c2.drive()"
   ]
  },
  {
   "cell_type": "code",
   "execution_count": 60,
   "metadata": {},
   "outputs": [
    {
     "name": "stdout",
     "output_type": "stream",
     "text": [
      "__init__ invoked: c = <__main__.Car object at 0x75e837f03d50>\n",
      "Driving Honda\n",
      "__init__ invoked: c = <__main__.Car object at 0x75e83f9552d0>\n",
      "Driving Lexus\n"
     ]
    }
   ],
   "source": [
    "class Car:\n",
    "    def __init__(self, brand): # Object initializing method\n",
    "        print(\"__init__ invoked: c =\", self)\n",
    "        self.make = brand\n",
    "\n",
    "    def drive(self):\n",
    "        print(f\"Driving\", self.make)\n",
    "\n",
    "c1 = Car(\"Honda\") # obj.__init__(\"Honda\") --> Car.__init__(obj, \"Honda\") -> c1\n",
    "c1.drive()\n",
    "\n",
    "c2 = Car(\"Lexus\")\n",
    "c2.drive()"
   ]
  }
 ],
 "metadata": {
  "kernelspec": {
   "display_name": "base",
   "language": "python",
   "name": "python3"
  },
  "language_info": {
   "codemirror_mode": {
    "name": "ipython",
    "version": 3
   },
   "file_extension": ".py",
   "mimetype": "text/x-python",
   "name": "python",
   "nbconvert_exporter": "python",
   "pygments_lexer": "ipython3",
   "version": "3.11.7"
  }
 },
 "nbformat": 4,
 "nbformat_minor": 2
}
